{
 "cells": [
  {
   "cell_type": "code",
   "execution_count": 3,
   "metadata": {},
   "outputs": [],
   "source": [
    "# TODO!: pb EROI_wo_GW ER/ADV and EROIs REF\n",
    "# TODO: calculer EROIs en partant du foreground\n",
    "# TODO: construire scénario carbon neutral:\n",
    "#       - pour changer mix énergétique, reprendre code 'cleaner' dans eroi_exio.ipynb\n",
    "#       - se baser sur greenpeace, comparer avec Luderer, et compléter avec WWF pour non élec\n",
    "#       - comme scénarios: greenpeace (>appendix), ecosys (mix: appendix), Jackobson-Delucci, Luderer (GIEC, short), Garcia (energy, transport), \n",
    "# other:DDPP (country case studies and overall change in CO2 intensity, mix and electric cars), Denholm (grid), Chatzi (grid), Child (out but contains references)\n",
    "# TODO: compléter rapport greenpeace par évaluation des émissions d'autres polluants (cf. Table 4 de Child et al 2018)\n",
    "# TODO: - équilibrer les tables: sums cols != sums rows (--> GRAS) => pas possible, car on n'a pas de vecteur de demande ou de production (ARDA_file.xls absent)\n",
    "#       - pythoniser, rendre fonctionnel et modulaire le code matlab \n",
    "#       - mettre à jour les données (Exiobase 2 ou 3, ecoinvent 3)\n",
    "#       (- agréger secteurs/régions pour gagner en rapidité)\n",
    "from IPython.core.interactiveshell import InteractiveShell\n",
    "InteractiveShell.ast_node_interactivity = \"all\" # 'last' 'none' ...\n",
    "\n",
    "import pymrio\n",
    "from pymrio.core.mriosystem import IOSystem\n",
    "from pymrio.tools.iometadata import MRIOMetaData\n",
    "from pymrio.tools.iofunctions import *\n",
    "import numpy as np\n",
    "import pandas as pd\n",
    "import scipy.io\n",
    "import scipy.sparse as sp \n",
    "from scipy.sparse import linalg as spla\n",
    "import pickle\n",
    "import time\n",
    "import matplotlib.pyplot as plt\n",
    "from openpyxl import load_workbook"
   ]
  },
  {
   "cell_type": "code",
   "execution_count": 4,
   "metadata": {},
   "outputs": [],
   "source": [
    "path_themis = '/media/adrien/dd/adrien/DD/Économie/Données/Themis/'\n",
    "path_io = '/media/adrien/dd/adrien/DD/Économie/Données/'"
   ]
  },
  {
   "cell_type": "code",
   "execution_count": 6,
   "metadata": {},
   "outputs": [],
   "source": [
    "themis = pymrio.themis_parser(path_themis)"
   ]
  },
  {
   "cell_type": "code",
   "execution_count": 7,
   "metadata": {},
   "outputs": [],
   "source": [
    "themis = pickle.load(open(path_io+'Themis/themis.pkl', 'rb'))"
   ]
  },
  {
   "cell_type": "code",
   "execution_count": null,
   "metadata": {},
   "outputs": [],
   "source": [
    "themis = dict()\n",
    "for s in ['BL', 'BM', 'REF', 'ER', 'ADV', 'combo']:\n",
    "    themis[s] = pickle.load(open(path_io+'Themis/themis_'+s+'.pkl', 'rb'))"
   ]
  },
  {
   "cell_type": "code",
   "execution_count": 9,
   "metadata": {},
   "outputs": [],
   "source": [
    "erois_prices = pickle.load(open(path_io+'Themis/erois_prices.pkl', 'rb'))\n",
    "erois_prices_wo_GW = pickle.load(open(path_io+'Themis/erois_prices_wo_GW.pkl', 'rb'))"
   ]
  },
  {
   "cell_type": "code",
   "execution_count": 8,
   "metadata": {},
   "outputs": [],
   "source": [
    "def themis_parser(exio_files, year = None, scenario = None, themis = None, themis_caracs=None, labels=None, dlr_files=None, combo=True, compute_all=False):\n",
    "    \"\"\" THEMIS parser (by adrien fabre aka. bixiou on github)\n",
    "\n",
    "    The THEMIS model is not open. You can ask NTNU for it, they might accept.\n",
    "\n",
    "    Two options for this parser: 1. either provide the year (2010, 2030, or 2050) and scenario ('BL' or 'BM'),\n",
    "                                 2. either provide none of them, and all combinations will be loaded in a dict\n",
    "    exio_files must give the path to the root folder of THEMIS\n",
    "    if dlr_files is provided, the 3 Greenpeace=DLR scenarios are added (in case 2.); dlr_files = True is equivalent to dlr_files = exio_files\n",
    "    if combo = True and dlr_files is provided, create 3 'combo' scenarios (improperly named): \n",
    "        2010 : ADV 2050 mix on 2010 techno (i.e. 2010 transformation matrix A); 2030: ER 2050 mix on 2010 techno; 2050: BL 2010 mix on 2050 techno\n",
    "    compute_all precalculates EROIs, prices, value-added, employments\n",
    "    The folder should include a file called 'Supplementary info & mixes.xlsx' which provides the IEA scenarios of energy demand.\n",
    "        You can ask this file to adrien.fabre@psemail.eu\n",
    "    themis_parser runs in ~1h if combo=True and compute_all=True, ~1 min if they are false\n",
    "    \"\"\"\n",
    "    \n",
    "    def load_themis(matrix='A', year=2010, scenario='BL'):\n",
    "        # matrix is A, Sb, Sf or S; year is 2010, 2030 or 2050; scenario is BL or BM\n",
    "        if matrix=='S': \n",
    "            Sb = load_themis('Sb', year, scenario)\n",
    "            Sf = load_themis('Sf', year, scenario)       \n",
    "            nb_stressors_b = Sb.shape[0] - Sf.shape[0] # check .shape for sparse\n",
    "            nb_sectors_f = Sf.shape[1]\n",
    "            res = sp.hstack([sp.vstack([Sf, sp.csc_matrix((nb_stressors_b, nb_sectors_f))]), Sb])\n",
    "        else:\n",
    "            if matrix=='A': data = 'A'\n",
    "            elif matrix=='Sb': data = 'S'\n",
    "            elif matrix=='Sf': data = 'S_f'\n",
    "            else: data = matrix\n",
    "\n",
    "            year = '_' + str(year)\n",
    "            if data=='S_f': matrix_name = data + '_' + scenario\n",
    "            else: matrix_name = data + year + '_' + scenario\n",
    "\n",
    "            if data=='S_f': res = themis[matrix_name][:,:,2]\n",
    "            else: res = themis[matrix_name]\n",
    "        return(res)  \n",
    "    \n",
    "    def secondary_energy_demand():\n",
    "        TWh2TJ = 3.60 * 1e3\n",
    "        secondary_energy_demand = np.array([0]*A.shape[0])\n",
    "        for name in energy_demand.index: \n",
    "            if name in list(labels['sectors']):\n",
    "                secondary_energy_demand[np.where(list(map(lambda s: s == name, labels['idx_sectors'])))[0]] = \\\n",
    "                    energy_demand[[(reg, year) for reg in labels['regions']]].loc[name] * TWh2TJ\n",
    "        return(secondary_energy_demand)\n",
    "    \n",
    "    if themis is None or themis_caracs is None or labels is None: \n",
    "        themis = scipy.io.loadmat(exio_files + 'Data/THEMIS2.mat')\n",
    "        themis_caracs = scipy.io.loadmat(exio_files + 'Data/Characterization_endpoint2.mat')\n",
    "        label = pd.read_excel(exio_files + 'Data/THEMIS2_labels.xls', header=0)\n",
    "        idx_name = label['Name']\n",
    "        idx_region = label['Region']\n",
    "        idx_region.loc[np.where(idx_region=='AME')] = 'Africa and Middle East'\n",
    "        idx_region.loc[np.where(idx_region=='CN')] = 'China'\n",
    "        idx_region.loc[np.where(idx_region=='EIT')] = 'Economies in transition'\n",
    "        idx_region.loc[np.where(idx_region=='IN')] = 'India'\n",
    "        idx_region.loc[np.where(idx_region=='LA')] = 'Latin America'\n",
    "        idx_region.loc[np.where(idx_region=='PAC')] = 'OECD Pacific'\n",
    "        idx_region.loc[np.where(idx_region=='US')] = 'OECD North America'\n",
    "        idx_region.loc[np.where(idx_region=='RER')] = 'OECD Europe'\n",
    "        idx_region.loc[np.where(idx_region=='AS')] = 'Rest of developing Asia'\n",
    "        label2 = pd.read_excel(exio_files + 'Data/THEMIS2_labels.xls', header=0, sheet_name=2)\n",
    "        idx_impacts = label2['FullName']\n",
    "        label3 = pd.read_excel(exio_files + 'Data/THEMIS2_labels.xls', header=0, sheet_name=3)\n",
    "        idx_caracs = label3['Abbreviation THEMIS']\n",
    "        labels = {'regions': idx_region.unique(), 'idx_regions': idx_region, 'impacts': idx_impacts.unique(), 'idx_impacts': idx_impacts, \n",
    "                  'sectors': idx_name.unique(), 'idx_sectors': idx_name, 'caracs': idx_caracs.unique(), 'idx_caracs': idx_caracs, 'name': 'labels'}\n",
    "    if year is None and scenario is None: \n",
    "        if dlr_files is not None: \n",
    "            if combo: scenarios = ['BL', 'BM', 'REF', 'ER', 'ADV', 'combo'] \n",
    "            else: scenarios = ['BL', 'BM', 'REF', 'ER', 'ADV']\n",
    "            if type(dlr_files)!=str: dlr_files = exio_files\n",
    "        else: scenarios = ['BL', 'BM']\n",
    "        all_themis = dict()\n",
    "        for s in scenarios:\n",
    "            all_themis[s] = dict()\n",
    "            for y in [2010, 2030, 2050]:\n",
    "                if s == 'BL' or s == 'BM': \n",
    "                    all_themis[s][y] = themis_parser(exio_files, y, s, themis, themis_caracs, labels)\n",
    "                    all_themis[s][y].scenario = s\n",
    "                else:\n",
    "                    if s == 'combo':\n",
    "                        if y in [2010, 2030]: \n",
    "                            yr, not_yr, sc = 2010, 2050, 'ADV'\n",
    "                            if y == 2030: sc = 'ER'\n",
    "                            all_themis[s][y] = all_themis['BL'][yr].copy(new_name='THEMIS')\n",
    "                            all_themis[s][y].dlr_elec = all_themis[sc][2050].dlr_elec\n",
    "                            all_themis[s][y].dlr_capacity = all_themis[sc][2050].dlr_capacity\n",
    "                            global_mix = all_themis[sc][not_yr].mix(scenario = sc, path_dlr = dlr_files)[y]\n",
    "                        else: \n",
    "                            yr, not_yr, sc = 2050, 2010, 'BL'\n",
    "                            all_themis[s][y] = all_themis['BL'][yr].copy(new_name='THEMIS')\n",
    "                            global_mix = all_themis['BL'][2010].mix_matrix(global_mix = False)\n",
    "                        all_themis[s][y].aggregate_mix(mix = global_mix)\n",
    "                        all_themis[s][y].change_mix(global_mix = global_mix, year = not_yr, only_exiobase = False)\n",
    "                        \n",
    "                    elif s == 'REF': all_themis[s][y] = all_themis['BL'][y].copy(new_name='THEMIS') # TODO: include attribute scenario\n",
    "                    else: all_themis[s][y] = all_themis['BM'][y].copy(new_name='THEMIS') \n",
    "                    all_themis[s][y].scenario = s\n",
    "                    if s != 'combo':\n",
    "                        global_mix = all_themis[s][2010].mix(scenario = s, path_dlr = dlr_files)[y]\n",
    "                        all_themis[s][y].dlr_elec = all_themis[s][2010].dlr_elec\n",
    "                        all_themis[s][y].dlr_capacity = all_themis[s][2010].dlr_capacity\n",
    "                        all_themis[s][y].adjust_capacity = all_themis[s][2010].adjust_capacity\n",
    "                        all_themis[s][y].adjustment_capacity = all_themis[s][2010].adjustment_capacity\n",
    "                        if s in ['REF', 'ER', 'ADV']: \n",
    "                            all_themis[s][y].wo_GW_adj = all_themis[s][y].copy(new_name='THEMIS')\n",
    "                            all_themis[s][y].wo_GW_adj.change_mix(global_mix = global_mix, year = y, only_exiobase = False, adjust_GW = False)\n",
    "                        all_themis[s][y].change_mix(global_mix = global_mix, year = y, only_exiobase = False, adjust_GW=True)\n",
    "        if compute_all:\n",
    "            for s in scenarios:\n",
    "                for y in [2010, 2030, 2050]:                  \n",
    "                    if s=='combo' and y==2050: all_themis[s][y].world_mix = all_themis[s][y].agg_mix\n",
    "                    else: all_themis[s][y].world_mix = all_themis[s][y].aggregate_mix(recompute=True)\n",
    "                    if s in ['REF', 'ER', 'ADV']: \n",
    "                        all_themis[s][y].wo_GW_adj.eroi_adj = all_themis[s][y].wo_GW_adj.erois(factor_elec = 2.6, \\\n",
    "                                                                                               recompute=True).rename(index={'Power sector': 'total'})\n",
    "                        all_themis[s][y].wo_GW_adj.eroi = all_themis[s][y].wo_GW_adj.erois(recompute=True).rename(index={'Power sector': 'total'})\n",
    "                        all_themis[s][y].wo_GW_adj.energy_prices()\n",
    "                        all_themis[s][y].wo_GW_adj.employ_direct = all_themis[s][y].wo_GW_adj.employments()\n",
    "                        all_themis[s][y].wo_GW_adj.employments(indirect = False, recompute = True)\n",
    "                    all_themis[s][y].eroi_adj = all_themis[s][y].erois(factor_elec = 2.6, recompute=True).rename(index={'Power sector': 'total'})\n",
    "                    all_themis[s][y].eroi = all_themis[s][y].erois(recompute=True).rename(index={'Power sector': 'total'})\n",
    "                    all_themis[s][y].energy_prices()\n",
    "                    all_themis[s][y].employ_direct = all_themis[s][y].employments()\n",
    "                    all_themis[s][y].employments(indirect = False, recompute = True) # pb with employments combo 2050\n",
    "\n",
    "        return(all_themis)\n",
    "    elif year is None or scenario is None: print('scenario and year must be both given or None')\n",
    "    else:\n",
    "        A = load_themis('A', year, scenario)\n",
    "        S = load_themis('S', year, scenario)\n",
    "        if scenario=='BL': skip, skipfoot = 6, 67 # TODO: make a separate function the extraction of IEA scenarios\n",
    "        elif scenario=='BM': skip, skipfoot = 52, 21\n",
    "        energy_demand = pd.read_excel(exio_files+'Supplementary info & mixes.xlsx', \\\n",
    "                                         header=[0,1], index_col=0, skiprows=list(range(skip)), skipfooter=skipfoot, sheet_name=11) #TODO: select good columns>?\n",
    "        energy_demand.index = ['Electricity by ' + name[0].lower() + name[1:] for name in list(energy_demand.index)]\n",
    "        if scenario=='BL': skip, skipfoot = 27, 46\n",
    "        if scenario=='BM': skip, skipfoot = 73, 0\n",
    "        capacity = pd.read_excel(exio_files+'Supplementary info & mixes.xlsx', \\\n",
    "                                         header=[0,1], index_col=0, skiprows=list(range(skip)), skipfooter=skipfoot, sheet_name=11)\n",
    "        capacity.index = ['Electricity by ' + name[0].lower() + name[1:] for name in list(capacity.index)] # in GW\n",
    "#         C = themis_caracs['C_H_CED_22'] # midpoint characterization\n",
    "#         C_large = themis_caracs['C_H_CED_large'] # midpoint characterization taken by Thomas Gibon: should be preferred to C\n",
    "#         C_index = themis_caracs['EP_H_CED_22']\n",
    "#         G = themis_caracs['G_H_CED_22'] # endpoint characterization\n",
    "#         G_index = themis_caracs['IMP_H_CED_22'] # cf. THEMIS2_labels.xls/C_IMP for more details\n",
    "#         mid2end = themis_caracs['mid2end']\n",
    "        meta_rec = MRIOMetaData(system='pxp', name='THEMIS', version=scenario)\n",
    "        core_data = dict()\n",
    "        extensions = {'labels':labels, 'impact': {'S': S, 'name': 'impact'}, \n",
    "                      'energy':{'demand': energy_demand, 'secondary_demand': secondary_energy_demand(), 'capacity': capacity, 'name': 'energy'}} \n",
    "\n",
    "        return IOSystem(A=A, name='THEMIS', version=scenario, year=year, meta=meta_rec, **dict(core_data, **extensions))"
   ]
  },
  {
   "cell_type": "code",
   "execution_count": 9,
   "metadata": {},
   "outputs": [],
   "source": [
    "def results(themis, stats=['eroi', 'world_mix'], scenarios=['BL', 'BM', 'ADV'], to_plot = False, not_all_2010=True, rounded=True, fillNA=True, longnames=False,\n",
    "            dlr_sectors=False, longtotal=True, year = None, extend_wo_GW = False): # TODO: re-order index, mix_real, specific region\n",
    "    '''\n",
    "    Returns a panda dataframe with results from stats and scenarios specified.\n",
    "    stats can include: 'eroi', 'eroi_adj', 'eroi_wo_GW', 'eroi_wo_GW_adj', 'world_mix', 'employ', 'employ_direct', 'energy_price'\n",
    "    scenarios can include: BL, BM, REF, ER, ADV, combo\n",
    "    not_all_2010 keeps only one scenario for year 2010\n",
    "    fillNA fills NaN with '–' instead of 0, rounded rounds the figures to max 2 digit, longnames details the scenario name, dlr_sectors removes CCS from sectors,\n",
    "        longtotal puts 'Total (PWh/a)' instead of 'total' for the last index: all these parameters should be set to False to plot figures\n",
    "    to_plot = True overrides all previous parameters and set them to False, use this if the results are used to be plotted\n",
    "    if year is in [2010, 2030, 2050], only the result for the given year are returned\n",
    "    extend_wo_GW copy/pastes (normal) EROI to the eroi_wo_GW column for scenarios not concerned by the adjustment (BL, BM, combo)\n",
    "    '''\n",
    "    if to_plot: not_all_2010, rounded, fillNA, longnames, dlr_sectors, longtotal = False, False, False, False, False, False\n",
    "    if type(scenarios)==str: scenarios = [scenarios]\n",
    "    if type(stats)==str: stats = [stats]\n",
    "    names_stats = {'eroi': 'EROI', 'world_mix': 'mix', 'eroi_adj': 'EROI adj', 'eroi_wo_GW': 'EROI w/o GW', 'eroi_wo_GW_adj': 'EROI w/o GW adj',\\\n",
    "                   'employ': 'k Employ', 'employ_direct': 'k Employ direct', 'energy_price': 'price'}\n",
    "    stats_names = {'EROI': 'eroi', 'mix': 'world_mix', 'EROI adj': 'eroi_adj', 'EROI w/o GW': 'eroi_wo_GW', 'EROI w/o GW adj': 'eroi_wo_GW_adj',\\\n",
    "                   'k Employ': 'employ', 'k Employ direct': 'employ_direct', 'price': 'energy_price'}\n",
    "    stats = [stats_names[s] if s in stats_names.keys() else s for s in stats]\n",
    "    if dlr_sectors: secs = list(np.array(themis[scenarios[0]][2050].energy_sectors('elecs_names'))\\\n",
    "                                                      [['CCS' not in s for s in themis['BM'][2010].energy_sectors('elecs_names')]])\n",
    "    else: secs = themis[scenarios[0]][2050].energy_sectors('elecs_names')\n",
    "    res = pd.DataFrame(index = secs+['total'])\n",
    "    years = [2010, 2030, 2050]\n",
    "    for y in years:\n",
    "        for s in scenarios:\n",
    "            for stat in stats:\n",
    "                if y in themis[s].keys():\n",
    "                    if stat in ['eroi_wo_GW', 'eroi_wo_GW_adj', 'eroi_GW', 'eroi_GW_adj', 'eroi_TWh', 'eroi_TWh_adj']:\n",
    "                        if s in ['REF', 'ER', 'ADV']:\n",
    "                            res[(s, y, 'eroi_wo_GW'+'_adj'*(stat[-4:]=='_adj'))] = getattr(themis[s][y].wo_GW_adj, \\\n",
    "                                            'eroi'+'_adj'*(stat[-4:]=='_adj')).rename(index={'Power sector': 'total', 'total': 'total'}) #loc[secs].fillna(0).\n",
    "                        else: \n",
    "                            if extend_wo_GW: res[(s, y, 'eroi_wo_GW'+'_adj'*(stat[-4:]=='_adj'))] = getattr(themis[s][y], \\\n",
    "                                            'eroi'+'_adj'*(stat[-4:]=='_adj')).rename(index={'Power sector': 'total', 'total': 'total'}) #loc[secs].fillna(0).\n",
    "                    else:\n",
    "                        res[(s, y, stat)] = getattr(themis[s][y], stat).rename(index={'Power sector': 'total', 'total': 'total'}) #loc[secs].fillna(0).\n",
    "                        if stat=='energy_price': \n",
    "                            res[(s, y, stat)].at['total'] = res[(s, y, stat)].loc[secs].fillna(0).dot(themis[s][y].world_mix.loc[secs].fillna(0))\n",
    "                        elif stat in ['employ', 'employ_direct']: res[(s, y, stat)].at['total'] = res[(s, y, stat)].loc[secs].sum()\n",
    "                        \n",
    "    stats = np.unique([c[2] for c in res.columns])\n",
    "    res = pd.DataFrame(res, columns=pd.MultiIndex.from_product([scenarios, years, stats], names=['scenario', 'year', 'stat']))\n",
    "    \n",
    "    res = res.loc[['biomass w CCS', 'biomass&Waste', 'ocean', 'geothermal','solar CSP','solar PV','wind offshore',\\\n",
    "                                   'wind onshore','hydro','nuclear', 'gas w CCS', 'coal w CCS', 'oil', 'gas', 'coal', 'total']]\n",
    "    if rounded and 'world_mix' in stats: \n",
    "        res[[(s, y, 'world_mix') for y in years for s in scenarios]] = round(res[[(s, y, 'world_mix') for y in years for s in scenarios]], 2)\n",
    "    if rounded and 'employ' in stats: \n",
    "        res[[(s, y, 'employ') for y in years for s in scenarios]] = round(res[[(s, y, 'employ') for y in years for s in scenarios]]) # TODO: int or millions\n",
    "    if rounded and 'employ_direct' in stats: \n",
    "        res[[(s, y, 'employ_direct') for y in years for s in scenarios]] = round(res[[(s, y, 'employ_direct') for y in years for s in scenarios]])\n",
    "    if rounded and 'energy_price' in stats: \n",
    "        res[[(s, y, 'energy_price') for y in years for s in scenarios]] = round(res[[(s, y, 'energy_price') for y in years for s in scenarios]], 1)\n",
    "    if longtotal: res = res.rename(index={'total': 'Total (PWh/a)'})\n",
    "    if fillNA: res = res.fillna('–')\n",
    "    long = {'BL': \"Baseline ('BL')\", 'BM': \"Blue Map ('BM', +2°C)\", 'REF': \"Reference DLR ('REF')\", \\\n",
    "                'ER': \"Energy [R]evolution ('ER', +2°C, no CCS nor nuclear)\", 'ADV': \"Advanced ER ('ADV', 100% renewable)\", 'combo': 'Combination of scenarios'}\n",
    "    new_col_names = [long[c] for c in res.columns.levels[0]]\n",
    "    if not_all_2010: # TODO: rearrange columns so that same scenarios are gathered\n",
    "        scenarios2010 = ['BL']*('BL' in scenarios) + ['REF']*('REF' in scenarios) + ['combo']*('combo' in scenarios)\n",
    "        res = res[[(sc, 2010, st) for sc in scenarios2010 for st in stats]+[(s, y, st) for s in scenarios for y in [2030, 2050] for st in stats]]\n",
    "    if type(year)==int: res = res[[(s, year, st) for s in scenarios for st in stats]]\n",
    "    if longnames: res.columns.set_levels([long[c] for c in res.columns.levels[0]], level=0, inplace=True)\n",
    "    res.columns.set_levels([names_stats[s] for s in res.columns.levels[2]], level=2, inplace=True)\n",
    "    return(res)"
   ]
  },
  {
   "cell_type": "code",
   "execution_count": 10,
   "metadata": {},
   "outputs": [],
   "source": [
    "def export_all_excel(path_themis, themis):\n",
    "    book = load_workbook(path_themis + 'all_results.xlsx')\n",
    "    writer = pd.ExcelWriter(path_themis + 'all_results.xlsx', engine = 'openpyxl')\n",
    "    writer.book = book\n",
    "    writer.sheets = dict((ws.title, ws) for ws in book.worksheets)\n",
    "    res = results(themis, scenarios=['BL', 'BM', 'ADV'], stats=['eroi', 'mix'])\n",
    "    res.to_excel(writer, 'Main Results BL-BM-ADV EROI,mix')\n",
    "    res = results(themis, scenarios=['REF', 'ER', 'ADV'], stats=['eroi', 'mix'])\n",
    "    res.to_excel(writer, 'Greenpeace EROI,mix')\n",
    "    res = results(themis, scenarios=['BL', 'BM'], stats=['eroi_adj', 'mix'])\n",
    "    res.to_excel(writer, 'IEA EROI adj,mix')\n",
    "    res = results(themis, scenarios=['REF', 'ER', 'ADV'], stats=['eroi_adj', 'mix'])\n",
    "    res.to_excel(writer, 'Greenpeace EROI adj,mix')\n",
    "    res = results(themis, scenarios=['REF', 'ER', 'ADV'], stats=['eroi_wo_GW', 'mix'])\n",
    "    res.to_excel(writer, 'Greenpeace wo GW EROI,mix')\n",
    "    res = results(themis, scenarios=['REF', 'ER', 'ADV'], stats=['eroi_wo_GW_adj', 'mix'])\n",
    "    res.to_excel(writer, 'Greenpeace wo GW EROI adj,mix')\n",
    "\n",
    "    for sc in ['BL', 'BM', 'REF', 'ER', 'ADV', 'combo']:\n",
    "        res = results(themis, scenarios=[sc], stats=['eroi', 'eroi_adj', 'eroi_wo_GW', 'eroi_wo_GW_adj', 'world_mix', 'employ', 'employ_direct', 'energy_price'])\n",
    "        res.to_excel(writer, sc) # to_latex exists also\n",
    "\n",
    "    res = results(themis, scenarios=['BL', 'BM', 'REF', 'ER', 'ADV', 'combo'], stats=['employ', 'employ_direct'])\n",
    "    res.to_excel(writer, 'Employments')\n",
    "    res = results(themis, scenarios=['BL', 'BM', 'REF', 'ER', 'ADV', 'combo'], stats=['energy_price'])\n",
    "    res.to_excel(writer, 'prices')\n",
    "    res = results(themis, scenarios=['BL', 'BM', 'REF', 'ER', 'ADV', 'combo'], stats=['eroi'])\n",
    "    res.to_excel(writer, 'EROI')\n",
    "    res = results(themis, scenarios=['BL', 'BM', 'REF', 'ER', 'ADV', 'combo'], stats=['eroi_adj'])\n",
    "    res.to_excel(writer, 'EROI adj')\n",
    "    res = results(themis, scenarios=['BL', 'BM', 'REF', 'ER', 'ADV', 'combo'], stats=['eroi_wo_GW'])\n",
    "    res.to_excel(writer, 'EROI wo GW')\n",
    "    res = results(themis, scenarios=['BL', 'BM', 'REF', 'ER', 'ADV', 'combo'], stats=['eroi_wo_GW_adj'])\n",
    "    res.to_excel(writer, 'EROI wo GW adj')\n",
    "    res = results(themis, scenarios=['BL', 'BM', 'REF', 'ER', 'ADV', 'combo'], stats=['eroi', 'eroi_adj', 'eroi_wo_GW', 'eroi_wo_GW_adj'])\n",
    "    res.to_excel(writer, 'EROIs')\n",
    "    res = results(themis, scenarios=['BL', 'BM', 'REF', 'ER', 'ADV', 'combo'], stats=['mix'])\n",
    "    res.to_excel(writer, 'mix')\n",
    "    writer.save()"
   ]
  },
  {
   "cell_type": "code",
   "execution_count": 11,
   "metadata": {},
   "outputs": [],
   "source": [
    "def erois_and_prices(self, secs = None, var='Total Energy supply', source='secondary', netting_fuel = True, factor_elec = 1, recompute=False):\n",
    "    '''\n",
    "    Returns the series of regional EROIs and prices of the list of sectors secs for each region, considering the energy from source with notion var.\n",
    "    '''\n",
    "    if secs is None: \n",
    "        if self.scenario in ['REF', 'ER', 'ADV', 'combo']: secs = list(np.array(self.energy_sectors('electricities'))\\\n",
    "                                                                    [['CCS' not in s for s in self.energy_sectors('electricities')]])\n",
    "        else: secs = self.energy_sectors('electricities')\n",
    "    if recompute or not hasattr(self, 'eroi_price'):\n",
    "        res = pd.DataFrame(index = pd.MultiIndex.from_product([list(self.regions)+['World'], secs+['total']], names=['region', 'sector']), \\\n",
    "                           columns = ['eroi', 'price'])\n",
    "        for reg in self.regions:\n",
    "            for i, sec in enumerate(secs):\n",
    "                res['eroi'][(reg, sec)] = self.ger(secs = sec, regs = reg, var = var, source = source, netting_fuel = netting_fuel, factor_elec = factor_elec)\n",
    "                res['price'][(reg, sec)] = self.price_energy(secs = sec, regs = reg, digits=5, indirect = True)\n",
    "            res['eroi'][(reg, 'total')]=self.ger(secs=secs, regs=reg, var = var, source = source, netting_fuel = netting_fuel, factor_elec = factor_elec)\n",
    "            res['price'][(reg, 'total')] = self.price_energy(secs = secs, regs = reg, digits=5, indirect = True)\n",
    "        for i, sec in enumerate(secs):\n",
    "            res['eroi'][('World', sec)]=self.ger(secs=sec, regs=self.regions, var=var, source=source, netting_fuel =netting_fuel, factor_elec = factor_elec)\n",
    "            res['price'][('World', sec)] = self.price_energy(secs = sec, regs = self.regions, digits=5, indirect = True)        \n",
    "        res['eroi'][('World', 'total')] = self.ger(secs=secs, regs=self.regions, var=var, source=source, netting_fuel=netting_fuel, factor_elec=factor_elec)\n",
    "        res['price'][('World', 'total')] = self.price_energy(secs = secs, regs = self.regions, digits=5, indirect = True)\n",
    "        self.eroi_price = res.copy()\n",
    "    return(self.eroi_price)\n",
    "IOS.erois_and_prices = erois_and_prices"
   ]
  },
  {
   "cell_type": "code",
   "execution_count": 14,
   "metadata": {},
   "outputs": [
    {
     "name": "stderr",
     "output_type": "stream",
     "text": [
      "/home/adrien/anaconda3/lib/python3.5/site-packages/pandas/core/indexing.py:194: SettingWithCopyWarning: \n",
      "A value is trying to be set on a copy of a slice from a DataFrame\n",
      "\n",
      "See the caveats in the documentation: http://pandas.pydata.org/pandas-docs/stable/indexing.html#indexing-view-versus-copy\n",
      "  self._setitem_with_indexer(indexer, value)\n"
     ]
    },
    {
     "name": "stdout",
     "output_type": "stream",
     "text": [
      "BL\n",
      "BM\n",
      "REF\n"
     ]
    },
    {
     "name": "stderr",
     "output_type": "stream",
     "text": [
      "/home/adrien/anaconda3/lib/python3.5/site-packages/scipy/sparse/compressed.py:742: SparseEfficiencyWarning: Changing the sparsity structure of a csc_matrix is expensive. lil_matrix is more efficient.\n",
      "  SparseEfficiencyWarning)\n"
     ]
    },
    {
     "name": "stdout",
     "output_type": "stream",
     "text": [
      "ER\n",
      "ADV\n",
      "combo\n"
     ]
    },
    {
     "name": "stderr",
     "output_type": "stream",
     "text": [
      "/home/adrien/anaconda3/lib/python3.5/site-packages/pymrio-0.3.6-py3.5.egg/pymrio/tools/iofunctions.py:496: RuntimeWarning: invalid value encountered in double_scalars\n",
      "  return(round(factor_elec * supply / er, 1)) # TODO!: code the option non_unitary_themis=False for biofuels and cie\n",
      "/home/adrien/anaconda3/lib/python3.5/site-packages/pymrio-0.3.6-py3.5.egg/pymrio/tools/iofunctions.py:496: RuntimeWarning: invalid value encountered in true_divide\n",
      "  return(round(factor_elec * supply / er, 1)) # TODO!: code the option non_unitary_themis=False for biofuels and cie\n",
      "/home/adrien/anaconda3/lib/python3.5/site-packages/pymrio-0.3.6-py3.5.egg/pymrio/tools/iofunctions.py:375: RuntimeWarning: invalid value encountered in double_scalars\n",
      "  return(round(self.value_added(secs, regs, prod = prod, indirect = indirect) / ((self.energy_supply @ prod) / TWh2TJ), digits))\n"
     ]
    },
    {
     "name": "stdout",
     "output_type": "stream",
     "text": [
      "duration:  54.79802465041478\n"
     ]
    }
   ],
   "source": [
    "start = time.time() # 55 min (38 before GW and adj)\n",
    "themis = themis_parser(path_themis, dlr_files = True, compute_all = True)\n",
    "print('duration: ', (time.time()-start)/60)"
   ]
  },
  {
   "cell_type": "code",
   "execution_count": 15,
   "metadata": {},
   "outputs": [
    {
     "name": "stderr",
     "output_type": "stream",
     "text": [
      "/home/adrien/anaconda3/lib/python3.5/site-packages/pymrio-0.3.6-py3.5.egg/pymrio/tools/iofunctions.py:496: RuntimeWarning: invalid value encountered in true_divide\n",
      "  return(round(factor_elec * supply / er, 1)) # TODO!: code the option non_unitary_themis=False for biofuels and cie\n",
      "/home/adrien/anaconda3/lib/python3.5/site-packages/pymrio-0.3.6-py3.5.egg/pymrio/tools/iofunctions.py:375: RuntimeWarning: invalid value encountered in double_scalars\n",
      "  return(round(self.value_added(secs, regs, prod = prod, indirect = indirect) / ((self.energy_supply @ prod) / TWh2TJ), digits))\n",
      "/home/adrien/anaconda3/lib/python3.5/site-packages/pymrio-0.3.6-py3.5.egg/pymrio/tools/iofunctions.py:496: RuntimeWarning: divide by zero encountered in true_divide\n",
      "  return(round(factor_elec * supply / er, 1)) # TODO!: code the option non_unitary_themis=False for biofuels and cie\n"
     ]
    },
    {
     "name": "stdout",
     "output_type": "stream",
     "text": [
      "duration:  75.64047181606293\n"
     ]
    }
   ],
   "source": [
    "start = time.time() # 75 min\n",
    "for s in ['BL', 'BM', 'REF', 'ER', 'ADV', 'combo']: \n",
    "    for y in [2010, 2030, 2050]: _ = themis[s][y].erois_and_prices(recompute = True)\n",
    "erois_prices = pd.concat([themis[s][y].eroi_price for y in [2010, 2030, 2050] for s in ['BL', 'BM', 'REF', 'ER', 'ADV', 'combo']], \\\n",
    "                         keys=[(s,y) for y in [2010, 2030, 2050] for s in ['BL', 'BM', 'REF', 'ER', 'ADV', 'combo']], names=['scenario', 'year'])\n",
    "print('duration: ', (time.time() - start)/60)"
   ]
  },
  {
   "cell_type": "code",
   "execution_count": null,
   "metadata": {},
   "outputs": [],
   "source": [
    "for s in ['BL', 'BM', 'REF', 'ER', 'ADV', 'combo']:\n",
    "    pickle.dump(themis[s], open(path_io + 'Themis/themis_'+s+'.pkl', 'wb'))"
   ]
  },
  {
   "cell_type": "code",
   "execution_count": null,
   "metadata": {},
   "outputs": [],
   "source": [
    "pickle.dump(themis, open(path_io + 'Themis/themis_GW.pkl', 'wb'))\n"
   ]
  },
  {
   "cell_type": "code",
   "execution_count": 16,
   "metadata": {},
   "outputs": [],
   "source": [
    "pickle.dump(erois_prices, open(path_io + 'Themis/erois_prices_GW.pkl', 'wb'))"
   ]
  },
  {
   "cell_type": "code",
   "execution_count": 4,
   "metadata": {},
   "outputs": [],
   "source": [
    "export_all_excel(path_themis, themis)"
   ]
  },
  {
   "cell_type": "code",
   "execution_count": 21,
   "metadata": {},
   "outputs": [],
   "source": [
    "# results(themis, scenarios=['BL', 'BM', 'REF', 'ER', 'ADV', 'combo'], stats=['employ', 'employ_direct'])\n",
    "# results(themis, scenarios=['REF', 'ER', 'ADV'], stats=['eroi', 'mix'])\n",
    "# themis['ER'][2050].wo_GW_adj.eroi\n",
    "# results(themis, scenarios=['ER'], year=2050, stats=['eroi_wo_GW', 'eroi_wo_GW_adj'])\n",
    "# results(themis, scenarios=['BM', 'ADV'], year=2050, stats=['eroi', 'eroi_adj', 'world_mix', 'employ', 'employ_direct', 'energy_price'])"
   ]
  },
  {
   "cell_type": "code",
   "execution_count": 5,
   "metadata": {},
   "outputs": [
    {
     "data": {
      "text/plain": [
       "0.5424284924033836"
      ]
     },
     "execution_count": 5,
     "metadata": {},
     "output_type": "execute_result"
    },
    {
     "data": {
      "text/plain": [
       "array([85.04637284])"
      ]
     },
     "execution_count": 5,
     "metadata": {},
     "output_type": "execute_result"
    },
    {
     "data": {
      "text/plain": [
       "17.73060840008799"
      ]
     },
     "execution_count": 5,
     "metadata": {},
     "output_type": "execute_result"
    },
    {
     "data": {
      "text/plain": [
       "0.42386596515522706"
      ]
     },
     "execution_count": 5,
     "metadata": {},
     "output_type": "execute_result"
    },
    {
     "data": {
      "text/plain": [
       "array([[-0.18442262]])"
      ]
     },
     "execution_count": 5,
     "metadata": {},
     "output_type": "execute_result"
    },
    {
     "data": {
      "text/plain": [
       "array([1.62636141])"
      ]
     },
     "execution_count": 5,
     "metadata": {},
     "output_type": "execute_result"
    },
    {
     "data": {
      "text/plain": [
       "0.013058898678254827"
      ]
     },
     "execution_count": 5,
     "metadata": {},
     "output_type": "execute_result"
    }
   ],
   "source": [
    "# N = 2111, p = 87/EROI + 17 (R^2=0.50); log(p+1) = -0.18*log(EROI+1) + 1.62 (R^2=0.42)\n",
    "\n",
    "from sklearn.linear_model import LinearRegression\n",
    "EROI_for_prediction = np.array([i/100 for i in range(1,10000)], ndmin=2, dtype=float).transpose()\n",
    "inv_EROI_for_prediction = 1/EROI_for_prediction\n",
    "log_EROI_for_prediction = np.log10(EROI_for_prediction)\n",
    "\n",
    "erois = np.array(erois_prices['eroi'])\n",
    "prices = np.array(erois_prices['price'])\n",
    "erois_cleaned = erois[np.logical_not(np.logical_or(pd.isnull(erois), pd.isnull(prices)))]\n",
    "prices_cleaned = prices[np.logical_not(np.logical_or(pd.isnull(erois), pd.isnull(prices)))]\n",
    "EROI = np.array(erois_cleaned[np.logical_not(np.isposinf(np.array(erois_cleaned, dtype=float)))], ndmin=2, dtype=float).transpose()\n",
    "EROI_inv = div0(1, EROI)\n",
    "p = prices_cleaned[np.logical_not(np.isposinf(np.array(erois_cleaned, dtype=float)))]\n",
    "reg_inv = LinearRegression().fit(EROI_inv, p)\n",
    "reg_inv.score(EROI_inv, p) # BL2010: R^2=0.53, p = 71/EROI + 20\n",
    "reg_inv.coef_ # 71\n",
    "reg_inv.intercept_ # 20 \n",
    "p_predicted = reg_inv.predict(inv_EROI_for_prediction)\n",
    "\n",
    "log_EROI = np.log10(EROI+1)\n",
    "log_p = np.array(np.log10(np.array(p+1, dtype=float)), ndmin=2, dtype=float).transpose()\n",
    "# log_EROI_cleaned = np.array(log_EROI, ndmin=2, dtype=float).transpose()\n",
    "# log_p_cleaned = log_p[np.logical_not(np.isposinf(log_EROI))]\n",
    "reg_log = LinearRegression().fit(log_EROI, log_p)\n",
    "reg_log.score(log_EROI, log_p) # BL2010: R^2 = 0.54, log(p) = -0.44*log(EROI) + 1.87\n",
    "reg_log.coef_ # -0.44\n",
    "reg_log.intercept_ # 1.87\n",
    "log_p_predicted = reg_log.predict(log_EROI_for_prediction)\n",
    "\n",
    "reg = LinearRegression().fit(EROI, p)\n",
    "reg.score(EROI, p) # 0.014"
   ]
  },
  {
   "cell_type": "code",
   "execution_count": 6,
   "metadata": {},
   "outputs": [
    {
     "data": {
      "text/plain": [
       "<matplotlib.collections.PathCollection at 0x7faa23759c88>"
      ]
     },
     "execution_count": 6,
     "metadata": {},
     "output_type": "execute_result"
    },
    {
     "data": {
      "text/plain": [
       "[<matplotlib.lines.Line2D at 0x7faa23759c18>]"
      ]
     },
     "execution_count": 6,
     "metadata": {},
     "output_type": "execute_result"
    },
    {
     "data": {
      "text/plain": [
       "[<matplotlib.lines.Line2D at 0x7faa23759f60>]"
      ]
     },
     "execution_count": 6,
     "metadata": {},
     "output_type": "execute_result"
    },
    {
     "data": {
      "text/plain": [
       "(0, 30)"
      ]
     },
     "execution_count": 6,
     "metadata": {},
     "output_type": "execute_result"
    },
    {
     "data": {
      "text/plain": [
       "(0, 80)"
      ]
     },
     "execution_count": 6,
     "metadata": {},
     "output_type": "execute_result"
    },
    {
     "data": {
      "image/png": "[encoded data removed]",
      "text/plain": [
       "<matplotlib.figure.Figure at 0x7faa27101048>"
      ]
     },
     "metadata": {},
     "output_type": "display_data"
    }
   ],
   "source": [
    "fig = plt.figure()\n",
    "ax = plt.subplot(111)\n",
    "plt.scatter(x=EROI, y=p, marker = '.')\n",
    "plt.plot(EROI_for_prediction, p_predicted, color='r')\n",
    "plt.plot(EROI_for_prediction, np.power(log_p_predicted, 10)-1, color='g')\n",
    "ax.set_xlim(0, 30)\n",
    "ax.set_ylim(0, 80)"
   ]
  },
  {
   "cell_type": "code",
   "execution_count": null,
   "metadata": {},
   "outputs": [],
   "source": []
  },
  {
   "cell_type": "code",
   "execution_count": 23,
   "metadata": {},
   "outputs": [
    {
     "name": "stderr",
     "output_type": "stream",
     "text": [
      "/home/adrien/anaconda3/lib/python3.5/site-packages/pymrio-0.3.6-py3.5.egg/pymrio/tools/iofunctions.py:463: RuntimeWarning: invalid value encountered in true_divide\n",
      "  if self.name != 'Cecilia' and var != 'Total Energy supply':\n"
     ]
    },
    {
     "data": {
      "text/plain": [
       "wind onshore      9.4\n",
       "wind offshore     9.3\n",
       "solar PV          9.2\n",
       "coal             12.6\n",
       "oil               8.2\n",
       "gas              13.7\n",
       "nuclear          10.4\n",
       "hydro            13.1\n",
       "coal w CCS        NaN\n",
       "gas w CCS         NaN\n",
       "biomass&Waste    11.3\n",
       "biomass w CCS     NaN\n",
       "ocean             5.5\n",
       "geothermal        5.3\n",
       "solar CSP        21.5\n",
       "Power sector     12.1\n",
       "dtype: float64"
      ]
     },
     "execution_count": 23,
     "metadata": {},
     "output_type": "execute_result"
    }
   ],
   "source": [
    "themis['BL'][2010].erois(recompute=True)"
   ]
  },
  {
   "cell_type": "code",
   "execution_count": null,
   "metadata": {},
   "outputs": [],
   "source": [
    "def embodied_impact(self, secs=None, regs=None, var='Total Energy supply', source='secondary', group_by='region', sort=False, production = None):\n",
    "    '''\n",
    "    Returns a vector of impact of type var embodied in the production of (sec, reg) in secs x regs, excluding their own production, and including only impacts\n",
    "    from sectors in energy_sectors(source). Results are grouped by group_by (default: region) and can be sorted in decreasing order (default: unsorted).\n",
    "    '''\n",
    "    secs, regs = self.prepare_secs_regs(secs, regs) # TODO: source = None\n",
    "    if production is None: production = self.production(secs, regs)\n",
    "    if var=='Total Energy supply' and self.name != 'Cecilia':\n",
    "        impacts = self.secondary_energy_supply * (self.embodied_prod(secs, prod=production) - production)\n",
    "        impacts = pd.Series(impacts, index = pd.MultiIndex.from_arrays([self.labels.idx_regions, self.labels.idx_sectors], names=['region', 'sector']))\n",
    "    else:\n",
    "        share_demand = div0(self.embodied_prod(secs, regs, production)-production, self.x)\n",
    "        impacts = self.impacts(var)*share_demand        \n",
    "    impacts = impacts[self.index_secs_regs(self.energy_sectors(source))]\n",
    "    if sort: return(sorted_series(impacts.groupby(group_by).sum()))\n",
    "    else: return(impacts.groupby(group_by).sum())    \n",
    "    \n",
    "IOS.embodied_impact = embodied_impact"
   ]
  },
  {
   "cell_type": "code",
   "execution_count": 22,
   "metadata": {},
   "outputs": [],
   "source": [
    "def energy_required(self, secs, regs=None, var='Total Energy supply', source='secondary', netting_fuel = True):\n",
    "    '''\n",
    "    Returns the energy required to produce one unit of energy in sectors secs in regs, considering the energy from source with notion var, and \n",
    "    decomposed according to the sources in partition_sources.\n",
    "    \n",
    "    The formula is: \n",
    "    (energy embodied in production (excluding supplied) - fuels as direct inputs for electricity from hydrocarbon (if netting_fuel is True)) / energy supplied\n",
    "    '''\n",
    "    if len(secs)==1: secs = secs[0]\n",
    "    sec_string = type(secs)==str or type(secs)==np.str_\n",
    "    if netting_fuel and ((sec_string and secs in self.energy_sectors('elec_hydrocarbon')) \\\n",
    "                         or secs==self.energy_sectors('elec_hydrocarbon') or secs==self.energy_sectors('electricities')): input_fuel=True\n",
    "    else: input_fuel = 0 # We want to include fuels that are used for transportation, not transformed into electricity (this is not secondary anymore)\n",
    "    secs, regs = self.prepare_secs_regs(secs, regs)\n",
    "    if self.name != 'Cecilia' and var != 'Total Energy supply': \n",
    "        print('GER not implemented for var of type ' + var + \", doing it for 'Total Energy supply' instead\")\n",
    "        var = 'Total Energy supply'\n",
    "    prod = self.production(secs, regs)\n",
    "    embodied = self.embodied_impact(secs, regs, var, source, production = prod).sum()\n",
    "    if input_fuel:\n",
    "        if self.name == 'Cecilia': input_fuel = self.inputs(secs, var_impacts=[var], \\\n",
    "            source=inter_secs(self.energy_sectors('secondary_fuels'), self.energy_sectors(source)), order_recursion=2)[2][0][1]\n",
    "        elif secs==self.energy_sectors('electricities'): \n",
    "            prod_fuel = self.production(self.energy_sectors('elec_hydrocarbon'), regs)\n",
    "            input_fuel = ((self.secondary_fuel_supply * self.A.dot(prod_fuel))[self.index_secs_regs(self.energy_sectors(source))]).sum()\n",
    "        else: input_fuel = ((self.secondary_fuel_supply * self.A.dot(prod))[self.index_secs_regs(self.energy_sectors(source))]).sum()\n",
    "    return(embodied - input_fuel)\n",
    "\n",
    "IOS.energy_required = energy_required"
   ]
  },
  {
   "cell_type": "code",
   "execution_count": 25,
   "metadata": {},
   "outputs": [],
   "source": [
    "eroi_tot = dict()\n",
    "for s in ['BL', 'BM', 'REF', 'ER', 'ADV', 'combo']: \n",
    "    eroi_tot[s] = dict()\n",
    "    for y in [2010, 2030, 2050]: eroi_tot[s][y] = themis[s][y].ger(themis[s][y].energy_sectors('electricities'))"
   ]
  },
  {
   "cell_type": "code",
   "execution_count": 26,
   "metadata": {},
   "outputs": [
    {
     "data": {
      "text/plain": [
       "{'ADV': {2010: 11.9, 2030: 8.1, 2050: 5.8},\n",
       " 'BL': {2010: 12.1, 2030: 10.8, 2050: 10.6},\n",
       " 'BM': {2010: 12.1, 2030: 9.0, 2050: 8.0},\n",
       " 'ER': {2010: 11.9, 2030: 8.3, 2050: 5.9},\n",
       " 'REF': {2010: 11.9, 2030: 10.6, 2050: 10.0},\n",
       " 'combo': {2010: 7.2, 2030: 7.5, 2050: 11.5}}"
      ]
     },
     "execution_count": 26,
     "metadata": {},
     "output_type": "execute_result"
    }
   ],
   "source": [
    "eroi_tot"
   ]
  },
  {
   "cell_type": "code",
   "execution_count": null,
   "metadata": {},
   "outputs": [],
   "source": [
    "res = results(themis, scenarios = scenarios+scenarios_dlr, not_all_2010=False, rounded=False)\n",
    "erois_as_mean = dict()\n",
    "for s in scenarios+scenarios_dlr:\n",
    "    erois_as_mean[s] = dict()\n",
    "    for y in years:\n",
    "        erois_as_mean[s][y] = round(1/sum((res[(s, y, 'mix')]/res[(s, y, 'EROI')].replace('–', float('Inf')))[:-1]), 1)\n",
    "erois_as_mean"
   ]
  },
  {
   "cell_type": "code",
   "execution_count": null,
   "metadata": {},
   "outputs": [],
   "source": [
    "# average price of PV\n",
    "(themis['BL'][2010].eroi_price.loc[[(r, 'Electricity by solar PV') for r in themis['BL'][2010].regions]]['price']*themis['BL'][2010].secondary_energy_demand[themis['BL'][2010].index_secs_regs('Electricity by solar PV')]).sum()/themis['BL'][2010].secondary_energy_demand[themis['BL'][2010].index_secs_regs('Electricity by solar PV')].sum()\n",
    "(themis['BL'][2050].eroi_price.loc[[(r, 'Electricity by solar PV') for r in themis['BL'][2010].regions]]['price']*themis['BL'][2050].secondary_energy_demand[themis['BL'][2010].index_secs_regs('Electricity by solar PV')]).sum()/themis['BL'][2050].secondary_energy_demand[themis['BL'][2010].index_secs_regs('Electricity by solar PV')].sum()\n",
    "(themis['ADV'][2050].eroi_price.loc[[(r, 'Electricity by solar PV') for r in themis['BL'][2010].regions]]['price']*themis['BL'][2050].secondary_energy_demand[themis['BL'][2010].index_secs_regs('Electricity by solar PV')]).sum()/themis['ADV'][2050].secondary_energy_demand[themis['BL'][2010].index_secs_regs('Electricity by solar PV')].sum()"
   ]
  }
 ],
 "metadata": {
  "kernelspec": {
   "display_name": "Python [default]",
   "language": "python",
   "name": "python3"
  },
  "language_info": {
   "codemirror_mode": {
    "name": "ipython",
    "version": 3
   },
   "file_extension": ".py",
   "mimetype": "text/x-python",
   "name": "python",
   "nbconvert_exporter": "python",
   "pygments_lexer": "ipython3",
   "version": "3.5.4"
  }
 },
 "nbformat": 4,
 "nbformat_minor": 2
}
