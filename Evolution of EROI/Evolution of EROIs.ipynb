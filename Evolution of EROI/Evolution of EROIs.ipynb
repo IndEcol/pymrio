{
 "cells": [
  {
   "cell_type": "code",
   "execution_count": 1,
   "metadata": {},
   "outputs": [
    {
     "data": {
      "text/html": [
       "<script>\n",
       "code_show=true; \n",
       "function code_toggle() {\n",
       " if (code_show){\n",
       " $('div.input').hide();\n",
       " } else {\n",
       " $('div.input').show();\n",
       " }\n",
       " code_show = !code_show\n",
       "} \n",
       "$( document ).ready(code_toggle);\n",
       "</script>\n",
       "\n",
       "<i>The raw code for this IPython notebook is by default hidden for easier reading.\n",
       "To toggle on/off the raw code, click <a href=\"javascript:code_toggle()\">here</a>.</i>"
      ],
      "text/plain": [
       "<IPython.core.display.HTML object>"
      ]
     },
     "execution_count": 1,
     "metadata": {},
     "output_type": "execute_result"
    }
   ],
   "source": [
    "from IPython.display import HTML\n",
    "HTML('''<script>\n",
    "code_show=true; \n",
    "function code_toggle() {\n",
    " if (code_show){\n",
    " $('div.input').hide();\n",
    " } else {\n",
    " $('div.input').show();\n",
    " }\n",
    " code_show = !code_show\n",
    "} \n",
    "$( document ).ready(code_toggle);\n",
    "</script>\n",
    "\n",
    "<i>The raw code for this IPython notebook is by default hidden for easier reading.\n",
    "To toggle on/off the raw code, click <a href=\"javascript:code_toggle()\">here</a>.</i>''')"
   ]
  },
  {
   "cell_type": "markdown",
   "metadata": {},
   "source": [
    "# Evolution of EROIs Until 2050\n",
    "\n",
    "## _by Adrien Fabre_"
   ]
  },
  {
   "cell_type": "markdown",
   "metadata": {},
   "source": [
    "I'll examine one key aspect of the sustainability of a 100% renewable energy mix: its technical possibility. It may sounds ridiculous, but the fact that renewable technologies deliver more energy than they consume has never been checked properly. First, I'll explain you the problem that could arise; second, I'll go into the data to see if we're screwed or not.\n",
    "\n",
    "_I do not cite references in the text, but provide them at the end._"
   ]
  },
  {
   "cell_type": "markdown",
   "metadata": {},
   "source": [
    "## I. The EROI of a Technology Is Not Intrinsic\n",
    "\n",
    "_I try to be pedagogical here, for people not familiar with Input-Output analysis. If this is still too complicated to understand, you can read only the bold contents of part I, and jump to the results in part II._"
   ]
  },
  {
   "cell_type": "markdown",
   "metadata": {},
   "source": [
    "### I.1. A Simple Model With A Unique Energy Technology\n",
    "\n",
    "The coefficient $a_{i,j}$ of technology matrix A represents the quantity of input $i$ required to produce one unit of output $j$.\n",
    "\n",
    "$$\\overset{A=\\left(a_{\\text{in, out}}\\right)=\\begin{pmatrix}a_{1,1} & \\cdots & a_{1,n}\\\\\n",
    "\\vdots & \\ddots & \\vdots\\\\\n",
    "a_{n,1} & \\ldots & a_{n,n}\n",
    "\\end{pmatrix}\\leftarrow\\text{ inputs}}{\\underset{\\text{outputs}}{\\downarrow}}$$\n",
    "\n",
    "Below is an illustrative technology matrix with three inputs (and the same three outputs): an energy technology, materials, and energy. Let $m_e$ be the quantity of materials required to produce one unit of energy.\n",
    "\n",
    "$$A=\\begin{pmatrix}0 & 0 & 1\\\\\n",
    "m_{e} & m_{m} & 0\\\\\n",
    "E_{e} & E_{m} & 0\n",
    "\\end{pmatrix}\\begin{array}{c}\n",
    "\\text{energy technology}\\\\\n",
    "\\text{materials}\\\\\n",
    "\\text{energy}\n",
    "\\end{array}$$\n",
    "\n",
    "One can check that $m_e$ corresponds to the definition above, and one can find the meaning of other coefficients (_hint: the 1 on the top-right corner means that one unit of energy technology is required to produce one unit of energy_)."
   ]
  },
  {
   "cell_type": "code",
   "execution_count": 1,
   "metadata": {},
   "outputs": [
    {
     "data": {
      "image/png": "[encoded data removed]",
      "text/latex": [
       "$$\\left[\\begin{matrix}0 & 0 & 1\\\\m_{e} & 0.2 & 0\\\\0.1 & 0.5 & 0\\end{matrix}\\right]$$"
      ],
      "text/plain": [
       "⎡ 0    0   1⎤\n",
       "⎢           ⎥\n",
       "⎢mₑ   0.2  0⎥\n",
       "⎢           ⎥\n",
       "⎣0.1  0.5  0⎦"
      ]
     },
     "execution_count": 1,
     "metadata": {},
     "output_type": "execute_result"
    }
   ],
   "source": [
    "%load_ext autoreload\n",
    "%autoreload 2\n",
    "from IPython.core.interactiveshell import InteractiveShell\n",
    "InteractiveShell.ast_node_interactivity = \"all\" # 'last' 'none' ...\n",
    "import sympy as sym\n",
    "from pylab import *\n",
    "sym.init_printing()\n",
    "import matplotlib.pyplot as plt\n",
    "\n",
    "m_e, e_e, m_m, e_m = sym.symbols('m_e e_e m_m e_m') # i_j: units of i required for 1 unit of j\n",
    "unit_energy_output = sym.Matrix([0, 0, 1])\n",
    "unit_tech_output = sym.Matrix([1, 0, 0])\n",
    "# A = sym.Matrix([[0, 0, 1], [m_e, m_m, 0], [e_e, e_m, 0]]) # energy technology, material, energy\n",
    "A = sym.Matrix([[0, 0, 1], [m_e, 0.2, 0], [0.1, 0.5, 0]]) # energy technology, material, energy\n",
    "A"
   ]
  },
  {
   "cell_type": "markdown",
   "metadata": {},
   "source": [
    "Now, we can compute the system-wide EROI of the economy represented by the technology matrix above.\n",
    "\n",
    "The system-wide **EROI, or Energy Returned On Invested, is the ratio between the energy delivered by the system, and the energy required to build, operate, maintain and dismantle it.** In other words, it is the inverse of the amount of energy required to produce one unit of energy, when the series of all embodied inputs are taken into account."
   ]
  },
  {
   "cell_type": "code",
   "execution_count": 45,
   "metadata": {},
   "outputs": [
    {
     "data": {
      "text/html": [
       "After some algebra (<a href=\"javascript:code_toggle()\">toggle code</a> below to see it), we find the formula for the EROI:"
      ],
      "text/plain": [
       "<IPython.core.display.HTML object>"
      ]
     },
     "execution_count": 45,
     "metadata": {},
     "output_type": "execute_result"
    }
   ],
   "source": [
    "HTML('''After some algebra (<a href=\"javascript:code_toggle()\">toggle code</a> below to see it), we find the formula for the EROI:''')"
   ]
  },
  {
   "cell_type": "code",
   "execution_count": 22,
   "metadata": {},
   "outputs": [
    {
     "data": {
      "image/png": "[encoded data removed]",
      "text/latex": [
       "$$\\frac{- 0.5 m_{e} + 0.72}{0.5 m_{e} + 0.08}$$"
      ],
      "text/plain": [
       "-0.5⋅mₑ + 0.72\n",
       "──────────────\n",
       "0.5⋅mₑ + 0.08 "
      ]
     },
     "execution_count": 22,
     "metadata": {},
     "output_type": "execute_result"
    }
   ],
   "source": [
    "L = sym.eye(3)-A\n",
    "Linv = L.inv()\n",
    "EROI = sym.simplify(1/unit_energy_output.transpose().dot((Linv-sym.eye(3)).dot(unit_energy_output)))\n",
    "EROI"
   ]
  },
  {
   "cell_type": "markdown",
   "metadata": {},
   "source": [
    "Unsurprisingly, one can see in the Figure below that the EROI decreases with the material intensity of the energy technology, because extracting and processing material requires energy."
   ]
  },
  {
   "cell_type": "code",
   "execution_count": 23,
   "metadata": {},
   "outputs": [
    {
     "data": {
      "image/png": "[encoded data removed]",
      "text/plain": [
       "<matplotlib.figure.Figure at 0x7f9286d0da58>"
      ]
     },
     "metadata": {},
     "output_type": "display_data"
    }
   ],
   "source": [
    "x = np.array(range(31))/20\n",
    "fig, ax = subplots()\n",
    "\n",
    "ax.plot(x, [EROI.subs(m_e, M) for M in x], label=\"EROI\")\n",
    "ax.set_xlabel('Material intensity of the energy technology')\n",
    "ax.set_ylabel('EROI')\n",
    "# ax.set_title('EROIs for different energy mixes')\n",
    "ax.legend(loc=1)\n",
    "ax.grid(color='g', alpha=0.5, linestyle='dotted', linewidth=0.5)\n",
    "ax.axhline(y=1, color='black', alpha=0.5, linestyle='dotted', linewidth=0.5)\n",
    "fig.savefig('EROIs for different material intensity 2.png', dpi=200, bbox_inches=\"tight\")"
   ]
  },
  {
   "cell_type": "markdown",
   "metadata": {},
   "source": [
    "For an intensity above 0.6, it is below 1. **An EROI below 1 means that the energy technology is not worth developing, because it consumes energy rather than providing it. Such a system is not sustainable** (and not realistic): for it to happen the society should have accumulated energy in the past from an energy source no more accessible, and would waste this energy in that absurd technology.\n",
    "\n",
    "For even higher intensities, the EROI falls below 0, which means that the energy (recursively) required to produce one unit of energy is infinite. Here, free energy coming from the past wouldn't suffice to build the energy technology: one would also need to have free materials (i.e. materials requiring no energy to access them). No need to say that such a world is physically impossible."
   ]
  },
  {
   "cell_type": "markdown",
   "metadata": {},
   "source": [
    "### I.2. A Simple Model With A Mix of Two Technologies"
   ]
  },
  {
   "cell_type": "markdown",
   "metadata": {},
   "source": [
    "Now, let us consider two energy technologies, with the same energy intensity, but different materials intensities.\n",
    "\n",
    "Even if this example is purely illustrative, let us call them PV (for solar photovoltaic) and gas (for gas power-plant electricity). The numbers are completely made up, but they respect the fact that PV is more material intensive than gas. Here is our new technology matrix, where inputs (and outputs) are (in that order): PV, gas, materials, energy."
   ]
  },
  {
   "cell_type": "code",
   "execution_count": 24,
   "metadata": {},
   "outputs": [
    {
     "data": {
      "image/png": "[encoded data removed]",
      "text/latex": [
       "$$\\left[\\begin{matrix}0 & 0 & 0 & p\\\\0 & 0 & 0 & - p + 1\\\\0.7 & 0.1 & 0.2 & 0\\\\0.1 & 0.1 & 0.5 & 0\\end{matrix}\\right]$$"
      ],
      "text/plain": [
       "⎡ 0    0    0     p   ⎤\n",
       "⎢                     ⎥\n",
       "⎢ 0    0    0   -p + 1⎥\n",
       "⎢                     ⎥\n",
       "⎢0.7  0.1  0.2    0   ⎥\n",
       "⎢                     ⎥\n",
       "⎣0.1  0.1  0.5    0   ⎦"
      ]
     },
     "execution_count": 24,
     "metadata": {},
     "output_type": "execute_result"
    }
   ],
   "source": [
    "p = sym.symbols('p') # proportion of PV in energy mix\n",
    "# m_pv (resp. m_oil) units of materials required for 1 kWh from PV (resp. oil)\n",
    "m_pv, m_oil = 0.7, 0.1 # \n",
    "m_pv, m_oil, m_e, e_pv, e_oil, e_e = sym.symbols('m_pv m_oil m_e e_pv e_oil e_e') \n",
    "unit_energy_output = sym.Matrix([0, 0, 0, 1])\n",
    "energy_mix = [p, 1-p] # proportion of [PV, oil]\n",
    "A = sym.Matrix([[0, 0, 0, p], [0, 0, 0, 1-p], [0.7, 0.1, 0.2, 0], [0.1, 0.1, 0.5, 0]]) # order of ligns/columns: PV, oil, materials, energy\n",
    "# A = sym.Matrix([[0, 0, 0, pv], [0, 0, 0, 1-pv], [m_pv, m_oil, m_e, 0], [e_pv, e_oil, e_e, 0]]) # order of ligns/columns: PV, oil, materials, energy\n",
    "A"
   ]
  },
  {
   "cell_type": "markdown",
   "metadata": {},
   "source": [
    "As you might have guessed, _p_ represents the share of PV in the energy (or electricity) mix.\n",
    "\n",
    "Using simple algebra, one obtains the formula for the EROI:"
   ]
  },
  {
   "cell_type": "code",
   "execution_count": 25,
   "metadata": {},
   "outputs": [
    {
     "data": {
      "image/png": "[encoded data removed]",
      "text/latex": [
       "$$\\frac{- 0.3 p + 0.67}{0.3 p + 0.13}$$"
      ],
      "text/plain": [
       "-0.3⋅p + 0.67\n",
       "─────────────\n",
       " 0.3⋅p + 0.13"
      ]
     },
     "execution_count": 25,
     "metadata": {},
     "output_type": "execute_result"
    }
   ],
   "source": [
    "L = sym.eye(4)-A # sym.Matrix(3,3,[1, -m, -1, 0, 0.8, -1, -e, 0, 1])\n",
    "Linv = L.inv()\n",
    "EROI2 = sym.simplify(1/unit_energy_output.transpose().dot((Linv-sym.eye(4)).dot(unit_energy_output)))\n",
    "EROI2"
   ]
  },
  {
   "cell_type": "markdown",
   "metadata": {},
   "source": [
    "This corresponds to the system-wide EROI. But now that we have two technologies, we can compute the EROI of each of them.\n",
    "\n",
    "The EROI of a technology is the ratio between the energy delivered by one unit of this technology (over its lifetime), and the energy required to build, operate, maintain and dismantle it.\n",
    "\n",
    "In our example, the EROIs of PV and gas are, in that order:"
   ]
  },
  {
   "cell_type": "code",
   "execution_count": 26,
   "metadata": {},
   "outputs": [
    {
     "data": {
      "image/png": "[encoded data removed]",
      "text/latex": [
       "$$- 0.697674418604651 p + 1.55813953488372$$"
      ],
      "text/plain": [
       "-0.697674418604651⋅p + 1.55813953488372"
      ]
     },
     "execution_count": 26,
     "metadata": {},
     "output_type": "execute_result"
    },
    {
     "data": {
      "image/png": "[encoded data removed]",
      "text/latex": [
       "$$- 2.30769230769231 p + 5.15384615384615$$"
      ],
      "text/plain": [
       "-2.30769230769231⋅p + 5.15384615384615"
      ]
     },
     "execution_count": 26,
     "metadata": {},
     "output_type": "execute_result"
    }
   ],
   "source": [
    "EROIpv = sym.simplify(1/unit_energy_output.transpose().dot((Linv-sym.eye(4)).dot(sym.Matrix([1, 0, 0, 0]))))\n",
    "EROIoil = sym.simplify(1/unit_energy_output.transpose().dot((Linv-sym.eye(4)).dot(sym.Matrix([0, 1, 0, 0]))))\n",
    "\n",
    "EROIpv\n",
    "EROIoil"
   ]
  },
  {
   "cell_type": "markdown",
   "metadata": {},
   "source": [
    "Notice that they depend on the energy mix: **the EROI of a technology is not an intrinsic property**.\n",
    "\n",
    "Indeed, **it depends on the whole economic system**, or more precisely, of all technologies used in their value chain. (The value chain what I called above the recursive or embodied inputs; its analysis is known as _structural path analysis_ in the literature).\n",
    "\n",
    "Here, **the higher the share of PV in the mix, the lower the EROI of both technologies**: this comes from the higher material intensity of PV.\n",
    "\n",
    "Put graphically:"
   ]
  },
  {
   "cell_type": "code",
   "execution_count": 27,
   "metadata": {},
   "outputs": [
    {
     "data": {
      "image/png": "[encoded data removed]",
      "text/plain": [
       "<matplotlib.figure.Figure at 0x7f9288028f28>"
      ]
     },
     "metadata": {},
     "output_type": "display_data"
    }
   ],
   "source": [
    "x = np.array(range(21))/20\n",
    "fig, ax = subplots()\n",
    "\n",
    "ax.plot(x, [EROI2.subs(p, PV) for PV in x], label=\"System-wide EROI\")\n",
    "ax.plot(x, [EROIpv.subs(p, PV) for PV in x], label=\"EROI of PV\", linestyle='dashed') # , linestyle='dashed'\n",
    "ax.plot(x, [EROIoil.subs(p, PV) for PV in x], label=\"EROI of gas\", linestyle='dotted') # , linestyle='dotted'\n",
    "ax.set_xlabel('Share of PV in the energy mix')\n",
    "ax.set_ylabel('EROI')\n",
    "# ax.set_title('EROIs for different energy mixes')\n",
    "ax.legend(loc=1)\n",
    "ax.grid(color='g', alpha=0.5, linestyle='dotted', linewidth=0.5)\n",
    "fig.savefig('EROIs for different energy mixes - gas 2.png', dpi=200, bbox_inches=\"tight\")"
   ]
  },
  {
   "cell_type": "markdown",
   "metadata": {},
   "source": [
    "One can see that for highest penetration of PV, the EROI falls below unity. In other words, a renewable energy mix with 100% PV is not sustainable in this example. \n",
    "\n",
    "Even more worrying, if one computes the EROI of PV in an energy mix relying mostly on gas, one would find a high-enough EROI for PV (meaning, above 1).\n",
    "\n",
    "Hence, one cannot conclude that a technology is sufficiently efficient (or sustainable) just by computing its EROI in the current energy mix.\n",
    "\n",
    "Yet, EROIs computations are _always_ done from actual data of our economy, and could falsely represent the efficiencies of energy technologies in another energy mix, say, a 100% renewable one.\n",
    "\n",
    "In the next sections, I'll go into the data and compute for the first time EROIs of different electricity technologies under an energy transition towards renewables.\n",
    "\n",
    "Let's hope that we'll find EROIs above one for at least one renewable technology!"
   ]
  },
  {
   "cell_type": "markdown",
   "metadata": {},
   "source": [
    "## II. Estimation of Current and Future EROIs"
   ]
  },
  {
   "cell_type": "code",
   "execution_count": 2,
   "metadata": {},
   "outputs": [],
   "source": [
    "%%capture\n",
    "%load_ext autoreload\n",
    "%autoreload 2\n",
    "# One needs to install my fork of pymrio, available at https://github.com/bixiou/pymrio\n",
    "#   To do this, clone my repository from github, go on the console on the pymrio folder, and\n",
    "#   type 'python3 setup.py sdist', then 'python3 setup.py install'\n",
    "import pymrio\n",
    "from pymrio.core.mriosystem import IOSystem as IOS\n",
    "from pymrio.tools.iomath import div0\n",
    "import pandas as pd\n",
    "import numpy as np\n",
    "# import scipy.io\n",
    "import scipy.sparse as sp \n",
    "from scipy.sparse import linalg as spla\n",
    "import operator\n",
    "import warnings\n",
    "warnings.filterwarnings('ignore')"
   ]
  },
  {
   "cell_type": "code",
   "execution_count": 3,
   "metadata": {},
   "outputs": [],
   "source": [
    "%%capture\n",
    "# Unfortunately, the database THEMIS is not open (you can ask to NTNU or thomas.gibon@list.lu) if they can provide it to you\n",
    "path_themis = '/media/adrien/dd1/adrien/DD/Économie/Données/Themis/'\n",
    "themis = pymrio.themis_parser(path_themis)"
   ]
  },
  {
   "cell_type": "markdown",
   "metadata": {},
   "source": [
    "To compute EROIs, I use input-output tables (i.e. technology matrices) representing the global economy. \n",
    "\n",
    "The original database is [Exiobase](https://www.exiobase.eu/), and the model I used is [THEMIS](https://sci-hub.tw/https%3A//pubs.acs.org/doi/abs/10.1021/acs.est.5b01558), which is precisely what we need: input-output tables (IOT) of 2010, and prospective IOT for 2030 and 2050, under two [scenarios](http://gen.lib.rus.ec/book/index.php?md5=4D5AF94A02A48B799CF77641509C1C6B) of the International Energy Agency: BaseLine (with a high share of fossils) and Blue Map (with a high share of renewables).\n",
    "\n",
    "I won't give much more details, let's go straight to the results. Let's see current EROIs first:"
   ]
  },
  {
   "cell_type": "code",
   "execution_count": 4,
   "metadata": {},
   "outputs": [
    {
     "name": "stdout",
     "output_type": "stream",
     "text": [
      "EROIs of electric technos in 2010:\n"
     ]
    },
    {
     "data": {
      "text/html": [
       "<div>\n",
       "<style scoped>\n",
       "    .dataframe tbody tr th:only-of-type {\n",
       "        vertical-align: middle;\n",
       "    }\n",
       "\n",
       "    .dataframe tbody tr th {\n",
       "        vertical-align: top;\n",
       "    }\n",
       "\n",
       "    .dataframe thead th {\n",
       "        text-align: right;\n",
       "    }\n",
       "</style>\n",
       "<table border=\"1\" class=\"dataframe\">\n",
       "  <thead>\n",
       "    <tr style=\"text-align: right;\">\n",
       "      <th></th>\n",
       "      <th>EROI</th>\n",
       "      <th>mix</th>\n",
       "    </tr>\n",
       "  </thead>\n",
       "  <tbody>\n",
       "    <tr>\n",
       "      <th>wind onshore</th>\n",
       "      <td>9.4</td>\n",
       "      <td>0.008763</td>\n",
       "    </tr>\n",
       "    <tr>\n",
       "      <th>wind offshore</th>\n",
       "      <td>9.3</td>\n",
       "      <td>0.000018</td>\n",
       "    </tr>\n",
       "    <tr>\n",
       "      <th>solar PV</th>\n",
       "      <td>9.2</td>\n",
       "      <td>0.000208</td>\n",
       "    </tr>\n",
       "    <tr>\n",
       "      <th>coal</th>\n",
       "      <td>12.6</td>\n",
       "      <td>0.415864</td>\n",
       "    </tr>\n",
       "    <tr>\n",
       "      <th>oil</th>\n",
       "      <td>8.2</td>\n",
       "      <td>0.056552</td>\n",
       "    </tr>\n",
       "    <tr>\n",
       "      <th>gas</th>\n",
       "      <td>13.7</td>\n",
       "      <td>0.208858</td>\n",
       "    </tr>\n",
       "    <tr>\n",
       "      <th>nuclear</th>\n",
       "      <td>10.4</td>\n",
       "      <td>0.137634</td>\n",
       "    </tr>\n",
       "    <tr>\n",
       "      <th>hydro</th>\n",
       "      <td>13.1</td>\n",
       "      <td>0.155819</td>\n",
       "    </tr>\n",
       "    <tr>\n",
       "      <th>coal w CCS</th>\n",
       "      <td>NaN</td>\n",
       "      <td>0.000000</td>\n",
       "    </tr>\n",
       "    <tr>\n",
       "      <th>gas w CCS</th>\n",
       "      <td>NaN</td>\n",
       "      <td>0.000000</td>\n",
       "    </tr>\n",
       "    <tr>\n",
       "      <th>biomass&amp;Waste</th>\n",
       "      <td>11.3</td>\n",
       "      <td>0.013095</td>\n",
       "    </tr>\n",
       "    <tr>\n",
       "      <th>biomass w CCS</th>\n",
       "      <td>NaN</td>\n",
       "      <td>0.000000</td>\n",
       "    </tr>\n",
       "    <tr>\n",
       "      <th>ocean</th>\n",
       "      <td>5.5</td>\n",
       "      <td>0.000028</td>\n",
       "    </tr>\n",
       "    <tr>\n",
       "      <th>geothermal</th>\n",
       "      <td>5.1</td>\n",
       "      <td>0.003126</td>\n",
       "    </tr>\n",
       "    <tr>\n",
       "      <th>solar CSP</th>\n",
       "      <td>21.0</td>\n",
       "      <td>0.000034</td>\n",
       "    </tr>\n",
       "    <tr>\n",
       "      <th>Power sector</th>\n",
       "      <td>8.0</td>\n",
       "      <td>NaN</td>\n",
       "    </tr>\n",
       "  </tbody>\n",
       "</table>\n",
       "</div>"
      ],
      "text/plain": [
       "               EROI       mix\n",
       "wind onshore    9.4  0.008763\n",
       "wind offshore   9.3  0.000018\n",
       "solar PV        9.2  0.000208\n",
       "coal           12.6  0.415864\n",
       "oil             8.2  0.056552\n",
       "gas            13.7  0.208858\n",
       "nuclear        10.4  0.137634\n",
       "hydro          13.1  0.155819\n",
       "coal w CCS      NaN  0.000000\n",
       "gas w CCS       NaN  0.000000\n",
       "biomass&Waste  11.3  0.013095\n",
       "biomass w CCS   NaN  0.000000\n",
       "ocean           5.5  0.000028\n",
       "geothermal      5.1  0.003126\n",
       "solar CSP      21.0  0.000034\n",
       "Power sector    8.0       NaN"
      ]
     },
     "execution_count": 4,
     "metadata": {},
     "output_type": "execute_result"
    }
   ],
   "source": [
    "global_mixes_BL = themis['BL'][2010].energy.demand.groupby(level='year', axis=1).sum()\n",
    "# themis['BL'][2010].global_mixes = round(global_mixes_BL/global_mixes_BL.loc['Electricity by total'],2)\n",
    "themis['BL'][2010].global_mixes = global_mixes_BL/global_mixes_BL.loc['Electricity by total']\n",
    "themis['BL'][2010].global_mixes = themis['BL'][2010].global_mixes.rename(index={s: s[15:] for s in themis['BL'][2010].global_mixes.index})\n",
    "themis['BL'][2010].global_mixes.loc['total']  = global_mixes_BL.loc['Electricity by total']/1000\n",
    "global_mixes_BM = themis['BM'][2010].energy.demand.groupby(level='year', axis=1).sum()\n",
    "# themis['BM'][2010].global_mixes = round(global_mixes_BM/global_mixes_BM.loc['Electricity by total'],2)\n",
    "themis['BM'][2010].global_mixes = global_mixes_BM/global_mixes_BM.loc['Electricity by total']\n",
    "themis['BM'][2010].global_mixes = themis['BM'][2010].global_mixes.rename(index={s: s[15:] for s in themis['BM'][2010].global_mixes.index})\n",
    "themis['BM'][2010].global_mixes.loc['total']  = global_mixes_BM.loc['Electricity by total']/1000\n",
    "print('EROIs of electric technos in 2010:')\n",
    "pd.DataFrame(themis['BL'][2010].erois(), columns=['EROI']).join(pd.DataFrame(themis['BL'][2010].global_mixes[2010]).rename(columns={2010: 'mix'}))"
   ]
  },
  {
   "cell_type": "markdown",
   "metadata": {},
   "source": [
    "One can notice that PV and wind panels have a lower EROI than electricity from fossil fuels. \n",
    "\n",
    "The system-wide EROI for all electricity is given at the bottom line: it is 8.\n",
    "    \n",
    "Some EROIs are missing, because in 2010, the technology didn't exist yet on an industrial scale."
   ]
  },
  {
   "cell_type": "markdown",
   "metadata": {},
   "source": [
    "Now, let's see how EROIs would evolve in the energy transition."
   ]
  },
  {
   "cell_type": "code",
   "execution_count": 48,
   "metadata": {},
   "outputs": [
    {
     "name": "stdout",
     "output_type": "stream",
     "text": [
      "EROIs of electric technos in 2050 in the Blue Map scenario (with mostly renewables):\n"
     ]
    },
    {
     "data": {
      "text/html": [
       "<div>\n",
       "<style scoped>\n",
       "    .dataframe tbody tr th:only-of-type {\n",
       "        vertical-align: middle;\n",
       "    }\n",
       "\n",
       "    .dataframe tbody tr th {\n",
       "        vertical-align: top;\n",
       "    }\n",
       "\n",
       "    .dataframe thead th {\n",
       "        text-align: right;\n",
       "    }\n",
       "</style>\n",
       "<table border=\"1\" class=\"dataframe\">\n",
       "  <thead>\n",
       "    <tr style=\"text-align: right;\">\n",
       "      <th></th>\n",
       "      <th>EROI</th>\n",
       "      <th>mix</th>\n",
       "    </tr>\n",
       "  </thead>\n",
       "  <tbody>\n",
       "    <tr>\n",
       "      <th>wind onshore</th>\n",
       "      <td>7.4</td>\n",
       "      <td>0.08</td>\n",
       "    </tr>\n",
       "    <tr>\n",
       "      <th>wind offshore</th>\n",
       "      <td>6.3</td>\n",
       "      <td>0.04</td>\n",
       "    </tr>\n",
       "    <tr>\n",
       "      <th>solar PV</th>\n",
       "      <td>5.1</td>\n",
       "      <td>0.06</td>\n",
       "    </tr>\n",
       "    <tr>\n",
       "      <th>coal</th>\n",
       "      <td>12.6</td>\n",
       "      <td>0.01</td>\n",
       "    </tr>\n",
       "    <tr>\n",
       "      <th>oil</th>\n",
       "      <td>7.4</td>\n",
       "      <td>0.01</td>\n",
       "    </tr>\n",
       "    <tr>\n",
       "      <th>gas</th>\n",
       "      <td>20.2</td>\n",
       "      <td>0.11</td>\n",
       "    </tr>\n",
       "    <tr>\n",
       "      <th>nuclear</th>\n",
       "      <td>7.5</td>\n",
       "      <td>0.24</td>\n",
       "    </tr>\n",
       "    <tr>\n",
       "      <th>hydro</th>\n",
       "      <td>13.2</td>\n",
       "      <td>0.14</td>\n",
       "    </tr>\n",
       "    <tr>\n",
       "      <th>coal w CCS</th>\n",
       "      <td>7.2</td>\n",
       "      <td>0.12</td>\n",
       "    </tr>\n",
       "    <tr>\n",
       "      <th>gas w CCS</th>\n",
       "      <td>9.3</td>\n",
       "      <td>0.05</td>\n",
       "    </tr>\n",
       "    <tr>\n",
       "      <th>biomass&amp;Waste</th>\n",
       "      <td>5.3</td>\n",
       "      <td>0.05</td>\n",
       "    </tr>\n",
       "    <tr>\n",
       "      <th>biomass w CCS</th>\n",
       "      <td>4.1</td>\n",
       "      <td>0.01</td>\n",
       "    </tr>\n",
       "    <tr>\n",
       "      <th>ocean</th>\n",
       "      <td>3.0</td>\n",
       "      <td>0.00</td>\n",
       "    </tr>\n",
       "    <tr>\n",
       "      <th>geothermal</th>\n",
       "      <td>4.8</td>\n",
       "      <td>0.02</td>\n",
       "    </tr>\n",
       "    <tr>\n",
       "      <th>solar CSP</th>\n",
       "      <td>1.5</td>\n",
       "      <td>0.06</td>\n",
       "    </tr>\n",
       "    <tr>\n",
       "      <th>Power sector</th>\n",
       "      <td>7.2</td>\n",
       "      <td>NaN</td>\n",
       "    </tr>\n",
       "  </tbody>\n",
       "</table>\n",
       "</div>"
      ],
      "text/plain": [
       "               EROI   mix\n",
       "wind onshore    7.4  0.08\n",
       "wind offshore   6.3  0.04\n",
       "solar PV        5.1  0.06\n",
       "coal           12.6  0.01\n",
       "oil             7.4  0.01\n",
       "gas            20.2  0.11\n",
       "nuclear         7.5  0.24\n",
       "hydro          13.2  0.14\n",
       "coal w CCS      7.2  0.12\n",
       "gas w CCS       9.3  0.05\n",
       "biomass&Waste   5.3  0.05\n",
       "biomass w CCS   4.1  0.01\n",
       "ocean           3.0  0.00\n",
       "geothermal      4.8  0.02\n",
       "solar CSP       1.5  0.06\n",
       "Power sector    7.2   NaN"
      ]
     },
     "execution_count": 48,
     "metadata": {},
     "output_type": "execute_result"
    }
   ],
   "source": [
    "print('EROIs of electric technos in 2050 in the Blue Map scenario (with mostly renewables):')\n",
    "# pd.DataFrame(themis['BM'][2050].erois(), columns=['BM, 2050'])\n",
    "pd.DataFrame(themis['BM'][2050].erois(), columns=['EROI']).join(pd.DataFrame(themis['BM'][2010].global_mixes[2050]).rename(columns={2050: 'mix'}))"
   ]
  },
  {
   "cell_type": "markdown",
   "metadata": {},
   "source": [
    "The EROIs that matters (those of renewable) decrease, as anticipated in the previous section.\n",
    "\n",
    "However they remain largely above 1, suggesting that renewables are truly sustainable. Indeed, the overall EROI of electricity, around 7, doesn't vary much with the current one. We cannot even be sure that it decreases, because of the imprecision of the estimates.\n",
    "\n",
    "Phew! We can be reassured!\n",
    "\n",
    "Uh, wait a minute! Look at this electricity mix in the Blue Map scenario: there is only 24% of solar and wind, and there remains 30% of fossils. Sure, more than half of includes Carbon Capture and Storage (CCS), but we are still far from a 100% renewable energy mix. Would these optimistic results hold in a more ambitious scenario?\n",
    "\n",
    "Let's have a look at the Greenpeace's [Energy [R]evolution](https://www.greenpeace.org/archive-international/Global/international/publications/climate/2015/Energy-Revolution-2015-Full.pdf) scenario, which proposes a 100% energy mix as soon as 2050, without CCS nor nuclear. I'll skip the details once again, but I have changed the electricity mix of THEMIS' BM 2050 to incorporate this scenario. Here are the results:"
   ]
  },
  {
   "cell_type": "code",
   "execution_count": 5,
   "metadata": {},
   "outputs": [],
   "source": [
    "dlr = dict()\n",
    "dlr['EROI'] = dict()\n",
    "dlr['mix'] = dict()\n",
    "dlr['mixes'] = dict()\n",
    "dlr['elec'] = dict()\n",
    "years = [2010, 2030, 2050]\n",
    "scenarios_dlr = ['REF', 'ER', 'ADV'] \n",
    "for scenario in scenarios_dlr:\n",
    "    dlr['mixes'][scenario] = dict()\n",
    "    dlr['mix'][scenario] = dict()\n",
    "    dlr['EROI'][scenario] = dict()\n",
    "    themis[scenario] = dict()\n",
    "    for year in years:\n",
    "        themis[scenario][2050] = themis['BM'][2050].copy(new_name='THEMIS')\n",
    "        dlr['mixes'][scenario][year] = themis[scenario][2050].mix(scenario = scenario, path_dlr = path_themis)[year]\n",
    "        dlr['mix'][scenario][year] = (themis[scenario][2050].dlr_elec['World'][year]/themis[scenario][2050].dlr_elec['World'][year].sum())\\\n",
    "            .append(pd.Series({'total': themis[scenario][2050].dlr_elec['World'][year].sum()/1000}))\n",
    "    dlr['elec'][scenario] = themis[scenario][2050].dlr_elec"
   ]
  },
  {
   "cell_type": "code",
   "execution_count": 188,
   "metadata": {},
   "outputs": [],
   "source": [
    "%%capture\n",
    "EROIs_mixes = pd.DataFrame(index = themis['BM'][2050].energy_sectors('elecs_names')+['total'])\n",
    "scenarios = ['BL', 'BM']\n",
    "dlr_sectors = list(np.array(themis['BM'][2050].energy_sectors('electricities'))[['CCS' not in s for s in themis['BM'][2050].energy_sectors('electricities')]])\n",
    "elec_idx = themis['BM'][2050].index_secs_regs(themis['BM'][2050].energy_sectors('electricities'))\n",
    "for year in years:    \n",
    "    for scenario in scenarios_dlr:\n",
    "        themis[scenario][year] = themis['BM'][year].copy(new_name='THEMIS')\n",
    "        themis[scenario][year].dlr_elec = dlr['elec'][scenario]\n",
    "        themis[scenario][year].change_mix(global_mix = dlr['mixes'][scenario][year], year = year)\n",
    "        dlr['EROI'][scenario][year] = themis[scenario][year].erois(secs = dlr_sectors, recompute=True)\n",
    "        dlr['EROI'][scenario][year] = dlr['EROI'][scenario][year].rename(index={'Power sector': 'total'})  \n",
    "        EROIs_mixes[(scenario, year, 'EROI')] = dlr['EROI'][scenario][year]\n",
    "        EROIs_mixes[(scenario, year, 'mix')] = dlr['mix'][scenario][year]\n",
    "    \n",
    "    for scenario_iea in scenarios: # VERY WEIRD: if I inverse the order of the two 'for' loop, I get slightly different EROIs (this order is the right one)\n",
    "        erois_s_y = themis[scenario_iea][year].erois()\n",
    "        erois_s_y = erois_s_y.rename(index={'Power sector': 'total'})\n",
    "        mixes_s_y = themis[scenario_iea][2010].global_mixes[year]\n",
    "        EROIs_mixes[[(scenario_iea, year, 'EROI'), (scenario_iea, year, 'mix')]] = pd.DataFrame(erois_s_y).join(mixes_s_y)\n",
    "#     EROIs_mixes[[(scenario, year, 'EROI'), (scenario, year, 'mix')]] = pd.DataFrame(dlr['EROI'][scenario][year]).join(dlr['mix'][scenario][year])\n",
    "# EROIs = pd.DataFrame(EROIs, columns = pd.MultiIndex.from_product([scenarios, years], names=['scenario', 'year']))\n",
    "EROIs_mixes = pd.DataFrame(EROIs_mixes, columns=pd.MultiIndex.from_product([scenarios+scenarios_dlr, years, ['EROI', 'mix']], names=['scenario', 'year', 'var']))\n",
    "print('EROIs of electric technos in 2050 in the Greenpeace ADV scenario (100% renewable):')"
   ]
  },
  {
   "cell_type": "code",
   "execution_count": 189,
   "metadata": {},
   "outputs": [],
   "source": [
    "# for sec in dlr_sectors:\n",
    "#     print(sec, themis['REF'][2050].impacts(secs = sec).sum()*1e-6)\n",
    "EROIs_Mixes = pd.DataFrame(EROIs_mixes.copy(), \\\n",
    "                columns=pd.MultiIndex.from_product([scenarios+scenarios_dlr, years, ['EROI', 'mix', 'mix_real']], names=['scenario', 'year', 'var']))\n",
    "EROIs_Mixes[[(scenario, year, 'mix') for year in years for scenario in scenarios+scenarios_dlr]] = \\\n",
    "    round(EROIs_Mixes[[(scenario, year, 'mix') for year in years for scenario in scenarios+scenarios_dlr]], 2)\n",
    "for scenario in scenarios+scenarios_dlr:\n",
    "    for year in years: \n",
    "        EROIs_Mixes[(scenario, year, 'mix_real')] = themis[scenario][year].mix_matrix(themis[scenario][year].energy_sectors('electricities'))"
   ]
  },
  {
   "cell_type": "code",
   "execution_count": 192,
   "metadata": {},
   "outputs": [],
   "source": [
    "# EROIs_mixes[scenarios]"
   ]
  },
  {
   "cell_type": "code",
   "execution_count": 167,
   "metadata": {},
   "outputs": [],
   "source": [
    "# EROIs_Mixes[scenarios]"
   ]
  },
  {
   "cell_type": "code",
   "execution_count": 168,
   "metadata": {},
   "outputs": [],
   "source": [
    "# EROIs_mixes[scenarios_dlr]"
   ]
  },
  {
   "cell_type": "code",
   "execution_count": 190,
   "metadata": {},
   "outputs": [
    {
     "data": {
      "text/plain": [
       "[<matplotlib.lines.Line2D at 0x7fee89b937f0>]"
      ]
     },
     "execution_count": 190,
     "metadata": {},
     "output_type": "execute_result"
    },
    {
     "data": {
      "text/plain": [
       "Text(0,0.5,'EROI')"
      ]
     },
     "execution_count": 190,
     "metadata": {},
     "output_type": "execute_result"
    },
    {
     "data": {
      "image/png": "[encoded data removed]",
      "text/latex": [
       "$$\\left ( 4, \\quad 9\\right )$$"
      ],
      "text/plain": [
       "(4, 9)"
      ]
     },
     "execution_count": 190,
     "metadata": {},
     "output_type": "execute_result"
    },
    {
     "data": {
      "text/plain": [
       "[<matplotlib.collections.PolyCollection at 0x7fee89c165c0>,\n",
       " <matplotlib.collections.PolyCollection at 0x7fee89d187b8>,\n",
       " <matplotlib.collections.PolyCollection at 0x7fee89d18908>,\n",
       " <matplotlib.collections.PolyCollection at 0x7fee89d18da0>,\n",
       " <matplotlib.collections.PolyCollection at 0x7fee89d18a58>,\n",
       " <matplotlib.collections.PolyCollection at 0x7fee8a67b438>,\n",
       " <matplotlib.collections.PolyCollection at 0x7fee8a67bcf8>,\n",
       " <matplotlib.collections.PolyCollection at 0x7fee8a67b4a8>,\n",
       " <matplotlib.collections.PolyCollection at 0x7fee8a67b550>,\n",
       " <matplotlib.collections.PolyCollection at 0x7fee8a67bb70>,\n",
       " <matplotlib.collections.PolyCollection at 0x7fee8a67bac8>,\n",
       " <matplotlib.collections.PolyCollection at 0x7fee8a30a518>,\n",
       " <matplotlib.collections.PolyCollection at 0x7fee8a56c5c0>,\n",
       " <matplotlib.collections.PolyCollection at 0x7fee8a56cd68>,\n",
       " <matplotlib.collections.PolyCollection at 0x7fee8a56c400>]"
      ]
     },
     "execution_count": 190,
     "metadata": {},
     "output_type": "execute_result"
    },
    {
     "data": {
      "text/plain": [
       "Text(0.5,1,'BL')"
      ]
     },
     "execution_count": 190,
     "metadata": {},
     "output_type": "execute_result"
    },
    {
     "data": {
      "text/plain": [
       "Text(0,0.5,'Share in the mix')"
      ]
     },
     "execution_count": 190,
     "metadata": {},
     "output_type": "execute_result"
    },
    {
     "data": {
      "text/plain": [
       "Text(0.5,0,'BL scenario')"
      ]
     },
     "execution_count": 190,
     "metadata": {},
     "output_type": "execute_result"
    },
    {
     "data": {
      "text/plain": [
       "([<matplotlib.axis.XTick at 0x7fee89c169b0>,\n",
       "  <matplotlib.axis.XTick at 0x7fee8a36e748>,\n",
       "  <matplotlib.axis.XTick at 0x7fee89d18ac8>],\n",
       " <a list of 3 Text xticklabel objects>)"
      ]
     },
     "execution_count": 190,
     "metadata": {},
     "output_type": "execute_result"
    },
    {
     "data": {
      "text/plain": [
       "<matplotlib.legend.Legend at 0x7fee89d18a90>"
      ]
     },
     "execution_count": 190,
     "metadata": {},
     "output_type": "execute_result"
    },
    {
     "data": {
      "text/plain": [
       "<matplotlib.legend.Legend at 0x7fee89c167b8>"
      ]
     },
     "execution_count": 190,
     "metadata": {},
     "output_type": "execute_result"
    },
    {
     "data": {
      "text/plain": [
       "[<matplotlib.lines.Line2D at 0x7fee8a11fa58>]"
      ]
     },
     "execution_count": 190,
     "metadata": {},
     "output_type": "execute_result"
    },
    {
     "data": {
      "text/plain": [
       "Text(0,0.5,'EROI')"
      ]
     },
     "execution_count": 190,
     "metadata": {},
     "output_type": "execute_result"
    },
    {
     "data": {
      "image/png": "[encoded data removed]",
      "text/latex": [
       "$$\\left ( 4, \\quad 9\\right )$$"
      ],
      "text/plain": [
       "(4, 9)"
      ]
     },
     "execution_count": 190,
     "metadata": {},
     "output_type": "execute_result"
    },
    {
     "data": {
      "text/plain": [
       "[<matplotlib.collections.PolyCollection at 0x7fee8a17a0b8>,\n",
       " <matplotlib.collections.PolyCollection at 0x7fee89d47668>,\n",
       " <matplotlib.collections.PolyCollection at 0x7fee89d478d0>,\n",
       " <matplotlib.collections.PolyCollection at 0x7fee89cd7cc0>,\n",
       " <matplotlib.collections.PolyCollection at 0x7fee89cd7a90>,\n",
       " <matplotlib.collections.PolyCollection at 0x7fee89cd7b38>,\n",
       " <matplotlib.collections.PolyCollection at 0x7fee89cd71d0>,\n",
       " <matplotlib.collections.PolyCollection at 0x7fee89cd7400>,\n",
       " <matplotlib.collections.PolyCollection at 0x7fee89cd7c18>,\n",
       " <matplotlib.collections.PolyCollection at 0x7fee8a63d550>,\n",
       " <matplotlib.collections.PolyCollection at 0x7fee8a63d470>,\n",
       " <matplotlib.collections.PolyCollection at 0x7fee8a63d128>,\n",
       " <matplotlib.collections.PolyCollection at 0x7fee8a63d160>,\n",
       " <matplotlib.collections.PolyCollection at 0x7fee8a63de80>,\n",
       " <matplotlib.collections.PolyCollection at 0x7fee8a63d940>]"
      ]
     },
     "execution_count": 190,
     "metadata": {},
     "output_type": "execute_result"
    },
    {
     "data": {
      "text/plain": [
       "Text(0.5,1,'BM')"
      ]
     },
     "execution_count": 190,
     "metadata": {},
     "output_type": "execute_result"
    },
    {
     "data": {
      "text/plain": [
       "Text(0,0.5,'Share in the mix')"
      ]
     },
     "execution_count": 190,
     "metadata": {},
     "output_type": "execute_result"
    },
    {
     "data": {
      "text/plain": [
       "Text(0.5,0,'BM scenario')"
      ]
     },
     "execution_count": 190,
     "metadata": {},
     "output_type": "execute_result"
    },
    {
     "data": {
      "text/plain": [
       "([<matplotlib.axis.XTick at 0x7fee8a265d68>,\n",
       "  <matplotlib.axis.XTick at 0x7fee8a17aac8>,\n",
       "  <matplotlib.axis.XTick at 0x7fee89d371d0>],\n",
       " <a list of 3 Text xticklabel objects>)"
      ]
     },
     "execution_count": 190,
     "metadata": {},
     "output_type": "execute_result"
    },
    {
     "data": {
      "text/plain": [
       "<matplotlib.legend.Legend at 0x7fee8a2d74e0>"
      ]
     },
     "execution_count": 190,
     "metadata": {},
     "output_type": "execute_result"
    },
    {
     "data": {
      "text/plain": [
       "<matplotlib.legend.Legend at 0x7fee8a57a9e8>"
      ]
     },
     "execution_count": 190,
     "metadata": {},
     "output_type": "execute_result"
    },
    {
     "data": {
      "text/plain": [
       "[<matplotlib.lines.Line2D at 0x7fee8a17dac8>]"
      ]
     },
     "execution_count": 190,
     "metadata": {},
     "output_type": "execute_result"
    },
    {
     "data": {
      "text/plain": [
       "Text(0,0.5,'EROI')"
      ]
     },
     "execution_count": 190,
     "metadata": {},
     "output_type": "execute_result"
    },
    {
     "data": {
      "image/png": "[encoded data removed]",
      "text/latex": [
       "$$\\left ( 4, \\quad 9\\right )$$"
      ],
      "text/plain": [
       "(4, 9)"
      ]
     },
     "execution_count": 190,
     "metadata": {},
     "output_type": "execute_result"
    },
    {
     "data": {
      "text/plain": [
       "[<matplotlib.collections.PolyCollection at 0x7fee89bbdcc0>,\n",
       " <matplotlib.collections.PolyCollection at 0x7fee89d13e48>,\n",
       " <matplotlib.collections.PolyCollection at 0x7fee89ba0710>,\n",
       " <matplotlib.collections.PolyCollection at 0x7fee89d13198>,\n",
       " <matplotlib.collections.PolyCollection at 0x7fee89d130f0>,\n",
       " <matplotlib.collections.PolyCollection at 0x7fee89d13080>,\n",
       " <matplotlib.collections.PolyCollection at 0x7fee89d2a550>,\n",
       " <matplotlib.collections.PolyCollection at 0x7fee89d2aef0>,\n",
       " <matplotlib.collections.PolyCollection at 0x7fee89d2ae48>,\n",
       " <matplotlib.collections.PolyCollection at 0x7fee89d2ab70>,\n",
       " <matplotlib.collections.PolyCollection at 0x7fee89d2ac88>,\n",
       " <matplotlib.collections.PolyCollection at 0x7fee89d2a128>,\n",
       " <matplotlib.collections.PolyCollection at 0x7fee8a2711d0>,\n",
       " <matplotlib.collections.PolyCollection at 0x7fee8a271048>,\n",
       " <matplotlib.collections.PolyCollection at 0x7fee8a271d30>]"
      ]
     },
     "execution_count": 190,
     "metadata": {},
     "output_type": "execute_result"
    },
    {
     "data": {
      "text/plain": [
       "Text(0.5,1,'REF')"
      ]
     },
     "execution_count": 190,
     "metadata": {},
     "output_type": "execute_result"
    },
    {
     "data": {
      "text/plain": [
       "Text(0,0.5,'Share in the mix')"
      ]
     },
     "execution_count": 190,
     "metadata": {},
     "output_type": "execute_result"
    },
    {
     "data": {
      "text/plain": [
       "Text(0.5,0,'REF scenario')"
      ]
     },
     "execution_count": 190,
     "metadata": {},
     "output_type": "execute_result"
    },
    {
     "data": {
      "text/plain": [
       "([<matplotlib.axis.XTick at 0x7fee8a623e10>,\n",
       "  <matplotlib.axis.XTick at 0x7fee89bbd0f0>,\n",
       "  <matplotlib.axis.XTick at 0x7fee89cce4a8>],\n",
       " <a list of 3 Text xticklabel objects>)"
      ]
     },
     "execution_count": 190,
     "metadata": {},
     "output_type": "execute_result"
    },
    {
     "data": {
      "text/plain": [
       "<matplotlib.legend.Legend at 0x7fee8a271b38>"
      ]
     },
     "execution_count": 190,
     "metadata": {},
     "output_type": "execute_result"
    },
    {
     "data": {
      "text/plain": [
       "<matplotlib.legend.Legend at 0x7fee8a623e80>"
      ]
     },
     "execution_count": 190,
     "metadata": {},
     "output_type": "execute_result"
    },
    {
     "data": {
      "text/plain": [
       "[<matplotlib.lines.Line2D at 0x7fee89957400>]"
      ]
     },
     "execution_count": 190,
     "metadata": {},
     "output_type": "execute_result"
    },
    {
     "data": {
      "text/plain": [
       "Text(0,0.5,'EROI')"
      ]
     },
     "execution_count": 190,
     "metadata": {},
     "output_type": "execute_result"
    },
    {
     "data": {
      "image/png": "[encoded data removed]",
      "text/latex": [
       "$$\\left ( 4, \\quad 9\\right )$$"
      ],
      "text/plain": [
       "(4, 9)"
      ]
     },
     "execution_count": 190,
     "metadata": {},
     "output_type": "execute_result"
    },
    {
     "data": {
      "text/plain": [
       "[<matplotlib.collections.PolyCollection at 0x7fee8996de48>,\n",
       " <matplotlib.collections.PolyCollection at 0x7fee89979d30>,\n",
       " <matplotlib.collections.PolyCollection at 0x7fee89979f98>,\n",
       " <matplotlib.collections.PolyCollection at 0x7fee8997f0b8>,\n",
       " <matplotlib.collections.PolyCollection at 0x7fee8997f320>,\n",
       " <matplotlib.collections.PolyCollection at 0x7fee8997f588>,\n",
       " <matplotlib.collections.PolyCollection at 0x7fee8997f7f0>,\n",
       " <matplotlib.collections.PolyCollection at 0x7fee8997fa58>,\n",
       " <matplotlib.collections.PolyCollection at 0x7fee8997fcc0>,\n",
       " <matplotlib.collections.PolyCollection at 0x7fee8997ff28>,\n",
       " <matplotlib.collections.PolyCollection at 0x7fee8990c208>,\n",
       " <matplotlib.collections.PolyCollection at 0x7fee8990c4a8>,\n",
       " <matplotlib.collections.PolyCollection at 0x7fee8990c748>,\n",
       " <matplotlib.collections.PolyCollection at 0x7fee8990c9e8>,\n",
       " <matplotlib.collections.PolyCollection at 0x7fee8990cc88>]"
      ]
     },
     "execution_count": 190,
     "metadata": {},
     "output_type": "execute_result"
    },
    {
     "data": {
      "text/plain": [
       "Text(0.5,1,'ER')"
      ]
     },
     "execution_count": 190,
     "metadata": {},
     "output_type": "execute_result"
    },
    {
     "data": {
      "text/plain": [
       "Text(0,0.5,'Share in the mix')"
      ]
     },
     "execution_count": 190,
     "metadata": {},
     "output_type": "execute_result"
    },
    {
     "data": {
      "text/plain": [
       "Text(0.5,0,'ER scenario')"
      ]
     },
     "execution_count": 190,
     "metadata": {},
     "output_type": "execute_result"
    },
    {
     "data": {
      "text/plain": [
       "([<matplotlib.axis.XTick at 0x7fee89966630>,\n",
       "  <matplotlib.axis.XTick at 0x7fee8996aeb8>,\n",
       "  <matplotlib.axis.XTick at 0x7fee89c1ce48>],\n",
       " <a list of 3 Text xticklabel objects>)"
      ]
     },
     "execution_count": 190,
     "metadata": {},
     "output_type": "execute_result"
    },
    {
     "data": {
      "text/plain": [
       "<matplotlib.legend.Legend at 0x7fee89966278>"
      ]
     },
     "execution_count": 190,
     "metadata": {},
     "output_type": "execute_result"
    },
    {
     "data": {
      "text/plain": [
       "<matplotlib.legend.Legend at 0x7fee8991c208>"
      ]
     },
     "execution_count": 190,
     "metadata": {},
     "output_type": "execute_result"
    },
    {
     "data": {
      "text/plain": [
       "[<matplotlib.lines.Line2D at 0x7fee898e58d0>]"
      ]
     },
     "execution_count": 190,
     "metadata": {},
     "output_type": "execute_result"
    },
    {
     "data": {
      "text/plain": [
       "Text(0,0.5,'EROI')"
      ]
     },
     "execution_count": 190,
     "metadata": {},
     "output_type": "execute_result"
    },
    {
     "data": {
      "image/png": "[encoded data removed]",
      "text/latex": [
       "$$\\left ( 4, \\quad 9\\right )$$"
      ],
      "text/plain": [
       "(4, 9)"
      ]
     },
     "execution_count": 190,
     "metadata": {},
     "output_type": "execute_result"
    },
    {
     "data": {
      "text/plain": [
       "[<matplotlib.collections.PolyCollection at 0x7fee898f7470>,\n",
       " <matplotlib.collections.PolyCollection at 0x7fee89895240>,\n",
       " <matplotlib.collections.PolyCollection at 0x7fee8988af28>,\n",
       " <matplotlib.collections.PolyCollection at 0x7fee89895588>,\n",
       " <matplotlib.collections.PolyCollection at 0x7fee898957f0>,\n",
       " <matplotlib.collections.PolyCollection at 0x7fee89895a58>,\n",
       " <matplotlib.collections.PolyCollection at 0x7fee89895cc0>,\n",
       " <matplotlib.collections.PolyCollection at 0x7fee89895f28>,\n",
       " <matplotlib.collections.PolyCollection at 0x7fee898991d0>,\n",
       " <matplotlib.collections.PolyCollection at 0x7fee89899438>,\n",
       " <matplotlib.collections.PolyCollection at 0x7fee898996d8>,\n",
       " <matplotlib.collections.PolyCollection at 0x7fee89899978>,\n",
       " <matplotlib.collections.PolyCollection at 0x7fee89899c18>,\n",
       " <matplotlib.collections.PolyCollection at 0x7fee89899eb8>,\n",
       " <matplotlib.collections.PolyCollection at 0x7fee898a1198>]"
      ]
     },
     "execution_count": 190,
     "metadata": {},
     "output_type": "execute_result"
    },
    {
     "data": {
      "text/plain": [
       "Text(0.5,1,'ADV')"
      ]
     },
     "execution_count": 190,
     "metadata": {},
     "output_type": "execute_result"
    },
    {
     "data": {
      "text/plain": [
       "Text(0,0.5,'Share in the mix')"
      ]
     },
     "execution_count": 190,
     "metadata": {},
     "output_type": "execute_result"
    },
    {
     "data": {
      "text/plain": [
       "Text(0.5,0,'ADV scenario')"
      ]
     },
     "execution_count": 190,
     "metadata": {},
     "output_type": "execute_result"
    },
    {
     "data": {
      "text/plain": [
       "([<matplotlib.axis.XTick at 0x7fee898f7b00>,\n",
       "  <matplotlib.axis.XTick at 0x7fee898f7978>,\n",
       "  <matplotlib.axis.XTick at 0x7fee898cc358>],\n",
       " <a list of 3 Text xticklabel objects>)"
      ]
     },
     "execution_count": 190,
     "metadata": {},
     "output_type": "execute_result"
    },
    {
     "data": {
      "text/plain": [
       "<matplotlib.legend.Legend at 0x7fee898fe630>"
      ]
     },
     "execution_count": 190,
     "metadata": {},
     "output_type": "execute_result"
    },
    {
     "data": {
      "text/plain": [
       "<matplotlib.legend.Legend at 0x7fee898a14a8>"
      ]
     },
     "execution_count": 190,
     "metadata": {},
     "output_type": "execute_result"
    },
    {
     "data": {
      "image/png": "[encoded data removed]",
      "text/plain": [
       "<matplotlib.figure.Figure at 0x7fee8a108a58>"
      ]
     },
     "metadata": {},
     "output_type": "display_data"
    },
    {
     "data": {
      "image/png": "[encoded data removed]",
      "text/plain": [
       "<matplotlib.figure.Figure at 0x7fee8a1690f0>"
      ]
     },
     "metadata": {},
     "output_type": "display_data"
    },
    {
     "data": {
      "image/png": "[encoded data removed]",
      "text/plain": [
       "<matplotlib.figure.Figure at 0x7fee89cde978>"
      ]
     },
     "metadata": {},
     "output_type": "display_data"
    },
    {
     "data": {
      "image/png": "[encoded data removed]",
      "text/plain": [
       "<matplotlib.figure.Figure at 0x7fee8a7392b0>"
      ]
     },
     "metadata": {},
     "output_type": "display_data"
    },
    {
     "data": {
      "image/png": "[encoded data removed]",
      "text/plain": [
       "<matplotlib.figure.Figure at 0x7fee8992aac8>"
      ]
     },
     "metadata": {},
     "output_type": "display_data"
    }
   ],
   "source": [
    "for scenario_fig in scenarios+scenarios_dlr:\n",
    "    if 'total' in EROIs_mixes.index: tot_name = 'total'\n",
    "    else: tot_name = 'Total (PWh/a)'\n",
    "    EROIs_mixes = EROIs_mixes.loc[['biomass w CCS', 'biomass&Waste', 'ocean', 'geothermal','solar CSP','solar PV','wind offshore',\\\n",
    "                                   'wind onshore','hydro','nuclear', 'gas w CCS', 'coal w CCS', 'oil', 'gas', 'coal', tot_name]]\n",
    "    InteractiveShell.ast_node_interactivity = 'last'\n",
    "    colors = ['lime', 'green', 'pink', 'olive', 'gold', 'orange', 'teal', 'aqua', 'b', 'r', 'magenta', 'silver', 'brown', 'purple', 'dimgrey']\n",
    "    fig = plt.figure(figsize=(7,5)) # 7,5\n",
    "    ax = fig.add_subplot(1, 1, 1)\n",
    "    ax.plot(years, EROIs_mixes[[(scenario_fig, year, 'EROI') for year in years]].loc['total'], \\\n",
    "            label='EROI', color='black', zorder=20, linewidth=3)\n",
    "    ax.set_ylabel('EROI')\n",
    "    ax.set_ylim([4, 9])\n",
    "    # ax.set_zorder(1)\n",
    "    ax2 = ax.twinx()\n",
    "    ax2.stackplot(years, EROIs_mixes.replace('–',0).fillna(0)[[(scenario_fig, year, 'mix') for year in years]].iloc[:15], \\\n",
    "                  labels=EROIs_mixes.index[:15], colors=colors, alpha = 0.8, zorder=1)\n",
    "    ax2.set_title(scenario_fig)\n",
    "    plt.ylabel('Share in the mix')\n",
    "    plt.xlabel(scenario_fig+' scenario')\n",
    "    xticks(years)\n",
    "    handles, labels = ax2.get_legend_handles_labels()\n",
    "    ax2.legend(handles[::-1], labels[::-1], loc='center left', bbox_to_anchor=(1.1,0.5)) \n",
    "    ax.legend(loc='center left', bbox_to_anchor=(1.1,0.97))\n",
    "    ax.set_zorder(ax2.get_zorder()+1)\n",
    "    ax.patch.set_visible(False)\n",
    "    fig.savefig('Evolution of EROI in '+scenario_fig+' 3.png', dpi=200, bbox_inches=\"tight\")"
   ]
  },
  {
   "cell_type": "code",
   "execution_count": 193,
   "metadata": {},
   "outputs": [
    {
     "data": {
      "image/png": "[encoded data removed]",
      "text/plain": [
       "<matplotlib.figure.Figure at 0x7fee898137b8>"
      ]
     },
     "metadata": {},
     "output_type": "display_data"
    }
   ],
   "source": [
    "# f, axarr = plt.subplots(2, sharex=True)\n",
    "# axarr[0].plot(x, y)\n",
    "# axarr[0].set_title('Sharing X axis')\n",
    "# axarr[1].scatter(x, y)\n",
    "if 'total' in EROIs_mixes.index: tot_name = 'total'\n",
    "else: tot_name = 'Total (PWh/a)'\n",
    "EROIs_mixes = EROIs_mixes.loc[['biomass w CCS', 'biomass&Waste', 'ocean', 'geothermal','solar CSP','solar PV','wind offshore',\\\n",
    "                               'wind onshore','hydro','nuclear', 'gas w CCS', 'coal w CCS', 'oil', 'gas', 'coal', tot_name]]\n",
    "InteractiveShell.ast_node_interactivity = 'last'\n",
    "colors = ['lime', 'green', 'pink', 'olive', 'gold', 'orange', 'teal', 'aqua', 'b', 'r', 'magenta', 'silver', 'brown', 'purple', 'dimgrey']\n",
    "fig = plt.figure(figsize=(10,4)) # 7,5\n",
    "ylims = [4, 9]\n",
    "\n",
    "ax1 = fig.add_subplot(1, 3, 1)\n",
    "ax1.plot(years, EROIs_mixes[[('BL', year, 'EROI') for year in years]].loc['total'], \\\n",
    "        label='EROI', color='black', zorder=20, linewidth=3)\n",
    "ax1.set_ylabel('EROI')\n",
    "ax1.set_ylim(ylims)\n",
    "# ax.set_zorder(1)\n",
    "ax12 = ax1.twinx()\n",
    "ax12.stackplot(years, EROIs_mixes.fillna(0)[[('BL', year, 'mix') for year in years]].iloc[:15], \\\n",
    "              labels=EROIs_mixes.index[:15], colors=colors, alpha = 0.8, zorder=1)\n",
    "ax1.set_title('BL (business as usual)')\n",
    "xticks(years)\n",
    "handles, labels = ax12.get_legend_handles_labels()\n",
    "ax1.set_zorder(ax12.get_zorder()+1)\n",
    "ax1.patch.set_visible(False)\n",
    "# ax12.get_yaxis().set_visible(False)\n",
    "ax12.tick_params(labelright=False)\n",
    "\n",
    "ax2 = fig.add_subplot(132)\n",
    "ax2.plot(years, EROIs_mixes[[('BM', year, 'EROI') for year in years]].loc['total'], \\\n",
    "        label='EROI', color='black', zorder=20, linewidth=3)\n",
    "# ax2.set_ylabel('EROI')\n",
    "ax2.set_ylim(ylims)\n",
    "# ax.set_zorder(1)\n",
    "ax22 = ax2.twinx()\n",
    "ax22.stackplot(years, EROIs_mixes.fillna(0)[[('BM', year, 'mix') for year in years]].iloc[:15], \\\n",
    "              labels=EROIs_mixes.index[:15], colors=colors, alpha = 0.8, zorder=1)\n",
    "ax2.set_title('BM (+2°C)')\n",
    "xticks(years)\n",
    "handles, labels = ax22.get_legend_handles_labels()\n",
    "ax2.set_zorder(ax22.get_zorder()+1)\n",
    "ax2.patch.set_visible(False)\n",
    "ax2.tick_params(labelleft=False)\n",
    "ax22.tick_params(labelright=False)\n",
    "# ax2.get_yaxis().set_visible(False)\n",
    "# ax22.get_yaxis().set_visible(False)\n",
    "\n",
    "ax3 = fig.add_subplot(133)\n",
    "ax3.plot(years, EROIs_mixes[[('ADV', year, 'EROI') for year in years]].loc['total'], \\\n",
    "        label='EROI', color='black', zorder=20, linewidth=3)\n",
    "# ax3.set_ylabel('EROI')\n",
    "ax3.set_ylim(ylims)\n",
    "# ax.set_zorder(1)\n",
    "ax32 = ax3.twinx()\n",
    "ax32.stackplot(years, EROIs_mixes.replace('–',0).fillna(0)[[('ADV', year, 'mix') for year in years]].iloc[:15], \\\n",
    "              labels=EROIs_mixes.index[:15], colors=colors, alpha = 0.8, zorder=1)\n",
    "ax3.set_title('ADV (100% renewable)')\n",
    "plt.ylabel('Share in the mix')\n",
    "xticks(years)\n",
    "handles, labels = ax32.get_legend_handles_labels()\n",
    "ax32.legend(handles[::-1], labels[::-1], loc='center left', bbox_to_anchor=(1.25,0.45)) # (1.1,0.5)\n",
    "ax3.legend(loc='center left', bbox_to_anchor=(1.25,1.03)) # (1.1,0.97)\n",
    "ax3.set_zorder(ax32.get_zorder()+1)\n",
    "ax3.patch.set_visible(False)\n",
    "# ax3.get_yaxis().set_visible(False)\n",
    "ax3.tick_params(labelleft=False)\n",
    "plt.subplots_adjust(wspace=0.08, hspace=0.08)\n",
    "\n",
    "fig.savefig('Evolution of EROIs IEA-ADV 3.png', dpi=200, bbox_inches=\"tight\")"
   ]
  },
  {
   "cell_type": "code",
   "execution_count": 123,
   "metadata": {},
   "outputs": [],
   "source": [
    "# InteractiveShell.ast_node_interactivity = 'last'\n",
    "# themis['ER'] = dict()\n",
    "# EROIs_dlr_ER = dict()\n",
    "# for year in [2010, 2030, 2050]:\n",
    "#     themis['ER'][year] = themis['BM'][year].copy(new_name='THEMIS')\n",
    "#     themis['ER'][year].change_mix(path_dlr = path_themis, year = year)\n",
    "#     dlr_ER_sectors = np.array(themis['ER'][year].energy_sectors('electricities'))[['CCS' not in s and 'nuclear' not in s \\\n",
    "#                                                                                  for s in themis['ER'][year].energy_sectors('electricities')]]\n",
    "#     EROIs_dlr_ER[year] = themis['ER'][year].erois(secs = dlr_ER_sectors)\n",
    "# pd.DataFrame(EROIs_dlr_ER[year], columns = ['EROI']).join(pd.DataFrame(world_mix_ER[year]).rename(columns={2050: 'mix'}))"
   ]
  },
  {
   "cell_type": "code",
   "execution_count": null,
   "metadata": {},
   "outputs": [],
   "source": [
    "# InteractiveShell.ast_node_interactivity = 'last'\n",
    "# elec_idx = themis['BM'][2050].index_secs_regs(themis['BM'][2050].energy_sectors('electricities'))\n",
    "# themis_dlr_ER_2050 = themis['BM'][2050].copy(new_name='THEMIS')\n",
    "# themis_dlr_ER_2050.change_mix(dlr_mix['ER'][2050])\n",
    "# dlr_ER50_sectors = np.array(themis_dlr_ER_2050.energy_sectors('electricities'))[['CCS' not in s and 'nuclear' not in s \\\n",
    "#                                                                                  for s in themis_dlr_ER_2050.energy_sectors('electricities')]]\n",
    "# EROIs_dlr_ER_2050 = themis_dlr_ER_2050.erois(secs = dlr_ER50_sectors)"
   ]
  },
  {
   "cell_type": "code",
   "execution_count": null,
   "metadata": {},
   "outputs": [],
   "source": [
    "# dlr_mix = dict()\n",
    "# for scenario in ['REF', 'ER', 'ADV']:\n",
    "#     dlr_mix[scenario] = dict()\n",
    "#     for year in [2010, 2030, 2050]:\n",
    "#         dlr_mix[scenario][year] = []\n",
    "#         dlr_sectors = dlr_elec['ER']['World'].index\n",
    "#         for i in themis['BM'][2050].index_secs_regs(['Electricity by ' + s for s in themis['BM'][2050].energy_sectors('elecs_names')], \\\n",
    "#                                                     themis['BM'][2050].regions):\n",
    "#             sec, reg = themis['BM'][2050].labels.idx_sectors[i][15:], themis['BM'][2050].labels.idx_regions[i]\n",
    "#             if sec in dlr_sectors: dlr_mix[scenario][year] = dlr_mix[scenario][year] + [dlr_elec[scenario][reg].loc[sec, year]]\n",
    "#             else: dlr_mix[scenario][year] = dlr_mix[scenario][year] + [0]\n",
    "#         dlr_mix[scenario][year] = div0(dlr_mix[scenario][year], np.array(dlr_mix[scenario][year]).sum())"
   ]
  },
  {
   "cell_type": "code",
   "execution_count": 66,
   "metadata": {},
   "outputs": [],
   "source": [
    "# def max_gap(a, b): return(np.max(div0(np.abs(a-b), a)))\n",
    "# def mult_cols(matrix, vector): \n",
    "#     '''\n",
    "#     Multiply (each element of) the k-th column of matrix by k-th element of vector for all k, returns the resulting matrix.\n",
    "#     Doesn't work for sparse matrix.\n",
    "#     '''\n",
    "#     if sp.issparse(matrix): matrix = matrix.toarray()\n",
    "#     return(matrix * (np.ones(matrix.shape)).dot(np.diag(vector)))\n",
    "# elec_idx = themis_dlr_ER_2050.index_secs_regs(themis_dlr_ER_2050.energy_sectors('electricities'))\n",
    "# energy_matrix = mult_cols(themis['BM'][2050].A[:,elec_idx].toarray(), themis_dlr_ER_2050.energy_supply[elec_idx])\n",
    "# energy_matrix_new = mult_cols(themis_dlr_ER_2050.A[:,elec_idx].toarray(), themis_dlr_ER_2050.energy_supply[elec_idx])\n",
    "# max_gap(energy_matrix.sum(axis=1), energy_matrix_new.sum(axis=1))"
   ]
  },
  {
   "cell_type": "code",
   "execution_count": null,
   "metadata": {},
   "outputs": [],
   "source": [
    "# world_elec_ER = pd.DataFrame(columns = [2012, 2030, 2050])\n",
    "# data = pd.read_excel(path_themis+'Greenpeace_scenarios.xlsx', header=[1], index_col=0, skiprows=[0], skipfooter=144-53, \\\n",
    "#                      sheet_name='ER World', usecols=[1,2,6,10])\n",
    "# world_elec_ER = pd.DataFrame(columns = [2012, 2030, 2050])\\\n",
    "#     .append(data.loc[['    - Lignite', '    - Hard coal (& non-renewable waste)']].iloc[[1,3]].sum(axis=0).rename('coal'))\\\n",
    "#     .append(data.loc['    - Gas'].iloc[1].rename('gas')).append(data.loc[['    - Oil', '    - Diesel']].iloc[[1,2]].sum(axis=0).rename('oil'))\\\n",
    "#     .append(data.loc['  - Nuclear'].iloc[0].rename('nuclear')).append(data.loc['    - Biomass (& renewable waste)'].iloc[1].rename('biomass&Waste'))\\\n",
    "#     .append(data.loc['  - Hydro'].rename('hydro')).append(data.loc['of which wind offshore'].rename('wind offshore'))\\\n",
    "#     .append((data.loc['  - Wind']-data.loc['of which wind offshore']).rename('wind onshore'))\\\n",
    "#     .append(data.loc['  - PV'].rename('solar PV')).append(data.loc['    - Geothermal'].iloc[1].rename('geothermal'))\\\n",
    "#     .append(data.loc['  - Solar thermal power plants'].rename('solar CSP')).append(data.loc['  - Ocean energy'].rename('ocean'))\\\n",
    "#     .rename(columns = {2012: 2010})\n",
    "# # world_mix_ER_2050 = round(world_elec_ER[2050]/world_elec_ER[2050].sum(),2).set_value('Power sector', 1)\n",
    "# world_mix_ER = (world_elec_ER/world_elec_ER.sum(axis=0)).append(pd.Series(world_elec_ER.sum(axis=0)).rename('total'))\n",
    "# # world_mix_ER = (world_elec_ER/world_elec_ER.sum(axis=0)).append(pd.Series({2010: 1.0, 2030: 1.0, 2050: 1.0}).rename('total'))\n",
    "# # world_mix_ER = round(world_elec_ER/world_elec_ER.sum(axis=0), 2).append(pd.Series({2010: 1.0, 2030: 1.0, 2050: 1.0}).rename('total'))\n",
    "\n",
    "# dlr = dict()\n",
    "# scenarios_dlr = ['REF', 'ER', 'ADV']\n",
    "# for scenario in scenarios_dlr:\n",
    "#     dlr[scenario] = dict()\n",
    "#     dlr[scenario]['elec'] = pd.DataFrame(columns = [2012, 2030, 2050])\n",
    "#     data = pd.read_excel(path_themis+'Greenpeace_scenarios.xlsx', header=[1], index_col=0, skiprows=[0], skipfooter=144-53, \\\n",
    "#                      sheet_name=scenario+' World', usecols=[1,2,6,10])\n",
    "#     dlr[scenario]['elec'] = pd.DataFrame(columns = [2012, 2030, 2050])\\\n",
    "#         .append(data.loc[['    - Lignite', '    - Hard coal (& non-renewable waste)']].iloc[[1,3]].sum(axis=0).rename('coal'))\\\n",
    "#         .append(data.loc['    - Gas'].iloc[1].rename('gas')).append(data.loc[['    - Oil', '    - Diesel']].iloc[[1,2]].sum(axis=0).rename('oil'))\\\n",
    "#         .append(data.loc['  - Nuclear'].iloc[0].rename('nuclear')).append(data.loc['    - Biomass (& renewable waste)'].iloc[1].rename('biomass&Waste'))\\\n",
    "#         .append(data.loc['  - Hydro'].rename('hydro')).append(data.loc['of which wind offshore'].rename('wind offshore'))\\\n",
    "#         .append((data.loc['  - Wind']-data.loc['of which wind offshore']).rename('wind onshore'))\\\n",
    "#         .append(data.loc['  - PV'].rename('solar PV')).append(data.loc['    - Geothermal'].iloc[1].rename('geothermal'))\\\n",
    "#         .append(data.loc['  - Solar thermal power plants'].rename('solar CSP')).append(data.loc['  - Ocean energy'].rename('ocean'))\\\n",
    "#         .rename(columns = {2012: 2010})\n",
    "#     dlr[scenario]['mix'] = (dlr[scenario]['elec']/dlr[scenario]['elec'].sum(axis=0)).append(pd.Series(dlr[scenario]['elec'].sum(axis=0)).rename('total'))\n",
    "#     dlr[scenario]['EROI'] = dict()\n",
    "#     themis[scenario] = dict()\n",
    "\n",
    "# EROIs = pd.DataFrame()\n",
    "# EROIs_mixes = pd.DataFrame()\n",
    "# scenarios = ['BL', 'BM']\n",
    "# years = [2010, 2030, 2050]\n",
    "# themis['ER'] = dict()\n",
    "# for year in years:\n",
    "#     for scenario in scenarios:\n",
    "#         erois_s_y = themis[scenario][year].erois()\n",
    "#         EROIs[(scenario, year)] = erois_s_y\n",
    "#         erois_s_y = erois_s_y.rename(index={'Power sector': 'total'})\n",
    "# #         themis[scenario][year].elec_supply = dict() # commented lines compute mix from IO data directly instead of IEA: similar mixes (+/- 1%) but much longer\n",
    "# #         themis[scenario][year].elec_mix = dict()\n",
    "# #         themis[scenario][year].elec_mix['total'] = 1\n",
    "# #         themis[scenario][year].elec_supply['total'] = themis[scenario][year].energy_supply.dot(\\\n",
    "# #                                                         themis[scenario][year].production(themis[scenario][year].energy_sectors('electricities'))).sum()\n",
    "# #         for sec in themis[scenario][year].energy_sectors('electricities'):\n",
    "# #             themis[scenario][year].elec_supply[sec] = themis[scenario][year].energy_supply.dot(themis[scenario][year].production(sec)).sum()\n",
    "# #             themis[scenario][year].elec_mix[sec[15:]] = round(themis[scenario][year].elec_supply[sec]/themis[scenario][year].elec_supply['total'],2)\n",
    "# #         themis[scenario][year].elec_mix = pd.DataFrame(pd.Series(themis[scenario][year].elec_mix), columns=['mix'])\n",
    "# #         mixes_s_y = themis[scenario][year].elec_mix\n",
    "#         mixes_s_y = themis[scenario][2010].global_mixes[year]\n",
    "#         EROIs_mixes[[(scenario, year, 'EROI'), (scenario, year, 'mix')]] = pd.DataFrame(erois_s_y).join(mixes_s_y)\n",
    "#     elec_idx = themis['BM'][year].index_secs_regs(themis['BM'][year].energy_sectors('electricities'))\n",
    "    \n",
    "#     themis['ER'][year] = themis['BM'][year].copy(new_name='THEMIS')\n",
    "#     themis['ER'][year].change_mix(path_dlr = path_themis, year = year)\n",
    "#     dlr_ER_sectors = np.array(themis['ER'][year].energy_sectors('electricities'))[['CCS' not in s for s in themis['ER'][year].energy_sectors('electricities')]]\n",
    "#     erois_ER = themis['ER'][year].erois(secs = dlr_ER_sectors, recompute=True)\n",
    "# #     EROIs[('ER', year)] = erois_ER\n",
    "#     erois_ER = erois_ER.rename(index={'Power sector': 'total'})  \n",
    "#     EROIs_mixes[[('ER', year, 'EROI'), ('ER', year, 'mix')]] = pd.DataFrame(erois_ER).join(dlr['mix']['ER'][year])\n",
    "# # EROIs = pd.DataFrame(EROIs, columns = pd.MultiIndex.from_product([scenarios, years], names=['scenario', 'year']))\n",
    "# EROIs_mixes = pd.DataFrame(EROIs_mixes, columns = pd.MultiIndex.from_product([scenarios + ['ER'], years, ['EROI', 'mix']], names=['scenario', 'year', 'var']))\n",
    "# print('EROIs of electric technos in 2050 in the Greenpeace scenario (close to 100% renewable):')\n",
    "# EROIs_mixes[('ER', 2050)]"
   ]
  },
  {
   "cell_type": "markdown",
   "metadata": {},
   "source": [
    "As you can see, the system-wide EROI of the power sector decreases only slightly in this scenario, from 7.2 to 5.9. **This is very encouraging for the energy transition, because it means that a 100% renewable energy system would be sustainable on the energetic side**. That being said, this work stays imprecise, and I am currently improving the estimates.\n",
    "\n",
    "**Adrien Fabre**, 2018  \n",
    "[personal website](https://sites.google.com/view/adrien-fabre)  \n",
    "adrien.fabre@psemail.eu"
   ]
  },
  {
   "cell_type": "markdown",
   "metadata": {},
   "source": [
    "## References\n",
    "\n",
    "### Theory\n",
    "* Input-Output Analysis: [wikipedia](https://en.wikipedia.org/wiki/Input%E2%80%93output_model), [Miller & Blair (2009)](http://gen.lib.rus.ec/book/index.php?md5=8803A190575D7587AA8112F76BB82070), [Eurostat](http://ec.europa.eu/eurostat/documents/3859598/5902113/KS-RA-07-013-EN.PDF/b0b3d71e-3930-4442-94be-70b36cea9b39?version=1.0)\n",
    "* EROI: [King et al. (2010)](http://careyking.com/wp-content/uploads/2013/10/ASME-ES90414_EROIMethodology-Wind_2010_King.pdf), [Murhpy et al. (2011)](http://science-and-energy.org/wp-content/uploads/2016/03/Murphy-et-al-2011-Order-from-Chaos-EROI-Protocol.pdf)\n",
    "* EROI is not intrinsic: [King (2014)](https://sci-hub.tw/https%3A//doi.org/10.1016/j.energy.2014.05.032)\n",
    "\n",
    "### Estimations of EROI\n",
    "* [Dale (2010)](https://ir.canterbury.ac.nz/bitstream/handle/10092/5156/Dale2011GlobalEnergyModelling-ABiophysicalApproach.pdf)\n",
    "* [Weißbach et al. (2013)](https://sci-hub.tw/https%3A//www.sciencedirect.com/science/article/pii/S0360544213000492)\n",
    "* [Hall et al. (2014)](https://sci-hub.tw/https%3A//www.sciencedirect.com/science/article/pii/S0301421513003856)\n",
    "\n",
    "### Link between EROI and affluence\n",
    "> Think of a society dependent upon one resource: its domestic oil. If the EROI for this oil was 1.1:1 then one could pump the oil out of the ground and look at it. If it were 1.2:1 you could also refine it and look at it, 1.3:1 also distribute it to where you want to use it but all you could do is look at it. Hall et al. 2008 examined the EROI required to actually run a truck and found that if the energy included was enough to build and maintain the truck and the roads and bridges required to use it (i.e., depreciation), one would need at least a 3:1. Now if you wanted to put something in the truck, say some grain, and deliver it that would require an EROI of, say, 5:1 to grow the grain. If you wanted to include depreciation on the oil field worker, the refinery worker, the truck driver and the farmer you would need an EROI of say 7 or 8:1 to support the families. If the children were to be educated you would need perhaps 9 or 10:1, have health care 12:1, have arts in their life maybe 14:1 and so on. [Hall (2011)](http://pakacademicsearch.com/pdf-files/agr/740/1773-1777%20Volume%203,%20Issue%2010%20(October%202011%29.pdf)\n",
    "\n",
    "* [Hall (2011)](http://pakacademicsearch.com/pdf-files/agr/740/1773-1777%20Volume%203,%20Issue%2010%20(October%202011%29.pdf)\n",
    "* [Hall et al. (2009)](http://dieoff.com/_Energy/WhatIsTheMinumEROI_energies-02-00025.pdf)\n",
    "* [Lambert & Lambert (2011)](https://mahb.stanford.edu/wp-content/uploads/2014/03/sustainability_LambertLambert_2011.pdf)\n",
    "* [Lambert et al. (2014)](https://www.sciencedirect.com/science/article/pii/S0301421513006447)\n",
    "* [Fizaine & Court (2016)](https://sci-hub.tw/https%3A//www.sciencedirect.com/science/article/pii/S0301421516302087)\n",
    "\n",
    "### Data\n",
    "* [Exiobase](https://www.exiobase.eu/)\n",
    "* [THEMIS](https://sci-hub.tw/https%3A//pubs.acs.org/doi/abs/10.1021/acs.est.5b01558) Thank you a lot Thomas Gibon for providing me the code and helping me!\n",
    "* [IEA scenarios](http://gen.lib.rus.ec/book/index.php?md5=4D5AF94A02A48B799CF77641509C1C6B)\n",
    "* [Energy [R]evolution](https://www.greenpeace.org/archive-international/Global/international/publications/climate/2015/Energy-Revolution-2015-Full.pdf) (commanded and funded by Greenpeace, realised by a team of the DLR using their model [REMix](https://www.dlr.de/tt/en/desktopdefault.aspx/tabid-2885/4422_read-12423/))\n",
    "* [Cecilia 2050](https://cecilia2050.eu/publications/168)"
   ]
  },
  {
   "cell_type": "markdown",
   "metadata": {},
   "source": [
    "## Appendix\n",
    "\n",
    "For the sake of curiosity, here are the EROIs in all available input-output tables from THEMIS and Greenpeace:"
   ]
  },
  {
   "cell_type": "code",
   "execution_count": null,
   "metadata": {},
   "outputs": [],
   "source": [
    "EROIs_Mixes.loc['total',pd.IndexSlice[:,:,'mix_real']] /= 3.6\n",
    "EROIs_mixes.loc['total',pd.IndexSlice[:,:,'mix_real']] /= 3.6\n",
    "EROIs_Mixes[[(scenario, year, 'mix_real') for year in years for scenario in scenarios+scenarios_dlr]] = \\\n",
    "    round(EROIs_Mixes[[(scenario, year, 'mix_real') for year in years for scenario in scenarios+scenarios_dlr]], 2)\n",
    "EROIs_mixes[[(scenario, year, 'mix') for year in years for scenario in scenarios+scenarios_dlr]] = \\\n",
    "    round(EROIs_mixes[[(scenario, year, 'mix') for year in years for scenario in scenarios+scenarios_dlr]], 2)\n",
    "EROIs_Mixes = EROIs_Mixes.rename(index={'total': 'Total (PWh/a)'})  \n",
    "EROIs_Mixes = EROIs_Mixes.fillna('–')\n",
    "EROIs_mixes = EROIs_mixes.rename(index={'total': 'Total (PWh/a)'})  \n",
    "EROIs_mixes = EROIs_mixes.fillna('–')"
   ]
  },
  {
   "cell_type": "code",
   "execution_count": 176,
   "metadata": {},
   "outputs": [
    {
     "data": {
      "text/html": [
       "<div>\n",
       "<style scoped>\n",
       "    .dataframe tbody tr th:only-of-type {\n",
       "        vertical-align: middle;\n",
       "    }\n",
       "\n",
       "    .dataframe tbody tr th {\n",
       "        vertical-align: top;\n",
       "    }\n",
       "\n",
       "    .dataframe thead tr th {\n",
       "        text-align: left;\n",
       "    }\n",
       "</style>\n",
       "<table border=\"1\" class=\"dataframe\">\n",
       "  <thead>\n",
       "    <tr>\n",
       "      <th>scenario</th>\n",
       "      <th colspan=\"6\" halign=\"left\">BL</th>\n",
       "      <th colspan=\"6\" halign=\"left\">BM</th>\n",
       "    </tr>\n",
       "    <tr>\n",
       "      <th>year</th>\n",
       "      <th colspan=\"2\" halign=\"left\">2010</th>\n",
       "      <th colspan=\"2\" halign=\"left\">2030</th>\n",
       "      <th colspan=\"2\" halign=\"left\">2050</th>\n",
       "      <th colspan=\"2\" halign=\"left\">2010</th>\n",
       "      <th colspan=\"2\" halign=\"left\">2030</th>\n",
       "      <th colspan=\"2\" halign=\"left\">2050</th>\n",
       "    </tr>\n",
       "    <tr>\n",
       "      <th>var</th>\n",
       "      <th>EROI</th>\n",
       "      <th>mix</th>\n",
       "      <th>EROI</th>\n",
       "      <th>mix</th>\n",
       "      <th>EROI</th>\n",
       "      <th>mix</th>\n",
       "      <th>EROI</th>\n",
       "      <th>mix</th>\n",
       "      <th>EROI</th>\n",
       "      <th>mix</th>\n",
       "      <th>EROI</th>\n",
       "      <th>mix</th>\n",
       "    </tr>\n",
       "  </thead>\n",
       "  <tbody>\n",
       "    <tr>\n",
       "      <th>biomass w CCS</th>\n",
       "      <td>–</td>\n",
       "      <td>0.00</td>\n",
       "      <td>–</td>\n",
       "      <td>0.00</td>\n",
       "      <td>–</td>\n",
       "      <td>0.00</td>\n",
       "      <td>–</td>\n",
       "      <td>0.00</td>\n",
       "      <td>4.6</td>\n",
       "      <td>0.00</td>\n",
       "      <td>4.1</td>\n",
       "      <td>0.01</td>\n",
       "    </tr>\n",
       "    <tr>\n",
       "      <th>biomass&amp;Waste</th>\n",
       "      <td>11.3</td>\n",
       "      <td>0.01</td>\n",
       "      <td>6.3</td>\n",
       "      <td>0.02</td>\n",
       "      <td>5.8</td>\n",
       "      <td>0.03</td>\n",
       "      <td>11.3</td>\n",
       "      <td>0.01</td>\n",
       "      <td>5.5</td>\n",
       "      <td>0.06</td>\n",
       "      <td>5.3</td>\n",
       "      <td>0.05</td>\n",
       "    </tr>\n",
       "    <tr>\n",
       "      <th>ocean</th>\n",
       "      <td>5.5</td>\n",
       "      <td>0.00</td>\n",
       "      <td>2.1</td>\n",
       "      <td>0.00</td>\n",
       "      <td>2.4</td>\n",
       "      <td>0.00</td>\n",
       "      <td>5.5</td>\n",
       "      <td>0.00</td>\n",
       "      <td>2.3</td>\n",
       "      <td>0.00</td>\n",
       "      <td>3.0</td>\n",
       "      <td>0.00</td>\n",
       "    </tr>\n",
       "    <tr>\n",
       "      <th>geothermal</th>\n",
       "      <td>5.1</td>\n",
       "      <td>0.00</td>\n",
       "      <td>4.7</td>\n",
       "      <td>0.01</td>\n",
       "      <td>4.5</td>\n",
       "      <td>0.01</td>\n",
       "      <td>5.1</td>\n",
       "      <td>0.00</td>\n",
       "      <td>4.6</td>\n",
       "      <td>0.01</td>\n",
       "      <td>4.8</td>\n",
       "      <td>0.02</td>\n",
       "    </tr>\n",
       "    <tr>\n",
       "      <th>solar CSP</th>\n",
       "      <td>21</td>\n",
       "      <td>0.00</td>\n",
       "      <td>1</td>\n",
       "      <td>0.00</td>\n",
       "      <td>1.2</td>\n",
       "      <td>0.01</td>\n",
       "      <td>21</td>\n",
       "      <td>0.00</td>\n",
       "      <td>1.4</td>\n",
       "      <td>0.02</td>\n",
       "      <td>1.5</td>\n",
       "      <td>0.06</td>\n",
       "    </tr>\n",
       "    <tr>\n",
       "      <th>solar PV</th>\n",
       "      <td>9.2</td>\n",
       "      <td>0.00</td>\n",
       "      <td>6.9</td>\n",
       "      <td>0.01</td>\n",
       "      <td>6.6</td>\n",
       "      <td>0.01</td>\n",
       "      <td>9.2</td>\n",
       "      <td>0.00</td>\n",
       "      <td>5.8</td>\n",
       "      <td>0.02</td>\n",
       "      <td>5.1</td>\n",
       "      <td>0.06</td>\n",
       "    </tr>\n",
       "    <tr>\n",
       "      <th>wind offshore</th>\n",
       "      <td>9.3</td>\n",
       "      <td>0.00</td>\n",
       "      <td>10.9</td>\n",
       "      <td>0.01</td>\n",
       "      <td>10.5</td>\n",
       "      <td>0.01</td>\n",
       "      <td>9.3</td>\n",
       "      <td>0.00</td>\n",
       "      <td>7.7</td>\n",
       "      <td>0.03</td>\n",
       "      <td>6.3</td>\n",
       "      <td>0.04</td>\n",
       "    </tr>\n",
       "    <tr>\n",
       "      <th>wind onshore</th>\n",
       "      <td>9.4</td>\n",
       "      <td>0.01</td>\n",
       "      <td>9.2</td>\n",
       "      <td>0.04</td>\n",
       "      <td>8</td>\n",
       "      <td>0.04</td>\n",
       "      <td>9.4</td>\n",
       "      <td>0.01</td>\n",
       "      <td>7.1</td>\n",
       "      <td>0.08</td>\n",
       "      <td>7.4</td>\n",
       "      <td>0.08</td>\n",
       "    </tr>\n",
       "    <tr>\n",
       "      <th>hydro</th>\n",
       "      <td>13.1</td>\n",
       "      <td>0.16</td>\n",
       "      <td>11.8</td>\n",
       "      <td>0.14</td>\n",
       "      <td>11.8</td>\n",
       "      <td>0.12</td>\n",
       "      <td>13.1</td>\n",
       "      <td>0.16</td>\n",
       "      <td>12.7</td>\n",
       "      <td>0.18</td>\n",
       "      <td>13.2</td>\n",
       "      <td>0.14</td>\n",
       "    </tr>\n",
       "    <tr>\n",
       "      <th>nuclear</th>\n",
       "      <td>10.4</td>\n",
       "      <td>0.14</td>\n",
       "      <td>7.2</td>\n",
       "      <td>0.11</td>\n",
       "      <td>7</td>\n",
       "      <td>0.10</td>\n",
       "      <td>10.4</td>\n",
       "      <td>0.14</td>\n",
       "      <td>7.3</td>\n",
       "      <td>0.19</td>\n",
       "      <td>7.5</td>\n",
       "      <td>0.24</td>\n",
       "    </tr>\n",
       "    <tr>\n",
       "      <th>gas w CCS</th>\n",
       "      <td>–</td>\n",
       "      <td>0.00</td>\n",
       "      <td>–</td>\n",
       "      <td>0.00</td>\n",
       "      <td>7.4</td>\n",
       "      <td>0.00</td>\n",
       "      <td>–</td>\n",
       "      <td>0.00</td>\n",
       "      <td>7.9</td>\n",
       "      <td>0.01</td>\n",
       "      <td>9.3</td>\n",
       "      <td>0.05</td>\n",
       "    </tr>\n",
       "    <tr>\n",
       "      <th>coal w CCS</th>\n",
       "      <td>–</td>\n",
       "      <td>0.00</td>\n",
       "      <td>–</td>\n",
       "      <td>0.00</td>\n",
       "      <td>6.1</td>\n",
       "      <td>0.00</td>\n",
       "      <td>–</td>\n",
       "      <td>0.00</td>\n",
       "      <td>7.1</td>\n",
       "      <td>0.05</td>\n",
       "      <td>7.2</td>\n",
       "      <td>0.12</td>\n",
       "    </tr>\n",
       "    <tr>\n",
       "      <th>oil</th>\n",
       "      <td>8.2</td>\n",
       "      <td>0.06</td>\n",
       "      <td>9.6</td>\n",
       "      <td>0.02</td>\n",
       "      <td>9.7</td>\n",
       "      <td>0.01</td>\n",
       "      <td>8.2</td>\n",
       "      <td>0.06</td>\n",
       "      <td>9.5</td>\n",
       "      <td>0.03</td>\n",
       "      <td>7.4</td>\n",
       "      <td>0.01</td>\n",
       "    </tr>\n",
       "    <tr>\n",
       "      <th>gas</th>\n",
       "      <td>13.7</td>\n",
       "      <td>0.21</td>\n",
       "      <td>14.8</td>\n",
       "      <td>0.21</td>\n",
       "      <td>14.6</td>\n",
       "      <td>0.23</td>\n",
       "      <td>13.7</td>\n",
       "      <td>0.21</td>\n",
       "      <td>17.3</td>\n",
       "      <td>0.14</td>\n",
       "      <td>20.2</td>\n",
       "      <td>0.11</td>\n",
       "    </tr>\n",
       "    <tr>\n",
       "      <th>coal</th>\n",
       "      <td>12.6</td>\n",
       "      <td>0.42</td>\n",
       "      <td>11.3</td>\n",
       "      <td>0.45</td>\n",
       "      <td>11.3</td>\n",
       "      <td>0.45</td>\n",
       "      <td>12.6</td>\n",
       "      <td>0.42</td>\n",
       "      <td>11.5</td>\n",
       "      <td>0.18</td>\n",
       "      <td>12.6</td>\n",
       "      <td>0.01</td>\n",
       "    </tr>\n",
       "    <tr>\n",
       "      <th>total</th>\n",
       "      <td>NaN</td>\n",
       "      <td>NaN</td>\n",
       "      <td>NaN</td>\n",
       "      <td>NaN</td>\n",
       "      <td>NaN</td>\n",
       "      <td>NaN</td>\n",
       "      <td>NaN</td>\n",
       "      <td>NaN</td>\n",
       "      <td>NaN</td>\n",
       "      <td>NaN</td>\n",
       "      <td>NaN</td>\n",
       "      <td>NaN</td>\n",
       "    </tr>\n",
       "  </tbody>\n",
       "</table>\n",
       "</div>"
      ],
      "text/plain": [
       "scenario         BL                                  BM                    \\\n",
       "year           2010        2030        2050        2010        2030         \n",
       "var            EROI   mix  EROI   mix  EROI   mix  EROI   mix  EROI   mix   \n",
       "biomass w CCS     –  0.00     –  0.00     –  0.00     –  0.00   4.6  0.00   \n",
       "biomass&Waste  11.3  0.01   6.3  0.02   5.8  0.03  11.3  0.01   5.5  0.06   \n",
       "ocean           5.5  0.00   2.1  0.00   2.4  0.00   5.5  0.00   2.3  0.00   \n",
       "geothermal      5.1  0.00   4.7  0.01   4.5  0.01   5.1  0.00   4.6  0.01   \n",
       "solar CSP        21  0.00     1  0.00   1.2  0.01    21  0.00   1.4  0.02   \n",
       "solar PV        9.2  0.00   6.9  0.01   6.6  0.01   9.2  0.00   5.8  0.02   \n",
       "wind offshore   9.3  0.00  10.9  0.01  10.5  0.01   9.3  0.00   7.7  0.03   \n",
       "wind onshore    9.4  0.01   9.2  0.04     8  0.04   9.4  0.01   7.1  0.08   \n",
       "hydro          13.1  0.16  11.8  0.14  11.8  0.12  13.1  0.16  12.7  0.18   \n",
       "nuclear        10.4  0.14   7.2  0.11     7  0.10  10.4  0.14   7.3  0.19   \n",
       "gas w CCS         –  0.00     –  0.00   7.4  0.00     –  0.00   7.9  0.01   \n",
       "coal w CCS        –  0.00     –  0.00   6.1  0.00     –  0.00   7.1  0.05   \n",
       "oil             8.2  0.06   9.6  0.02   9.7  0.01   8.2  0.06   9.5  0.03   \n",
       "gas            13.7  0.21  14.8  0.21  14.6  0.23  13.7  0.21  17.3  0.14   \n",
       "coal           12.6  0.42  11.3  0.45  11.3  0.45  12.6  0.42  11.5  0.18   \n",
       "total           NaN   NaN   NaN   NaN   NaN   NaN   NaN   NaN   NaN   NaN   \n",
       "\n",
       "scenario                   \n",
       "year           2050        \n",
       "var            EROI   mix  \n",
       "biomass w CCS   4.1  0.01  \n",
       "biomass&Waste   5.3  0.05  \n",
       "ocean           3.0  0.00  \n",
       "geothermal      4.8  0.02  \n",
       "solar CSP       1.5  0.06  \n",
       "solar PV        5.1  0.06  \n",
       "wind offshore   6.3  0.04  \n",
       "wind onshore    7.4  0.08  \n",
       "hydro          13.2  0.14  \n",
       "nuclear         7.5  0.24  \n",
       "gas w CCS       9.3  0.05  \n",
       "coal w CCS      7.2  0.12  \n",
       "oil             7.4  0.01  \n",
       "gas            20.2  0.11  \n",
       "coal           12.6  0.01  \n",
       "total           NaN   NaN  "
      ]
     },
     "execution_count": 176,
     "metadata": {},
     "output_type": "execute_result"
    }
   ],
   "source": [
    "# EROIs_mixes[[(scenario, year, 'mix') for year in years for scenario in scenarios+scenarios_dlr]] = \\\n",
    "#     round(EROIs_mixes[[(scenario, year, 'mix') for year in years for scenario in scenarios+scenarios_dlr]], 2)\n",
    "# EROIs_mixes = EROIs_mixes.rename(index={'total': 'Total (PWh/a)'})  \n",
    "# EROIs_mixes = EROIs_mixes.fillna('–')\n",
    "EROIs_mixes[scenarios]"
   ]
  },
  {
   "cell_type": "code",
   "execution_count": 172,
   "metadata": {},
   "outputs": [
    {
     "data": {
      "text/html": [
       "<div>\n",
       "<style scoped>\n",
       "    .dataframe tbody tr th:only-of-type {\n",
       "        vertical-align: middle;\n",
       "    }\n",
       "\n",
       "    .dataframe tbody tr th {\n",
       "        vertical-align: top;\n",
       "    }\n",
       "\n",
       "    .dataframe thead tr th {\n",
       "        text-align: left;\n",
       "    }\n",
       "</style>\n",
       "<table border=\"1\" class=\"dataframe\">\n",
       "  <thead>\n",
       "    <tr>\n",
       "      <th>scenario</th>\n",
       "      <th colspan=\"6\" halign=\"left\">REF</th>\n",
       "      <th colspan=\"6\" halign=\"left\">ER</th>\n",
       "      <th colspan=\"6\" halign=\"left\">ADV</th>\n",
       "    </tr>\n",
       "    <tr>\n",
       "      <th>year</th>\n",
       "      <th colspan=\"2\" halign=\"left\">2010</th>\n",
       "      <th colspan=\"2\" halign=\"left\">2030</th>\n",
       "      <th colspan=\"2\" halign=\"left\">2050</th>\n",
       "      <th colspan=\"2\" halign=\"left\">2010</th>\n",
       "      <th colspan=\"2\" halign=\"left\">2030</th>\n",
       "      <th colspan=\"2\" halign=\"left\">2050</th>\n",
       "      <th colspan=\"2\" halign=\"left\">2010</th>\n",
       "      <th colspan=\"2\" halign=\"left\">2030</th>\n",
       "      <th colspan=\"2\" halign=\"left\">2050</th>\n",
       "    </tr>\n",
       "    <tr>\n",
       "      <th>var</th>\n",
       "      <th>EROI</th>\n",
       "      <th>mix</th>\n",
       "      <th>EROI</th>\n",
       "      <th>mix</th>\n",
       "      <th>EROI</th>\n",
       "      <th>mix</th>\n",
       "      <th>EROI</th>\n",
       "      <th>mix</th>\n",
       "      <th>EROI</th>\n",
       "      <th>mix</th>\n",
       "      <th>EROI</th>\n",
       "      <th>mix</th>\n",
       "      <th>EROI</th>\n",
       "      <th>mix</th>\n",
       "      <th>EROI</th>\n",
       "      <th>mix</th>\n",
       "      <th>EROI</th>\n",
       "      <th>mix</th>\n",
       "    </tr>\n",
       "  </thead>\n",
       "  <tbody>\n",
       "    <tr>\n",
       "      <th>biomass w CCS</th>\n",
       "      <td>–</td>\n",
       "      <td>–</td>\n",
       "      <td>–</td>\n",
       "      <td>–</td>\n",
       "      <td>–</td>\n",
       "      <td>–</td>\n",
       "      <td>–</td>\n",
       "      <td>–</td>\n",
       "      <td>–</td>\n",
       "      <td>–</td>\n",
       "      <td>–</td>\n",
       "      <td>–</td>\n",
       "      <td>–</td>\n",
       "      <td>–</td>\n",
       "      <td>–</td>\n",
       "      <td>–</td>\n",
       "      <td>–</td>\n",
       "      <td>–</td>\n",
       "    </tr>\n",
       "    <tr>\n",
       "      <th>biomass&amp;Waste</th>\n",
       "      <td>10.4</td>\n",
       "      <td>0.02</td>\n",
       "      <td>7</td>\n",
       "      <td>0.03</td>\n",
       "      <td>5.8</td>\n",
       "      <td>0.03</td>\n",
       "      <td>10.4</td>\n",
       "      <td>0.02</td>\n",
       "      <td>6.5</td>\n",
       "      <td>0.06</td>\n",
       "      <td>6.9</td>\n",
       "      <td>0.06</td>\n",
       "      <td>10.4</td>\n",
       "      <td>0.02</td>\n",
       "      <td>6.4</td>\n",
       "      <td>0.05</td>\n",
       "      <td>6.8</td>\n",
       "      <td>0.05</td>\n",
       "    </tr>\n",
       "    <tr>\n",
       "      <th>ocean</th>\n",
       "      <td>5.2</td>\n",
       "      <td>0</td>\n",
       "      <td>2.7</td>\n",
       "      <td>0</td>\n",
       "      <td>2.4</td>\n",
       "      <td>0</td>\n",
       "      <td>5.2</td>\n",
       "      <td>0</td>\n",
       "      <td>4.1</td>\n",
       "      <td>0.01</td>\n",
       "      <td>4.5</td>\n",
       "      <td>0.03</td>\n",
       "      <td>5.2</td>\n",
       "      <td>0</td>\n",
       "      <td>4.6</td>\n",
       "      <td>0.01</td>\n",
       "      <td>4.7</td>\n",
       "      <td>0.03</td>\n",
       "    </tr>\n",
       "    <tr>\n",
       "      <th>geothermal</th>\n",
       "      <td>5.2</td>\n",
       "      <td>0</td>\n",
       "      <td>3.5</td>\n",
       "      <td>0.01</td>\n",
       "      <td>2.5</td>\n",
       "      <td>0.01</td>\n",
       "      <td>5.2</td>\n",
       "      <td>0</td>\n",
       "      <td>3.6</td>\n",
       "      <td>0.03</td>\n",
       "      <td>3.9</td>\n",
       "      <td>0.07</td>\n",
       "      <td>5.2</td>\n",
       "      <td>0</td>\n",
       "      <td>3.8</td>\n",
       "      <td>0.03</td>\n",
       "      <td>4.3</td>\n",
       "      <td>0.07</td>\n",
       "    </tr>\n",
       "    <tr>\n",
       "      <th>solar CSP</th>\n",
       "      <td>6.9</td>\n",
       "      <td>0</td>\n",
       "      <td>1.6</td>\n",
       "      <td>0</td>\n",
       "      <td>1.6</td>\n",
       "      <td>0.01</td>\n",
       "      <td>6.9</td>\n",
       "      <td>0</td>\n",
       "      <td>1.6</td>\n",
       "      <td>0.05</td>\n",
       "      <td>2.1</td>\n",
       "      <td>0.17</td>\n",
       "      <td>6.9</td>\n",
       "      <td>0</td>\n",
       "      <td>1.9</td>\n",
       "      <td>0.07</td>\n",
       "      <td>2.2</td>\n",
       "      <td>0.22</td>\n",
       "    </tr>\n",
       "    <tr>\n",
       "      <th>solar PV</th>\n",
       "      <td>10.3</td>\n",
       "      <td>0</td>\n",
       "      <td>7.9</td>\n",
       "      <td>0.02</td>\n",
       "      <td>6.7</td>\n",
       "      <td>0.02</td>\n",
       "      <td>10.3</td>\n",
       "      <td>0</td>\n",
       "      <td>6.8</td>\n",
       "      <td>0.11</td>\n",
       "      <td>5.6</td>\n",
       "      <td>0.2</td>\n",
       "      <td>10.3</td>\n",
       "      <td>0</td>\n",
       "      <td>6.6</td>\n",
       "      <td>0.14</td>\n",
       "      <td>6.1</td>\n",
       "      <td>0.21</td>\n",
       "    </tr>\n",
       "    <tr>\n",
       "      <th>wind offshore</th>\n",
       "      <td>9</td>\n",
       "      <td>0</td>\n",
       "      <td>9.9</td>\n",
       "      <td>0.01</td>\n",
       "      <td>8.7</td>\n",
       "      <td>0.01</td>\n",
       "      <td>9</td>\n",
       "      <td>0</td>\n",
       "      <td>6.4</td>\n",
       "      <td>0.03</td>\n",
       "      <td>6.8</td>\n",
       "      <td>0.08</td>\n",
       "      <td>9</td>\n",
       "      <td>0</td>\n",
       "      <td>7.3</td>\n",
       "      <td>0.04</td>\n",
       "      <td>7.5</td>\n",
       "      <td>0.1</td>\n",
       "    </tr>\n",
       "    <tr>\n",
       "      <th>wind onshore</th>\n",
       "      <td>9.9</td>\n",
       "      <td>0.02</td>\n",
       "      <td>9.6</td>\n",
       "      <td>0.05</td>\n",
       "      <td>8.1</td>\n",
       "      <td>0.05</td>\n",
       "      <td>9.9</td>\n",
       "      <td>0.02</td>\n",
       "      <td>7.8</td>\n",
       "      <td>0.15</td>\n",
       "      <td>6.8</td>\n",
       "      <td>0.22</td>\n",
       "      <td>9.9</td>\n",
       "      <td>0.02</td>\n",
       "      <td>7.7</td>\n",
       "      <td>0.17</td>\n",
       "      <td>6.7</td>\n",
       "      <td>0.24</td>\n",
       "    </tr>\n",
       "    <tr>\n",
       "      <th>hydro</th>\n",
       "      <td>12</td>\n",
       "      <td>0.16</td>\n",
       "      <td>12.3</td>\n",
       "      <td>0.14</td>\n",
       "      <td>12.1</td>\n",
       "      <td>0.13</td>\n",
       "      <td>12</td>\n",
       "      <td>0.16</td>\n",
       "      <td>12</td>\n",
       "      <td>0.14</td>\n",
       "      <td>12.1</td>\n",
       "      <td>0.1</td>\n",
       "      <td>12</td>\n",
       "      <td>0.16</td>\n",
       "      <td>12.1</td>\n",
       "      <td>0.13</td>\n",
       "      <td>12.3</td>\n",
       "      <td>0.08</td>\n",
       "    </tr>\n",
       "    <tr>\n",
       "      <th>nuclear</th>\n",
       "      <td>12</td>\n",
       "      <td>0.11</td>\n",
       "      <td>7.3</td>\n",
       "      <td>0.1</td>\n",
       "      <td>7</td>\n",
       "      <td>0.08</td>\n",
       "      <td>12</td>\n",
       "      <td>0.11</td>\n",
       "      <td>8.4</td>\n",
       "      <td>0.02</td>\n",
       "      <td>–</td>\n",
       "      <td>0</td>\n",
       "      <td>12</td>\n",
       "      <td>0.11</td>\n",
       "      <td>8.4</td>\n",
       "      <td>0.02</td>\n",
       "      <td>–</td>\n",
       "      <td>0</td>\n",
       "    </tr>\n",
       "    <tr>\n",
       "      <th>gas w CCS</th>\n",
       "      <td>–</td>\n",
       "      <td>–</td>\n",
       "      <td>–</td>\n",
       "      <td>–</td>\n",
       "      <td>–</td>\n",
       "      <td>–</td>\n",
       "      <td>–</td>\n",
       "      <td>–</td>\n",
       "      <td>–</td>\n",
       "      <td>–</td>\n",
       "      <td>–</td>\n",
       "      <td>–</td>\n",
       "      <td>–</td>\n",
       "      <td>–</td>\n",
       "      <td>–</td>\n",
       "      <td>–</td>\n",
       "      <td>–</td>\n",
       "      <td>–</td>\n",
       "    </tr>\n",
       "    <tr>\n",
       "      <th>coal w CCS</th>\n",
       "      <td>–</td>\n",
       "      <td>–</td>\n",
       "      <td>–</td>\n",
       "      <td>–</td>\n",
       "      <td>–</td>\n",
       "      <td>–</td>\n",
       "      <td>–</td>\n",
       "      <td>–</td>\n",
       "      <td>–</td>\n",
       "      <td>–</td>\n",
       "      <td>–</td>\n",
       "      <td>–</td>\n",
       "      <td>–</td>\n",
       "      <td>–</td>\n",
       "      <td>–</td>\n",
       "      <td>–</td>\n",
       "      <td>–</td>\n",
       "      <td>–</td>\n",
       "    </tr>\n",
       "    <tr>\n",
       "      <th>oil</th>\n",
       "      <td>8.1</td>\n",
       "      <td>0.05</td>\n",
       "      <td>10.7</td>\n",
       "      <td>0.02</td>\n",
       "      <td>11.5</td>\n",
       "      <td>0.01</td>\n",
       "      <td>8.1</td>\n",
       "      <td>0.05</td>\n",
       "      <td>9.9</td>\n",
       "      <td>0.01</td>\n",
       "      <td>8.8</td>\n",
       "      <td>0</td>\n",
       "      <td>8.1</td>\n",
       "      <td>0.05</td>\n",
       "      <td>9.9</td>\n",
       "      <td>0.01</td>\n",
       "      <td>–</td>\n",
       "      <td>0</td>\n",
       "    </tr>\n",
       "    <tr>\n",
       "      <th>gas</th>\n",
       "      <td>14.6</td>\n",
       "      <td>0.23</td>\n",
       "      <td>16</td>\n",
       "      <td>0.23</td>\n",
       "      <td>17</td>\n",
       "      <td>0.25</td>\n",
       "      <td>14.6</td>\n",
       "      <td>0.23</td>\n",
       "      <td>16.5</td>\n",
       "      <td>0.21</td>\n",
       "      <td>18.2</td>\n",
       "      <td>0.06</td>\n",
       "      <td>14.6</td>\n",
       "      <td>0.23</td>\n",
       "      <td>16.6</td>\n",
       "      <td>0.18</td>\n",
       "      <td>–</td>\n",
       "      <td>0</td>\n",
       "    </tr>\n",
       "    <tr>\n",
       "      <th>coal</th>\n",
       "      <td>11.6</td>\n",
       "      <td>0.4</td>\n",
       "      <td>11.8</td>\n",
       "      <td>0.4</td>\n",
       "      <td>12.5</td>\n",
       "      <td>0.39</td>\n",
       "      <td>11.6</td>\n",
       "      <td>0.4</td>\n",
       "      <td>10.6</td>\n",
       "      <td>0.19</td>\n",
       "      <td>11.8</td>\n",
       "      <td>0.01</td>\n",
       "      <td>11.6</td>\n",
       "      <td>0.4</td>\n",
       "      <td>10.5</td>\n",
       "      <td>0.16</td>\n",
       "      <td>10.2</td>\n",
       "      <td>0</td>\n",
       "    </tr>\n",
       "    <tr>\n",
       "      <th>total</th>\n",
       "      <td>NaN</td>\n",
       "      <td>NaN</td>\n",
       "      <td>NaN</td>\n",
       "      <td>NaN</td>\n",
       "      <td>NaN</td>\n",
       "      <td>NaN</td>\n",
       "      <td>NaN</td>\n",
       "      <td>NaN</td>\n",
       "      <td>NaN</td>\n",
       "      <td>NaN</td>\n",
       "      <td>NaN</td>\n",
       "      <td>NaN</td>\n",
       "      <td>NaN</td>\n",
       "      <td>NaN</td>\n",
       "      <td>NaN</td>\n",
       "      <td>NaN</td>\n",
       "      <td>NaN</td>\n",
       "      <td>NaN</td>\n",
       "    </tr>\n",
       "  </tbody>\n",
       "</table>\n",
       "</div>"
      ],
      "text/plain": [
       "scenario        REF                                  ER                    \\\n",
       "year           2010        2030        2050        2010        2030         \n",
       "var            EROI   mix  EROI   mix  EROI   mix  EROI   mix  EROI   mix   \n",
       "biomass w CCS     –     –     –     –     –     –     –     –     –     –   \n",
       "biomass&Waste  10.4  0.02     7  0.03   5.8  0.03  10.4  0.02   6.5  0.06   \n",
       "ocean           5.2     0   2.7     0   2.4     0   5.2     0   4.1  0.01   \n",
       "geothermal      5.2     0   3.5  0.01   2.5  0.01   5.2     0   3.6  0.03   \n",
       "solar CSP       6.9     0   1.6     0   1.6  0.01   6.9     0   1.6  0.05   \n",
       "solar PV       10.3     0   7.9  0.02   6.7  0.02  10.3     0   6.8  0.11   \n",
       "wind offshore     9     0   9.9  0.01   8.7  0.01     9     0   6.4  0.03   \n",
       "wind onshore    9.9  0.02   9.6  0.05   8.1  0.05   9.9  0.02   7.8  0.15   \n",
       "hydro            12  0.16  12.3  0.14  12.1  0.13    12  0.16    12  0.14   \n",
       "nuclear          12  0.11   7.3   0.1     7  0.08    12  0.11   8.4  0.02   \n",
       "gas w CCS         –     –     –     –     –     –     –     –     –     –   \n",
       "coal w CCS        –     –     –     –     –     –     –     –     –     –   \n",
       "oil             8.1  0.05  10.7  0.02  11.5  0.01   8.1  0.05   9.9  0.01   \n",
       "gas            14.6  0.23    16  0.23    17  0.25  14.6  0.23  16.5  0.21   \n",
       "coal           11.6   0.4  11.8   0.4  12.5  0.39  11.6   0.4  10.6  0.19   \n",
       "total           NaN   NaN   NaN   NaN   NaN   NaN   NaN   NaN   NaN   NaN   \n",
       "\n",
       "scenario                    ADV                                \n",
       "year           2050        2010        2030        2050        \n",
       "var            EROI   mix  EROI   mix  EROI   mix  EROI   mix  \n",
       "biomass w CCS     –     –     –     –     –     –     –     –  \n",
       "biomass&Waste   6.9  0.06  10.4  0.02   6.4  0.05   6.8  0.05  \n",
       "ocean           4.5  0.03   5.2     0   4.6  0.01   4.7  0.03  \n",
       "geothermal      3.9  0.07   5.2     0   3.8  0.03   4.3  0.07  \n",
       "solar CSP       2.1  0.17   6.9     0   1.9  0.07   2.2  0.22  \n",
       "solar PV        5.6   0.2  10.3     0   6.6  0.14   6.1  0.21  \n",
       "wind offshore   6.8  0.08     9     0   7.3  0.04   7.5   0.1  \n",
       "wind onshore    6.8  0.22   9.9  0.02   7.7  0.17   6.7  0.24  \n",
       "hydro          12.1   0.1    12  0.16  12.1  0.13  12.3  0.08  \n",
       "nuclear           –     0    12  0.11   8.4  0.02     –     0  \n",
       "gas w CCS         –     –     –     –     –     –     –     –  \n",
       "coal w CCS        –     –     –     –     –     –     –     –  \n",
       "oil             8.8     0   8.1  0.05   9.9  0.01     –     0  \n",
       "gas            18.2  0.06  14.6  0.23  16.6  0.18     –     0  \n",
       "coal           11.8  0.01  11.6   0.4  10.5  0.16  10.2     0  \n",
       "total           NaN   NaN   NaN   NaN   NaN   NaN   NaN   NaN  "
      ]
     },
     "execution_count": 172,
     "metadata": {},
     "output_type": "execute_result"
    }
   ],
   "source": [
    "EROIs_mixes[scenarios_dlr] "
   ]
  },
  {
   "cell_type": "code",
   "execution_count": 34,
   "metadata": {},
   "outputs": [
    {
     "data": {
      "text/html": [
       "<div>\n",
       "<style scoped>\n",
       "    .dataframe tbody tr th:only-of-type {\n",
       "        vertical-align: middle;\n",
       "    }\n",
       "\n",
       "    .dataframe tbody tr th {\n",
       "        vertical-align: top;\n",
       "    }\n",
       "\n",
       "    .dataframe thead tr th {\n",
       "        text-align: left;\n",
       "    }\n",
       "</style>\n",
       "<table border=\"1\" class=\"dataframe\">\n",
       "  <thead>\n",
       "    <tr>\n",
       "      <th>scenario</th>\n",
       "      <th colspan=\"6\" halign=\"left\">Baseline ('BL')</th>\n",
       "      <th colspan=\"4\" halign=\"left\">Blue Map ('BM', +2°C)</th>\n",
       "      <th>...</th>\n",
       "      <th colspan=\"4\" halign=\"left\">Energy [R]evolution ('ER', +2°C wo CCS nor nuclear)</th>\n",
       "      <th colspan=\"6\" halign=\"left\">Advanced ER ('ADV', 100% renewable)</th>\n",
       "    </tr>\n",
       "    <tr>\n",
       "      <th>year</th>\n",
       "      <th colspan=\"2\" halign=\"left\">2010</th>\n",
       "      <th colspan=\"2\" halign=\"left\">2030</th>\n",
       "      <th colspan=\"2\" halign=\"left\">2050</th>\n",
       "      <th colspan=\"2\" halign=\"left\">2010</th>\n",
       "      <th colspan=\"2\" halign=\"left\">2030</th>\n",
       "      <th>...</th>\n",
       "      <th colspan=\"2\" halign=\"left\">2030</th>\n",
       "      <th colspan=\"2\" halign=\"left\">2050</th>\n",
       "      <th colspan=\"2\" halign=\"left\">2010</th>\n",
       "      <th colspan=\"2\" halign=\"left\">2030</th>\n",
       "      <th colspan=\"2\" halign=\"left\">2050</th>\n",
       "    </tr>\n",
       "    <tr>\n",
       "      <th>var</th>\n",
       "      <th>EROI</th>\n",
       "      <th>mix</th>\n",
       "      <th>EROI</th>\n",
       "      <th>mix</th>\n",
       "      <th>EROI</th>\n",
       "      <th>mix</th>\n",
       "      <th>EROI</th>\n",
       "      <th>mix</th>\n",
       "      <th>EROI</th>\n",
       "      <th>mix</th>\n",
       "      <th>...</th>\n",
       "      <th>EROI</th>\n",
       "      <th>mix</th>\n",
       "      <th>EROI</th>\n",
       "      <th>mix</th>\n",
       "      <th>EROI</th>\n",
       "      <th>mix</th>\n",
       "      <th>EROI</th>\n",
       "      <th>mix</th>\n",
       "      <th>EROI</th>\n",
       "      <th>mix</th>\n",
       "    </tr>\n",
       "  </thead>\n",
       "  <tbody>\n",
       "    <tr>\n",
       "      <th>wind onshore</th>\n",
       "      <td>9.4</td>\n",
       "      <td>0.01</td>\n",
       "      <td>9.2</td>\n",
       "      <td>0.04</td>\n",
       "      <td>8.0</td>\n",
       "      <td>0.04</td>\n",
       "      <td>9.4</td>\n",
       "      <td>0.01</td>\n",
       "      <td>7.1</td>\n",
       "      <td>0.08</td>\n",
       "      <td>...</td>\n",
       "      <td>6.9</td>\n",
       "      <td>0.15</td>\n",
       "      <td>7.0</td>\n",
       "      <td>0.22</td>\n",
       "      <td>9.4</td>\n",
       "      <td>0.02</td>\n",
       "      <td>6.9</td>\n",
       "      <td>0.17</td>\n",
       "      <td>7.0</td>\n",
       "      <td>0.24</td>\n",
       "    </tr>\n",
       "    <tr>\n",
       "      <th>wind offshore</th>\n",
       "      <td>9.3</td>\n",
       "      <td>0.00</td>\n",
       "      <td>10.9</td>\n",
       "      <td>0.01</td>\n",
       "      <td>10.5</td>\n",
       "      <td>0.01</td>\n",
       "      <td>9.3</td>\n",
       "      <td>0.00</td>\n",
       "      <td>7.7</td>\n",
       "      <td>0.03</td>\n",
       "      <td>...</td>\n",
       "      <td>7.5</td>\n",
       "      <td>0.03</td>\n",
       "      <td>6.0</td>\n",
       "      <td>0.08</td>\n",
       "      <td>9.3</td>\n",
       "      <td>0.00</td>\n",
       "      <td>7.5</td>\n",
       "      <td>0.04</td>\n",
       "      <td>6.0</td>\n",
       "      <td>0.10</td>\n",
       "    </tr>\n",
       "    <tr>\n",
       "      <th>solar PV</th>\n",
       "      <td>9.2</td>\n",
       "      <td>0.00</td>\n",
       "      <td>6.9</td>\n",
       "      <td>0.01</td>\n",
       "      <td>6.6</td>\n",
       "      <td>0.01</td>\n",
       "      <td>9.2</td>\n",
       "      <td>0.00</td>\n",
       "      <td>5.8</td>\n",
       "      <td>0.02</td>\n",
       "      <td>...</td>\n",
       "      <td>6.1</td>\n",
       "      <td>0.11</td>\n",
       "      <td>5.6</td>\n",
       "      <td>0.20</td>\n",
       "      <td>9.1</td>\n",
       "      <td>0.00</td>\n",
       "      <td>6.1</td>\n",
       "      <td>0.14</td>\n",
       "      <td>5.6</td>\n",
       "      <td>0.21</td>\n",
       "    </tr>\n",
       "    <tr>\n",
       "      <th>coal</th>\n",
       "      <td>12.6</td>\n",
       "      <td>0.42</td>\n",
       "      <td>11.3</td>\n",
       "      <td>0.45</td>\n",
       "      <td>11.3</td>\n",
       "      <td>0.45</td>\n",
       "      <td>12.6</td>\n",
       "      <td>0.42</td>\n",
       "      <td>11.5</td>\n",
       "      <td>0.18</td>\n",
       "      <td>...</td>\n",
       "      <td>11.1</td>\n",
       "      <td>0.19</td>\n",
       "      <td>11.0</td>\n",
       "      <td>0.01</td>\n",
       "      <td>12.6</td>\n",
       "      <td>0.40</td>\n",
       "      <td>11.1</td>\n",
       "      <td>0.16</td>\n",
       "      <td>10.9</td>\n",
       "      <td>0.00</td>\n",
       "    </tr>\n",
       "    <tr>\n",
       "      <th>oil</th>\n",
       "      <td>8.2</td>\n",
       "      <td>0.06</td>\n",
       "      <td>9.6</td>\n",
       "      <td>0.02</td>\n",
       "      <td>9.7</td>\n",
       "      <td>0.01</td>\n",
       "      <td>8.2</td>\n",
       "      <td>0.06</td>\n",
       "      <td>9.5</td>\n",
       "      <td>0.03</td>\n",
       "      <td>...</td>\n",
       "      <td>8.9</td>\n",
       "      <td>0.01</td>\n",
       "      <td>6.5</td>\n",
       "      <td>0.00</td>\n",
       "      <td>8.1</td>\n",
       "      <td>0.05</td>\n",
       "      <td>8.9</td>\n",
       "      <td>0.01</td>\n",
       "      <td>6.5</td>\n",
       "      <td>0.00</td>\n",
       "    </tr>\n",
       "    <tr>\n",
       "      <th>gas</th>\n",
       "      <td>13.7</td>\n",
       "      <td>0.21</td>\n",
       "      <td>14.8</td>\n",
       "      <td>0.21</td>\n",
       "      <td>14.6</td>\n",
       "      <td>0.23</td>\n",
       "      <td>13.7</td>\n",
       "      <td>0.21</td>\n",
       "      <td>17.3</td>\n",
       "      <td>0.14</td>\n",
       "      <td>...</td>\n",
       "      <td>16.5</td>\n",
       "      <td>0.21</td>\n",
       "      <td>18.0</td>\n",
       "      <td>0.06</td>\n",
       "      <td>13.6</td>\n",
       "      <td>0.23</td>\n",
       "      <td>16.4</td>\n",
       "      <td>0.18</td>\n",
       "      <td>17.9</td>\n",
       "      <td>0.00</td>\n",
       "    </tr>\n",
       "    <tr>\n",
       "      <th>nuclear</th>\n",
       "      <td>10.4</td>\n",
       "      <td>0.14</td>\n",
       "      <td>7.2</td>\n",
       "      <td>0.11</td>\n",
       "      <td>7.0</td>\n",
       "      <td>0.10</td>\n",
       "      <td>10.4</td>\n",
       "      <td>0.14</td>\n",
       "      <td>7.3</td>\n",
       "      <td>0.19</td>\n",
       "      <td>...</td>\n",
       "      <td>6.9</td>\n",
       "      <td>0.02</td>\n",
       "      <td>6.8</td>\n",
       "      <td>0.00</td>\n",
       "      <td>10.3</td>\n",
       "      <td>0.11</td>\n",
       "      <td>6.9</td>\n",
       "      <td>0.02</td>\n",
       "      <td>6.8</td>\n",
       "      <td>0.00</td>\n",
       "    </tr>\n",
       "    <tr>\n",
       "      <th>hydro</th>\n",
       "      <td>13.1</td>\n",
       "      <td>0.16</td>\n",
       "      <td>11.8</td>\n",
       "      <td>0.14</td>\n",
       "      <td>11.8</td>\n",
       "      <td>0.12</td>\n",
       "      <td>13.1</td>\n",
       "      <td>0.16</td>\n",
       "      <td>12.7</td>\n",
       "      <td>0.18</td>\n",
       "      <td>...</td>\n",
       "      <td>12.5</td>\n",
       "      <td>0.14</td>\n",
       "      <td>12.5</td>\n",
       "      <td>0.10</td>\n",
       "      <td>13.0</td>\n",
       "      <td>0.16</td>\n",
       "      <td>12.5</td>\n",
       "      <td>0.13</td>\n",
       "      <td>12.5</td>\n",
       "      <td>0.08</td>\n",
       "    </tr>\n",
       "    <tr>\n",
       "      <th>biomass&amp;Waste</th>\n",
       "      <td>11.3</td>\n",
       "      <td>0.01</td>\n",
       "      <td>6.3</td>\n",
       "      <td>0.02</td>\n",
       "      <td>5.8</td>\n",
       "      <td>0.03</td>\n",
       "      <td>11.3</td>\n",
       "      <td>0.01</td>\n",
       "      <td>5.5</td>\n",
       "      <td>0.06</td>\n",
       "      <td>...</td>\n",
       "      <td>5.4</td>\n",
       "      <td>0.06</td>\n",
       "      <td>5.0</td>\n",
       "      <td>0.06</td>\n",
       "      <td>11.3</td>\n",
       "      <td>0.02</td>\n",
       "      <td>5.4</td>\n",
       "      <td>0.05</td>\n",
       "      <td>5.0</td>\n",
       "      <td>0.05</td>\n",
       "    </tr>\n",
       "    <tr>\n",
       "      <th>ocean</th>\n",
       "      <td>5.5</td>\n",
       "      <td>0.00</td>\n",
       "      <td>2.1</td>\n",
       "      <td>0.00</td>\n",
       "      <td>2.4</td>\n",
       "      <td>0.00</td>\n",
       "      <td>5.5</td>\n",
       "      <td>0.00</td>\n",
       "      <td>2.3</td>\n",
       "      <td>0.00</td>\n",
       "      <td>...</td>\n",
       "      <td>2.9</td>\n",
       "      <td>0.01</td>\n",
       "      <td>3.8</td>\n",
       "      <td>0.03</td>\n",
       "      <td>5.5</td>\n",
       "      <td>0.00</td>\n",
       "      <td>2.9</td>\n",
       "      <td>0.01</td>\n",
       "      <td>3.7</td>\n",
       "      <td>0.03</td>\n",
       "    </tr>\n",
       "    <tr>\n",
       "      <th>geothermal</th>\n",
       "      <td>5.1</td>\n",
       "      <td>0.00</td>\n",
       "      <td>4.7</td>\n",
       "      <td>0.01</td>\n",
       "      <td>4.5</td>\n",
       "      <td>0.01</td>\n",
       "      <td>5.1</td>\n",
       "      <td>0.00</td>\n",
       "      <td>4.6</td>\n",
       "      <td>0.01</td>\n",
       "      <td>...</td>\n",
       "      <td>4.8</td>\n",
       "      <td>0.03</td>\n",
       "      <td>4.8</td>\n",
       "      <td>0.07</td>\n",
       "      <td>5.3</td>\n",
       "      <td>0.00</td>\n",
       "      <td>4.8</td>\n",
       "      <td>0.03</td>\n",
       "      <td>4.8</td>\n",
       "      <td>0.07</td>\n",
       "    </tr>\n",
       "    <tr>\n",
       "      <th>solar CSP</th>\n",
       "      <td>21.0</td>\n",
       "      <td>0.00</td>\n",
       "      <td>1.0</td>\n",
       "      <td>0.00</td>\n",
       "      <td>1.2</td>\n",
       "      <td>0.01</td>\n",
       "      <td>21.0</td>\n",
       "      <td>0.00</td>\n",
       "      <td>1.4</td>\n",
       "      <td>0.02</td>\n",
       "      <td>...</td>\n",
       "      <td>2.1</td>\n",
       "      <td>0.05</td>\n",
       "      <td>2.3</td>\n",
       "      <td>0.17</td>\n",
       "      <td>21.0</td>\n",
       "      <td>0.00</td>\n",
       "      <td>2.1</td>\n",
       "      <td>0.07</td>\n",
       "      <td>2.3</td>\n",
       "      <td>0.22</td>\n",
       "    </tr>\n",
       "    <tr>\n",
       "      <th>Total (PWh/a)</th>\n",
       "      <td>8.0</td>\n",
       "      <td>19.76</td>\n",
       "      <td>7.3</td>\n",
       "      <td>34.29</td>\n",
       "      <td>7.1</td>\n",
       "      <td>45.97</td>\n",
       "      <td>8.0</td>\n",
       "      <td>19.76</td>\n",
       "      <td>7.3</td>\n",
       "      <td>28.01</td>\n",
       "      <td>...</td>\n",
       "      <td>7.0</td>\n",
       "      <td>33.60</td>\n",
       "      <td>6.2</td>\n",
       "      <td>49.20</td>\n",
       "      <td>7.9</td>\n",
       "      <td>22.60</td>\n",
       "      <td>7.0</td>\n",
       "      <td>36.74</td>\n",
       "      <td>6.1</td>\n",
       "      <td>64.04</td>\n",
       "    </tr>\n",
       "  </tbody>\n",
       "</table>\n",
       "<p>13 rows × 30 columns</p>\n",
       "</div>"
      ],
      "text/plain": [
       "scenario      Baseline ('BL')                                   \\\n",
       "year                     2010         2030         2050          \n",
       "var                      EROI    mix  EROI    mix  EROI    mix   \n",
       "wind onshore              9.4   0.01   9.2   0.04   8.0   0.04   \n",
       "wind offshore             9.3   0.00  10.9   0.01  10.5   0.01   \n",
       "solar PV                  9.2   0.00   6.9   0.01   6.6   0.01   \n",
       "coal                     12.6   0.42  11.3   0.45  11.3   0.45   \n",
       "oil                       8.2   0.06   9.6   0.02   9.7   0.01   \n",
       "gas                      13.7   0.21  14.8   0.21  14.6   0.23   \n",
       "nuclear                  10.4   0.14   7.2   0.11   7.0   0.10   \n",
       "hydro                    13.1   0.16  11.8   0.14  11.8   0.12   \n",
       "biomass&Waste            11.3   0.01   6.3   0.02   5.8   0.03   \n",
       "ocean                     5.5   0.00   2.1   0.00   2.4   0.00   \n",
       "geothermal                5.1   0.00   4.7   0.01   4.5   0.01   \n",
       "solar CSP                21.0   0.00   1.0   0.00   1.2   0.01   \n",
       "Total (PWh/a)             8.0  19.76   7.3  34.29   7.1  45.97   \n",
       "\n",
       "scenario      Blue Map ('BM', +2°C)                      ...    \\\n",
       "year                           2010         2030         ...     \n",
       "var                            EROI    mix  EROI    mix  ...     \n",
       "wind onshore                    9.4   0.01   7.1   0.08  ...     \n",
       "wind offshore                   9.3   0.00   7.7   0.03  ...     \n",
       "solar PV                        9.2   0.00   5.8   0.02  ...     \n",
       "coal                           12.6   0.42  11.5   0.18  ...     \n",
       "oil                             8.2   0.06   9.5   0.03  ...     \n",
       "gas                            13.7   0.21  17.3   0.14  ...     \n",
       "nuclear                        10.4   0.14   7.3   0.19  ...     \n",
       "hydro                          13.1   0.16  12.7   0.18  ...     \n",
       "biomass&Waste                  11.3   0.01   5.5   0.06  ...     \n",
       "ocean                           5.5   0.00   2.3   0.00  ...     \n",
       "geothermal                      5.1   0.00   4.6   0.01  ...     \n",
       "solar CSP                      21.0   0.00   1.4   0.02  ...     \n",
       "Total (PWh/a)                   8.0  19.76   7.3  28.01  ...     \n",
       "\n",
       "scenario      Energy [R]evolution ('ER', +2°C wo CCS nor nuclear)         \\\n",
       "year                                                         2030          \n",
       "var                                                          EROI    mix   \n",
       "wind onshore                                                 6.9    0.15   \n",
       "wind offshore                                                7.5    0.03   \n",
       "solar PV                                                     6.1    0.11   \n",
       "coal                                                        11.1    0.19   \n",
       "oil                                                          8.9    0.01   \n",
       "gas                                                         16.5    0.21   \n",
       "nuclear                                                      6.9    0.02   \n",
       "hydro                                                       12.5    0.14   \n",
       "biomass&Waste                                                5.4    0.06   \n",
       "ocean                                                        2.9    0.01   \n",
       "geothermal                                                   4.8    0.03   \n",
       "solar CSP                                                    2.1    0.05   \n",
       "Total (PWh/a)                                                7.0   33.60   \n",
       "\n",
       "scenario                   Advanced ER ('ADV', 100% renewable)               \\\n",
       "year           2050                                       2010         2030   \n",
       "var            EROI    mix                                EROI    mix  EROI   \n",
       "wind onshore    7.0   0.22                                 9.4   0.02   6.9   \n",
       "wind offshore   6.0   0.08                                 9.3   0.00   7.5   \n",
       "solar PV        5.6   0.20                                 9.1   0.00   6.1   \n",
       "coal           11.0   0.01                                12.6   0.40  11.1   \n",
       "oil             6.5   0.00                                 8.1   0.05   8.9   \n",
       "gas            18.0   0.06                                13.6   0.23  16.4   \n",
       "nuclear         6.8   0.00                                10.3   0.11   6.9   \n",
       "hydro          12.5   0.10                                13.0   0.16  12.5   \n",
       "biomass&Waste   5.0   0.06                                11.3   0.02   5.4   \n",
       "ocean           3.8   0.03                                 5.5   0.00   2.9   \n",
       "geothermal      4.8   0.07                                 5.3   0.00   4.8   \n",
       "solar CSP       2.3   0.17                                21.0   0.00   2.1   \n",
       "Total (PWh/a)   6.2  49.20                                 7.9  22.60   7.0   \n",
       "\n",
       "scenario                           \n",
       "year                  2050         \n",
       "var              mix  EROI    mix  \n",
       "wind onshore    0.17   7.0   0.24  \n",
       "wind offshore   0.04   6.0   0.10  \n",
       "solar PV        0.14   5.6   0.21  \n",
       "coal            0.16  10.9   0.00  \n",
       "oil             0.01   6.5   0.00  \n",
       "gas             0.18  17.9   0.00  \n",
       "nuclear         0.02   6.8   0.00  \n",
       "hydro           0.13  12.5   0.08  \n",
       "biomass&Waste   0.05   5.0   0.05  \n",
       "ocean           0.01   3.7   0.03  \n",
       "geothermal      0.03   4.8   0.07  \n",
       "solar CSP       0.07   2.3   0.22  \n",
       "Total (PWh/a)  36.74   6.1  64.04  \n",
       "\n",
       "[13 rows x 30 columns]"
      ]
     },
     "execution_count": 34,
     "metadata": {},
     "output_type": "execute_result"
    }
   ],
   "source": [
    "EROIs_mixes_longnames = EROIs_mixes\n",
    "EROIs_mixes_longnames.columns.set_levels([\"Advanced ER ('ADV', 100% renewable)\", \"Baseline ('BL')\", \"Blue Map ('BM', +2°C)\", \\\n",
    "        \"Energy [R]evolution ('ER', +2°C wo CCS nor nuclear)\", \"Reference DLR ('REF')\"],level=0,inplace=True)\n",
    "EROIs_mixes_longnames"
   ]
  },
  {
   "cell_type": "code",
   "execution_count": 67,
   "metadata": {},
   "outputs": [],
   "source": [
    "# EROIs_mixes = pd.DataFrame()\n",
    "# for year in years:    \n",
    "#     for scenario in scenarios_dlr:\n",
    "#         EROIs_mixes[(scenario, year, 'EROI')] = dlr['EROI'][scenario][year]\n",
    "#         EROIs_mixes[(scenario, year, 'mix')] = dlr['mix'][scenario][year]\n",
    "#     for scenario_iea in scenarios: # VERY WEIRD: if I inverse the order of the two 'for' loop, I get slightly different EROIs (this order is the right one)\n",
    "#         erois_s_y = themis[scenario_iea][year].eroi\n",
    "#         erois_s_y = erois_s_y.rename(index={'Power sector': 'total'})\n",
    "#         mixes_s_y = themis[scenario_iea][2010].global_mixes[year]\n",
    "#         EROIs_mixes[[(scenario_iea, year, 'EROI'), (scenario_iea, year, 'mix')]] = pd.DataFrame(erois_s_y).join(mixes_s_y)\n",
    "# EROIs_mixes = pd.DataFrame(EROIs_mixes, columns=pd.MultiIndex.from_product([scenarios+scenarios_dlr, years, ['EROI', 'mix']], names=['scenario','year','var']))"
   ]
  },
  {
   "cell_type": "markdown",
   "metadata": {},
   "source": [
    "And here are similar results for an older project of future IO tables, [Cecilia 2050](https://cecilia2050.eu/publications/168) :"
   ]
  },
  {
   "cell_type": "code",
   "execution_count": null,
   "metadata": {},
   "outputs": [],
   "source": [
    "cecilia = pymrio.cecilia_parser('/var/www/FutureIOT/') # <--- PATH to modify"
   ]
  },
  {
   "cell_type": "code",
   "execution_count": 5,
   "metadata": {},
   "outputs": [
    {
     "data": {
      "text/html": [
       "<div>\n",
       "<style scoped>\n",
       "    .dataframe tbody tr th:only-of-type {\n",
       "        vertical-align: middle;\n",
       "    }\n",
       "\n",
       "    .dataframe tbody tr th {\n",
       "        vertical-align: top;\n",
       "    }\n",
       "\n",
       "    .dataframe thead tr th {\n",
       "        text-align: left;\n",
       "    }\n",
       "</style>\n",
       "<table border=\"1\" class=\"dataframe\">\n",
       "  <thead>\n",
       "    <tr>\n",
       "      <th>step</th>\n",
       "      <th colspan=\"2\" halign=\"left\">-1: original</th>\n",
       "      <th colspan=\"2\" halign=\"left\">0: balanced</th>\n",
       "      <th colspan=\"2\" halign=\"left\">1: growth</th>\n",
       "      <th colspan=\"2\" halign=\"left\">2a: new mix</th>\n",
       "      <th colspan=\"2\" halign=\"left\">2b: new techno</th>\n",
       "      <th colspan=\"2\" halign=\"left\">3: 2° scenario</th>\n",
       "    </tr>\n",
       "    <tr>\n",
       "      <th>var</th>\n",
       "      <th>EROI</th>\n",
       "      <th>mix</th>\n",
       "      <th>EROI</th>\n",
       "      <th>mix</th>\n",
       "      <th>EROI</th>\n",
       "      <th>mix</th>\n",
       "      <th>EROI</th>\n",
       "      <th>mix</th>\n",
       "      <th>EROI</th>\n",
       "      <th>mix</th>\n",
       "      <th>EROI</th>\n",
       "      <th>mix</th>\n",
       "    </tr>\n",
       "  </thead>\n",
       "  <tbody>\n",
       "    <tr>\n",
       "      <th>wind</th>\n",
       "      <td>1.1</td>\n",
       "      <td>0.00</td>\n",
       "      <td>0.4</td>\n",
       "      <td>0.00</td>\n",
       "      <td>1.0</td>\n",
       "      <td>0.00</td>\n",
       "      <td>18.2</td>\n",
       "      <td>0.04</td>\n",
       "      <td>19.1</td>\n",
       "      <td>0.04</td>\n",
       "      <td>18.3</td>\n",
       "      <td>0.04</td>\n",
       "    </tr>\n",
       "    <tr>\n",
       "      <th>hydro</th>\n",
       "      <td>5.1</td>\n",
       "      <td>0.14</td>\n",
       "      <td>3.5</td>\n",
       "      <td>0.13</td>\n",
       "      <td>12.9</td>\n",
       "      <td>0.19</td>\n",
       "      <td>12.7</td>\n",
       "      <td>0.27</td>\n",
       "      <td>13.4</td>\n",
       "      <td>0.27</td>\n",
       "      <td>12.0</td>\n",
       "      <td>0.25</td>\n",
       "    </tr>\n",
       "    <tr>\n",
       "      <th>coal</th>\n",
       "      <td>8.1</td>\n",
       "      <td>0.46</td>\n",
       "      <td>5.7</td>\n",
       "      <td>0.46</td>\n",
       "      <td>13.8</td>\n",
       "      <td>0.48</td>\n",
       "      <td>11.0</td>\n",
       "      <td>0.20</td>\n",
       "      <td>11.8</td>\n",
       "      <td>0.20</td>\n",
       "      <td>11.0</td>\n",
       "      <td>0.21</td>\n",
       "    </tr>\n",
       "    <tr>\n",
       "      <th>gas</th>\n",
       "      <td>9.1</td>\n",
       "      <td>0.20</td>\n",
       "      <td>6.6</td>\n",
       "      <td>0.19</td>\n",
       "      <td>19.7</td>\n",
       "      <td>0.17</td>\n",
       "      <td>24.9</td>\n",
       "      <td>0.19</td>\n",
       "      <td>26.6</td>\n",
       "      <td>0.19</td>\n",
       "      <td>24.9</td>\n",
       "      <td>0.19</td>\n",
       "    </tr>\n",
       "    <tr>\n",
       "      <th>nuclear</th>\n",
       "      <td>11.6</td>\n",
       "      <td>0.20</td>\n",
       "      <td>9.1</td>\n",
       "      <td>0.22</td>\n",
       "      <td>24.4</td>\n",
       "      <td>0.16</td>\n",
       "      <td>15.7</td>\n",
       "      <td>0.30</td>\n",
       "      <td>17.7</td>\n",
       "      <td>0.30</td>\n",
       "      <td>17.5</td>\n",
       "      <td>0.30</td>\n",
       "    </tr>\n",
       "    <tr>\n",
       "      <th>total</th>\n",
       "      <td>7.9</td>\n",
       "      <td>1.00</td>\n",
       "      <td>5.5</td>\n",
       "      <td>1.00</td>\n",
       "      <td>14.3</td>\n",
       "      <td>1.00</td>\n",
       "      <td>14.0</td>\n",
       "      <td>1.00</td>\n",
       "      <td>15.2</td>\n",
       "      <td>1.00</td>\n",
       "      <td>14.4</td>\n",
       "      <td>1.00</td>\n",
       "    </tr>\n",
       "  </tbody>\n",
       "</table>\n",
       "</div>"
      ],
      "text/plain": [
       "step    -1: original       0: balanced       1: growth       2a: new mix  \\\n",
       "var             EROI   mix        EROI   mix      EROI   mix        EROI   \n",
       "wind             1.1  0.00         0.4  0.00       1.0  0.00        18.2   \n",
       "hydro            5.1  0.14         3.5  0.13      12.9  0.19        12.7   \n",
       "coal             8.1  0.46         5.7  0.46      13.8  0.48        11.0   \n",
       "gas              9.1  0.20         6.6  0.19      19.7  0.17        24.9   \n",
       "nuclear         11.6  0.20         9.1  0.22      24.4  0.16        15.7   \n",
       "total            7.9  1.00         5.5  1.00      14.3  1.00        14.0   \n",
       "\n",
       "step          2b: new techno       3: 2° scenario        \n",
       "var       mix           EROI   mix           EROI   mix  \n",
       "wind     0.04           19.1  0.04           18.3  0.04  \n",
       "hydro    0.27           13.4  0.27           12.0  0.25  \n",
       "coal     0.20           11.8  0.20           11.0  0.21  \n",
       "gas      0.19           26.6  0.19           24.9  0.19  \n",
       "nuclear  0.30           17.7  0.30           17.5  0.30  \n",
       "total    1.00           15.2  1.00           14.4  1.00  "
      ]
     },
     "execution_count": 5,
     "metadata": {},
     "output_type": "execute_result"
    }
   ],
   "source": [
    "EROIs_cecilia = pd.DataFrame()\n",
    "EROIs_mixes_cecilia = pd.DataFrame()\n",
    "steps = [-1, 0, 1, '2a', '2b', 3]\n",
    "for step in steps:\n",
    "    eroi_s = cecilia[step].erois()\n",
    "    EROIs_cecilia[step] = eroi_s\n",
    "    eroi_s = eroi_s.rename(index={'Power sector': 'total'})\n",
    "    cecilia[step].elec_supply = dict()\n",
    "    cecilia[step].elec_mix = dict()\n",
    "    cecilia[step].elec_mix['total'] = 1\n",
    "    cecilia[step].elec_supply['total'] = cecilia[step].impacts('Total Energy supply', secs = cecilia[step].energy_sectors('electricities')).sum()\n",
    "    for sec in cecilia[step].energy_sectors('electricities'):\n",
    "        cecilia[step].elec_supply[sec] = cecilia[step].impacts('Total Energy supply', secs = sec).sum()\n",
    "        cecilia[step].elec_mix[sec[15:]] = round(cecilia[step].elec_supply[sec]/cecilia[step].elec_supply['total'],2)\n",
    "    cecilia[step].elec_mix = pd.DataFrame(pd.Series(cecilia[step].elec_mix), columns=['mix'])\n",
    "    EROIs_mixes_cecilia[[(step, 'EROI'), (step, 'mix')]] = pd.DataFrame(eroi_s).join(cecilia[step].elec_mix)\n",
    "EROIs_cecilia = pd.DataFrame(EROIs_cecilia).rename(columns = {-1:'-1: original', 0:'0: balance', 1:'1: BAU', '2a':'2a: new mix', '2b':'2b: techno', 3:'3: 2°'})\n",
    "# EROIs_cecilia\n",
    "EROIs_mixes_cecilia = pd.DataFrame(EROIs_mixes_cecilia, columns = pd.MultiIndex.from_product([steps, ['EROI', 'mix']], names=['step', 'var']))\n",
    "EROIs_mixes_cecilia.rename(columns = {-1:'-1: original', 0:'0: balanced', 1:'1: growth', '2a':'2a: new mix', '2b':'2b: new techno', 3:'3: 2° scenario'})"
   ]
  }
 ],
 "metadata": {
  "kernelspec": {
   "display_name": "Python [default]",
   "language": "python",
   "name": "python3"
  },
  "language_info": {
   "codemirror_mode": {
    "name": "ipython",
    "version": 3
   },
   "file_extension": ".py",
   "mimetype": "text/x-python",
   "name": "python",
   "nbconvert_exporter": "python",
   "pygments_lexer": "ipython3",
   "version": "3.5.4"
  }
 },
 "nbformat": 4,
 "nbformat_minor": 2
}
