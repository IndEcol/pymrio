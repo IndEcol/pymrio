{
 "cells": [
  {
   "cell_type": "code",
   "execution_count": 1,
   "metadata": {},
   "outputs": [],
   "source": [
    "%load_ext autoreload\n",
    "%autoreload 2\n",
    "from IPython.core.interactiveshell import InteractiveShell\n",
    "InteractiveShell.ast_node_interactivity = \"all\" # 'last' 'none' ..."
   ]
  },
  {
   "cell_type": "code",
   "execution_count": 6,
   "metadata": {},
   "outputs": [],
   "source": [
    "import pymrio\n",
    "from pymrio.core.mriosystem import IOSystem as IOS\n",
    "from pymrio.tools.iomath import div0\n",
    "from pymrio.tools.iofunctions import *\n",
    "from pymrio.tools.ioparser import *\n",
    "import pandas as pd\n",
    "import numpy as np\n",
    "# import scipy.io\n",
    "import scipy.sparse as sp \n",
    "from scipy.sparse import linalg as spla\n",
    "import operator\n",
    "import warnings\n",
    "import matplotlib.pyplot as plt\n",
    "from pylab import *\n",
    "import pickle\n",
    "from openpyxl import load_workbook\n",
    "from sklearn.linear_model import LinearRegression\n",
    "import statsmodels.api as sm\n",
    "from IPython.core.interactiveshell import InteractiveShell\n",
    "InteractiveShell.ast_node_interactivity = \"all\" # 'last' 'none' ...\n",
    "warnings.filterwarnings('ignore')"
   ]
  },
  {
   "cell_type": "code",
   "execution_count": 3,
   "metadata": {},
   "outputs": [],
   "source": [
    "%%capture\n",
    "# Unfortunately, the database THEMIS is not open (you can ask to NTNU or thomas.gibon@list.lu) if they can provide it to you\n",
    "# path_themis = '/media/adrien/dd/adrien/DD/Économie/Données/Themis/'\n",
    "path_io = '/mnt/dd/adrien/DD/Économie/Données/'\n",
    "# path_io = '/media/sf_U_DRIVE/Données/'\n",
    "# years = [2010, 2030, 2050]\n",
    "# scenarios = ['BL', 'BM']\n",
    "# scenarios_dlr = ['REF', 'ER', 'ADV'] \n",
    "# themis, EROIs_mixes, dlr, EROIs_Mixes = pickle.load(open(path_io+'Themis/EROIs.pkl', 'rb'))\n",
    "# EROIs_mixes, dlr, EROIs_Mixes = pickle.load(open(path_io+'Themis/EROIs.pkl', 'rb'))"
   ]
  },
  {
   "cell_type": "code",
   "execution_count": 7,
   "metadata": {},
   "outputs": [
    {
     "ename": "NameError",
     "evalue": "name 'parse_exiobase3' is not defined",
     "output_type": "error",
     "traceback": [
      "\u001b[0;31m---------------------------------------------------------------------------\u001b[0m",
      "\u001b[0;31mNameError\u001b[0m                                 Traceback (most recent call last)",
      "\u001b[0;32m<ipython-input-7-73d775784fb3>\u001b[0m in \u001b[0;36m<module>\u001b[0;34m()\u001b[0m\n\u001b[0;32m----> 1\u001b[0;31m \u001b[0mexio3\u001b[0m \u001b[0;34m=\u001b[0m \u001b[0mparse_exiobase3\u001b[0m\u001b[0;34m(\u001b[0m\u001b[0mpath_io\u001b[0m\u001b[0;34m+\u001b[0m\u001b[0;34m'Exiobase 3.1/exiobase3.4_iot_2011_pxp.zip'\u001b[0m\u001b[0;34m)\u001b[0m\u001b[0;34m\u001b[0m\u001b[0m\n\u001b[0m",
      "\u001b[0;31mNameError\u001b[0m: name 'parse_exiobase3' is not defined"
     ]
    }
   ],
   "source": [
    "exio3 = parse_exiobase3(path_io+'Exiobase 3.1/exiobase3.4_iot_2011_pxp.zip')"
   ]
  },
  {
   "cell_type": "code",
   "execution_count": 26,
   "metadata": {},
   "outputs": [],
   "source": [
    "themis = pickle.load(open(path_io+'Themis/themis.pkl', 'rb'))\n",
    "erois_prices = pickle.load(open(path_io+'Themis/erois_prices.pkl', 'rb'))\n",
    "# erois_prices_wo_GW = pickle.load(open(path_io+'Themis/erois_prices_wo_GW.pkl', 'rb'))"
   ]
  },
  {
   "cell_type": "code",
   "execution_count": 34,
   "metadata": {},
   "outputs": [
    {
     "data": {
      "text/plain": [
       "['zinc monosulphate, ZnSO4.H2O, at plant/ RER/ kg',\n",
       " 'zinc oxide, at plant/ RER/ kg',\n",
       " 'zinc sulphide, ZnS, at plant/ RER/ kg',\n",
       " 'cadmium sludge, from zinc electrolysis, at plant/ GLO/ kg',\n",
       " 'leaching residues, indium rich, from zinc circuit, at smelter/ GLO/ kg',\n",
       " 'resource correction, PbZn, zinc, negative/ GLO/ kg',\n",
       " 'resource correction, PbZn, zinc, positive/ GLO/ kg',\n",
       " 'titanium zinc plate, without pre-weathering, at plant/ DE/ kg',\n",
       " 'zinc concentrate, at beneficiation/ GLO/ kg',\n",
       " 'zinc, from combined metal production, at beneficiation/ SE/ kg',\n",
       " 'zinc, from combined metal production, at refinery/ SE/ kg',\n",
       " 'zinc, primary, at regional storage/ RER/ kg',\n",
       " 'zinc coating, coils/ RER/ m2',\n",
       " 'zinc coating, pieces/ RER/ m2',\n",
       " 'zinc coating, pieces, adjustment per um/ RER/ m2',\n",
       " 'disposal, zinc in car shredder residue, 0% water, to municipal incineration/ CH/ kg',\n",
       " 'mine, gold-silver-zinc-lead-copper/ SE/ unit',\n",
       " 'Lead, zinc and tin ores and concentrates',\n",
       " 'Lead, zinc and tin and products thereof']"
      ]
     },
     "execution_count": 34,
     "metadata": {},
     "output_type": "execute_result"
    }
   ],
   "source": [
    "themis['ER'][2010].find('zinc', 'sectors')"
   ]
  },
  {
   "cell_type": "code",
   "execution_count": null,
   "metadata": {},
   "outputs": [],
   "source": []
  }
 ],
 "metadata": {
  "kernelspec": {
   "display_name": "Python [default]",
   "language": "python",
   "name": "python3"
  },
  "language_info": {
   "codemirror_mode": {
    "name": "ipython",
    "version": 3
   },
   "file_extension": ".py",
   "mimetype": "text/x-python",
   "name": "python",
   "nbconvert_exporter": "python",
   "pygments_lexer": "ipython3",
   "version": "3.5.4"
  }
 },
 "nbformat": 4,
 "nbformat_minor": 2
}
