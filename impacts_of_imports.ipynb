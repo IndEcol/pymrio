{
 "cells": [
  {
   "cell_type": "code",
   "execution_count": 1,
   "metadata": {},
   "outputs": [],
   "source": [
    "%load_ext autoreload\n",
    "%autoreload 2\n",
    "from IPython.core.interactiveshell import InteractiveShell\n",
    "InteractiveShell.ast_node_interactivity = \"all\" # 'last' 'none' ..."
   ]
  },
  {
   "cell_type": "code",
   "execution_count": 3,
   "metadata": {},
   "outputs": [],
   "source": [
    "import pymrio # /!\\ Clone and install pymrio from https://github.com/bixiou/pymrio\n",
    "from pymrio.core.mriosystem import IOSystem as IOS\n",
    "from pymrio.core.mriosystem import concate_extension\n",
    "from pymrio.tools.iomath import div0\n",
    "from pymrio.tools.iofunctions import *\n",
    "from pymrio.tools.ioparser import *\n",
    "import pandas as pd\n",
    "import numpy as np\n",
    "import pickle\n",
    "from IPython.core.interactiveshell import InteractiveShell\n",
    "InteractiveShell.ast_node_interactivity = \"all\" # 'last' 'none' ...\n",
    "warnings.filterwarnings('ignore')"
   ]
  },
  {
   "cell_type": "code",
   "execution_count": 4,
   "metadata": {},
   "outputs": [],
   "source": [
    "path_io = '/mnt/dd/adrien/DD/Économie/Données/' # where the Exiobase data is"
   ]
  },
  {
   "cell_type": "code",
   "execution_count": 5,
   "metadata": {},
   "outputs": [],
   "source": [
    "exio3 = pickle.load(open(path_io+'Exiobase 3.4/exio3.pkl', 'rb')) # cf. below to generate the data (from exiobase3.4_iot_2011_pxp)"
   ]
  },
  {
   "cell_type": "code",
   "execution_count": 6,
   "metadata": {},
   "outputs": [],
   "source": [
    "EU27 = ['AT', 'BE', 'BG', 'CY', 'CZ', 'DE', 'DK', 'EE', 'ES', 'FI', 'FR', 'GR', 'HR', 'HU', 'IT', 'LT', 'LU', 'LV', 'MT', 'NL', 'PL',\n",
    "       'PT', 'RO', 'SE', 'SI', 'SK', 'IE']\n",
    "\n",
    "steel = ['Basic iron and steel and of ferro-alloys and first products thereof', 'Secondary steel for treatment, Re-processing of secondary steel into new steel'] \n",
    "aluminum = ['Aluminium and aluminium products',  'Secondary aluminium for treatment, Re-processing of secondary aluminium into new aluminium']\n",
    "cement = ['Cement, lime and plaster']\n",
    "power = ['Electricity by coal',  'Electricity by gas',  'Electricity by nuclear',  'Electricity by hydro',  'Electricity by wind',\n",
    " 'Electricity by petroleum and other oil derivatives',  'Electricity by biomass and waste',  'Electricity by solar photovoltaic',\n",
    " 'Electricity by solar thermal',  'Electricity by tide, wave, ocean',  'Electricity by Geothermal',  'Electricity nec']\n",
    "chemicals = ['Chemical and fertilizer minerals, salt and other mining and quarrying products n.e.c.', 'Chemicals nec']\n",
    "# 'Precious metals',\n",
    "#  'Secondary preciuos metals for treatment, Re-processing of secondary preciuos metals into new preciuos metals',\n",
    "#  'Aluminium and aluminium products',\n",
    "#  'Secondary aluminium for treatment, Re-processing of secondary aluminium into new aluminium',\n",
    "#  'Lead, zinc and tin and products thereof',\n",
    "#  'Secondary lead for treatment, Re-processing of secondary lead into new lead',\n",
    "#  'Copper products',\n",
    "#  'Secondary copper for treatment, Re-processing of secondary copper into new copper',\n",
    "#  'Other non-ferrous metal products',\n",
    "#  'Secondary other non-ferrous metals for treatment, Re-processing of secondary other non-ferrous metals into new other non-ferrous metals',\n",
    "#  'Foundry work services',\n",
    "#  'Fabricated metal products, except machinery and equipment (28)',\n",
    "#  'Machinery and equipment n.e.c. (29)',\n",
    "#  'Office machinery and computers (30)',\n",
    "#  'Electrical machinery and apparatus n.e.c. (31)',\n",
    "#  'Radio, television and communication equipment and apparatus (32)',\n",
    "#  'Medical, precision and optical instruments, watches and clocks (33)',\n",
    "#  'Motor vehicles, trailers and semi-trailers (34)',\n",
    "#  'Other transport equipment (35)'\n"
   ]
  },
  {
   "cell_type": "code",
   "execution_count": 12,
   "metadata": {},
   "outputs": [
    {
     "data": {
      "text/plain": [
       "55.77436023656755"
      ]
     },
     "execution_count": 12,
     "metadata": {},
     "output_type": "execute_result"
    }
   ],
   "source": [
    "exio3.embodied_impact_imports('CO2 (kg)', steel, EU27) / 1e9 # in MtCO2"
   ]
  },
  {
   "cell_type": "code",
   "execution_count": 13,
   "metadata": {},
   "outputs": [
    {
     "data": {
      "text/plain": [
       "0.0"
      ]
     },
     "execution_count": 13,
     "metadata": {},
     "output_type": "execute_result"
    }
   ],
   "source": [
    "exio3.embodied_impact_imports('CO2 (kg)', power, EU27) / 1e9 # in MtCO2"
   ]
  },
  {
   "cell_type": "code",
   "execution_count": 14,
   "metadata": {},
   "outputs": [
    {
     "data": {
      "text/plain": [
       "7.75427192302997"
      ]
     },
     "execution_count": 14,
     "metadata": {},
     "output_type": "execute_result"
    }
   ],
   "source": [
    "exio3.embodied_impact_imports('CO2 (kg)', cement, EU27) / 1e9 # in MtCO2"
   ]
  },
  {
   "cell_type": "code",
   "execution_count": 15,
   "metadata": {},
   "outputs": [
    {
     "data": {
      "text/plain": [
       "141.1210982452209"
      ]
     },
     "execution_count": 15,
     "metadata": {},
     "output_type": "execute_result"
    }
   ],
   "source": [
    "exio3.embodied_impact_imports('CO2 (kg)', chemicals, EU27) / 1e9 # in MtCO2"
   ]
  },
  {
   "cell_type": "code",
   "execution_count": 16,
   "metadata": {},
   "outputs": [
    {
     "data": {
      "text/plain": [
       "12.633704888723567"
      ]
     },
     "execution_count": 16,
     "metadata": {},
     "output_type": "execute_result"
    }
   ],
   "source": [
    "exio3.embodied_impact_imports('CO2 (kg)', aluminum, EU27) / 1e9 # in MtCO2"
   ]
  },
  {
   "cell_type": "code",
   "execution_count": 17,
   "metadata": {},
   "outputs": [
    {
     "data": {
      "text/plain": [
       "1527.6481685135705"
      ]
     },
     "execution_count": 17,
     "metadata": {},
     "output_type": "execute_result"
    }
   ],
   "source": [
    "exio3.embodied_impact_imports('CO2 (kg)', exio3.sectors, EU27) / 1e9 # in MtCO2"
   ]
  },
  {
   "cell_type": "code",
   "execution_count": null,
   "metadata": {},
   "outputs": [],
   "source": []
  },
  {
   "cell_type": "markdown",
   "metadata": {},
   "source": [
    "### Prepare the data "
   ]
  },
  {
   "cell_type": "code",
   "execution_count": null,
   "metadata": {},
   "outputs": [],
   "source": [
    "# TODO: change directly the parser"
   ]
  },
  {
   "cell_type": "code",
   "execution_count": null,
   "metadata": {},
   "outputs": [],
   "source": [
    "exio3 = parse_exiobase3(path_io+'Exiobase 3.4/exiobase3.4_iot_2011_pxp.zip')\n",
    "exio3.calc_all()\n",
    "exio3.x = exio3.x.squeeze()\n",
    "exio3.impact = exio3.satellite"
   ]
  },
  {
   "cell_type": "code",
   "execution_count": 10,
   "metadata": {},
   "outputs": [],
   "source": [
    "sectors = ['food', 'tobacco', 'cloth', 'housing', 'furniture', 'health', 'transport', 'communication', 'leisure', 'education', 'catering', 'diverse']\n",
    "imp = exio3.impact.F.index"
   ]
  },
  {
   "cell_type": "code",
   "execution_count": 8,
   "metadata": {},
   "outputs": [],
   "source": [
    "impacts = ['CO2 (kg)', 'CH4 (kg)', 'NOx (kg)', 'SOx (kg)', 'N2O (kg)', 'NH3 (kg)', 'CO (kg)', 'PFC (kg CO2eq)', 'HFC (kg CO2eq)', 'SF6 (kg)',\n",
    "         'PM10 (kg)', 'PM2.5 (kg)', 'Pb (kg)', 'Cd (kg)', 'Gravel and sand (kg)',\n",
    "         'Arsenic (kg)', 'NMVOC (kg)', 'TSP (kg)', 'N (kg)', 'P (kg)', 'Energy (TJ)', 'Wood (kt)', 'Copper (kt)', 'Metal Ores (kt)', 'Non-Metallic Minerals (kt)', \n",
    "         'Crops (kt)', 'Cropland (km2)', 'Forest area (km2)', 'Permanent pastures (km2)', 'Land use (km2)', 'Water Consumption Blue (Mm3)', \n",
    "         'Water Consumption Green (Mm3)', 'Water Withdrawal Blue (Mm3)', 'Wages (incl. social contributions) (M€)', \n",
    "         'Operating surplus (investment, rents, profit) (M€)', 'Value added (wages, surplus and taxes) (M€)', 'Employment (k pers)', 'Employment hours (M.hr)']"
   ]
  },
  {
   "cell_type": "code",
   "execution_count": 11,
   "metadata": {},
   "outputs": [],
   "source": [
    "agg_impacts = exio3.impact.F\n",
    "exio3.impact.F = agg_impacts.append([ # TODO: énergie, déchets, minerais, bois TODO: Global Warming Potential (CO2eq)\n",
    "#     pd.Series(agg_impacts.iloc[['CO2 - combustion - air' in i for i in imp],:].sum(axis = 0), name = 'CO2 - combustion - air (kg)'),\n",
    "    pd.Series(agg_impacts.iloc[['CO2' in i for i in imp],:].sum(axis = 0), name = 'CO2 (kg)'),\n",
    "    pd.Series(agg_impacts.iloc[['CH4' in i for i in imp],:].sum(axis = 0), name = 'CH4 (kg)'),\n",
    "    pd.Series(agg_impacts.iloc[['NOx' in i for i in imp],:].sum(axis = 0), name = 'NOx (kg)'),\n",
    "    pd.Series(agg_impacts.iloc[['SOx' in i for i in imp],:].sum(axis = 0), name = 'SOx (kg)'),\n",
    "    pd.Series(agg_impacts.iloc[['N2O' in i for i in imp],:].sum(axis = 0), name = 'N2O (kg)'),\n",
    "    pd.Series(agg_impacts.iloc[['NH3' in i for i in imp],:].sum(axis = 0), name = 'NH3 (kg)'),\n",
    "    pd.Series(agg_impacts.iloc[['CO -' in i for i in imp],:].sum(axis = 0), name = 'CO (kg)'),\n",
    "    pd.Series(agg_impacts.iloc[['PFC' in i for i in imp],:].sum(axis = 0), name = 'PFC (kg CO2eq)'),\n",
    "    pd.Series(agg_impacts.iloc[['HFC' in i for i in imp],:].sum(axis = 0), name = 'HFC (kg CO2eq)'),\n",
    "    pd.Series(agg_impacts.iloc[['SF6' in i for i in imp],:].sum(axis = 0), name = 'SF6 (kg)'),\n",
    "    pd.Series(agg_impacts.iloc[['PM10' in i for i in imp],:].sum(axis = 0), name = 'PM10 (kg)'),\n",
    "    pd.Series(agg_impacts.iloc[['PM2.5' in i for i in imp],:].sum(axis = 0), name = 'PM2.5 (kg)'),\n",
    "    pd.Series(agg_impacts.iloc[['Pb' in i for i in imp],:].sum(axis = 0), name = 'Pb (kg)'),\n",
    "    pd.Series(agg_impacts.iloc[['Cd' in i for i in imp],:].sum(axis = 0), name = 'Cd (kg)'),\n",
    "    pd.Series(agg_impacts.iloc[['sand' in i for i in imp],:].sum(axis = 0), name = 'Gravel and sand (kg)'),\n",
    "    pd.Series(agg_impacts.iloc[['As -' in i for i in imp],:].sum(axis = 0), name = 'Arsenic (kg)'),\n",
    "    pd.Series(agg_impacts.iloc[['NMVOC' in i for i in imp],:].sum(axis = 0), name = 'NMVOC (kg)'),\n",
    "    pd.Series(agg_impacts.iloc[['TSP' in i for i in imp],:].sum(axis = 0), name = 'TSP (kg)'),\n",
    "    pd.Series(agg_impacts.iloc[['N -' in i for i in imp],:].sum(axis = 0), name = 'N (kg)'),\n",
    "    pd.Series(agg_impacts.iloc[['P - a' in i or 'P - w' in i for i in imp],:].sum(axis = 0), name = 'P (kg)'),\n",
    "    pd.Series(agg_impacts.iloc[['Energy Carrier Supply' in i for i in imp],:].sum(axis = 0), name = 'Energy (TJ)'),\n",
    "    pd.Series(agg_impacts.iloc[['s wood -' in i for i in imp],:].sum(axis = 0), name = 'Wood (kt)'), # from Wood to Crops, includes both used and unused extraction\n",
    "    pd.Series(agg_impacts.iloc[['Ores - Copper' in i for i in imp],:].sum(axis = 0), name = 'Copper (kt)'),\n",
    "    pd.Series(agg_impacts.iloc[['Metal Ores' in i for i in imp],:].sum(axis = 0), name = 'Metal Ores (kt)'),\n",
    "    pd.Series(agg_impacts.iloc[['Non-Metallic Minerals' in i for i in imp],:].sum(axis = 0), name = 'Non-Metallic Minerals (kt)'),\n",
    "    pd.Series(agg_impacts.iloc[['Primary Crops' in i for i in imp],:].sum(axis = 0), name = 'Crops (kt)'),\n",
    "    pd.Series(agg_impacts.iloc[['Cropland' in i for i in imp],:].sum(axis = 0), name = 'Cropland (km2)'),\n",
    "    pd.Series(agg_impacts.iloc[['Forest area' in i for i in imp],:].sum(axis = 0), name = 'Forest area (km2)'),\n",
    "    pd.Series(agg_impacts.iloc[['Permanent pasture' in i for i in imp],:].sum(axis = 0), name = 'Permanent pastures (km2)'),\n",
    "    pd.Series(agg_impacts.iloc[['Cropland' in i or 'land Use' in i or 'pasture' in i for i in imp],:].sum(axis = 0), name = 'Land use (km2)'),\n",
    "    pd.Series(agg_impacts.iloc[['Water Consumption Blue' in i for i in imp],:].sum(axis = 0), name = 'Water Consumption Blue (Mm3)'),\n",
    "    pd.Series(agg_impacts.iloc[['Water Consumption Green' in i for i in imp],:].sum(axis = 0), name = 'Water Consumption Green (Mm3)'),\n",
    "    pd.Series(agg_impacts.iloc[['Water Withdrawal' in i for i in imp],:].sum(axis = 0), name = 'Water Withdrawal Blue (Mm3)'),\n",
    "    pd.Series(agg_impacts.iloc[['wages' in i for i in imp],:].sum(0), name='Wages (incl. social contributions) (M€)'),\n",
    "    pd.Series(agg_impacts.iloc[['surplus' in i for i in imp],:].sum(0), name='Operating surplus (investment, rents, profit) (M€)'),\n",
    "    pd.Series(agg_impacts.iloc[['axes' in i or 'wages' in i or 'surplus' in i for i in imp],:].sum(0), name='Value added (wages, surplus and taxes) (M€)'),\n",
    "    pd.Series(agg_impacts.iloc[['Employment:' in i and 'Vulnerable' not in i for i in imp],:].sum(0), name='Employment (k pers)'),\n",
    "    pd.Series(agg_impacts.iloc[['Employment hours:' in i and 'Vulnerable' not in i for i in imp],:].sum(0), name = 'Employment hours (M.hr)')])\n",
    "del(agg_impacts)"
   ]
  },
  {
   "cell_type": "code",
   "execution_count": 18,
   "metadata": {},
   "outputs": [],
   "source": [
    "pickle.dump(exio3, open(path_io + 'Exiobase 3.4/exio3.pkl', 'wb'))"
   ]
  }
 ],
 "metadata": {
  "kernelspec": {
   "display_name": "Python 3",
   "language": "python",
   "name": "python3"
  },
  "language_info": {
   "codemirror_mode": {
    "name": "ipython",
    "version": 3
   },
   "file_extension": ".py",
   "mimetype": "text/x-python",
   "name": "python",
   "nbconvert_exporter": "python",
   "pygments_lexer": "ipython3",
   "version": "3.7.4"
  }
 },
 "nbformat": 4,
 "nbformat_minor": 4
}
