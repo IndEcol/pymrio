{
 "cells": [
  {
   "cell_type": "markdown",
   "metadata": {},
   "source": [
    "# Using the aggregation functionality of pymrio"
   ]
  },
  {
   "cell_type": "markdown",
   "metadata": {},
   "source": [
    "Pymrio offers various possibilities to achieve an aggreation of a existing MRIO system. \n",
    "The following section will present all of them in turn, using the test MRIO system included in pymrio.\n",
    "The same concept can be applied to real life MRIOs."
   ]
  },
  {
   "cell_type": "markdown",
   "metadata": {},
   "source": [
    "Some of the examples rely in the [country converter coco](https://github.com/konstantinstadler/country_converter). The minimum version required is coco >= 0.6.3 - install the latest version with \n",
    "```\n",
    "pip install country_converter --upgrade\n",
    "```\n",
    "Coco can also be installed from the Anaconda Cloud - see the coco readme for further infos."
   ]
  },
  {
   "cell_type": "markdown",
   "metadata": {},
   "source": [
    "## Loading the test mrio"
   ]
  },
  {
   "cell_type": "markdown",
   "metadata": {},
   "source": [
    "First, we load and explore the test MRIO included in pymrio:"
   ]
  },
  {
   "cell_type": "code",
   "execution_count": 1,
   "metadata": {
    "collapsed": true
   },
   "outputs": [],
   "source": [
    "import numpy as np\n",
    "import pymrio"
   ]
  },
  {
   "cell_type": "code",
   "execution_count": 2,
   "metadata": {},
   "outputs": [
    {
     "data": {
      "text/plain": [
       "<pymrio.core.mriosystem.IOSystem at 0x7f45f043b4d0>"
      ]
     },
     "execution_count": 2,
     "metadata": {},
     "output_type": "execute_result"
    }
   ],
   "source": [
    "io = pymrio.load_test()\n",
    "io.calc_all()"
   ]
  },
  {
   "cell_type": "code",
   "execution_count": 3,
   "metadata": {},
   "outputs": [
    {
     "name": "stdout",
     "output_type": "stream",
     "text": [
      "Sectors: ['food', 'mining', 'manufactoring', 'electricity', 'construction', 'trade', 'transport', 'other'],\n",
      "Regions: ['reg1', 'reg2', 'reg3', 'reg4', 'reg5', 'reg6']\n"
     ]
    }
   ],
   "source": [
    "print(\"Sectors: {sec},\\nRegions: {reg}\".format(sec=io.get_sectors().tolist(), reg=io.get_regions().tolist()))"
   ]
  },
  {
   "cell_type": "markdown",
   "metadata": {},
   "source": [
    "## Aggregation using a numerical concordance matrix"
   ]
  },
  {
   "cell_type": "markdown",
   "metadata": {},
   "source": [
    "This is the standard way to aggregate MRIOs when you work in Matlab.\n",
    "To do so, we need to set up a concordance matrix in which the columns correspond to the orignal classification and the rows to the aggregated one."
   ]
  },
  {
   "cell_type": "code",
   "execution_count": 4,
   "metadata": {
    "collapsed": true
   },
   "outputs": [],
   "source": [
    "sec_agg_matrix = np.array([\n",
    "    [1, 0, 0, 0, 0, 0, 0, 0],\n",
    "    [0, 1, 1, 1, 1, 0, 0, 0],\n",
    "    [0, 0, 0, 0, 0, 1, 1, 1]\n",
    "    ])\n",
    "\n",
    "reg_agg_matrix = np.array([\n",
    "    [1, 1, 1, 0, 0, 0],\n",
    "    [0, 0, 0, 1, 1, 1]\n",
    "    ])"
   ]
  },
  {
   "cell_type": "code",
   "execution_count": 5,
   "metadata": {},
   "outputs": [
    {
     "data": {
      "text/plain": [
       "<pymrio.core.mriosystem.IOSystem at 0x7f45f043b4d0>"
      ]
     },
     "execution_count": 5,
     "metadata": {},
     "output_type": "execute_result"
    }
   ],
   "source": [
    "io.aggregate(region_agg=reg_agg_matrix, sector_agg=sec_agg_matrix)"
   ]
  },
  {
   "cell_type": "code",
   "execution_count": 6,
   "metadata": {},
   "outputs": [
    {
     "name": "stdout",
     "output_type": "stream",
     "text": [
      "Sectors: ['sec0', 'sec1', 'sec2'],\n",
      "Regions: ['reg0', 'reg1']\n"
     ]
    }
   ],
   "source": [
    "print(\"Sectors: {sec},\\nRegions: {reg}\".format(sec=io.get_sectors().tolist(), reg=io.get_regions().tolist()))"
   ]
  },
  {
   "cell_type": "code",
   "execution_count": 7,
   "metadata": {},
   "outputs": [
    {
     "data": {
      "text/plain": [
       "<pymrio.core.mriosystem.IOSystem at 0x7f45f043b4d0>"
      ]
     },
     "execution_count": 7,
     "metadata": {},
     "output_type": "execute_result"
    }
   ],
   "source": [
    "io.calc_all()"
   ]
  },
  {
   "cell_type": "code",
   "execution_count": 8,
   "metadata": {},
   "outputs": [
    {
     "data": {
      "text/html": [
       "<div>\n",
       "<style scoped>\n",
       "    .dataframe tbody tr th:only-of-type {\n",
       "        vertical-align: middle;\n",
       "    }\n",
       "\n",
       "    .dataframe tbody tr th {\n",
       "        vertical-align: top;\n",
       "    }\n",
       "\n",
       "    .dataframe thead tr th {\n",
       "        text-align: left;\n",
       "    }\n",
       "\n",
       "    .dataframe thead tr:last-of-type th {\n",
       "        text-align: right;\n",
       "    }\n",
       "</style>\n",
       "<table border=\"1\" class=\"dataframe\">\n",
       "  <thead>\n",
       "    <tr>\n",
       "      <th></th>\n",
       "      <th>region</th>\n",
       "      <th colspan=\"3\" halign=\"left\">reg0</th>\n",
       "      <th colspan=\"3\" halign=\"left\">reg1</th>\n",
       "    </tr>\n",
       "    <tr>\n",
       "      <th></th>\n",
       "      <th>sector</th>\n",
       "      <th>sec0</th>\n",
       "      <th>sec1</th>\n",
       "      <th>sec2</th>\n",
       "      <th>sec0</th>\n",
       "      <th>sec1</th>\n",
       "      <th>sec2</th>\n",
       "    </tr>\n",
       "    <tr>\n",
       "      <th>stressor</th>\n",
       "      <th>compartment</th>\n",
       "      <th></th>\n",
       "      <th></th>\n",
       "      <th></th>\n",
       "      <th></th>\n",
       "      <th></th>\n",
       "      <th></th>\n",
       "    </tr>\n",
       "  </thead>\n",
       "  <tbody>\n",
       "    <tr>\n",
       "      <th>emission_type1</th>\n",
       "      <th>air</th>\n",
       "      <td>9.041149e+06</td>\n",
       "      <td>3.018791e+08</td>\n",
       "      <td>1.523236e+08</td>\n",
       "      <td>2.469465e+07</td>\n",
       "      <td>3.468742e+08</td>\n",
       "      <td>2.454117e+08</td>\n",
       "    </tr>\n",
       "    <tr>\n",
       "      <th>emission_type2</th>\n",
       "      <th>water</th>\n",
       "      <td>2.123543e+06</td>\n",
       "      <td>4.884509e+07</td>\n",
       "      <td>9.889757e+07</td>\n",
       "      <td>6.000239e+06</td>\n",
       "      <td>4.594530e+07</td>\n",
       "      <td>1.892731e+08</td>\n",
       "    </tr>\n",
       "  </tbody>\n",
       "</table>\n",
       "</div>"
      ],
      "text/plain": [
       "region                              reg0                              \\\n",
       "sector                              sec0          sec1          sec2   \n",
       "stressor       compartment                                             \n",
       "emission_type1 air          9.041149e+06  3.018791e+08  1.523236e+08   \n",
       "emission_type2 water        2.123543e+06  4.884509e+07  9.889757e+07   \n",
       "\n",
       "region                              reg1                              \n",
       "sector                              sec0          sec1          sec2  \n",
       "stressor       compartment                                            \n",
       "emission_type1 air          2.469465e+07  3.468742e+08  2.454117e+08  \n",
       "emission_type2 water        6.000239e+06  4.594530e+07  1.892731e+08  "
      ]
     },
     "execution_count": 8,
     "metadata": {},
     "output_type": "execute_result"
    }
   ],
   "source": [
    "io.emissions.D_cba"
   ]
  },
  {
   "cell_type": "markdown",
   "metadata": {},
   "source": [
    "To use custom names for the aggregated sectors or regions, pass a list of names in order of rows in the concordance matrix:"
   ]
  },
  {
   "cell_type": "code",
   "execution_count": 9,
   "metadata": {
    "collapsed": true
   },
   "outputs": [],
   "source": [
    "io = pymrio.load_test().calc_all().aggregate(region_agg=reg_agg_matrix, \n",
    "                                             region_names=['World Region A', 'World Region B'], \n",
    "                                             inplace=False)"
   ]
  },
  {
   "cell_type": "code",
   "execution_count": 10,
   "metadata": {},
   "outputs": [
    {
     "data": {
      "text/plain": [
       "Index(['World Region A', 'World Region B'], dtype='object', name='region')"
      ]
     },
     "execution_count": 10,
     "metadata": {},
     "output_type": "execute_result"
    }
   ],
   "source": [
    "io.get_regions()"
   ]
  },
  {
   "cell_type": "markdown",
   "metadata": {},
   "source": [
    "## Aggregation using a numerical vector"
   ]
  },
  {
   "cell_type": "markdown",
   "metadata": {},
   "source": [
    "Pymrio also accepts the aggregatio information as numerical or string vector. \n",
    "For these, each entry in the vector assignes the sector/region to a aggregation group.\n",
    "Thus the two aggregation matrices from above (*sec_agg_matrix* and *reg_agg_matrix*) can also be represented as numerical or string vectors/lists:"
   ]
  },
  {
   "cell_type": "code",
   "execution_count": 11,
   "metadata": {
    "collapsed": true
   },
   "outputs": [],
   "source": [
    "sec_agg_vec = np.array([0,1,1,1,1,2,2,2])\n",
    "reg_agg_vec = ['R1', 'R1', 'R1', 'R2', 'R2', 'R2']"
   ]
  },
  {
   "cell_type": "markdown",
   "metadata": {},
   "source": [
    "can also be represented as aggregation vector:"
   ]
  },
  {
   "cell_type": "code",
   "execution_count": 12,
   "metadata": {
    "collapsed": true
   },
   "outputs": [],
   "source": [
    "io_vec_agg = pymrio.load_test().calc_all().aggregate(region_agg=reg_agg_vec, \n",
    "                                                     sector_agg=sec_agg_vec, \n",
    "                                                     inplace=False)"
   ]
  },
  {
   "cell_type": "code",
   "execution_count": 13,
   "metadata": {},
   "outputs": [
    {
     "name": "stdout",
     "output_type": "stream",
     "text": [
      "Sectors: ['sec0', 'sec1', 'sec2'],\n",
      "Regions: ['R1', 'R2']\n"
     ]
    }
   ],
   "source": [
    "print(\"Sectors: {sec},\\nRegions: {reg}\".format(sec=io_vec_agg.get_sectors().tolist(), \n",
    "                                               reg=io_vec_agg.get_regions().tolist()))"
   ]
  },
  {
   "cell_type": "code",
   "execution_count": 14,
   "metadata": {},
   "outputs": [
    {
     "data": {
      "text/html": [
       "<div>\n",
       "<style scoped>\n",
       "    .dataframe tbody tr th:only-of-type {\n",
       "        vertical-align: middle;\n",
       "    }\n",
       "\n",
       "    .dataframe tbody tr th {\n",
       "        vertical-align: top;\n",
       "    }\n",
       "\n",
       "    .dataframe thead th {\n",
       "        text-align: right;\n",
       "    }\n",
       "</style>\n",
       "<table border=\"1\" class=\"dataframe\">\n",
       "  <thead>\n",
       "    <tr style=\"text-align: right;\">\n",
       "      <th></th>\n",
       "      <th>region</th>\n",
       "      <th>R1</th>\n",
       "      <th>R2</th>\n",
       "    </tr>\n",
       "    <tr>\n",
       "      <th>stressor</th>\n",
       "      <th>compartment</th>\n",
       "      <th></th>\n",
       "      <th></th>\n",
       "    </tr>\n",
       "  </thead>\n",
       "  <tbody>\n",
       "    <tr>\n",
       "      <th>emission_type1</th>\n",
       "      <th>air</th>\n",
       "      <td>6.690192e+08</td>\n",
       "      <td>1.686954e+09</td>\n",
       "    </tr>\n",
       "    <tr>\n",
       "      <th>emission_type2</th>\n",
       "      <th>water</th>\n",
       "      <td>5.337682e+08</td>\n",
       "      <td>5.902081e+08</td>\n",
       "    </tr>\n",
       "  </tbody>\n",
       "</table>\n",
       "</div>"
      ],
      "text/plain": [
       "region                                R1            R2\n",
       "stressor       compartment                            \n",
       "emission_type1 air          6.690192e+08  1.686954e+09\n",
       "emission_type2 water        5.337682e+08  5.902081e+08"
      ]
     },
     "execution_count": 14,
     "metadata": {},
     "output_type": "execute_result"
    }
   ],
   "source": [
    "io_vec_agg.emissions.D_cba_reg"
   ]
  },
  {
   "cell_type": "markdown",
   "metadata": {},
   "source": [
    "## Regional aggregation using the country converter coco"
   ]
  },
  {
   "cell_type": "markdown",
   "metadata": {},
   "source": [
    "The previous examples are best suited if you want to reuse existing aggregation information.\n",
    "For new/ad hoc aggregation, the most user-friendly solution is to build the concordance with the [country converter coco](https://github.com/konstantinstadler/country_converter). The minimum version of coco required is 0.6.2. You can either use coco to build independent aggregations (first case below) or use the predefined classifications included in coco (second case - Example WIOD below)."
   ]
  },
  {
   "cell_type": "code",
   "execution_count": 15,
   "metadata": {
    "collapsed": true
   },
   "outputs": [],
   "source": [
    "import country_converter as coco"
   ]
  },
  {
   "cell_type": "markdown",
   "metadata": {},
   "source": [
    "### Independent aggregation "
   ]
  },
  {
   "cell_type": "code",
   "execution_count": 16,
   "metadata": {
    "collapsed": true
   },
   "outputs": [],
   "source": [
    "io = pymrio.load_test().calc_all()"
   ]
  },
  {
   "cell_type": "code",
   "execution_count": 17,
   "metadata": {
    "collapsed": true
   },
   "outputs": [],
   "source": [
    "reg_agg_coco = coco.agg_conc(original_countries=io.get_regions(), \n",
    "                             aggregates={'reg1': 'World Region A',\n",
    "                                         'reg2': 'World Region A',\n",
    "                                         'reg3': 'World Region A',},\n",
    "                             missing_countries='World Region B')                               "
   ]
  },
  {
   "cell_type": "code",
   "execution_count": 18,
   "metadata": {},
   "outputs": [
    {
     "data": {
      "text/plain": [
       "<pymrio.core.mriosystem.IOSystem at 0x7f45f046ba50>"
      ]
     },
     "execution_count": 18,
     "metadata": {},
     "output_type": "execute_result"
    }
   ],
   "source": [
    "io.aggregate(region_agg=reg_agg_coco)"
   ]
  },
  {
   "cell_type": "code",
   "execution_count": 19,
   "metadata": {},
   "outputs": [
    {
     "name": "stdout",
     "output_type": "stream",
     "text": [
      "Sectors: ['food', 'mining', 'manufactoring', 'electricity', 'construction', 'trade', 'transport', 'other'],\n",
      "Regions: ['World Region A', 'World Region B']\n"
     ]
    }
   ],
   "source": [
    "print(\"Sectors: {sec},\\nRegions: {reg}\".format(sec=io.get_sectors().tolist(), \n",
    "                                               reg=io.get_regions().tolist()))"
   ]
  },
  {
   "cell_type": "markdown",
   "metadata": {},
   "source": [
    "This can be passed directly to pymrio:"
   ]
  },
  {
   "cell_type": "code",
   "execution_count": 20,
   "metadata": {},
   "outputs": [
    {
     "data": {
      "text/html": [
       "<div>\n",
       "<style scoped>\n",
       "    .dataframe tbody tr th:only-of-type {\n",
       "        vertical-align: middle;\n",
       "    }\n",
       "\n",
       "    .dataframe tbody tr th {\n",
       "        vertical-align: top;\n",
       "    }\n",
       "\n",
       "    .dataframe thead th {\n",
       "        text-align: right;\n",
       "    }\n",
       "</style>\n",
       "<table border=\"1\" class=\"dataframe\">\n",
       "  <thead>\n",
       "    <tr style=\"text-align: right;\">\n",
       "      <th></th>\n",
       "      <th>region</th>\n",
       "      <th>World Region A</th>\n",
       "      <th>World Region B</th>\n",
       "    </tr>\n",
       "    <tr>\n",
       "      <th>stressor</th>\n",
       "      <th>compartment</th>\n",
       "      <th></th>\n",
       "      <th></th>\n",
       "    </tr>\n",
       "  </thead>\n",
       "  <tbody>\n",
       "    <tr>\n",
       "      <th>emission_type1</th>\n",
       "      <th>air</th>\n",
       "      <td>6.690192e+08</td>\n",
       "      <td>1.686954e+09</td>\n",
       "    </tr>\n",
       "    <tr>\n",
       "      <th>emission_type2</th>\n",
       "      <th>water</th>\n",
       "      <td>5.337682e+08</td>\n",
       "      <td>5.902081e+08</td>\n",
       "    </tr>\n",
       "  </tbody>\n",
       "</table>\n",
       "</div>"
      ],
      "text/plain": [
       "region                      World Region A  World Region B\n",
       "stressor       compartment                                \n",
       "emission_type1 air            6.690192e+08    1.686954e+09\n",
       "emission_type2 water          5.337682e+08    5.902081e+08"
      ]
     },
     "execution_count": 20,
     "metadata": {},
     "output_type": "execute_result"
    }
   ],
   "source": [
    "io.emissions.D_cba_reg"
   ]
  },
  {
   "cell_type": "markdown",
   "metadata": {},
   "source": [
    "A pandas DataFrame corresponding to the output from *coco* can also be passed to *sector_agg* for aggregation.\n",
    "A sector aggregation package similar to the country converter is planned."
   ]
  },
  {
   "cell_type": "markdown",
   "metadata": {},
   "source": [
    "### Using the build-in classifications - WIOD example"
   ]
  },
  {
   "cell_type": "markdown",
   "metadata": {},
   "source": [
    "The country converter is most useful when you work with a MRIO which is included in coco. In that case you can just pass the desired country aggregation to coco and it returns the required aggregation matrix:"
   ]
  },
  {
   "cell_type": "markdown",
   "metadata": {},
   "source": [
    "For the example here, we assume that a raw WIOD download is available at:"
   ]
  },
  {
   "cell_type": "code",
   "execution_count": 21,
   "metadata": {
    "collapsed": true
   },
   "outputs": [],
   "source": [
    "wiod_raw = '/tmp/mrios/WIOD2013'"
   ]
  },
  {
   "cell_type": "markdown",
   "metadata": {},
   "source": [
    "We will parse the year 2000 and calculate the results:"
   ]
  },
  {
   "cell_type": "code",
   "execution_count": 22,
   "metadata": {
    "collapsed": true
   },
   "outputs": [],
   "source": [
    "wiod_orig = pymrio.parse_wiod(path=wiod_raw, year=2000).calc_all()"
   ]
  },
  {
   "cell_type": "markdown",
   "metadata": {},
   "source": [
    "and then aggregate the database to first the EU countries and group the remaining countries based on OECD membership. In the example below, we single out Germany (DEU) to be not included in the aggregation:"
   ]
  },
  {
   "cell_type": "code",
   "execution_count": 23,
   "metadata": {
    "collapsed": true
   },
   "outputs": [],
   "source": [
    "wiod_agg_DEU_EU_OECD = wiod_orig.aggregate(\n",
    "    region_agg = coco.agg_conc(original_countries='WIOD',\n",
    "                               aggregates=[{'DEU': 'DEU'},'EU', 'OECD'],\n",
    "                               missing_countries='Other',\n",
    "                               merge_multiple_string=None),\n",
    "    inplace=False)"
   ]
  },
  {
   "cell_type": "markdown",
   "metadata": {},
   "source": [
    "We can then rename the regions to make the membership clearer:"
   ]
  },
  {
   "cell_type": "code",
   "execution_count": 24,
   "metadata": {},
   "outputs": [
    {
     "data": {
      "text/plain": [
       "<pymrio.core.mriosystem.IOSystem at 0x7f45d8d10f10>"
      ]
     },
     "execution_count": 24,
     "metadata": {},
     "output_type": "execute_result"
    }
   ],
   "source": [
    "wiod_agg_DEU_EU_OECD.rename_regions({'OECD': 'OECDwoEU',\n",
    "                                     'EU': 'EUwoGermany'})"
   ]
  },
  {
   "cell_type": "markdown",
   "metadata": {},
   "source": [
    "To see the result for the air emission footprints:"
   ]
  },
  {
   "cell_type": "code",
   "execution_count": 25,
   "metadata": {},
   "outputs": [
    {
     "data": {
      "text/html": [
       "<div>\n",
       "<style scoped>\n",
       "    .dataframe tbody tr th:only-of-type {\n",
       "        vertical-align: middle;\n",
       "    }\n",
       "\n",
       "    .dataframe tbody tr th {\n",
       "        vertical-align: top;\n",
       "    }\n",
       "\n",
       "    .dataframe thead th {\n",
       "        text-align: right;\n",
       "    }\n",
       "</style>\n",
       "<table border=\"1\" class=\"dataframe\">\n",
       "  <thead>\n",
       "    <tr style=\"text-align: right;\">\n",
       "      <th>region</th>\n",
       "      <th>OECDwoEU</th>\n",
       "      <th>EUwoGermany</th>\n",
       "      <th>Other</th>\n",
       "      <th>DEU</th>\n",
       "    </tr>\n",
       "    <tr>\n",
       "      <th>stressor</th>\n",
       "      <th></th>\n",
       "      <th></th>\n",
       "      <th></th>\n",
       "      <th></th>\n",
       "    </tr>\n",
       "  </thead>\n",
       "  <tbody>\n",
       "    <tr>\n",
       "      <th>CO2</th>\n",
       "      <td>9.576199e+06</td>\n",
       "      <td>3.840406e+06</td>\n",
       "      <td>9.232742e+06</td>\n",
       "      <td>1.123772e+06</td>\n",
       "    </tr>\n",
       "    <tr>\n",
       "      <th>CH4</th>\n",
       "      <td>6.066454e+07</td>\n",
       "      <td>3.134722e+07</td>\n",
       "      <td>1.487615e+08</td>\n",
       "      <td>7.953304e+06</td>\n",
       "    </tr>\n",
       "    <tr>\n",
       "      <th>N2O</th>\n",
       "      <td>2.103103e+06</td>\n",
       "      <td>1.264400e+06</td>\n",
       "      <td>6.166586e+06</td>\n",
       "      <td>2.941486e+05</td>\n",
       "    </tr>\n",
       "    <tr>\n",
       "      <th>NOX</th>\n",
       "      <td>3.730527e+07</td>\n",
       "      <td>1.385859e+07</td>\n",
       "      <td>5.103133e+07</td>\n",
       "      <td>3.164278e+06</td>\n",
       "    </tr>\n",
       "    <tr>\n",
       "      <th>SOX</th>\n",
       "      <td>3.362054e+07</td>\n",
       "      <td>1.239562e+07</td>\n",
       "      <td>5.137882e+07</td>\n",
       "      <td>2.045926e+06</td>\n",
       "    </tr>\n",
       "    <tr>\n",
       "      <th>CO</th>\n",
       "      <td>1.916016e+08</td>\n",
       "      <td>5.951296e+07</td>\n",
       "      <td>4.424992e+08</td>\n",
       "      <td>1.296816e+07</td>\n",
       "    </tr>\n",
       "    <tr>\n",
       "      <th>NMVOC</th>\n",
       "      <td>3.423713e+07</td>\n",
       "      <td>1.536753e+07</td>\n",
       "      <td>8.186918e+07</td>\n",
       "      <td>2.870176e+06</td>\n",
       "    </tr>\n",
       "    <tr>\n",
       "      <th>NH3</th>\n",
       "      <td>5.453330e+06</td>\n",
       "      <td>3.867825e+06</td>\n",
       "      <td>1.674807e+07</td>\n",
       "      <td>8.656818e+05</td>\n",
       "    </tr>\n",
       "  </tbody>\n",
       "</table>\n",
       "</div>"
      ],
      "text/plain": [
       "region        OECDwoEU   EUwoGermany         Other           DEU\n",
       "stressor                                                        \n",
       "CO2       9.576199e+06  3.840406e+06  9.232742e+06  1.123772e+06\n",
       "CH4       6.066454e+07  3.134722e+07  1.487615e+08  7.953304e+06\n",
       "N2O       2.103103e+06  1.264400e+06  6.166586e+06  2.941486e+05\n",
       "NOX       3.730527e+07  1.385859e+07  5.103133e+07  3.164278e+06\n",
       "SOX       3.362054e+07  1.239562e+07  5.137882e+07  2.045926e+06\n",
       "CO        1.916016e+08  5.951296e+07  4.424992e+08  1.296816e+07\n",
       "NMVOC     3.423713e+07  1.536753e+07  8.186918e+07  2.870176e+06\n",
       "NH3       5.453330e+06  3.867825e+06  1.674807e+07  8.656818e+05"
      ]
     },
     "execution_count": 25,
     "metadata": {},
     "output_type": "execute_result"
    }
   ],
   "source": [
    "wiod_agg_DEU_EU_OECD.AIR.D_cba_reg"
   ]
  },
  {
   "cell_type": "markdown",
   "metadata": {},
   "source": [
    "For further examples on the capabilities of the country converter see the [coco tutorial notebook](http://nbviewer.jupyter.org/github/konstantinstadler/country_converter/blob/master/doc/country_converter_aggregation_helper.ipynb)"
   ]
  },
  {
   "cell_type": "markdown",
   "metadata": {},
   "source": [
    "## Aggregation to one total sector / region"
   ]
  },
  {
   "cell_type": "markdown",
   "metadata": {},
   "source": [
    "Both, *region_agg* and *sector_agg*, also accept a string as argument. This leads to the aggregation to one total region or sector for the full IO system."
   ]
  },
  {
   "cell_type": "code",
   "execution_count": 26,
   "metadata": {},
   "outputs": [
    {
     "data": {
      "text/html": [
       "<div>\n",
       "<style scoped>\n",
       "    .dataframe tbody tr th:only-of-type {\n",
       "        vertical-align: middle;\n",
       "    }\n",
       "\n",
       "    .dataframe tbody tr th {\n",
       "        vertical-align: top;\n",
       "    }\n",
       "\n",
       "    .dataframe thead tr th {\n",
       "        text-align: left;\n",
       "    }\n",
       "\n",
       "    .dataframe thead tr:last-of-type th {\n",
       "        text-align: right;\n",
       "    }\n",
       "</style>\n",
       "<table border=\"1\" class=\"dataframe\">\n",
       "  <thead>\n",
       "    <tr>\n",
       "      <th></th>\n",
       "      <th>region</th>\n",
       "      <th>global</th>\n",
       "    </tr>\n",
       "    <tr>\n",
       "      <th></th>\n",
       "      <th>sector</th>\n",
       "      <th>total</th>\n",
       "    </tr>\n",
       "    <tr>\n",
       "      <th>stressor</th>\n",
       "      <th>compartment</th>\n",
       "      <th></th>\n",
       "    </tr>\n",
       "  </thead>\n",
       "  <tbody>\n",
       "    <tr>\n",
       "      <th>emission_type1</th>\n",
       "      <th>air</th>\n",
       "      <td>1.080224e+09</td>\n",
       "    </tr>\n",
       "    <tr>\n",
       "      <th>emission_type2</th>\n",
       "      <th>water</th>\n",
       "      <td>3.910848e+08</td>\n",
       "    </tr>\n",
       "  </tbody>\n",
       "</table>\n",
       "</div>"
      ],
      "text/plain": [
       "region                            global\n",
       "sector                             total\n",
       "stressor       compartment              \n",
       "emission_type1 air          1.080224e+09\n",
       "emission_type2 water        3.910848e+08"
      ]
     },
     "execution_count": 26,
     "metadata": {},
     "output_type": "execute_result"
    }
   ],
   "source": [
    "pymrio.load_test().calc_all().aggregate(region_agg='global', sector_agg='total').emissions.D_cba"
   ]
  },
  {
   "cell_type": "markdown",
   "metadata": {},
   "source": [
    "## Pre- vs post-aggregation account calculations"
   ]
  },
  {
   "cell_type": "markdown",
   "metadata": {},
   "source": [
    "It is generally recommended to calculate MRIO accounts with the highest detail possible and aggregated the results afterwards (post-aggregation - see for example [Steen-Olsen et al 2014](http://dx.doi.org/10.1080/09535314.2014.934325), [Stadler et al 2014](https://zenodo.org/record/1137670#.WlOSOhZG1O8) or [Koning et al 2015](https://doi.org/10.1016/j.ecolecon.2015.05.008). \n",
    "\n",
    "Pre-aggregation, that means the aggregation of MRIO sectors and regions before calculation of footprint accounts, might be necessary when dealing with MRIOs on computers with limited RAM resources. However, one should be aware that the results might change.\n",
    "\n",
    "Pymrio can handle both cases and can be used to highlight the differences. To do so, we use the two  concordance matrices defined at the beginning (*sec_agg_matrix* and *reg_agg_matrix*) and aggregate the test system before and after the calculation of the accounts:"
   ]
  },
  {
   "cell_type": "code",
   "execution_count": 27,
   "metadata": {
    "collapsed": true
   },
   "outputs": [],
   "source": [
    "io_pre = pymrio.load_test().aggregate(region_agg=reg_agg_matrix, sector_agg=sec_agg_matrix).calc_all()\n",
    "io_post = pymrio.load_test().calc_all().aggregate(region_agg=reg_agg_matrix, sector_agg=sec_agg_matrix)"
   ]
  },
  {
   "cell_type": "code",
   "execution_count": 28,
   "metadata": {},
   "outputs": [
    {
     "data": {
      "text/html": [
       "<div>\n",
       "<style scoped>\n",
       "    .dataframe tbody tr th:only-of-type {\n",
       "        vertical-align: middle;\n",
       "    }\n",
       "\n",
       "    .dataframe tbody tr th {\n",
       "        vertical-align: top;\n",
       "    }\n",
       "\n",
       "    .dataframe thead tr th {\n",
       "        text-align: left;\n",
       "    }\n",
       "\n",
       "    .dataframe thead tr:last-of-type th {\n",
       "        text-align: right;\n",
       "    }\n",
       "</style>\n",
       "<table border=\"1\" class=\"dataframe\">\n",
       "  <thead>\n",
       "    <tr>\n",
       "      <th></th>\n",
       "      <th>region</th>\n",
       "      <th colspan=\"3\" halign=\"left\">reg0</th>\n",
       "      <th colspan=\"3\" halign=\"left\">reg1</th>\n",
       "    </tr>\n",
       "    <tr>\n",
       "      <th></th>\n",
       "      <th>sector</th>\n",
       "      <th>sec0</th>\n",
       "      <th>sec1</th>\n",
       "      <th>sec2</th>\n",
       "      <th>sec0</th>\n",
       "      <th>sec1</th>\n",
       "      <th>sec2</th>\n",
       "    </tr>\n",
       "    <tr>\n",
       "      <th>stressor</th>\n",
       "      <th>compartment</th>\n",
       "      <th></th>\n",
       "      <th></th>\n",
       "      <th></th>\n",
       "      <th></th>\n",
       "      <th></th>\n",
       "      <th></th>\n",
       "    </tr>\n",
       "  </thead>\n",
       "  <tbody>\n",
       "    <tr>\n",
       "      <th>emission_type1</th>\n",
       "      <th>air</th>\n",
       "      <td>7.722782e+06</td>\n",
       "      <td>3.494413e+08</td>\n",
       "      <td>1.388764e+08</td>\n",
       "      <td>2.695396e+07</td>\n",
       "      <td>3.354598e+08</td>\n",
       "      <td>2.217703e+08</td>\n",
       "    </tr>\n",
       "    <tr>\n",
       "      <th>emission_type2</th>\n",
       "      <th>water</th>\n",
       "      <td>1.862161e+06</td>\n",
       "      <td>5.240950e+07</td>\n",
       "      <td>1.583465e+08</td>\n",
       "      <td>6.399685e+06</td>\n",
       "      <td>4.080509e+07</td>\n",
       "      <td>1.312619e+08</td>\n",
       "    </tr>\n",
       "  </tbody>\n",
       "</table>\n",
       "</div>"
      ],
      "text/plain": [
       "region                              reg0                              \\\n",
       "sector                              sec0          sec1          sec2   \n",
       "stressor       compartment                                             \n",
       "emission_type1 air          7.722782e+06  3.494413e+08  1.388764e+08   \n",
       "emission_type2 water        1.862161e+06  5.240950e+07  1.583465e+08   \n",
       "\n",
       "region                              reg1                              \n",
       "sector                              sec0          sec1          sec2  \n",
       "stressor       compartment                                            \n",
       "emission_type1 air          2.695396e+07  3.354598e+08  2.217703e+08  \n",
       "emission_type2 water        6.399685e+06  4.080509e+07  1.312619e+08  "
      ]
     },
     "execution_count": 28,
     "metadata": {},
     "output_type": "execute_result"
    }
   ],
   "source": [
    "io_pre.emissions.D_cba"
   ]
  },
  {
   "cell_type": "code",
   "execution_count": 29,
   "metadata": {},
   "outputs": [
    {
     "data": {
      "text/html": [
       "<div>\n",
       "<style scoped>\n",
       "    .dataframe tbody tr th:only-of-type {\n",
       "        vertical-align: middle;\n",
       "    }\n",
       "\n",
       "    .dataframe tbody tr th {\n",
       "        vertical-align: top;\n",
       "    }\n",
       "\n",
       "    .dataframe thead tr th {\n",
       "        text-align: left;\n",
       "    }\n",
       "\n",
       "    .dataframe thead tr:last-of-type th {\n",
       "        text-align: right;\n",
       "    }\n",
       "</style>\n",
       "<table border=\"1\" class=\"dataframe\">\n",
       "  <thead>\n",
       "    <tr>\n",
       "      <th></th>\n",
       "      <th>region</th>\n",
       "      <th colspan=\"3\" halign=\"left\">reg0</th>\n",
       "      <th colspan=\"3\" halign=\"left\">reg1</th>\n",
       "    </tr>\n",
       "    <tr>\n",
       "      <th></th>\n",
       "      <th>sector</th>\n",
       "      <th>sec0</th>\n",
       "      <th>sec1</th>\n",
       "      <th>sec2</th>\n",
       "      <th>sec0</th>\n",
       "      <th>sec1</th>\n",
       "      <th>sec2</th>\n",
       "    </tr>\n",
       "    <tr>\n",
       "      <th>stressor</th>\n",
       "      <th>compartment</th>\n",
       "      <th></th>\n",
       "      <th></th>\n",
       "      <th></th>\n",
       "      <th></th>\n",
       "      <th></th>\n",
       "      <th></th>\n",
       "    </tr>\n",
       "  </thead>\n",
       "  <tbody>\n",
       "    <tr>\n",
       "      <th>emission_type1</th>\n",
       "      <th>air</th>\n",
       "      <td>9.041149e+06</td>\n",
       "      <td>3.018791e+08</td>\n",
       "      <td>1.523236e+08</td>\n",
       "      <td>2.469465e+07</td>\n",
       "      <td>3.468742e+08</td>\n",
       "      <td>2.454117e+08</td>\n",
       "    </tr>\n",
       "    <tr>\n",
       "      <th>emission_type2</th>\n",
       "      <th>water</th>\n",
       "      <td>2.123543e+06</td>\n",
       "      <td>4.884509e+07</td>\n",
       "      <td>9.889757e+07</td>\n",
       "      <td>6.000239e+06</td>\n",
       "      <td>4.594530e+07</td>\n",
       "      <td>1.892731e+08</td>\n",
       "    </tr>\n",
       "  </tbody>\n",
       "</table>\n",
       "</div>"
      ],
      "text/plain": [
       "region                              reg0                              \\\n",
       "sector                              sec0          sec1          sec2   \n",
       "stressor       compartment                                             \n",
       "emission_type1 air          9.041149e+06  3.018791e+08  1.523236e+08   \n",
       "emission_type2 water        2.123543e+06  4.884509e+07  9.889757e+07   \n",
       "\n",
       "region                              reg1                              \n",
       "sector                              sec0          sec1          sec2  \n",
       "stressor       compartment                                            \n",
       "emission_type1 air          2.469465e+07  3.468742e+08  2.454117e+08  \n",
       "emission_type2 water        6.000239e+06  4.594530e+07  1.892731e+08  "
      ]
     },
     "execution_count": 29,
     "metadata": {},
     "output_type": "execute_result"
    }
   ],
   "source": [
    "io_post.emissions.D_cba"
   ]
  },
  {
   "cell_type": "markdown",
   "metadata": {},
   "source": [
    "The same results as in io_pre are obtained for io_post, if we recalculate the footprint accounts based on the aggregated system:"
   ]
  },
  {
   "cell_type": "code",
   "execution_count": 30,
   "metadata": {},
   "outputs": [
    {
     "data": {
      "text/html": [
       "<div>\n",
       "<style scoped>\n",
       "    .dataframe tbody tr th:only-of-type {\n",
       "        vertical-align: middle;\n",
       "    }\n",
       "\n",
       "    .dataframe tbody tr th {\n",
       "        vertical-align: top;\n",
       "    }\n",
       "\n",
       "    .dataframe thead tr th {\n",
       "        text-align: left;\n",
       "    }\n",
       "\n",
       "    .dataframe thead tr:last-of-type th {\n",
       "        text-align: right;\n",
       "    }\n",
       "</style>\n",
       "<table border=\"1\" class=\"dataframe\">\n",
       "  <thead>\n",
       "    <tr>\n",
       "      <th></th>\n",
       "      <th>region</th>\n",
       "      <th colspan=\"3\" halign=\"left\">reg0</th>\n",
       "      <th colspan=\"3\" halign=\"left\">reg1</th>\n",
       "    </tr>\n",
       "    <tr>\n",
       "      <th></th>\n",
       "      <th>sector</th>\n",
       "      <th>sec0</th>\n",
       "      <th>sec1</th>\n",
       "      <th>sec2</th>\n",
       "      <th>sec0</th>\n",
       "      <th>sec1</th>\n",
       "      <th>sec2</th>\n",
       "    </tr>\n",
       "    <tr>\n",
       "      <th>stressor</th>\n",
       "      <th>compartment</th>\n",
       "      <th></th>\n",
       "      <th></th>\n",
       "      <th></th>\n",
       "      <th></th>\n",
       "      <th></th>\n",
       "      <th></th>\n",
       "    </tr>\n",
       "  </thead>\n",
       "  <tbody>\n",
       "    <tr>\n",
       "      <th>emission_type1</th>\n",
       "      <th>air</th>\n",
       "      <td>7.722782e+06</td>\n",
       "      <td>3.494413e+08</td>\n",
       "      <td>1.388764e+08</td>\n",
       "      <td>2.695396e+07</td>\n",
       "      <td>3.354598e+08</td>\n",
       "      <td>2.217703e+08</td>\n",
       "    </tr>\n",
       "    <tr>\n",
       "      <th>emission_type2</th>\n",
       "      <th>water</th>\n",
       "      <td>1.862161e+06</td>\n",
       "      <td>5.240950e+07</td>\n",
       "      <td>1.583465e+08</td>\n",
       "      <td>6.399685e+06</td>\n",
       "      <td>4.080509e+07</td>\n",
       "      <td>1.312619e+08</td>\n",
       "    </tr>\n",
       "  </tbody>\n",
       "</table>\n",
       "</div>"
      ],
      "text/plain": [
       "region                              reg0                              \\\n",
       "sector                              sec0          sec1          sec2   \n",
       "stressor       compartment                                             \n",
       "emission_type1 air          7.722782e+06  3.494413e+08  1.388764e+08   \n",
       "emission_type2 water        1.862161e+06  5.240950e+07  1.583465e+08   \n",
       "\n",
       "region                              reg1                              \n",
       "sector                              sec0          sec1          sec2  \n",
       "stressor       compartment                                            \n",
       "emission_type1 air          2.695396e+07  3.354598e+08  2.217703e+08  \n",
       "emission_type2 water        6.399685e+06  4.080509e+07  1.312619e+08  "
      ]
     },
     "execution_count": 30,
     "metadata": {},
     "output_type": "execute_result"
    }
   ],
   "source": [
    "io_post.reset_all_full().calc_all().emissions.D_cba"
   ]
  }
 ],
 "metadata": {
  "kernelspec": {
   "display_name": "Python 3",
   "language": "python",
   "name": "python3"
  },
  "language_info": {
   "codemirror_mode": {
    "name": "ipython",
    "version": 3
   },
   "file_extension": ".py",
   "mimetype": "text/x-python",
   "name": "python",
   "nbconvert_exporter": "python",
   "pygments_lexer": "ipython3",
   "version": "3.7.4"
  }
 },
 "nbformat": 4,
 "nbformat_minor": 2
}
