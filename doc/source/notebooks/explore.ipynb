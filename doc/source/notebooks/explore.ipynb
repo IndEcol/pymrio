{
 "cells": [
  {
   "cell_type": "markdown",
   "id": "444a77e7-8a6f-44c1-bdac-b7f1e0b052e8",
   "metadata": {
    "tags": []
   },
   "source": [
    "# Exploring MRIOs with Pymrio"
   ]
  },
  {
   "cell_type": "code",
   "execution_count": 2,
   "id": "7a8d7b7a-1d21-4cea-b7bf-578ac1b40679",
   "metadata": {
    "tags": []
   },
   "outputs": [],
   "source": [
    "import pymrio"
   ]
  },
  {
   "cell_type": "code",
   "execution_count": null,
   "id": "5ac4addd-0a85-4b49-8f95-48bc25a24366",
   "metadata": {},
   "outputs": [],
   "source": []
  }
 ],
 "metadata": {
  "kernelspec": {
   "display_name": "Python 3 (ipykernel)",
   "language": "python",
   "name": "python3"
  },
  "language_info": {
   "codemirror_mode": {
    "name": "ipython",
    "version": 3
   },
   "file_extension": ".py",
   "mimetype": "text/x-python",
   "name": "python",
   "nbconvert_exporter": "python",
   "pygments_lexer": "ipython3",
   "version": "3.10.12"
  }
 },
 "nbformat": 4,
 "nbformat_minor": 5
}
