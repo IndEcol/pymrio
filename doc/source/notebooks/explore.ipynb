{
 "cells": [
  {
   "cell_type": "markdown",
   "id": "444a77e7-8a6f-44c1-bdac-b7f1e0b052e8",
   "metadata": {
    "tags": []
   },
   "source": [
    "# Exploring MRIOs with Pymrio"
   ]
  },
  {
   "cell_type": "markdown",
   "id": "c9b420ca",
   "metadata": {
    "lines_to_next_cell": 2
   },
   "source": [
    "The first step when working with a new MRIO data set is to familiarize yourself with the data.\n",
    "This notebook shows how to use the `pymrio` package to explore the data.\n",
    "We use the test data set that is included in the `pymrio` package.\n",
    "This is a completely artificial, very small MRIO.\n",
    "It is not meant to be realistic, but it is useful for developing, testing and learning."
   ]
  },
  {
   "cell_type": "markdown",
   "id": "1f9dcc7c",
   "metadata": {},
   "source": [
    "First we import the required packages:"
   ]
  },
  {
   "cell_type": "code",
   "execution_count": 1,
   "id": "7a8d7b7a-1d21-4cea-b7bf-578ac1b40679",
   "metadata": {
    "tags": []
   },
   "outputs": [],
   "source": [
    "import pymrio"
   ]
  },
  {
   "cell_type": "markdown",
   "id": "b9eb1d0e",
   "metadata": {},
   "source": [
    "We can now load the test data set with the `load_test` function. We can call\n",
    "the MRIO whatever we want, here we use mrio."
   ]
  },
  {
   "cell_type": "code",
   "execution_count": 2,
   "id": "5ac4addd-0a85-4b49-8f95-48bc25a24366",
   "metadata": {},
   "outputs": [],
   "source": [
    "mrio = pymrio.load_test()"
   ]
  },
  {
   "cell_type": "markdown",
   "id": "15c7a08a",
   "metadata": {},
   "source": [
    "We can get some first information about the MRIO by printing it."
   ]
  },
  {
   "cell_type": "code",
   "execution_count": 3,
   "id": "f7b1fe2a",
   "metadata": {},
   "outputs": [
    {
     "name": "stdout",
     "output_type": "stream",
     "text": [
      "IO System with parameters: Z, Y, unit, population, meta, factor_inputs, emissions\n"
     ]
    }
   ],
   "source": [
    "print(mrio)"
   ]
  },
  {
   "cell_type": "markdown",
   "id": "86c1ad8d",
   "metadata": {},
   "source": [
    "This tells us what the MRIO data we just loaded contains.\n",
    "We find a Z and Y matrix, some unit information and two satellite accounts, factor_inputs and emissions."
   ]
  },
  {
   "cell_type": "markdown",
   "id": "af4d7568",
   "metadata": {},
   "source": [
    "To get more specific data we can ask pymrio for regions, sectors, products, etc."
   ]
  },
  {
   "cell_type": "code",
   "execution_count": 4,
   "id": "a6f3769d",
   "metadata": {},
   "outputs": [
    {
     "data": {
      "text/plain": [
       "'testmrio'"
      ]
     },
     "execution_count": 4,
     "metadata": {},
     "output_type": "execute_result"
    }
   ],
   "source": [
    "mrio.name"
   ]
  },
  {
   "cell_type": "code",
   "execution_count": 5,
   "id": "e3a373a2",
   "metadata": {},
   "outputs": [
    {
     "data": {
      "text/plain": [
       "Index(['reg1', 'reg2', 'reg3', 'reg4', 'reg5', 'reg6'], dtype='object', name='region')"
      ]
     },
     "execution_count": 5,
     "metadata": {},
     "output_type": "execute_result"
    }
   ],
   "source": [
    "mrio.get_regions()"
   ]
  },
  {
   "cell_type": "code",
   "execution_count": 6,
   "id": "def4d60f",
   "metadata": {},
   "outputs": [
    {
     "data": {
      "text/plain": [
       "Index(['food', 'mining', 'manufactoring', 'electricity', 'construction',\n",
       "       'trade', 'transport', 'other'],\n",
       "      dtype='object', name='sector')"
      ]
     },
     "execution_count": 6,
     "metadata": {},
     "output_type": "execute_result"
    }
   ],
   "source": [
    "mrio.get_sectors()"
   ]
  },
  {
   "cell_type": "code",
   "execution_count": 7,
   "id": "a228d193",
   "metadata": {},
   "outputs": [
    {
     "data": {
      "text/plain": [
       "Index(['Final consumption expenditure by households',\n",
       "       'Final consumption expenditure by non-profit organisations serving households (NPISH)',\n",
       "       'Final consumption expenditure by government',\n",
       "       'Gross fixed capital formation', 'Changes in inventories',\n",
       "       'Changes in valuables', 'Export'],\n",
       "      dtype='object', name='category')"
      ]
     },
     "execution_count": 7,
     "metadata": {},
     "output_type": "execute_result"
    }
   ],
   "source": [
    "mrio.get_Y_categories()"
   ]
  },
  {
   "cell_type": "markdown",
   "id": "3f431792",
   "metadata": {},
   "source": [
    "The same methods can be used to explore one of the satellite accounts."
   ]
  },
  {
   "cell_type": "code",
   "execution_count": 8,
   "id": "563d4c0d",
   "metadata": {},
   "outputs": [
    {
     "name": "stdout",
     "output_type": "stream",
     "text": [
      "Extension Emissions with parameters: name, F, F_Y, unit\n"
     ]
    }
   ],
   "source": [
    "print(mrio.emissions)"
   ]
  },
  {
   "cell_type": "code",
   "execution_count": 9,
   "id": "f7d086a5",
   "metadata": {
    "lines_to_next_cell": 0
   },
   "outputs": [
    {
     "data": {
      "text/plain": [
       "'Emissions'"
      ]
     },
     "execution_count": 9,
     "metadata": {},
     "output_type": "execute_result"
    }
   ],
   "source": [
    "mrio.emissions.name"
   ]
  },
  {
   "cell_type": "code",
   "execution_count": 10,
   "id": "fee8e893",
   "metadata": {
    "lines_to_next_cell": 2
   },
   "outputs": [
    {
     "data": {
      "text/plain": [
       "Index(['reg1', 'reg2', 'reg3', 'reg4', 'reg5', 'reg6'], dtype='object', name='region')"
      ]
     },
     "execution_count": 10,
     "metadata": {},
     "output_type": "execute_result"
    }
   ],
   "source": [
    "mrio.emissions.get_regions()"
   ]
  },
  {
   "cell_type": "markdown",
   "id": "f800f93f",
   "metadata": {},
   "source": [
    "The satellite accounts also have a special method to get index (rows) of the acccounts."
   ]
  },
  {
   "cell_type": "code",
   "execution_count": 11,
   "id": "4cc4bb69",
   "metadata": {},
   "outputs": [
    {
     "data": {
      "text/plain": [
       "MultiIndex([('emission_type1',   'air'),\n",
       "            ('emission_type2', 'water')],\n",
       "           names=['stressor', 'compartment'])"
      ]
     },
     "execution_count": 11,
     "metadata": {},
     "output_type": "execute_result"
    }
   ],
   "source": [
    "mrio.emissions.get_rows()"
   ]
  },
  {
   "cell_type": "markdown",
   "id": "fef71c10",
   "metadata": {},
   "source": [
    "# Searching through the MRIO"
   ]
  },
  {
   "cell_type": "markdown",
   "id": "b0df07b4",
   "metadata": {},
   "source": [
    "Several methods are available to search through the whole MRIO.\n",
    "These generally accept [regular expressions](https://docs.python.org/3/howto/regex.html) as search terms."
   ]
  },
  {
   "cell_type": "markdown",
   "id": "02772cf2",
   "metadata": {
    "lines_to_next_cell": 2
   },
   "source": [
    "The most general method is 'find'. This can be used for a quick overview where a specific term appears in the MRIO."
   ]
  },
  {
   "cell_type": "code",
   "execution_count": 12,
   "id": "dfc77ea0",
   "metadata": {},
   "outputs": [
    {
     "data": {
      "text/plain": [
       "{'emissions_index': MultiIndex([('emission_type1', 'air')],\n",
       "            names=['stressor', 'compartment'])}"
      ]
     },
     "execution_count": 12,
     "metadata": {},
     "output_type": "execute_result"
    }
   ],
   "source": [
    "mrio.find(\"air\")"
   ]
  },
  {
   "cell_type": "code",
   "execution_count": 13,
   "id": "995844ae",
   "metadata": {},
   "outputs": [
    {
     "data": {
      "text/plain": [
       "{'index': MultiIndex([('reg1', 'trade'),\n",
       "             ('reg2', 'trade'),\n",
       "             ('reg3', 'trade'),\n",
       "             ('reg4', 'trade'),\n",
       "             ('reg5', 'trade'),\n",
       "             ('reg6', 'trade')],\n",
       "            names=['region', 'sector']),\n",
       " 'sectors': Index(['trade'], dtype='object', name='sector')}"
      ]
     },
     "execution_count": 13,
     "metadata": {},
     "output_type": "execute_result"
    }
   ],
   "source": [
    "mrio.find(\"trade\")"
   ]
  },
  {
   "cell_type": "markdown",
   "id": "c8479a2e",
   "metadata": {},
   "source": [
    "Not that 'find' (and all other search methods) a case sensitive.\n",
    "Do make a case insensitive search, add the regular expression flag `(?i)` to the search term."
   ]
  },
  {
   "cell_type": "code",
   "execution_count": 14,
   "id": "3b8dbbbf",
   "metadata": {},
   "outputs": [
    {
     "data": {
      "text/plain": [
       "{}"
      ]
     },
     "execution_count": 14,
     "metadata": {},
     "output_type": "execute_result"
    }
   ],
   "source": [
    "mrio.find(\"value\")"
   ]
  },
  {
   "cell_type": "code",
   "execution_count": 15,
   "id": "aef01ede",
   "metadata": {},
   "outputs": [
    {
     "data": {
      "text/plain": [
       "{'factor_inputs_index': Index(['Value Added'], dtype='object', name='inputtype')}"
      ]
     },
     "execution_count": 15,
     "metadata": {},
     "output_type": "execute_result"
    }
   ],
   "source": [
    "mrio.find(\"(?i)value\")"
   ]
  },
  {
   "cell_type": "markdown",
   "id": "03a5588b",
   "metadata": {},
   "source": [
    "## Specific search methods: contains, match, fullmatch,"
   ]
  },
  {
   "cell_type": "markdown",
   "id": "46181b25",
   "metadata": {},
   "source": [
    "The MRIO class also contains a set of specific regular expresion search methods, mirroring the 'contains', 'match' and 'fullmatch'\n",
    "methods of the pandas DataFrame str column type. See the pandas documentation for details, in short:\n",
    "\n",
    "  - 'contains' looks for a match anywhere in the string\n",
    "  - 'match' looks for a match at the beginning of the string\n",
    "  - 'fullmatch' looks for a match of the whole string\n",
    "\n",
    "These methods are available for all index columns of the MRIO and have a similar signature:\n",
    "\n",
    "  1. As for 'find_all', the search term is case sensitive. To make it case insensitive, add the regular expression flag `(?i)` to the search term.\n",
    "  2. The search term can be passed to the keyword argument 'find_all' or as the first positional argument to search in all index levels.\n",
    "  3. Alternativels, the search term can be passed to the keyword argument with the level name to search only in that index level.\n",
    "\n",
    "The following examples show how to use these methods."
   ]
  },
  {
   "cell_type": "code",
   "execution_count": 16,
   "id": "cbe771bd",
   "metadata": {},
   "outputs": [
    {
     "data": {
      "text/plain": [
       "MultiIndex([('reg1', 'trade'),\n",
       "            ('reg2', 'trade'),\n",
       "            ('reg3', 'trade'),\n",
       "            ('reg4', 'trade'),\n",
       "            ('reg5', 'trade'),\n",
       "            ('reg6', 'trade')],\n",
       "           names=['region', 'sector'])"
      ]
     },
     "execution_count": 16,
     "metadata": {},
     "output_type": "execute_result"
    }
   ],
   "source": [
    "mrio.contains(find_all=\"ad\")\n",
    "mrio.contains(\"ad\")  # find_all is the default argument"
   ]
  },
  {
   "cell_type": "code",
   "execution_count": 17,
   "id": "2318254c",
   "metadata": {},
   "outputs": [
    {
     "data": {
      "text/plain": [
       "MultiIndex([], names=['region', 'sector'])"
      ]
     },
     "execution_count": 17,
     "metadata": {},
     "output_type": "execute_result"
    }
   ],
   "source": [
    "mrio.match(\"ad\")"
   ]
  },
  {
   "cell_type": "code",
   "execution_count": 18,
   "id": "69e19357",
   "metadata": {},
   "outputs": [
    {
     "data": {
      "text/plain": [
       "MultiIndex([('reg1', 'trade'),\n",
       "            ('reg2', 'trade'),\n",
       "            ('reg3', 'trade'),\n",
       "            ('reg4', 'trade'),\n",
       "            ('reg5', 'trade'),\n",
       "            ('reg6', 'trade')],\n",
       "           names=['region', 'sector'])"
      ]
     },
     "execution_count": 18,
     "metadata": {},
     "output_type": "execute_result"
    }
   ],
   "source": [
    "mrio.match(\"trad\")"
   ]
  },
  {
   "cell_type": "code",
   "execution_count": 19,
   "id": "0b086ec6",
   "metadata": {},
   "outputs": [
    {
     "data": {
      "text/plain": [
       "MultiIndex([], names=['region', 'sector'])"
      ]
     },
     "execution_count": 19,
     "metadata": {},
     "output_type": "execute_result"
    }
   ],
   "source": [
    "mrio.fullmatch(\"trad\")"
   ]
  },
  {
   "cell_type": "code",
   "execution_count": 20,
   "id": "b2c2a5ab",
   "metadata": {},
   "outputs": [
    {
     "data": {
      "text/plain": [
       "MultiIndex([('reg1', 'trade'),\n",
       "            ('reg2', 'trade'),\n",
       "            ('reg3', 'trade'),\n",
       "            ('reg4', 'trade'),\n",
       "            ('reg5', 'trade'),\n",
       "            ('reg6', 'trade')],\n",
       "           names=['region', 'sector'])"
      ]
     },
     "execution_count": 20,
     "metadata": {},
     "output_type": "execute_result"
    }
   ],
   "source": [
    "mrio.fullmatch(\"trade\")"
   ]
  },
  {
   "cell_type": "code",
   "execution_count": 21,
   "id": "c3ed13df",
   "metadata": {},
   "outputs": [
    {
     "data": {
      "text/plain": [
       "MultiIndex([('reg1', 'trade'),\n",
       "            ('reg2', 'trade'),\n",
       "            ('reg3', 'trade'),\n",
       "            ('reg4', 'trade'),\n",
       "            ('reg5', 'trade'),\n",
       "            ('reg6', 'trade')],\n",
       "           names=['region', 'sector'])"
      ]
     },
     "execution_count": 21,
     "metadata": {},
     "output_type": "execute_result"
    }
   ],
   "source": [
    "mrio.fullmatch(\"(?i).*AD.*\")"
   ]
  },
  {
   "cell_type": "markdown",
   "id": "f1b5f192",
   "metadata": {},
   "source": [
    "For the rest of the notebook, we will do the examples with the 'contains' method, but the same applies to the other methods."
   ]
  },
  {
   "cell_type": "markdown",
   "id": "b639d0c6",
   "metadata": {},
   "source": [
    "To search only at one specific level, pass the search term to the keyword argument with the level name."
   ]
  },
  {
   "cell_type": "code",
   "execution_count": 22,
   "id": "3c0c5b08",
   "metadata": {},
   "outputs": [
    {
     "data": {
      "text/plain": [
       "MultiIndex([], names=['region', 'sector'])"
      ]
     },
     "execution_count": 22,
     "metadata": {},
     "output_type": "execute_result"
    }
   ],
   "source": [
    "mrio.contains(region=\"trade\")"
   ]
  },
  {
   "cell_type": "code",
   "execution_count": 23,
   "id": "dd87e126",
   "metadata": {},
   "outputs": [
    {
     "data": {
      "text/plain": [
       "MultiIndex([('reg1', 'trade'),\n",
       "            ('reg2', 'trade'),\n",
       "            ('reg3', 'trade'),\n",
       "            ('reg4', 'trade'),\n",
       "            ('reg5', 'trade'),\n",
       "            ('reg6', 'trade')],\n",
       "           names=['region', 'sector'])"
      ]
     },
     "execution_count": 23,
     "metadata": {},
     "output_type": "execute_result"
    }
   ],
   "source": [
    "mrio.contains(sector=\"trade\")"
   ]
  },
  {
   "cell_type": "markdown",
   "id": "1fc31c91",
   "metadata": {},
   "source": [
    "And of course, the method are also available for the satellite accounts."
   ]
  },
  {
   "cell_type": "code",
   "execution_count": 24,
   "id": "6da917bd",
   "metadata": {},
   "outputs": [
    {
     "data": {
      "text/plain": [
       "MultiIndex([('emission_type1', 'air')],\n",
       "           names=['stressor', 'compartment'])"
      ]
     },
     "execution_count": 24,
     "metadata": {},
     "output_type": "execute_result"
    }
   ],
   "source": [
    "mrio.emissions.contains(compartment=\"air\")"
   ]
  },
  {
   "cell_type": "markdown",
   "id": "8085b788",
   "metadata": {},
   "source": [
    "Passing a non-existing level to the keyword argument is silently ignored."
   ]
  },
  {
   "cell_type": "code",
   "execution_count": 25,
   "id": "813a6696",
   "metadata": {},
   "outputs": [
    {
     "data": {
      "text/plain": [
       "Index([], dtype='object')"
      ]
     },
     "execution_count": 25,
     "metadata": {},
     "output_type": "execute_result"
    }
   ],
   "source": [
    "mrio.factor_inputs.contains(compartment=\"trade\")"
   ]
  },
  {
   "cell_type": "markdown",
   "id": "3fbeecbc",
   "metadata": {
    "lines_to_next_cell": 0
   },
   "source": [
    "This allows to search for terms that are only in some index levels.\n",
    "Logically, this is an 'or' search."
   ]
  },
  {
   "cell_type": "code",
   "execution_count": 26,
   "id": "deaafbf6",
   "metadata": {},
   "outputs": [
    {
     "data": {
      "text/plain": [
       "Index(['Value Added'], dtype='object', name='inputtype')"
      ]
     },
     "execution_count": 26,
     "metadata": {},
     "output_type": "execute_result"
    }
   ],
   "source": [
    "mrio.factor_inputs.contains(compartment=\"air\", inputtype=\"Value\")"
   ]
  },
  {
   "cell_type": "markdown",
   "id": "000501bc",
   "metadata": {},
   "source": [
    "But note, that if both levels exist, both must match (so it becomes a logical 'and')."
   ]
  },
  {
   "cell_type": "code",
   "execution_count": 27,
   "id": "5cd44a79",
   "metadata": {},
   "outputs": [
    {
     "data": {
      "text/plain": [
       "MultiIndex([('emission_type1', 'air')],\n",
       "           names=['stressor', 'compartment'])"
      ]
     },
     "execution_count": 27,
     "metadata": {},
     "output_type": "execute_result"
    }
   ],
   "source": [
    "mrio.emissions.contains(stressor=\"emission\", compartment=\"air\")"
   ]
  },
  {
   "cell_type": "markdown",
   "id": "089dd4ec",
   "metadata": {},
   "source": [
    "## Search through all extensions"
   ]
  },
  {
   "cell_type": "markdown",
   "id": "4a8d87de",
   "metadata": {},
   "source": [
    "All three search methods are also available to loop through all extensions of the MRIO."
   ]
  },
  {
   "cell_type": "code",
   "execution_count": 28,
   "id": "fd65dd57",
   "metadata": {},
   "outputs": [
    {
     "data": {
      "text/plain": [
       "{'Factor Inputs': Index([], dtype='object'),\n",
       " 'Emissions': MultiIndex([('emission_type1', 'air')],\n",
       "            names=['stressor', 'compartment'])}"
      ]
     },
     "execution_count": 28,
     "metadata": {},
     "output_type": "execute_result"
    }
   ],
   "source": [
    "mrio.extension_contains(stressor=\"emission\", compartment=\"air\")"
   ]
  },
  {
   "cell_type": "markdown",
   "id": "ef43cd67",
   "metadata": {},
   "source": [
    "If only a subset of extensions should be searched, pass the extension names to the keyword argument 'extensions'."
   ]
  },
  {
   "cell_type": "markdown",
   "id": "325f650b",
   "metadata": {},
   "source": [
    "## Generic search method for any dataframe index"
   ]
  },
  {
   "cell_type": "markdown",
   "id": "4428a3fe",
   "metadata": {},
   "source": [
    "Internally, the class methods 'contains', 'match' and 'fullmatch' all the\n",
    "'index_contains', 'index_match' and 'index_fullmatch' methods of ioutil module.\n",
    "This function can be used to search through index of any pandas DataFrame."
   ]
  },
  {
   "cell_type": "code",
   "execution_count": 29,
   "id": "0f293761",
   "metadata": {},
   "outputs": [],
   "source": [
    "df = mrio.Y"
   ]
  },
  {
   "cell_type": "markdown",
   "id": "2ea109cf",
   "metadata": {},
   "source": [
    "Depending if a dataframe or an index is passed, the return is either the dataframe or the index."
   ]
  },
  {
   "cell_type": "code",
   "execution_count": 30,
   "id": "013d7754",
   "metadata": {},
   "outputs": [
    {
     "data": {
      "text/html": [
       "<div>\n",
       "<style scoped>\n",
       "    .dataframe tbody tr th:only-of-type {\n",
       "        vertical-align: middle;\n",
       "    }\n",
       "\n",
       "    .dataframe tbody tr th {\n",
       "        vertical-align: top;\n",
       "    }\n",
       "\n",
       "    .dataframe thead tr th {\n",
       "        text-align: left;\n",
       "    }\n",
       "\n",
       "    .dataframe thead tr:last-of-type th {\n",
       "        text-align: right;\n",
       "    }\n",
       "</style>\n",
       "<table border=\"1\" class=\"dataframe\">\n",
       "  <thead>\n",
       "    <tr>\n",
       "      <th></th>\n",
       "      <th>region</th>\n",
       "      <th colspan=\"7\" halign=\"left\">reg1</th>\n",
       "      <th colspan=\"3\" halign=\"left\">reg2</th>\n",
       "      <th>...</th>\n",
       "      <th colspan=\"3\" halign=\"left\">reg5</th>\n",
       "      <th colspan=\"7\" halign=\"left\">reg6</th>\n",
       "    </tr>\n",
       "    <tr>\n",
       "      <th></th>\n",
       "      <th>category</th>\n",
       "      <th>Final consumption expenditure by households</th>\n",
       "      <th>Final consumption expenditure by non-profit organisations serving households (NPISH)</th>\n",
       "      <th>Final consumption expenditure by government</th>\n",
       "      <th>Gross fixed capital formation</th>\n",
       "      <th>Changes in inventories</th>\n",
       "      <th>Changes in valuables</th>\n",
       "      <th>Export</th>\n",
       "      <th>Final consumption expenditure by households</th>\n",
       "      <th>Final consumption expenditure by non-profit organisations serving households (NPISH)</th>\n",
       "      <th>Final consumption expenditure by government</th>\n",
       "      <th>...</th>\n",
       "      <th>Changes in inventories</th>\n",
       "      <th>Changes in valuables</th>\n",
       "      <th>Export</th>\n",
       "      <th>Final consumption expenditure by households</th>\n",
       "      <th>Final consumption expenditure by non-profit organisations serving households (NPISH)</th>\n",
       "      <th>Final consumption expenditure by government</th>\n",
       "      <th>Gross fixed capital formation</th>\n",
       "      <th>Changes in inventories</th>\n",
       "      <th>Changes in valuables</th>\n",
       "      <th>Export</th>\n",
       "    </tr>\n",
       "    <tr>\n",
       "      <th>region</th>\n",
       "      <th>sector</th>\n",
       "      <th></th>\n",
       "      <th></th>\n",
       "      <th></th>\n",
       "      <th></th>\n",
       "      <th></th>\n",
       "      <th></th>\n",
       "      <th></th>\n",
       "      <th></th>\n",
       "      <th></th>\n",
       "      <th></th>\n",
       "      <th></th>\n",
       "      <th></th>\n",
       "      <th></th>\n",
       "      <th></th>\n",
       "      <th></th>\n",
       "      <th></th>\n",
       "      <th></th>\n",
       "      <th></th>\n",
       "      <th></th>\n",
       "      <th></th>\n",
       "      <th></th>\n",
       "    </tr>\n",
       "  </thead>\n",
       "  <tbody>\n",
       "    <tr>\n",
       "      <th>reg1</th>\n",
       "      <th>trade</th>\n",
       "      <td>769535.93000</td>\n",
       "      <td>16.638920</td>\n",
       "      <td>2.408807e+07</td>\n",
       "      <td>6.727345e+07</td>\n",
       "      <td>1230.218200</td>\n",
       "      <td>216.211080</td>\n",
       "      <td>0</td>\n",
       "      <td>8063.52380</td>\n",
       "      <td>12.738233</td>\n",
       "      <td>163.205380</td>\n",
       "      <td>...</td>\n",
       "      <td>204.383170</td>\n",
       "      <td>1.684295e+00</td>\n",
       "      <td>0</td>\n",
       "      <td>49782414.00</td>\n",
       "      <td>0.224933</td>\n",
       "      <td>14.445660</td>\n",
       "      <td>16739029.00</td>\n",
       "      <td>12.145465</td>\n",
       "      <td>0.013888</td>\n",
       "      <td>0</td>\n",
       "    </tr>\n",
       "    <tr>\n",
       "      <th>reg2</th>\n",
       "      <th>trade</th>\n",
       "      <td>5678.26740</td>\n",
       "      <td>0.075424</td>\n",
       "      <td>2.312962e+02</td>\n",
       "      <td>6.339521e+02</td>\n",
       "      <td>35.607157</td>\n",
       "      <td>3.192694</td>\n",
       "      <td>0</td>\n",
       "      <td>385664.01000</td>\n",
       "      <td>178.501140</td>\n",
       "      <td>8160.881200</td>\n",
       "      <td>...</td>\n",
       "      <td>358.249320</td>\n",
       "      <td>2.271962e+01</td>\n",
       "      <td>0</td>\n",
       "      <td>26592464.00</td>\n",
       "      <td>0.139745</td>\n",
       "      <td>10.623962</td>\n",
       "      <td>11775351.00</td>\n",
       "      <td>20.572534</td>\n",
       "      <td>0.005433</td>\n",
       "      <td>0</td>\n",
       "    </tr>\n",
       "    <tr>\n",
       "      <th>reg3</th>\n",
       "      <th>trade</th>\n",
       "      <td>2753.86080</td>\n",
       "      <td>0.111540</td>\n",
       "      <td>1.956911e+00</td>\n",
       "      <td>3.598675e+02</td>\n",
       "      <td>23.391120</td>\n",
       "      <td>0.000455</td>\n",
       "      <td>0</td>\n",
       "      <td>2072.24890</td>\n",
       "      <td>0.044811</td>\n",
       "      <td>1.242613</td>\n",
       "      <td>...</td>\n",
       "      <td>309.984270</td>\n",
       "      <td>6.283278e+00</td>\n",
       "      <td>0</td>\n",
       "      <td>114505.89</td>\n",
       "      <td>0.630098</td>\n",
       "      <td>37.095549</td>\n",
       "      <td>31317361.00</td>\n",
       "      <td>212.707510</td>\n",
       "      <td>0.014929</td>\n",
       "      <td>0</td>\n",
       "    </tr>\n",
       "    <tr>\n",
       "      <th>reg4</th>\n",
       "      <th>trade</th>\n",
       "      <td>373.28393</td>\n",
       "      <td>0.009382</td>\n",
       "      <td>3.585011e-01</td>\n",
       "      <td>2.514957e-02</td>\n",
       "      <td>0.002016</td>\n",
       "      <td>0.000144</td>\n",
       "      <td>0</td>\n",
       "      <td>192.21539</td>\n",
       "      <td>0.019666</td>\n",
       "      <td>0.537107</td>\n",
       "      <td>...</td>\n",
       "      <td>73.859706</td>\n",
       "      <td>7.199126e-02</td>\n",
       "      <td>0</td>\n",
       "      <td>40152651.00</td>\n",
       "      <td>0.255523</td>\n",
       "      <td>17.253634</td>\n",
       "      <td>14011134.00</td>\n",
       "      <td>4.052444</td>\n",
       "      <td>0.001935</td>\n",
       "      <td>0</td>\n",
       "    </tr>\n",
       "    <tr>\n",
       "      <th>reg5</th>\n",
       "      <th>trade</th>\n",
       "      <td>4287.40670</td>\n",
       "      <td>0.038941</td>\n",
       "      <td>7.014679e+00</td>\n",
       "      <td>1.955479e+02</td>\n",
       "      <td>6.675656</td>\n",
       "      <td>0.524015</td>\n",
       "      <td>0</td>\n",
       "      <td>3633.68750</td>\n",
       "      <td>2.536312</td>\n",
       "      <td>50.624916</td>\n",
       "      <td>...</td>\n",
       "      <td>9177.081800</td>\n",
       "      <td>1.330591e+06</td>\n",
       "      <td>0</td>\n",
       "      <td>60992225.00</td>\n",
       "      <td>0.823823</td>\n",
       "      <td>34.208026</td>\n",
       "      <td>27870911.00</td>\n",
       "      <td>85.191511</td>\n",
       "      <td>0.008929</td>\n",
       "      <td>0</td>\n",
       "    </tr>\n",
       "    <tr>\n",
       "      <th>reg6</th>\n",
       "      <th>trade</th>\n",
       "      <td>4772.75750</td>\n",
       "      <td>0.113112</td>\n",
       "      <td>2.321101e+01</td>\n",
       "      <td>2.417571e+02</td>\n",
       "      <td>16.267049</td>\n",
       "      <td>1.488818</td>\n",
       "      <td>0</td>\n",
       "      <td>2031.49640</td>\n",
       "      <td>1.864492</td>\n",
       "      <td>18.787893</td>\n",
       "      <td>...</td>\n",
       "      <td>91.040319</td>\n",
       "      <td>2.122217e+00</td>\n",
       "      <td>0</td>\n",
       "      <td>851864.04</td>\n",
       "      <td>23.371306</td>\n",
       "      <td>1966.030900</td>\n",
       "      <td>131182.13</td>\n",
       "      <td>1549.410400</td>\n",
       "      <td>0.266033</td>\n",
       "      <td>0</td>\n",
       "    </tr>\n",
       "  </tbody>\n",
       "</table>\n",
       "<p>6 rows × 42 columns</p>\n",
       "</div>"
      ],
      "text/plain": [
       "region                                               reg1  \\\n",
       "category      Final consumption expenditure by households   \n",
       "region sector                                               \n",
       "reg1   trade                                 769535.93000   \n",
       "reg2   trade                                   5678.26740   \n",
       "reg3   trade                                   2753.86080   \n",
       "reg4   trade                                    373.28393   \n",
       "reg5   trade                                   4287.40670   \n",
       "reg6   trade                                   4772.75750   \n",
       "\n",
       "region                                                                                              \\\n",
       "category      Final consumption expenditure by non-profit organisations serving households (NPISH)   \n",
       "region sector                                                                                        \n",
       "reg1   trade                                           16.638920                                     \n",
       "reg2   trade                                            0.075424                                     \n",
       "reg3   trade                                            0.111540                                     \n",
       "reg4   trade                                            0.009382                                     \n",
       "reg5   trade                                            0.038941                                     \n",
       "reg6   trade                                            0.113112                                     \n",
       "\n",
       "region                                                     \\\n",
       "category      Final consumption expenditure by government   \n",
       "region sector                                               \n",
       "reg1   trade                                 2.408807e+07   \n",
       "reg2   trade                                 2.312962e+02   \n",
       "reg3   trade                                 1.956911e+00   \n",
       "reg4   trade                                 3.585011e-01   \n",
       "reg5   trade                                 7.014679e+00   \n",
       "reg6   trade                                 2.321101e+01   \n",
       "\n",
       "region                                                              \\\n",
       "category      Gross fixed capital formation Changes in inventories   \n",
       "region sector                                                        \n",
       "reg1   trade                   6.727345e+07            1230.218200   \n",
       "reg2   trade                   6.339521e+02              35.607157   \n",
       "reg3   trade                   3.598675e+02              23.391120   \n",
       "reg4   trade                   2.514957e-02               0.002016   \n",
       "reg5   trade                   1.955479e+02               6.675656   \n",
       "reg6   trade                   2.417571e+02              16.267049   \n",
       "\n",
       "region                                     \\\n",
       "category      Changes in valuables Export   \n",
       "region sector                               \n",
       "reg1   trade            216.211080      0   \n",
       "reg2   trade              3.192694      0   \n",
       "reg3   trade              0.000455      0   \n",
       "reg4   trade              0.000144      0   \n",
       "reg5   trade              0.524015      0   \n",
       "reg6   trade              1.488818      0   \n",
       "\n",
       "region                                               reg2  \\\n",
       "category      Final consumption expenditure by households   \n",
       "region sector                                               \n",
       "reg1   trade                                   8063.52380   \n",
       "reg2   trade                                 385664.01000   \n",
       "reg3   trade                                   2072.24890   \n",
       "reg4   trade                                    192.21539   \n",
       "reg5   trade                                   3633.68750   \n",
       "reg6   trade                                   2031.49640   \n",
       "\n",
       "region                                                                                              \\\n",
       "category      Final consumption expenditure by non-profit organisations serving households (NPISH)   \n",
       "region sector                                                                                        \n",
       "reg1   trade                                           12.738233                                     \n",
       "reg2   trade                                          178.501140                                     \n",
       "reg3   trade                                            0.044811                                     \n",
       "reg4   trade                                            0.019666                                     \n",
       "reg5   trade                                            2.536312                                     \n",
       "reg6   trade                                            1.864492                                     \n",
       "\n",
       "region                                                     ...  \\\n",
       "category      Final consumption expenditure by government  ...   \n",
       "region sector                                              ...   \n",
       "reg1   trade                                   163.205380  ...   \n",
       "reg2   trade                                  8160.881200  ...   \n",
       "reg3   trade                                     1.242613  ...   \n",
       "reg4   trade                                     0.537107  ...   \n",
       "reg5   trade                                    50.624916  ...   \n",
       "reg6   trade                                    18.787893  ...   \n",
       "\n",
       "region                          reg5                              \\\n",
       "category      Changes in inventories Changes in valuables Export   \n",
       "region sector                                                      \n",
       "reg1   trade              204.383170         1.684295e+00      0   \n",
       "reg2   trade              358.249320         2.271962e+01      0   \n",
       "reg3   trade              309.984270         6.283278e+00      0   \n",
       "reg4   trade               73.859706         7.199126e-02      0   \n",
       "reg5   trade             9177.081800         1.330591e+06      0   \n",
       "reg6   trade               91.040319         2.122217e+00      0   \n",
       "\n",
       "region                                               reg6  \\\n",
       "category      Final consumption expenditure by households   \n",
       "region sector                                               \n",
       "reg1   trade                                  49782414.00   \n",
       "reg2   trade                                  26592464.00   \n",
       "reg3   trade                                    114505.89   \n",
       "reg4   trade                                  40152651.00   \n",
       "reg5   trade                                  60992225.00   \n",
       "reg6   trade                                    851864.04   \n",
       "\n",
       "region                                                                                              \\\n",
       "category      Final consumption expenditure by non-profit organisations serving households (NPISH)   \n",
       "region sector                                                                                        \n",
       "reg1   trade                                            0.224933                                     \n",
       "reg2   trade                                            0.139745                                     \n",
       "reg3   trade                                            0.630098                                     \n",
       "reg4   trade                                            0.255523                                     \n",
       "reg5   trade                                            0.823823                                     \n",
       "reg6   trade                                           23.371306                                     \n",
       "\n",
       "region                                                     \\\n",
       "category      Final consumption expenditure by government   \n",
       "region sector                                               \n",
       "reg1   trade                                    14.445660   \n",
       "reg2   trade                                    10.623962   \n",
       "reg3   trade                                    37.095549   \n",
       "reg4   trade                                    17.253634   \n",
       "reg5   trade                                    34.208026   \n",
       "reg6   trade                                  1966.030900   \n",
       "\n",
       "region                                                              \\\n",
       "category      Gross fixed capital formation Changes in inventories   \n",
       "region sector                                                        \n",
       "reg1   trade                    16739029.00              12.145465   \n",
       "reg2   trade                    11775351.00              20.572534   \n",
       "reg3   trade                    31317361.00             212.707510   \n",
       "reg4   trade                    14011134.00               4.052444   \n",
       "reg5   trade                    27870911.00              85.191511   \n",
       "reg6   trade                      131182.13            1549.410400   \n",
       "\n",
       "region                                     \n",
       "category      Changes in valuables Export  \n",
       "region sector                              \n",
       "reg1   trade              0.013888      0  \n",
       "reg2   trade              0.005433      0  \n",
       "reg3   trade              0.014929      0  \n",
       "reg4   trade              0.001935      0  \n",
       "reg5   trade              0.008929      0  \n",
       "reg6   trade              0.266033      0  \n",
       "\n",
       "[6 rows x 42 columns]"
      ]
     },
     "execution_count": 30,
     "metadata": {},
     "output_type": "execute_result"
    }
   ],
   "source": [
    "pymrio.index_contains(df, \"trade\")"
   ]
  },
  {
   "cell_type": "code",
   "execution_count": 31,
   "id": "4e11c573",
   "metadata": {},
   "outputs": [
    {
     "data": {
      "text/plain": [
       "MultiIndex([('reg1', 'trade'),\n",
       "            ('reg2', 'trade'),\n",
       "            ('reg3', 'trade'),\n",
       "            ('reg4', 'trade'),\n",
       "            ('reg5', 'trade'),\n",
       "            ('reg6', 'trade')],\n",
       "           names=['region', 'sector'])"
      ]
     },
     "execution_count": 31,
     "metadata": {},
     "output_type": "execute_result"
    }
   ],
   "source": [
    "pymrio.index_contains(df.index, \"trade\")"
   ]
  },
  {
   "cell_type": "code",
   "execution_count": 32,
   "id": "c67973ed",
   "metadata": {
    "tags": []
   },
   "outputs": [
    {
     "data": {
      "text/html": [
       "<div>\n",
       "<style scoped>\n",
       "    .dataframe tbody tr th:only-of-type {\n",
       "        vertical-align: middle;\n",
       "    }\n",
       "\n",
       "    .dataframe tbody tr th {\n",
       "        vertical-align: top;\n",
       "    }\n",
       "\n",
       "    .dataframe thead tr th {\n",
       "        text-align: left;\n",
       "    }\n",
       "\n",
       "    .dataframe thead tr:last-of-type th {\n",
       "        text-align: right;\n",
       "    }\n",
       "</style>\n",
       "<table border=\"1\" class=\"dataframe\">\n",
       "  <thead>\n",
       "    <tr>\n",
       "      <th></th>\n",
       "      <th>region</th>\n",
       "      <th colspan=\"7\" halign=\"left\">reg1</th>\n",
       "      <th colspan=\"3\" halign=\"left\">reg2</th>\n",
       "      <th>...</th>\n",
       "      <th colspan=\"3\" halign=\"left\">reg5</th>\n",
       "      <th colspan=\"7\" halign=\"left\">reg6</th>\n",
       "    </tr>\n",
       "    <tr>\n",
       "      <th></th>\n",
       "      <th>category</th>\n",
       "      <th>Final consumption expenditure by households</th>\n",
       "      <th>Final consumption expenditure by non-profit organisations serving households (NPISH)</th>\n",
       "      <th>Final consumption expenditure by government</th>\n",
       "      <th>Gross fixed capital formation</th>\n",
       "      <th>Changes in inventories</th>\n",
       "      <th>Changes in valuables</th>\n",
       "      <th>Export</th>\n",
       "      <th>Final consumption expenditure by households</th>\n",
       "      <th>Final consumption expenditure by non-profit organisations serving households (NPISH)</th>\n",
       "      <th>Final consumption expenditure by government</th>\n",
       "      <th>...</th>\n",
       "      <th>Changes in inventories</th>\n",
       "      <th>Changes in valuables</th>\n",
       "      <th>Export</th>\n",
       "      <th>Final consumption expenditure by households</th>\n",
       "      <th>Final consumption expenditure by non-profit organisations serving households (NPISH)</th>\n",
       "      <th>Final consumption expenditure by government</th>\n",
       "      <th>Gross fixed capital formation</th>\n",
       "      <th>Changes in inventories</th>\n",
       "      <th>Changes in valuables</th>\n",
       "      <th>Export</th>\n",
       "    </tr>\n",
       "    <tr>\n",
       "      <th>region</th>\n",
       "      <th>sector</th>\n",
       "      <th></th>\n",
       "      <th></th>\n",
       "      <th></th>\n",
       "      <th></th>\n",
       "      <th></th>\n",
       "      <th></th>\n",
       "      <th></th>\n",
       "      <th></th>\n",
       "      <th></th>\n",
       "      <th></th>\n",
       "      <th></th>\n",
       "      <th></th>\n",
       "      <th></th>\n",
       "      <th></th>\n",
       "      <th></th>\n",
       "      <th></th>\n",
       "      <th></th>\n",
       "      <th></th>\n",
       "      <th></th>\n",
       "      <th></th>\n",
       "      <th></th>\n",
       "    </tr>\n",
       "  </thead>\n",
       "  <tbody>\n",
       "    <tr>\n",
       "      <th rowspan=\"2\" valign=\"top\">reg2</th>\n",
       "      <th>mining</th>\n",
       "      <td>1.653997e+02</td>\n",
       "      <td>1.817989e-05</td>\n",
       "      <td>0.334824</td>\n",
       "      <td>3.283238e+01</td>\n",
       "      <td>2.910648e+01</td>\n",
       "      <td>3.970468e-05</td>\n",
       "      <td>0</td>\n",
       "      <td>1.091126e+03</td>\n",
       "      <td>2.751312</td>\n",
       "      <td>1.544777e+01</td>\n",
       "      <td>...</td>\n",
       "      <td>0.040217</td>\n",
       "      <td>0.000420</td>\n",
       "      <td>0</td>\n",
       "      <td>6.127299e-01</td>\n",
       "      <td>0.008212</td>\n",
       "      <td>0.013061</td>\n",
       "      <td>1.167170e+01</td>\n",
       "      <td>166.539580</td>\n",
       "      <td>0.000002</td>\n",
       "      <td>0</td>\n",
       "    </tr>\n",
       "    <tr>\n",
       "      <th>manufactoring</th>\n",
       "      <td>9.928459e+07</td>\n",
       "      <td>4.187143e+00</td>\n",
       "      <td>1373.370200</td>\n",
       "      <td>4.237878e+07</td>\n",
       "      <td>4.415752e+03</td>\n",
       "      <td>1.637658e+02</td>\n",
       "      <td>0</td>\n",
       "      <td>3.210316e+05</td>\n",
       "      <td>125.729110</td>\n",
       "      <td>1.603833e+07</td>\n",
       "      <td>...</td>\n",
       "      <td>951.809210</td>\n",
       "      <td>21.641280</td>\n",
       "      <td>0</td>\n",
       "      <td>1.074192e+07</td>\n",
       "      <td>62.832488</td>\n",
       "      <td>6363.192800</td>\n",
       "      <td>1.170497e+07</td>\n",
       "      <td>1060.321500</td>\n",
       "      <td>0.145903</td>\n",
       "      <td>0</td>\n",
       "    </tr>\n",
       "    <tr>\n",
       "      <th rowspan=\"2\" valign=\"top\">reg4</th>\n",
       "      <th>mining</th>\n",
       "      <td>1.072728e+02</td>\n",
       "      <td>9.421644e-09</td>\n",
       "      <td>0.209851</td>\n",
       "      <td>1.055704e+00</td>\n",
       "      <td>2.697312e+01</td>\n",
       "      <td>3.112643e-09</td>\n",
       "      <td>0</td>\n",
       "      <td>2.940734e+02</td>\n",
       "      <td>0.000001</td>\n",
       "      <td>1.061796e-01</td>\n",
       "      <td>...</td>\n",
       "      <td>45.388457</td>\n",
       "      <td>0.000015</td>\n",
       "      <td>0</td>\n",
       "      <td>7.705800e+04</td>\n",
       "      <td>0.348367</td>\n",
       "      <td>2.326858</td>\n",
       "      <td>9.917552e-02</td>\n",
       "      <td>68.266815</td>\n",
       "      <td>0.000789</td>\n",
       "      <td>0</td>\n",
       "    </tr>\n",
       "    <tr>\n",
       "      <th>manufactoring</th>\n",
       "      <td>4.086352e+07</td>\n",
       "      <td>1.170611e+00</td>\n",
       "      <td>377.322810</td>\n",
       "      <td>3.032655e+07</td>\n",
       "      <td>2.263532e+06</td>\n",
       "      <td>4.696135e+01</td>\n",
       "      <td>0</td>\n",
       "      <td>1.510445e+07</td>\n",
       "      <td>7.598440</td>\n",
       "      <td>1.285316e+02</td>\n",
       "      <td>...</td>\n",
       "      <td>1004.074200</td>\n",
       "      <td>1.476200</td>\n",
       "      <td>0</td>\n",
       "      <td>2.190604e+07</td>\n",
       "      <td>94.282910</td>\n",
       "      <td>6712.972800</td>\n",
       "      <td>3.167496e+07</td>\n",
       "      <td>825.256940</td>\n",
       "      <td>0.036510</td>\n",
       "      <td>0</td>\n",
       "    </tr>\n",
       "  </tbody>\n",
       "</table>\n",
       "<p>4 rows × 42 columns</p>\n",
       "</div>"
      ],
      "text/plain": [
       "region                                                      reg1  \\\n",
       "category             Final consumption expenditure by households   \n",
       "region sector                                                      \n",
       "reg2   mining                                       1.653997e+02   \n",
       "       manufactoring                                9.928459e+07   \n",
       "reg4   mining                                       1.072728e+02   \n",
       "       manufactoring                                4.086352e+07   \n",
       "\n",
       "region                                                                                                     \\\n",
       "category             Final consumption expenditure by non-profit organisations serving households (NPISH)   \n",
       "region sector                                                                                               \n",
       "reg2   mining                                              1.817989e-05                                     \n",
       "       manufactoring                                       4.187143e+00                                     \n",
       "reg4   mining                                              9.421644e-09                                     \n",
       "       manufactoring                                       1.170611e+00                                     \n",
       "\n",
       "region                                                            \\\n",
       "category             Final consumption expenditure by government   \n",
       "region sector                                                      \n",
       "reg2   mining                                           0.334824   \n",
       "       manufactoring                                 1373.370200   \n",
       "reg4   mining                                           0.209851   \n",
       "       manufactoring                                  377.322810   \n",
       "\n",
       "region                                                                     \\\n",
       "category             Gross fixed capital formation Changes in inventories   \n",
       "region sector                                                               \n",
       "reg2   mining                         3.283238e+01           2.910648e+01   \n",
       "       manufactoring                  4.237878e+07           4.415752e+03   \n",
       "reg4   mining                         1.055704e+00           2.697312e+01   \n",
       "       manufactoring                  3.032655e+07           2.263532e+06   \n",
       "\n",
       "region                                            \\\n",
       "category             Changes in valuables Export   \n",
       "region sector                                      \n",
       "reg2   mining                3.970468e-05      0   \n",
       "       manufactoring         1.637658e+02      0   \n",
       "reg4   mining                3.112643e-09      0   \n",
       "       manufactoring         4.696135e+01      0   \n",
       "\n",
       "region                                                      reg2  \\\n",
       "category             Final consumption expenditure by households   \n",
       "region sector                                                      \n",
       "reg2   mining                                       1.091126e+03   \n",
       "       manufactoring                                3.210316e+05   \n",
       "reg4   mining                                       2.940734e+02   \n",
       "       manufactoring                                1.510445e+07   \n",
       "\n",
       "region                                                                                                     \\\n",
       "category             Final consumption expenditure by non-profit organisations serving households (NPISH)   \n",
       "region sector                                                                                               \n",
       "reg2   mining                                                  2.751312                                     \n",
       "       manufactoring                                         125.729110                                     \n",
       "reg4   mining                                                  0.000001                                     \n",
       "       manufactoring                                           7.598440                                     \n",
       "\n",
       "region                                                            ...  \\\n",
       "category             Final consumption expenditure by government  ...   \n",
       "region sector                                                     ...   \n",
       "reg2   mining                                       1.544777e+01  ...   \n",
       "       manufactoring                                1.603833e+07  ...   \n",
       "reg4   mining                                       1.061796e-01  ...   \n",
       "       manufactoring                                1.285316e+02  ...   \n",
       "\n",
       "region                                 reg5                              \\\n",
       "category             Changes in inventories Changes in valuables Export   \n",
       "region sector                                                             \n",
       "reg2   mining                      0.040217             0.000420      0   \n",
       "       manufactoring             951.809210            21.641280      0   \n",
       "reg4   mining                     45.388457             0.000015      0   \n",
       "       manufactoring            1004.074200             1.476200      0   \n",
       "\n",
       "region                                                      reg6  \\\n",
       "category             Final consumption expenditure by households   \n",
       "region sector                                                      \n",
       "reg2   mining                                       6.127299e-01   \n",
       "       manufactoring                                1.074192e+07   \n",
       "reg4   mining                                       7.705800e+04   \n",
       "       manufactoring                                2.190604e+07   \n",
       "\n",
       "region                                                                                                     \\\n",
       "category             Final consumption expenditure by non-profit organisations serving households (NPISH)   \n",
       "region sector                                                                                               \n",
       "reg2   mining                                                  0.008212                                     \n",
       "       manufactoring                                          62.832488                                     \n",
       "reg4   mining                                                  0.348367                                     \n",
       "       manufactoring                                          94.282910                                     \n",
       "\n",
       "region                                                            \\\n",
       "category             Final consumption expenditure by government   \n",
       "region sector                                                      \n",
       "reg2   mining                                           0.013061   \n",
       "       manufactoring                                 6363.192800   \n",
       "reg4   mining                                           2.326858   \n",
       "       manufactoring                                 6712.972800   \n",
       "\n",
       "region                                                                     \\\n",
       "category             Gross fixed capital formation Changes in inventories   \n",
       "region sector                                                               \n",
       "reg2   mining                         1.167170e+01             166.539580   \n",
       "       manufactoring                  1.170497e+07            1060.321500   \n",
       "reg4   mining                         9.917552e-02              68.266815   \n",
       "       manufactoring                  3.167496e+07             825.256940   \n",
       "\n",
       "region                                            \n",
       "category             Changes in valuables Export  \n",
       "region sector                                     \n",
       "reg2   mining                    0.000002      0  \n",
       "       manufactoring             0.145903      0  \n",
       "reg4   mining                    0.000789      0  \n",
       "       manufactoring             0.036510      0  \n",
       "\n",
       "[4 rows x 42 columns]"
      ]
     },
     "execution_count": 32,
     "metadata": {},
     "output_type": "execute_result"
    }
   ],
   "source": [
    "pymrio.index_fullmatch(df, region=\"reg[2,4]\", sector=\"m.*\")"
   ]
  },
  {
   "cell_type": "markdown",
   "id": "565292ba",
   "metadata": {},
   "source": [
    "All search methods can easily be combined with the extract methods to extract the data that was found.\n",
    "For more information on this, see the [extract_data](./extract_data.ipynb) notebook."
   ]
  }
 ],
 "metadata": {
  "kernelspec": {
   "display_name": "Python 3 (ipykernel)",
   "language": "python",
   "name": "python3"
  },
  "language_info": {
   "codemirror_mode": {
    "name": "ipython",
    "version": 3
   },
   "file_extension": ".py",
   "mimetype": "text/x-python",
   "name": "python",
   "nbconvert_exporter": "python",
   "pygments_lexer": "ipython3",
   "version": "3.9.19"
  }
 },
 "nbformat": 4,
 "nbformat_minor": 5
}
