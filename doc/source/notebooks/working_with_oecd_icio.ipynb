{
 "cells": [
  {
   "cell_type": "markdown",
   "metadata": {},
   "source": [
    "# Working with the OECD - ICIO database"
   ]
  },
  {
   "cell_type": "markdown",
   "metadata": {},
   "source": [
    "The OECD Inter-Country Input-Output tables (ICIO) are available on the [OECD webpage.](https://www.oecd.org/sti/ind/inter-country-input-output-tables.htm) \n",
    "\n",
    "The parsing function >parse_oecd< works for both, the 2016 and 2018 release."
   ]
  },
  {
   "cell_type": "markdown",
   "metadata": {},
   "source": [
    "The tables can either be downloaded manually (using the csv format), or the pymrio [OECD automatic downloader can be used](autodownload.ipynb#OECD-download)."
   ]
  },
  {
   "cell_type": "markdown",
   "metadata": {},
   "source": [
    "For example, to get the 2011 table of the 2018 release do:"
   ]
  },
  {
   "cell_type": "code",
   "execution_count": 1,
   "metadata": {},
   "outputs": [],
   "source": [
    "import pymrio"
   ]
  },
  {
   "cell_type": "code",
   "execution_count": 2,
   "metadata": {},
   "outputs": [],
   "source": [
    "from pathlib import Path"
   ]
  },
  {
   "cell_type": "code",
   "execution_count": 3,
   "metadata": {},
   "outputs": [],
   "source": [
    "oecd_storage = Path(\"/tmp/mrios/OECD\")"
   ]
  },
  {
   "cell_type": "code",
   "execution_count": 4,
   "metadata": {},
   "outputs": [],
   "source": [
    "meta_2018_download = pymrio.download_oecd(storage_folder=oecd_storage, years=[2011])"
   ]
  },
  {
   "cell_type": "markdown",
   "metadata": {},
   "source": [
    "OECD provides the data compressed in zip files. The pymrio oecd parser works with both, the compressed and unpacked version."
   ]
  },
  {
   "cell_type": "markdown",
   "metadata": {},
   "source": [
    "## Parsing"
   ]
  },
  {
   "cell_type": "markdown",
   "metadata": {},
   "source": [
    "To parse a single year of the database, either specify a path and year:"
   ]
  },
  {
   "cell_type": "code",
   "execution_count": 5,
   "metadata": {},
   "outputs": [],
   "source": [
    "oecd_path_year = pymrio.parse_oecd(path=oecd_storage, year=2011)"
   ]
  },
  {
   "cell_type": "markdown",
   "metadata": {},
   "source": [
    "Or directly specify a file to parse:"
   ]
  },
  {
   "cell_type": "code",
   "execution_count": 6,
   "metadata": {},
   "outputs": [],
   "source": [
    "oecd_file = pymrio.parse_oecd(path=oecd_storage / \"ICIO2018_2011.zip\")"
   ]
  },
  {
   "cell_type": "code",
   "execution_count": 7,
   "metadata": {},
   "outputs": [
    {
     "data": {
      "text/plain": [
       "True"
      ]
     },
     "execution_count": 7,
     "metadata": {},
     "output_type": "execute_result"
    }
   ],
   "source": [
    "oecd_path_year == oecd_file"
   ]
  },
  {
   "cell_type": "markdown",
   "metadata": {},
   "source": [
    "Note: The original OECD ICIO tables provide some disaggregation of the Mexican and Chinese tables for the interindustry flows. The pymrio parser automatically aggregates these into Chinese And Mexican totals. Thus, the MX1, MX2, .. and CN1, CN2, ... entries are aggregated into MEX and CHN."
   ]
  },
  {
   "cell_type": "markdown",
   "metadata": {},
   "source": [
    "Currently, the parser only includes the value added and taxes data given in original file as satellite accounts.\n",
    "These are accessable in the extension \"factor_inputs\":"
   ]
  },
  {
   "cell_type": "code",
   "execution_count": 8,
   "metadata": {},
   "outputs": [
    {
     "data": {
      "text/html": [
       "<div>\n",
       "<style scoped>\n",
       "    .dataframe tbody tr th:only-of-type {\n",
       "        vertical-align: middle;\n",
       "    }\n",
       "\n",
       "    .dataframe tbody tr th {\n",
       "        vertical-align: top;\n",
       "    }\n",
       "\n",
       "    .dataframe thead tr th {\n",
       "        text-align: left;\n",
       "    }\n",
       "\n",
       "    .dataframe thead tr:last-of-type th {\n",
       "        text-align: right;\n",
       "    }\n",
       "</style>\n",
       "<table border=\"1\" class=\"dataframe\">\n",
       "  <thead>\n",
       "    <tr>\n",
       "      <th>region</th>\n",
       "      <th colspan=\"10\" halign=\"left\">ARG</th>\n",
       "      <th>...</th>\n",
       "      <th colspan=\"10\" halign=\"left\">ZAF</th>\n",
       "    </tr>\n",
       "    <tr>\n",
       "      <th>sector</th>\n",
       "      <th>01T03</th>\n",
       "      <th>05T06</th>\n",
       "      <th>07T08</th>\n",
       "      <th>09</th>\n",
       "      <th>10T12</th>\n",
       "      <th>13T15</th>\n",
       "      <th>16</th>\n",
       "      <th>17T18</th>\n",
       "      <th>19</th>\n",
       "      <th>20T21</th>\n",
       "      <th>...</th>\n",
       "      <th>61</th>\n",
       "      <th>62T63</th>\n",
       "      <th>64T66</th>\n",
       "      <th>68</th>\n",
       "      <th>69T82</th>\n",
       "      <th>84</th>\n",
       "      <th>85</th>\n",
       "      <th>86T88</th>\n",
       "      <th>90T96</th>\n",
       "      <th>97T98</th>\n",
       "    </tr>\n",
       "    <tr>\n",
       "      <th>inputtype</th>\n",
       "      <th></th>\n",
       "      <th></th>\n",
       "      <th></th>\n",
       "      <th></th>\n",
       "      <th></th>\n",
       "      <th></th>\n",
       "      <th></th>\n",
       "      <th></th>\n",
       "      <th></th>\n",
       "      <th></th>\n",
       "      <th></th>\n",
       "      <th></th>\n",
       "      <th></th>\n",
       "      <th></th>\n",
       "      <th></th>\n",
       "      <th></th>\n",
       "      <th></th>\n",
       "      <th></th>\n",
       "      <th></th>\n",
       "      <th></th>\n",
       "      <th></th>\n",
       "    </tr>\n",
       "  </thead>\n",
       "  <tbody>\n",
       "    <tr>\n",
       "      <th>AUS_TAXSUB</th>\n",
       "      <td>0.121714</td>\n",
       "      <td>0.017712</td>\n",
       "      <td>0.017512</td>\n",
       "      <td>0.017816</td>\n",
       "      <td>0.001661</td>\n",
       "      <td>0.095973</td>\n",
       "      <td>0.007718</td>\n",
       "      <td>0.034678</td>\n",
       "      <td>0.128502</td>\n",
       "      <td>0.162166</td>\n",
       "      <td>...</td>\n",
       "      <td>0.402171</td>\n",
       "      <td>0.674091</td>\n",
       "      <td>0.100344</td>\n",
       "      <td>0.626509</td>\n",
       "      <td>1.373728</td>\n",
       "      <td>1.610570</td>\n",
       "      <td>0.246573</td>\n",
       "      <td>0.634604</td>\n",
       "      <td>0.333580</td>\n",
       "      <td>0.0</td>\n",
       "    </tr>\n",
       "    <tr>\n",
       "      <th>AUT_TAXSUB</th>\n",
       "      <td>0.073775</td>\n",
       "      <td>0.033071</td>\n",
       "      <td>0.013816</td>\n",
       "      <td>0.005258</td>\n",
       "      <td>0.078889</td>\n",
       "      <td>0.038198</td>\n",
       "      <td>0.010675</td>\n",
       "      <td>0.025981</td>\n",
       "      <td>0.015319</td>\n",
       "      <td>0.083526</td>\n",
       "      <td>...</td>\n",
       "      <td>0.079267</td>\n",
       "      <td>0.042284</td>\n",
       "      <td>0.022676</td>\n",
       "      <td>0.061500</td>\n",
       "      <td>0.165165</td>\n",
       "      <td>0.420449</td>\n",
       "      <td>0.042098</td>\n",
       "      <td>0.449250</td>\n",
       "      <td>0.072340</td>\n",
       "      <td>0.0</td>\n",
       "    </tr>\n",
       "    <tr>\n",
       "      <th>BEL_TAXSUB</th>\n",
       "      <td>0.185901</td>\n",
       "      <td>0.062070</td>\n",
       "      <td>0.024458</td>\n",
       "      <td>0.011260</td>\n",
       "      <td>0.148690</td>\n",
       "      <td>0.094059</td>\n",
       "      <td>0.012182</td>\n",
       "      <td>0.057137</td>\n",
       "      <td>0.061476</td>\n",
       "      <td>0.196174</td>\n",
       "      <td>...</td>\n",
       "      <td>0.117514</td>\n",
       "      <td>0.092787</td>\n",
       "      <td>0.078851</td>\n",
       "      <td>0.145796</td>\n",
       "      <td>0.394643</td>\n",
       "      <td>0.535211</td>\n",
       "      <td>0.088572</td>\n",
       "      <td>0.357782</td>\n",
       "      <td>0.092843</td>\n",
       "      <td>0.0</td>\n",
       "    </tr>\n",
       "    <tr>\n",
       "      <th>CAN_TAXSUB</th>\n",
       "      <td>1.190519</td>\n",
       "      <td>0.289064</td>\n",
       "      <td>0.230554</td>\n",
       "      <td>0.056490</td>\n",
       "      <td>0.455820</td>\n",
       "      <td>0.150127</td>\n",
       "      <td>0.035587</td>\n",
       "      <td>0.076343</td>\n",
       "      <td>0.871824</td>\n",
       "      <td>0.537732</td>\n",
       "      <td>...</td>\n",
       "      <td>0.111660</td>\n",
       "      <td>0.064595</td>\n",
       "      <td>0.022136</td>\n",
       "      <td>0.065346</td>\n",
       "      <td>0.174113</td>\n",
       "      <td>0.272304</td>\n",
       "      <td>0.037256</td>\n",
       "      <td>0.102510</td>\n",
       "      <td>0.086703</td>\n",
       "      <td>0.0</td>\n",
       "    </tr>\n",
       "    <tr>\n",
       "      <th>CHL_TAXSUB</th>\n",
       "      <td>0.800514</td>\n",
       "      <td>0.253973</td>\n",
       "      <td>0.176948</td>\n",
       "      <td>0.044563</td>\n",
       "      <td>1.024921</td>\n",
       "      <td>1.232006</td>\n",
       "      <td>0.102607</td>\n",
       "      <td>0.321750</td>\n",
       "      <td>0.381983</td>\n",
       "      <td>0.583021</td>\n",
       "      <td>...</td>\n",
       "      <td>0.006196</td>\n",
       "      <td>0.006398</td>\n",
       "      <td>0.003776</td>\n",
       "      <td>0.019049</td>\n",
       "      <td>0.029477</td>\n",
       "      <td>0.029843</td>\n",
       "      <td>0.013084</td>\n",
       "      <td>0.022314</td>\n",
       "      <td>0.009911</td>\n",
       "      <td>0.0</td>\n",
       "    </tr>\n",
       "  </tbody>\n",
       "</table>\n",
       "<p>5 rows × 2340 columns</p>\n",
       "</div>"
      ],
      "text/plain": [
       "region           ARG                                                    \\\n",
       "sector         01T03     05T06     07T08        09     10T12     13T15   \n",
       "inputtype                                                                \n",
       "AUS_TAXSUB  0.121714  0.017712  0.017512  0.017816  0.001661  0.095973   \n",
       "AUT_TAXSUB  0.073775  0.033071  0.013816  0.005258  0.078889  0.038198   \n",
       "BEL_TAXSUB  0.185901  0.062070  0.024458  0.011260  0.148690  0.094059   \n",
       "CAN_TAXSUB  1.190519  0.289064  0.230554  0.056490  0.455820  0.150127   \n",
       "CHL_TAXSUB  0.800514  0.253973  0.176948  0.044563  1.024921  1.232006   \n",
       "\n",
       "region                                              ...       ZAF            \\\n",
       "sector            16     17T18        19     20T21  ...        61     62T63   \n",
       "inputtype                                           ...                       \n",
       "AUS_TAXSUB  0.007718  0.034678  0.128502  0.162166  ...  0.402171  0.674091   \n",
       "AUT_TAXSUB  0.010675  0.025981  0.015319  0.083526  ...  0.079267  0.042284   \n",
       "BEL_TAXSUB  0.012182  0.057137  0.061476  0.196174  ...  0.117514  0.092787   \n",
       "CAN_TAXSUB  0.035587  0.076343  0.871824  0.537732  ...  0.111660  0.064595   \n",
       "CHL_TAXSUB  0.102607  0.321750  0.381983  0.583021  ...  0.006196  0.006398   \n",
       "\n",
       "region                                                                  \\\n",
       "sector         64T66        68     69T82        84        85     86T88   \n",
       "inputtype                                                                \n",
       "AUS_TAXSUB  0.100344  0.626509  1.373728  1.610570  0.246573  0.634604   \n",
       "AUT_TAXSUB  0.022676  0.061500  0.165165  0.420449  0.042098  0.449250   \n",
       "BEL_TAXSUB  0.078851  0.145796  0.394643  0.535211  0.088572  0.357782   \n",
       "CAN_TAXSUB  0.022136  0.065346  0.174113  0.272304  0.037256  0.102510   \n",
       "CHL_TAXSUB  0.003776  0.019049  0.029477  0.029843  0.013084  0.022314   \n",
       "\n",
       "region                      \n",
       "sector         90T96 97T98  \n",
       "inputtype                   \n",
       "AUS_TAXSUB  0.333580   0.0  \n",
       "AUT_TAXSUB  0.072340   0.0  \n",
       "BEL_TAXSUB  0.092843   0.0  \n",
       "CAN_TAXSUB  0.086703   0.0  \n",
       "CHL_TAXSUB  0.009911   0.0  \n",
       "\n",
       "[5 rows x 2340 columns]"
      ]
     },
     "execution_count": 8,
     "metadata": {},
     "output_type": "execute_result"
    }
   ],
   "source": [
    "oecd_file.factor_inputs.F.head()"
   ]
  },
  {
   "cell_type": "markdown",
   "metadata": {},
   "source": [
    "Handling of the data happens similar to the other databases, see for example [\"Exploring EXIOBASE\"](working_with_exiobase.ipynb#Exploring-EXIOBASE)."
   ]
  }
 ],
 "metadata": {
  "kernelspec": {
   "display_name": "Python 3",
   "language": "python",
   "name": "python3"
  },
  "language_info": {
   "codemirror_mode": {
    "name": "ipython",
    "version": 3
   },
   "file_extension": ".py",
   "mimetype": "text/x-python",
   "name": "python",
   "nbconvert_exporter": "python",
   "pygments_lexer": "ipython3",
   "version": "3.8.5"
  }
 },
 "nbformat": 4,
 "nbformat_minor": 4
}
