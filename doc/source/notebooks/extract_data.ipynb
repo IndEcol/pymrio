{
 "cells": [
  {
   "cell_type": "markdown",
   "id": "6d3cfbc9-bc67-432f-badc-1daec4cb4779",
   "metadata": {},
   "source": [
    "# Extract data from Pymrio"
   ]
  },
  {
   "cell_type": "markdown",
   "id": "bcb8ce71-6b45-4ccc-81ad-866bc0d6c6f8",
   "metadata": {},
   "source": [
    "This notebook shows how to extract specific data from the pymrio object for further processing in Python. For exporting/saving the data to another file format [see the Notebook on loading/saving/exporting](./load_save_export.ipynb)."
   ]
  },
  {
   "cell_type": "code",
   "execution_count": null,
   "id": "564fd5e1-8a3f-449a-9759-d36aa83473ce",
   "metadata": {},
   "outputs": [],
   "source": []
  },
  {
   "cell_type": "code",
   "execution_count": null,
   "id": "04097807-b375-42eb-b5c8-d0c457502a70",
   "metadata": {},
   "outputs": [],
   "source": []
  },
  {
   "cell_type": "code",
   "execution_count": 1,
   "id": "4f298de3-3641-44bb-88bb-c428d9cf5693",
   "metadata": {
    "tags": []
   },
   "outputs": [],
   "source": [
    "import pymrio"
   ]
  },
  {
   "cell_type": "code",
   "execution_count": 2,
   "id": "a38719d5-011c-4dff-969e-f915a205fd44",
   "metadata": {
    "tags": []
   },
   "outputs": [],
   "source": [
    "mrio = pymrio.load_test()"
   ]
  },
  {
   "cell_type": "code",
   "execution_count": null,
   "id": "f6aadba4-ef17-40d2-aaec-845e274026b7",
   "metadata": {},
   "outputs": [],
   "source": []
  }
 ],
 "metadata": {
  "kernelspec": {
   "display_name": "Python 3 (ipykernel)",
   "language": "python",
   "name": "python3"
  },
  "language_info": {
   "codemirror_mode": {
    "name": "ipython",
    "version": 3
   },
   "file_extension": ".py",
   "mimetype": "text/x-python",
   "name": "python",
   "nbconvert_exporter": "python",
   "pygments_lexer": "ipython3",
   "version": "3.10.12"
  }
 },
 "nbformat": 4,
 "nbformat_minor": 5
}
