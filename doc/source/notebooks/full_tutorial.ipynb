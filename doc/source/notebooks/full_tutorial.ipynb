{
 "cells": [
  {
   "cell_type": "markdown",
   "metadata": {},
   "source": [
    "# Comprehensive Pymrio Tutorial: Complete Guide to Multi-Regional Input-Output Analysis\n",
    "\n",
    "A complete tutorial covering all top-level functions of pymrio, using the test MRIO system."
   ]
  },
  {
   "cell_type": "markdown",
   "metadata": {},
   "source": [
    "## Setup and Installation\n",
    "\n",
    "Before beginning this tutorial, ensure pymrio is installed:"
   ]
  },
  {
   "cell_type": "code",
   "execution_count": null,
   "metadata": {
    "tags": []
   },
   "outputs": [],
   "source": [
    "!pip install pymrio --upgrade\n",
    "# or\n",
    "!conda install -c conda-forge pymrio"
   ]
  },
  {
   "cell_type": "markdown",
   "metadata": {},
   "source": [
    "## 1. Getting Started with Test MRIO Data\n",
    "\n",
    "We begin by importing pymrio and loading the test MRIO system. This small test system contains six regions and eight sectors, making it ideal for learning purposes."
   ]
  },
  {
   "cell_type": "code",
   "execution_count": 1,
   "metadata": {
    "tags": []
   },
   "outputs": [
    {
     "name": "stdout",
     "output_type": "stream",
     "text": [
      "Type of object: <class 'pymrio.core.mriosystem.IOSystem'>\n",
      "Available extensions: ['factor_inputs', 'emissions']\n"
     ]
    }
   ],
   "source": [
    "import pymrio\n",
    "import pandas as pd\n",
    "import numpy as np\n",
    "\n",
    "# Load the test MRIO system\n",
    "test_mrio = pymrio.load_test()\n",
    "\n",
    "# Display basic information about the system\n",
    "print(\"Type of object:\", type(test_mrio))\n",
    "print(\"Available extensions:\", list(test_mrio.get_extensions()))"
   ]
  },
  {
   "cell_type": "markdown",
   "metadata": {},
   "source": [
    "Note that any other MRIO database can be used with the same functions demonstrated here. The test system serves as a representative example for larger, real-world datasets."
   ]
  },
  {
   "cell_type": "markdown",
   "metadata": {},
   "source": [
    "## 2. Exploring System Information"
   ]
  },
  {
   "cell_type": "markdown",
   "metadata": {},
   "source": [
    "### 2.1 Basic Structure Information\n",
    "\n",
    "The system provides several methods to understand its structure:"
   ]
  },
  {
   "cell_type": "code",
   "execution_count": 3,
   "metadata": {
    "tags": []
   },
   "outputs": [
    {
     "name": "stdout",
     "output_type": "stream",
     "text": [
      "Regions: Index(['reg1', 'reg2', 'reg3', 'reg4', 'reg5', 'reg6'], dtype='object', name='region')\n",
      "Sectors: Index(['food', 'mining', 'manufactoring', 'electricity', 'construction',\n",
      "       'trade', 'transport', 'other'],\n",
      "      dtype='object', name='sector')\n",
      "Final demand categories: Index(['Final consumption expenditure by households',\n",
      "       'Final consumption expenditure by non-profit organisations serving households (NPISH)',\n",
      "       'Final consumption expenditure by government',\n",
      "       'Gross fixed capital formation', 'Changes in inventories',\n",
      "       'Changes in valuables', 'Export'],\n",
      "      dtype='object', name='category')\n"
     ]
    }
   ],
   "source": [
    "# Get regions and sectors\n",
    "regions = test_mrio.get_regions()\n",
    "sectors = test_mrio.get_sectors()\n",
    "y_categories = test_mrio.get_Y_categories()\n",
    "\n",
    "print(\"Regions:\", regions)\n",
    "print(\"Sectors:\", sectors)\n",
    "print(\"Final demand categories:\", y_categories)"
   ]
  },
  {
   "cell_type": "markdown",
   "metadata": {},
   "source": [
    "### 2.2 Search Functionality\n",
    "\n",
    "Pymrio offers comprehensive search capabilities to find specific accounts, regions, or sectors:"
   ]
  },
  {
   "cell_type": "code",
   "execution_count": 5,
   "metadata": {},
   "outputs": [
    {
     "name": "stdout",
     "output_type": "stream",
     "text": [
      "Search results for 'food': {'index': MultiIndex([('reg1', 'food'),\n",
      "            ('reg2', 'food'),\n",
      "            ('reg3', 'food'),\n",
      "            ('reg4', 'food'),\n",
      "            ('reg5', 'food'),\n",
      "            ('reg6', 'food')],\n",
      "           names=['region', 'sector']), 'sectors': Index(['food'], dtype='object', name='sector')}\n",
      "Contains 'electricity': MultiIndex([('reg1', 'electricity'),\n",
      "            ('reg2', 'electricity'),\n",
      "            ('reg3', 'electricity'),\n",
      "            ('reg4', 'electricity'),\n",
      "            ('reg5', 'electricity'),\n",
      "            ('reg6', 'electricity')],\n",
      "           names=['region', 'sector'])\n",
      "Extension search for 'emission': {'Factor Inputs': Index([], dtype='object', name='inputtype'), 'Emissions': MultiIndex([('emission_type1',   'air'),\n",
      "            ('emission_type2', 'water')],\n",
      "           names=['stressor', 'compartment'])}\n",
      "Full match for 'reg1': MultiIndex([('reg1',          'food'),\n",
      "            ('reg1',        'mining'),\n",
      "            ('reg1', 'manufactoring'),\n",
      "            ('reg1',   'electricity'),\n",
      "            ('reg1',  'construction'),\n",
      "            ('reg1',         'trade'),\n",
      "            ('reg1',     'transport'),\n",
      "            ('reg1',         'other')],\n",
      "           names=['region', 'sector'])\n"
     ]
    }
   ],
   "source": [
    "# Search for specific terms across the system\n",
    "search_results = test_mrio.find(\"food\")\n",
    "print(\"Search results for 'food':\", search_results)\n",
    "\n",
    "# More specific search methods\n",
    "contains_results = test_mrio.contains(\"electricity\")\n",
    "print(\"Contains 'electricity':\", contains_results)\n",
    "\n",
    "# Search within extensions\n",
    "extension_search = test_mrio.extension_contains(\"emission\")\n",
    "print(\"Extension search for 'emission':\", extension_search)\n",
    "\n",
    "# Full match search\n",
    "match_results = test_mrio.match(\"reg1\")\n",
    "print(\"Full match for 'reg1':\", match_results)"
   ]
  },
  {
   "cell_type": "markdown",
   "metadata": {},
   "source": [
    "## 3. Core Calculations with calc_all\n",
    "\n",
    "The `calc_all` method is fundamental to pymrio analysis. It automatically identifies missing tables and calculates all necessary accounts:"
   ]
  },
  {
   "cell_type": "code",
   "execution_count": 6,
   "metadata": {},
   "outputs": [
    {
     "name": "stdout",
     "output_type": "stream",
     "text": [
      "Before calc_all:\n",
      "A matrix exists: False\n",
      "L matrix exists: False\n",
      "\n",
      "After calc_all:\n",
      "A matrix shape: (48, 48)\n",
      "L matrix shape: (48, 48)\n",
      "Industry output x shape: (48, 1)\n",
      "\n",
      "Emissions accounts:\n",
      "D_cba (consumption-based) shape: (2, 48)\n",
      "D_pba (production-based) shape: (2, 48)\n",
      "D_imp (import-based) shape: (2, 48)\n",
      "D_exp (export-based) shape: (2, 48)\n"
     ]
    }
   ],
   "source": [
    "# Before calculation, some tables are missing\n",
    "print(\"Before calc_all:\")\n",
    "print(\"A matrix exists:\", hasattr(test_mrio, 'A') and test_mrio.A is not None)\n",
    "print(\"L matrix exists:\", hasattr(test_mrio, 'L') and test_mrio.L is not None)\n",
    "\n",
    "# Calculate all missing parts\n",
    "test_mrio.calc_all()\n",
    "\n",
    "# After calculation, all tables are available\n",
    "print(\"\\nAfter calc_all:\")\n",
    "print(\"A matrix shape:\", test_mrio.A.shape)\n",
    "print(\"L matrix shape:\", test_mrio.L.shape)\n",
    "print(\"Industry output x shape:\", test_mrio.x.shape)\n",
    "\n",
    "# Display calculated accounts for emissions\n",
    "print(\"\\nEmissions accounts:\")\n",
    "print(\"D_cba (consumption-based) shape:\", test_mrio.emissions.D_cba.shape)\n",
    "print(\"D_pba (production-based) shape:\", test_mrio.emissions.D_pba.shape)\n",
    "print(\"D_imp (import-based) shape:\", test_mrio.emissions.D_imp.shape)\n",
    "print(\"D_exp (export-based) shape:\", test_mrio.emissions.D_exp.shape)"
   ]
  },
  {
   "cell_type": "markdown",
   "metadata": {},
   "source": [
    "## 4. Search and Extract Functionality"
   ]
  },
  {
   "cell_type": "markdown",
   "metadata": {},
   "source": [
    "### 4.1 Extracting Specific Accounts\n",
    "\n",
    "After calculation, we can extract specific accounts and data:"
   ]
  },
  {
   "cell_type": "code",
   "execution_count": 8,
   "metadata": {},
   "outputs": [
    {
     "name": "stdout",
     "output_type": "stream",
     "text": [
      "Available data for emission_type1: ['F', 'F_Y', 'S', 'S_Y', 'M', 'D_cba', 'D_pba', 'D_imp', 'D_exp', 'unit', 'D_cba_reg', 'D_pba_reg', 'D_imp_reg', 'D_exp_reg', 'D_cba_cap', 'D_pba_cap', 'D_imp_cap', 'D_exp_cap']\n",
      "CBA emissions by region for emission_type1:\n",
      "region               reg1                                             \\\n",
      "sector               food         mining manufactoring   electricity   \n",
      "compartment                                                            \n",
      "air          2.056183e+06  179423.535893  9.749300e+07  1.188759e+07   \n",
      "\n",
      "region                                                               \\\n",
      "sector       construction         trade     transport         other   \n",
      "compartment                                                           \n",
      "air          3.342906e+06  3.885884e+06  1.075027e+07  1.582152e+07   \n",
      "\n",
      "region               reg2                ...          reg5                \\\n",
      "sector               food        mining  ...     transport         other   \n",
      "compartment                              ...                               \n",
      "air          1.793338e+06  19145.604911  ...  4.209505e+07  1.138661e+07   \n",
      "\n",
      "region               reg6                                            \\\n",
      "sector               food        mining manufactoring   electricity   \n",
      "compartment                                                           \n",
      "air          1.517235e+07  1.345318e+06  7.145075e+07  3.683167e+07   \n",
      "\n",
      "region                                                               \n",
      "sector       construction         trade     transport         other  \n",
      "compartment                                                          \n",
      "air          1.836696e+06  4.241568e+07  4.805409e+07  3.602298e+07  \n",
      "\n",
      "[1 rows x 48 columns]\n",
      "\n",
      "Total CBA emissions for reg1:\n",
      "stressor        compartment\n",
      "emission_type1  air            2.077521e+08\n",
      "emission_type2  water          8.642744e+07\n",
      "Name: reg1, dtype: float64\n"
     ]
    }
   ],
   "source": [
    "# Extract specific stressor data\n",
    "emission_type1_data = test_mrio.emissions.get_row_data('emission_type1')\n",
    "print(\"Available data for emission_type1:\", list(emission_type1_data.keys()))\n",
    "\n",
    "# Extract consumption-based accounts for a specific stressor\n",
    "cba_emission1 = test_mrio.emissions.D_cba.loc['emission_type1']\n",
    "print(\"CBA emissions by region for emission_type1:\")\n",
    "print(cba_emission1)\n",
    "\n",
    "# Extract data for specific regions\n",
    "reg1_data = test_mrio.emissions.D_cba_reg['reg1']\n",
    "print(\"\\nTotal CBA emissions for reg1:\")\n",
    "print(reg1_data)"
   ]
  },
  {
   "cell_type": "markdown",
   "metadata": {},
   "source": [
    "### 4.2 Advanced Search Patterns\n",
    "\n",
    "Use regular expressions for more complex searches:"
   ]
  },
  {
   "cell_type": "code",
   "execution_count": 9,
   "metadata": {},
   "outputs": [
    {
     "name": "stdout",
     "output_type": "stream",
     "text": [
      "Manufacturing sectors: {'index': MultiIndex([('reg1', 'manufactoring'),\n",
      "            ('reg2', 'manufactoring'),\n",
      "            ('reg3', 'manufactoring'),\n",
      "            ('reg4', 'manufactoring'),\n",
      "            ('reg5', 'manufactoring'),\n",
      "            ('reg6', 'manufactoring')],\n",
      "           names=['region', 'sector']), 'sectors': Index(['manufactoring'], dtype='object', name='sector')}\n",
      "Extensions containing 'type': {'Factor Inputs': Index([], dtype='object', name='inputtype'), 'Emissions': MultiIndex([('emission_type1',   'air'),\n",
      "            ('emission_type2', 'water')],\n",
      "           names=['stressor', 'compartment'])}\n"
     ]
    }
   ],
   "source": [
    "# Find all manufacturing-related sectors\n",
    "manufacturing_search = test_mrio.find(\"manufact.*\")\n",
    "print(\"Manufacturing sectors:\", manufacturing_search)\n",
    "\n",
    "# Search across all extensions for specific patterns\n",
    "all_extension_search = test_mrio.extension_contains(\"type\")\n",
    "print(\"Extensions containing 'type':\", all_extension_search)"
   ]
  },
  {
   "cell_type": "markdown",
   "metadata": {},
   "source": [
    "## 5. Ghosh Calculations in calc_all\n",
    "\n",
    "When `calc_all` is executed, it can optionally calculate Ghosh inverse matrices for downstream analysis:"
   ]
  },
  {
   "cell_type": "code",
   "execution_count": 10,
   "metadata": {},
   "outputs": [
    {
     "name": "stdout",
     "output_type": "stream",
     "text": [
      "Ghosh calculations not available in this version\n"
     ]
    }
   ],
   "source": [
    "# Check if Ghosh calculations are available\n",
    "if hasattr(test_mrio, 'G') and test_mrio.G is not None:\n",
    "    print(\"Ghosh matrix G shape:\", test_mrio.G.shape)\n",
    "    \n",
    "    # Check for downstream multipliers in extensions\n",
    "    if hasattr(test_mrio.emissions, 'M_down') and test_mrio.emissions.M_down is not None:\n",
    "        print(\"Downstream multipliers shape:\", test_mrio.emissions.M_down.shape)\n",
    "        print(\"Downstream multipliers sample:\")\n",
    "        print(test_mrio.emissions.M_down.iloc[:3, :3])\n",
    "else:\n",
    "    print(\"Ghosh calculations not available in this version\")"
   ]
  },
  {
   "cell_type": "markdown",
   "metadata": {},
   "source": [
    "## 6. Using Functions from iomath\n",
    "\n",
    "Pymrio's `iomath` module provides low-level functions for specific calculations:"
   ]
  },
  {
   "cell_type": "code",
   "execution_count": 12,
   "metadata": {},
   "outputs": [
    {
     "name": "stdout",
     "output_type": "stream",
     "text": [
      "Manual A matrix calculation matches: True\n",
      "Manual L matrix calculation matches: True\n",
      "Manual multiplier calculation matches: True\n"
     ]
    }
   ],
   "source": [
    "from pymrio.tools import iomath\n",
    "\n",
    "# Calculate specific matrices manually\n",
    "A_manual = iomath.calc_A(test_mrio.Z, test_mrio.x)\n",
    "print(\"Manual A matrix calculation matches:\", np.allclose(A_manual, test_mrio.A))\n",
    "\n",
    "# Calculate Leontief matrix\n",
    "L_manual = iomath.calc_L(test_mrio.A)\n",
    "print(\"Manual L matrix calculation matches:\", np.allclose(L_manual, test_mrio.L))\n",
    "\n",
    "# Calculate multipliers\n",
    "S = test_mrio.emissions.S\n",
    "M_manual = iomath.calc_M(S, test_mrio.L)\n",
    "print(\"Manual multiplier calculation matches:\", np.allclose(M_manual, test_mrio.emissions.M))"
   ]
  },
  {
   "cell_type": "markdown",
   "metadata": {},
   "source": [
    "## 7. Gross Trade Analysis\n",
    "\n",
    "The `calc_gross_trade` function provides insights into bilateral trade flows:"
   ]
  },
  {
   "cell_type": "code",
   "execution_count": 13,
   "metadata": {},
   "outputs": [
    {
     "ename": "AttributeError",
     "evalue": "'gross_trade' object has no attribute 'shape'",
     "output_type": "error",
     "traceback": [
      "\u001b[31m---------------------------------------------------------------------------\u001b[39m",
      "\u001b[31mAttributeError\u001b[39m                            Traceback (most recent call last)",
      "\u001b[36mCell\u001b[39m\u001b[36m \u001b[39m\u001b[32mIn[13]\u001b[39m\u001b[32m, line 3\u001b[39m\n\u001b[32m      1\u001b[39m \u001b[38;5;66;03m# Calculate gross trade flows\u001b[39;00m\n\u001b[32m      2\u001b[39m gross_trade = test_mrio.get_gross_trade()\n\u001b[32m----> \u001b[39m\u001b[32m3\u001b[39m \u001b[38;5;28mprint\u001b[39m(\u001b[33m\"\u001b[39m\u001b[33mGross trade matrix shape:\u001b[39m\u001b[33m\"\u001b[39m, \u001b[43mgross_trade\u001b[49m\u001b[43m.\u001b[49m\u001b[43mshape\u001b[49m)\n\u001b[32m      4\u001b[39m \u001b[38;5;28mprint\u001b[39m(\u001b[33m\"\u001b[39m\u001b[38;5;130;01m\\n\u001b[39;00m\u001b[33mSample of gross trade flows:\u001b[39m\u001b[33m\"\u001b[39m)\n\u001b[32m      5\u001b[39m \u001b[38;5;28mprint\u001b[39m(gross_trade.iloc[:\u001b[32m5\u001b[39m, :\u001b[32m5\u001b[39m])\n",
      "\u001b[31mAttributeError\u001b[39m: 'gross_trade' object has no attribute 'shape'"
     ]
    }
   ],
   "source": [
    "# Calculate gross trade flows\n",
    "gross_trade = test_mrio.get_gross_trade()\n",
    "print(\"Gross trade matrix shape:\", gross_trade.shape)\n",
    "print(\"\\nSample of gross trade flows:\")\n",
    "print(gross_trade.iloc[:5, :5])\n",
    "\n",
    "# Total exports by region\n",
    "total_exports = gross_trade.sum(axis=1)\n",
    "print(\"\\nTotal exports by region:\")\n",
    "print(total_exports)\n",
    "\n",
    "# Total imports by region\n",
    "total_imports = gross_trade.sum(axis=0)\n",
    "print(\"\\nTotal imports by region:\")\n",
    "print(total_imports)"
   ]
  },
  {
   "cell_type": "markdown",
   "metadata": {},
   "source": [
    "## 8. Extension Methods: Concatenate, Convert, and Characterize"
   ]
  },
  {
   "cell_type": "markdown",
   "metadata": {},
   "source": [
    "### 8.1 Extension Concatenation\n",
    "\n",
    "The `extension_concate` method allows combining multiple extensions:"
   ]
  },
  {
   "cell_type": "code",
   "execution_count": null,
   "metadata": {},
   "outputs": [],
   "source": [
    "# Create a copy for demonstration\n",
    "test_mrio_copy = test_mrio.copy()\n",
    "\n",
    "# Example of extension concatenation (combining emissions and factor_inputs)\n",
    "try:\n",
    "    # This would concatenate extensions if they have compatible structure\n",
    "    pymrio.extension_concate(test_mrio_copy, \n",
    "                           test_mrio_copy.emissions, \n",
    "                           test_mrio_copy.factor_inputs,\n",
    "                           new_extension_name='combined_extension')\n",
    "    print(\"Extension concatenation successful\")\n",
    "except Exception as e:\n",
    "    print(f\"Extension concatenation not applicable for this data structure: {e}\")"
   ]
  },
  {
   "cell_type": "markdown",
   "metadata": {},
   "source": [
    "### 8.2 Extension Conversion\n",
    "\n",
    "The `extension_convert` method transforms extensions based on mapping functions:"
   ]
  },
  {
   "cell_type": "code",
   "execution_count": null,
   "metadata": {},
   "outputs": [],
   "source": [
    "# Example conversion mapping (hypothetical unit conversion)\n",
    "conversion_factors = pd.DataFrame({\n",
    "    'stressor': ['emission_type1', 'emission_type2', 'emission_type3'],\n",
    "    'factor': [1000, 500, 750]  # Convert to different units\n",
    "})\n",
    "\n",
    "try:\n",
    "    # Apply conversion (this is a conceptual example)\n",
    "    # In practice, you would use specific conversion mappings\n",
    "    print(\"Extension conversion methods available for unit transformations\")\n",
    "    print(\"Conversion factors example:\")\n",
    "    print(conversion_factors)\n",
    "except Exception as e:\n",
    "    print(f\"Conversion example: {e}\")"
   ]
  },
  {
   "cell_type": "markdown",
   "metadata": {},
   "source": [
    "### 8.3 Extension Characterization\n",
    "\n",
    "The `characterize` method applies characterization factors to transform stressors into impacts:"
   ]
  },
  {
   "cell_type": "code",
   "execution_count": null,
   "metadata": {},
   "outputs": [],
   "source": [
    "# Create characterization factors\n",
    "char_factors = pd.DataFrame({\n",
    "    'stressor': ['emission_type1', 'emission_type2', 'emission_type3'],\n",
    "    'impact': ['climate_change', 'acidification', 'eutrophication'],\n",
    "    'factor': [25.0, 1.5, 0.8],  # kg CO2-eq, SO2-eq, PO4-eq\n",
    "    'impact_unit': ['kg CO2-eq', 'kg SO2-eq', 'kg PO4-eq'],\n",
    "    'stressor_unit': ['kg', 'kg', 'kg']\n",
    "})\n",
    "\n",
    "print(\"Characterization factors:\")\n",
    "print(char_factors)\n",
    "\n",
    "# Apply characterization\n",
    "try:\n",
    "    characterized_extension = test_mrio.emissions.characterize(\n",
    "        factors=char_factors,\n",
    "        characterized_name_column='impact',\n",
    "        characterization_factors_column='factor',\n",
    "        characterized_unit_column='impact_unit',\n",
    "        orig_unit_column='stressor_unit'\n",
    "    )\n",
    "    print(\"Characterization successful\")\n",
    "    print(\"Characterized impacts shape:\", characterized_extension.F.shape)\n",
    "except Exception as e:\n",
    "    print(f\"Characterization requires specific data format: {e}\")"
   ]
  },
  {
   "cell_type": "markdown",
   "metadata": {},
   "source": [
    "## 9. General and Region-Specific Characterization"
   ]
  },
  {
   "cell_type": "markdown",
   "metadata": {},
   "source": [
    "### 9.1 General Characterization\n",
    "\n",
    "The general `characterize` function works across multiple extensions:"
   ]
  },
  {
   "cell_type": "code",
   "execution_count": null,
   "metadata": {},
   "outputs": [],
   "source": [
    "# Example of cross-extension characterization\n",
    "try:\n",
    "    # This would characterize across multiple extensions\n",
    "    result = pymrio.characterize(test_mrio.emissions, factors=char_factors)\n",
    "    print(\"Cross-extension characterization completed\")\n",
    "except Exception as e:\n",
    "    print(f\"Cross-extension characterization: {e}\")"
   ]
  },
  {
   "cell_type": "markdown",
   "metadata": {},
   "source": [
    "### 9.2 Region-Specific Characterization\n",
    "\n",
    "For region-specific characterization factors:"
   ]
  },
  {
   "cell_type": "code",
   "execution_count": null,
   "metadata": {},
   "outputs": [],
   "source": [
    "# Create region-specific characterization factors\n",
    "region_char_factors = pd.DataFrame({\n",
    "    'region': ['reg1', 'reg1', 'reg2', 'reg2'],\n",
    "    'stressor': ['emission_type1', 'emission_type2', 'emission_type1', 'emission_type2'],\n",
    "    'impact': ['climate_change', 'acidification', 'climate_change', 'acidification'],\n",
    "    'factor': [28.0, 1.2, 22.0, 1.8],  # Different factors by region\n",
    "    'impact_unit': ['kg CO2-eq', 'kg SO2-eq', 'kg CO2-eq', 'kg SO2-eq'],\n",
    "    'stressor_unit': ['kg', 'kg', 'kg', 'kg']\n",
    "})\n",
    "\n",
    "print(\"Region-specific characterization factors:\")\n",
    "print(region_char_factors)\n",
    "\n",
    "# This allows for location-specific impact assessment\n",
    "print(\"Region-specific characterization enables location-dependent impact factors\")"
   ]
  },
  {
   "cell_type": "markdown",
   "metadata": {},
   "source": [
    "## 10. Aggregation Example\n",
    "\n",
    "Pymrio provides flexible aggregation capabilities:"
   ]
  },
  {
   "cell_type": "code",
   "execution_count": null,
   "metadata": {},
   "outputs": [],
   "source": [
    "# Create aggregation mapping for regions\n",
    "region_agg = pd.DataFrame({\n",
    "    'original': ['reg1', 'reg2', 'reg3', 'reg4', 'reg5', 'reg6'],\n",
    "    'aggregated': ['North', 'North', 'North', 'South', 'South', 'South']\n",
    "})\n",
    "\n",
    "# Create aggregation mapping for sectors\n",
    "sector_agg = pd.DataFrame({\n",
    "    'original': ['food', 'mining', 'manufactoring', 'electricity', 'construction', 'trade', 'transport', 'other'],\n",
    "    'aggregated': ['Primary', 'Primary', 'Secondary', 'Secondary', 'Secondary', 'Services', 'Services', 'Services']\n",
    "})\n",
    "\n",
    "print(\"Region aggregation mapping:\")\n",
    "print(region_agg)\n",
    "print(\"\\nSector aggregation mapping:\")\n",
    "print(sector_agg)\n",
    "\n",
    "# Perform aggregation\n",
    "try:\n",
    "    # Create aggregation vectors\n",
    "    reg_agg_vec = region_agg.set_index('original')['aggregated']\n",
    "    sec_agg_vec = sector_agg.set_index('original')['aggregated']\n",
    "    \n",
    "    # Apply aggregation\n",
    "    aggregated_mrio = test_mrio.aggregate(\n",
    "        region_agg=reg_agg_vec,\n",
    "        sector_agg=sec_agg_vec,\n",
    "        inplace=False\n",
    "    )\n",
    "    \n",
    "    print(\"\\nAggregated system:\")\n",
    "    print(\"New regions:\", aggregated_mrio.get_regions().tolist())\n",
    "    print(\"New sectors:\", aggregated_mrio.get_sectors().tolist())\n",
    "    print(\"Aggregated Z matrix shape:\", aggregated_mrio.Z.shape)\n",
    "    \n",
    "except Exception as e:\n",
    "    print(f\"Aggregation example: {e}\")"
   ]
  },
  {
   "cell_type": "markdown",
   "metadata": {},
   "source": [
    "## 11. Save and Load Data"
   ]
  },
  {
   "cell_type": "markdown",
   "metadata": {},
   "source": [
    "### 11.1 Saving to Text Format"
   ]
  },
  {
   "cell_type": "code",
   "execution_count": null,
   "metadata": {},
   "outputs": [],
   "source": [
    "import tempfile\n",
    "import os\n",
    "\n",
    "# Create temporary directory for demonstration\n",
    "temp_dir = tempfile.mkdtemp()\n",
    "\n",
    "try:\n",
    "    # Save to text format\n",
    "    txt_path = os.path.join(temp_dir, 'test_mrio_txt')\n",
    "    test_mrio.save_all(txt_path, table_format='txt')\n",
    "    print(f\"Saved to text format in: {txt_path}\")\n",
    "    \n",
    "    # List saved files\n",
    "    saved_files = os.listdir(txt_path)\n",
    "    print(\"Saved files:\", saved_files[:10])  # Show first 10 files\n",
    "    \n",
    "    # Load from text format\n",
    "    loaded_mrio_txt = pymrio.load_all(txt_path)\n",
    "    print(\"Successfully loaded from text format\")\n",
    "    print(\"Loaded extensions:\", loaded_mrio_txt.get_extensions().tolist())\n",
    "    \n",
    "except Exception as e:\n",
    "    print(f\"Text format save/load: {e}\")"
   ]
  },
  {
   "cell_type": "markdown",
   "metadata": {},
   "source": [
    "### 11.2 Saving to Parquet Format"
   ]
  },
  {
   "cell_type": "code",
   "execution_count": null,
   "metadata": {},
   "outputs": [],
   "source": [
    "try:\n",
    "    # Save to parquet format (more efficient for large datasets)\n",
    "    parquet_path = os.path.join(temp_dir, 'test_mrio_parquet')\n",
    "    test_mrio.save_all(parquet_path, table_format='parquet')\n",
    "    print(f\"Saved to parquet format in: {parquet_path}\")\n",
    "    \n",
    "    # List saved files\n",
    "    saved_files_parquet = os.listdir(parquet_path)\n",
    "    print(\"Saved parquet files:\", saved_files_parquet[:10])\n",
    "    \n",
    "    # Load from parquet format\n",
    "    loaded_mrio_parquet = pymrio.load_all(parquet_path)\n",
    "    print(\"Successfully loaded from parquet format\")\n",
    "    print(\"Data integrity check:\", \n",
    "          np.allclose(loaded_mrio_parquet.Z.values, test_mrio.Z.values))\n",
    "    \n",
    "except Exception as e:\n",
    "    print(f\"Parquet format save/load: {e}\")\n",
    "\n",
    "# Clean up temporary directory\n",
    "import shutil\n",
    "try:\n",
    "    shutil.rmtree(temp_dir)\n",
    "    print(\"Temporary files cleaned up\")\n",
    "except:\n",
    "    pass"
   ]
  },
  {
   "cell_type": "markdown",
   "metadata": {},
   "source": [
    "## 12. Additional Utility Functions"
   ]
  },
  {
   "cell_type": "markdown",
   "metadata": {},
   "source": [
    "### 12.1 System Information and Metadata"
   ]
  },
  {
   "cell_type": "code",
   "execution_count": null,
   "metadata": {},
   "outputs": [],
   "source": [
    "# Access metadata\n",
    "print(\"MRIO system metadata:\")\n",
    "print(\"Name:\", test_mrio.meta.name)\n",
    "print(\"Description:\", test_mrio.meta.description)\n",
    "\n",
    "# Get system dimensions\n",
    "print(\"\\nSystem dimensions:\")\n",
    "print(\"Number of regions:\", len(test_mrio.get_regions()))\n",
    "print(\"Number of sectors:\", len(test_mrio.get_sectors()))\n",
    "print(\"Number of final demand categories:\", len(test_mrio.get_Y_categories()))\n",
    "\n",
    "# Extension information\n",
    "for ext_name in test_mrio.get_extensions():\n",
    "    ext = getattr(test_mrio, ext_name)\n",
    "    print(f\"\\nExtension '{ext_name}':\")\n",
    "    print(f\"  Number of stressors: {len(ext.get_rows())}\")\n",
    "    print(f\"  Unit information available: {ext.unit is not None}\")"
   ]
  },
  {
   "cell_type": "markdown",
   "metadata": {},
   "source": [
    "### 12.2 Data Validation and Quality Checks"
   ]
  },
  {
   "cell_type": "code",
   "execution_count": null,
   "metadata": {},
   "outputs": [],
   "source": [
    "# Check data consistency\n",
    "print(\"Data validation:\")\n",
    "print(\"Z matrix balance check:\", np.allclose(test_mrio.Z.sum().sum() + test_mrio.Y.sum().sum(), \n",
    "                                            test_mrio.x.sum().sum()))\n",
    "\n",
    "# Check for missing values\n",
    "print(\"Missing values in Z:\", test_mrio.Z.isna().sum().sum())\n",
    "print(\"Missing values in Y:\", test_mrio.Y.isna().sum().sum())\n",
    "\n",
    "# Extension data checks\n",
    "for ext_name in test_mrio.get_extensions():\n",
    "    ext = getattr(test_mrio, ext_name)\n",
    "    print(f\"Missing values in {ext_name}.F:\", ext.F.isna().sum().sum())"
   ]
  },
  {
   "cell_type": "markdown",
   "metadata": {},
   "source": [
    "## Conclusion\n",
    "\n",
    "This tutorial has covered all major top-level functions of pymrio:\n",
    "\n",
    "1. **Data Loading**: Using `pymrio.load_test()` and understanding the system structure\n",
    "2. **System Information**: Methods like `get_regions()`, `get_sectors()`, and `search()`\n",
    "3. **Core Calculations**: The comprehensive `calc_all()` method\n",
    "4. **Search and Extract**: Finding and extracting specific accounts and data\n",
    "5. **Ghosh Calculations**: Downstream analysis capabilities\n",
    "6. **iomath Functions**: Low-level calculation functions for specific operations\n",
    "7. **Gross Trade**: Analysis of bilateral trade flows\n",
    "8. **Extension Methods**: Concatenation, conversion, and characterization\n",
    "9. **Characterization**: General and region-specific impact assessment\n",
    "10. **Aggregation**: Flexible system aggregation capabilities\n",
    "11. **Data Persistence**: Saving and loading in multiple formats\n",
    "\n",
    "The test MRIO system provides an excellent foundation for understanding these concepts, which can then be applied to larger, real-world databases such as EXIOBASE, WIOD, or EORA26. Each function demonstrated here scales effectively to handle comprehensive global MRIO systems whilst maintaining the same intuitive API structure.\n",
    "\n",
    "For further exploration, consult the complete pymrio documentation at https://pymrio.readthedocs.io/ and examine the extensive examples available in the GitHub repository."
   ]
  }
 ],
 "metadata": {
  "kernelspec": {
   "display_name": "Python 3 (ipykernel)",
   "language": "python",
   "name": "python3"
  },
  "language_info": {
   "codemirror_mode": {
    "name": "ipython",
    "version": 3
   },
   "file_extension": ".py",
   "mimetype": "text/x-python",
   "name": "python",
   "nbconvert_exporter": "python",
   "pygments_lexer": "ipython3",
   "version": "3.13.5"
  }
 },
 "nbformat": 4,
 "nbformat_minor": 4
}
