{
 "cells": [
  {
   "cell_type": "markdown",
   "metadata": {},
   "source": [
    "# Automatic downloading of MRIO databases"
   ]
  },
  {
   "cell_type": "markdown",
   "metadata": {},
   "source": [
    "Pymrio includes functions to automatically download some of the publicly available global EE MRIO databases.\n",
    "This is currently implemented for [EXIOBASE 3](https://doi.org/10.5281/zenodo.3583070), [OECD](https://www.oecd.org/sti/ind/inter-country-input-output-tables.htm) and [WIOD](http://www.wiod.org)."
   ]
  },
  {
   "cell_type": "markdown",
   "metadata": {},
   "source": [
    "The functions described here download the raw data files. Thus, they can also be used for post processing by other tools."
   ]
  },
  {
   "cell_type": "markdown",
   "metadata": {},
   "source": [
    "## EXIOBASE 3 download"
   ]
  },
  {
   "cell_type": "markdown",
   "metadata": {},
   "source": [
    "EXIOBASE 3 is licensed under the [Creative Commons Attribution ShareAlike 4.0 International-license](https://creativecommons.org/licenses/by-sa/4.0/legalcode). Thus you can use EXIOBASE 3 for analyses as well as remix, tweak, and build uponit, even commercially, as long as you give credit to the EXIOBASE compilers and share your results/new databases under the same licence. The suggested citation for EXIOBASE 3 is [Stadler et al 2018](https://doi.org/10.1111/jiec.12715). You can find more information, links to documentation as well as concordance matrices on the [EXIOBASE 3 Zenodo repository](https://doi.org/10.5281/zenodo.3583070). The download function of pymrio also downloads the files from this repository."
   ]
  },
  {
   "cell_type": "markdown",
   "metadata": {},
   "source": [
    "To download, start with:"
   ]
  },
  {
   "cell_type": "code",
   "execution_count": 1,
   "metadata": {
    "tags": []
   },
   "outputs": [],
   "source": [
    "import pymrio"
   ]
  },
  {
   "cell_type": "markdown",
   "metadata": {},
   "source": [
    "and define a folder for storing the data:"
   ]
  },
  {
   "cell_type": "code",
   "execution_count": 2,
   "metadata": {
    "tags": []
   },
   "outputs": [],
   "source": [
    "exio3_folder = \"/tmp/mrios/autodownload/EXIO3\""
   ]
  },
  {
   "cell_type": "markdown",
   "metadata": {},
   "source": [
    "With that we can start the download with (this might take a moment):"
   ]
  },
  {
   "cell_type": "code",
   "execution_count": 3,
   "metadata": {
    "tags": []
   },
   "outputs": [],
   "source": [
    "exio_downloadlog = pymrio.download_exiobase3(\n",
    "    storage_folder=exio3_folder, system=\"pxp\", years=[2011, 2012]\n",
    ")"
   ]
  },
  {
   "cell_type": "markdown",
   "metadata": {},
   "source": [
    "The command above will download the latest EXIOBASE 3 tables in the product\n",
    "by product classification (system='pxp') for the years 2011 and 2012. Both\n",
    "parameters (system and years) are optional and when omitted the function will\n",
    "download all available files."
   ]
  },
  {
   "cell_type": "markdown",
   "metadata": {},
   "source": [
    "The function returns a log of the download data (which is stored in ```download_log.json``` in the download folder).\n",
    "You can inspect the meta data by:"
   ]
  },
  {
   "cell_type": "code",
   "execution_count": 4,
   "metadata": {
    "collapsed": false,
    "jupyter": {
     "outputs_hidden": false
    },
    "tags": []
   },
   "outputs": [
    {
     "name": "stdout",
     "output_type": "stream",
     "text": [
      "Description: Download log of EXIOBASE3\n",
      "MRIO Name: EXIO3\n",
      "System: pxp\n",
      "Version: 10.5281/zenodo.3583070\n",
      "File: /tmp/mrios/autodownload/EXIO3/download_log.json\n",
      "History:\n",
      "20230323 09:32:39 - FILEIO -  Downloaded https://zenodo.org/record/5589597/files/IOT_2012_pxp.zip to IOT_2012_pxp.zip\n",
      "20230323 09:26:03 - FILEIO -  Downloaded https://zenodo.org/record/5589597/files/IOT_2011_pxp.zip to IOT_2011_pxp.zip\n",
      "20230323 09:19:45 - NOTE -  Download log created\n",
      "20230323 09:19:45 - NOTE -  python_version: 3.9.16\n",
      "20230323 09:19:45 - NOTE -  pymrio_version: 0.5.0dev\n",
      "20230323 09:19:45 - NOTE -  os: Linux\n",
      "20230323 09:19:45 - NOTE -  hostname: NTNU09417\n",
      "20230323 09:19:45 - NOTE -  username: konstans\n"
     ]
    }
   ],
   "source": [
    "print(exio_downloadlog)"
   ]
  },
  {
   "cell_type": "markdown",
   "metadata": {},
   "source": [
    "By default, the download_exiobase3 fetches the latest version of EXIOBASE3\n",
    "available at the [EXIOBASE 3 Zenodo repository](https://doi.org/10.5281/zenodo.3583070).\n",
    "To download one of the previous versions specify the DOI with the doi\n",
    "parameter:"
   ]
  },
  {
   "cell_type": "code",
   "execution_count": 5,
   "metadata": {
    "tags": []
   },
   "outputs": [],
   "source": [
    "prev_version_storage = \"/tmp/mrios/autodownload/EXIO3_7\"\n",
    "exio_downlog_37 = pymrio.download_exiobase3(\n",
    "    storage_folder=prev_version_storage,\n",
    "    system=\"ixi\",\n",
    "    years=2004,\n",
    "    doi=\"10.5281/zenodo.3583071\",\n",
    ")"
   ]
  },
  {
   "cell_type": "code",
   "execution_count": 6,
   "metadata": {
    "tags": []
   },
   "outputs": [
    {
     "name": "stdout",
     "output_type": "stream",
     "text": [
      "Description: Download log of EXIOBASE3\n",
      "MRIO Name: EXIO3\n",
      "System: ixi\n",
      "Version: 10.5281/zenodo.3583071\n",
      "File: /tmp/mrios/autodownload/EXIO3_7/download_log.json\n",
      "History:\n",
      "20230323 09:44:54 - FILEIO -  Downloaded https://zenodo.org/record/3583071/files/IOT_2004_ixi.zip to IOT_2004_ixi.zip\n",
      "20230323 09:43:49 - NOTE -  Download log created\n",
      "20230323 09:43:49 - NOTE -  python_version: 3.9.16\n",
      "20230323 09:43:49 - NOTE -  pymrio_version: 0.5.0dev\n",
      "20230323 09:43:49 - NOTE -  os: Linux\n",
      "20230323 09:43:49 - NOTE -  hostname: NTNU09417\n",
      "20230323 09:43:49 - NOTE -  username: konstans\n"
     ]
    }
   ],
   "source": [
    "print(exio_downlog_37)"
   ]
  },
  {
   "cell_type": "markdown",
   "metadata": {
    "lines_to_next_cell": 2
   },
   "source": [
    "We also recommend to specifiy a specific DOI version even when using the latest version of EXIOBASE. In that way the used version is documented in the code and can be reproduced in case a newer EXIOBASE version becomes available."
   ]
  },
  {
   "cell_type": "markdown",
   "metadata": {
    "lines_to_next_cell": 2
   },
   "source": [
    "## WIOD download"
   ]
  },
  {
   "cell_type": "markdown",
   "metadata": {},
   "source": [
    "**DUE TO A RESTRUCTERING OF THE WIOD WEBPAGE THIS IS CURRENTLY BROKEN.**\n",
    "\n",
    "\n",
    "WIOD is licensed under the [Creative Commons Attribution 4.0 International-license](http://creativecommons.org/licenses/by/4.0/). Thus you can remix, tweak, and build upon WIOD, even commercially, as long as you give credit to WIOD. The WIOD web-page suggest to cite [Timmer et al. 2015](http://doi.wiley.com/10.1111/roie.12178) when you use the database. You can find more information on the [WIOD webpage](http://www.wiod.org)."
   ]
  },
  {
   "cell_type": "markdown",
   "metadata": {},
   "source": [
    "The download function for WIOD currently processes the [2013 release version of WIOD](http://www.wiod.org/database/wiots13)."
   ]
  },
  {
   "cell_type": "markdown",
   "metadata": {},
   "source": [
    "To download, start with:"
   ]
  },
  {
   "cell_type": "code",
   "execution_count": 7,
   "metadata": {},
   "outputs": [],
   "source": [
    "import pymrio"
   ]
  },
  {
   "cell_type": "markdown",
   "metadata": {},
   "source": [
    "Define a folder for storing the data"
   ]
  },
  {
   "cell_type": "code",
   "execution_count": 8,
   "metadata": {},
   "outputs": [],
   "source": [
    "wiod_folder = \"/tmp/mrios/autodownload/WIOD2013\""
   ]
  },
  {
   "cell_type": "markdown",
   "metadata": {},
   "source": [
    "And start the download with (this will take a couple of minutes):"
   ]
  },
  {
   "cell_type": "code",
   "execution_count": 9,
   "metadata": {},
   "outputs": [],
   "source": [
    "wiod_meta = pymrio.download_wiod2013(storage_folder=wiod_folder)"
   ]
  },
  {
   "cell_type": "markdown",
   "metadata": {},
   "source": [
    "The function returns the meta data for the release (which is stored in ```metadata.json``` in the download folder).\n",
    "You can inspect the meta data by:"
   ]
  },
  {
   "cell_type": "code",
   "execution_count": 10,
   "metadata": {
    "collapsed": false,
    "jupyter": {
     "outputs_hidden": false
    }
   },
   "outputs": [
    {
     "name": "stdout",
     "output_type": "stream",
     "text": [
      "Description: WIOD metadata file for pymrio\n",
      "MRIO Name: WIOD\n",
      "System: IxI\n",
      "Version: data13\n",
      "File: /tmp/mrios/autodownload/WIOD2013/metadata.json\n",
      "History:\n",
      "20210223 15:46:26 - FILEIO -  Downloaded http://www.wiod.org/protected3/data13/water/wat_may12.zip to wat_may12.zip\n",
      "20210223 15:46:25 - FILEIO -  Downloaded http://www.wiod.org/protected3/data13/materials/mat_may12.zip to mat_may12.zip\n",
      "20210223 15:46:25 - FILEIO -  Downloaded http://www.wiod.org/protected3/data13/land/lan_may12.zip to lan_may12.zip\n",
      "20210223 15:46:24 - FILEIO -  Downloaded http://www.wiod.org/protected3/data13/AIR/AIR_may12.zip to AIR_may12.zip\n",
      "20210223 15:46:24 - FILEIO -  Downloaded http://www.wiod.org/protected3/data13/CO2/CO2_may12.zip to CO2_may12.zip\n",
      "20210223 15:46:23 - FILEIO -  Downloaded http://www.wiod.org/protected3/data13/EM/EM_may12.zip to EM_may12.zip\n",
      "20210223 15:46:22 - FILEIO -  Downloaded http://www.wiod.org/protected3/data13/EU/EU_may12.zip to EU_may12.zip\n",
      "20210223 15:46:21 - FILEIO -  Downloaded http://www.wiod.org/protected3/data13/SEA/WIOD_SEA_July14.xlsx to WIOD_SEA_July14.xlsx\n",
      "20210223 15:46:20 - FILEIO -  Downloaded http://www.wiod.org/protected3/data13/update_sep12/wiot/wiot09_row_sep12.xlsx to wiot09_row_sep12.xlsx\n",
      "20210223 15:46:15 - FILEIO -  Downloaded http://www.wiod.org/protected3/data13/wiot_analytic/wiot04_row_apr12.xlsx to wiot04_row_apr12.xlsx\n",
      " ... (more lines in history)\n"
     ]
    }
   ],
   "source": [
    "print(wiod_meta)"
   ]
  },
  {
   "cell_type": "markdown",
   "metadata": {},
   "source": [
    "The WIOD database provide data for several years and satellite accounts.\n",
    "In the default case, all of them are downloaded. You can, however, specify\n",
    "years and satellite account."
   ]
  },
  {
   "cell_type": "markdown",
   "metadata": {},
   "source": [
    "You can specify the years as either int or string (2 or 4 digits):"
   ]
  },
  {
   "cell_type": "code",
   "execution_count": 11,
   "metadata": {},
   "outputs": [],
   "source": [
    "res_years = [97, 2004, \"2005\"]"
   ]
  },
  {
   "cell_type": "markdown",
   "metadata": {},
   "source": [
    "The available satellite accounts for WIOD are listed in the ```WIOD_CONFIG```.\n",
    "To get them import this dict by:"
   ]
  },
  {
   "cell_type": "code",
   "execution_count": 12,
   "metadata": {},
   "outputs": [],
   "source": [
    "from pymrio.tools.iodownloader import WIOD_CONFIG"
   ]
  },
  {
   "cell_type": "code",
   "execution_count": 13,
   "metadata": {
    "collapsed": false,
    "jupyter": {
     "outputs_hidden": false
    }
   },
   "outputs": [
    {
     "data": {
      "text/plain": [
       "{'url_db_view': 'http://www.wiod.org/database/wiots13',\n",
       " 'url_db_content': 'http://www.wiod.org/',\n",
       " 'mrio_regex': 'protected.*?wiot\\\\d\\\\d.*?xlsx',\n",
       " 'satellite_urls': ['http://www.wiod.org/protected3/data13/SEA/WIOD_SEA_July14.xlsx',\n",
       "  'http://www.wiod.org/protected3/data13/EU/EU_may12.zip',\n",
       "  'http://www.wiod.org/protected3/data13/EM/EM_may12.zip',\n",
       "  'http://www.wiod.org/protected3/data13/CO2/CO2_may12.zip',\n",
       "  'http://www.wiod.org/protected3/data13/AIR/AIR_may12.zip',\n",
       "  'http://www.wiod.org/protected3/data13/land/lan_may12.zip',\n",
       "  'http://www.wiod.org/protected3/data13/materials/mat_may12.zip',\n",
       "  'http://www.wiod.org/protected3/data13/water/wat_may12.zip']}"
      ]
     },
     "execution_count": 13,
     "metadata": {},
     "output_type": "execute_result"
    }
   ],
   "source": [
    "WIOD_CONFIG"
   ]
  },
  {
   "cell_type": "markdown",
   "metadata": {},
   "source": [
    "To restrict this list, you can either copy paste the urls or automatically select the accounts:"
   ]
  },
  {
   "cell_type": "code",
   "execution_count": 14,
   "metadata": {},
   "outputs": [],
   "source": [
    "sat_accounts = [\"EU\", \"CO2\"]\n",
    "res_satellite = [\n",
    "    sat\n",
    "    for sat in WIOD_CONFIG[\"satellite_urls\"]\n",
    "    if any(acc in sat for acc in sat_accounts)\n",
    "]"
   ]
  },
  {
   "cell_type": "code",
   "execution_count": 15,
   "metadata": {
    "collapsed": false,
    "jupyter": {
     "outputs_hidden": false
    }
   },
   "outputs": [
    {
     "data": {
      "text/plain": [
       "['http://www.wiod.org/protected3/data13/EU/EU_may12.zip',\n",
       " 'http://www.wiod.org/protected3/data13/CO2/CO2_may12.zip']"
      ]
     },
     "execution_count": 15,
     "metadata": {},
     "output_type": "execute_result"
    }
   ],
   "source": [
    "res_satellite"
   ]
  },
  {
   "cell_type": "code",
   "execution_count": 16,
   "metadata": {},
   "outputs": [],
   "source": [
    "wiod_meta_res = pymrio.download_wiod2013(\n",
    "    storage_folder=\"/tmp/foo_folder/WIOD2013_res\",\n",
    "    years=res_years,\n",
    "    satellite_urls=res_satellite,\n",
    ")"
   ]
  },
  {
   "cell_type": "code",
   "execution_count": 17,
   "metadata": {
    "collapsed": false,
    "jupyter": {
     "outputs_hidden": false
    }
   },
   "outputs": [
    {
     "name": "stdout",
     "output_type": "stream",
     "text": [
      "Description: WIOD metadata file for pymrio\n",
      "MRIO Name: WIOD\n",
      "System: IxI\n",
      "Version: data13\n",
      "File: /tmp/foo_folder/WIOD2013_res/metadata.json\n",
      "History:\n",
      "20210218 15:29:34 - FILEIO -  Downloaded http://www.wiod.org/protected3/data13/wiot_analytic/wiot01_row_apr12.xlsx to wiot01_row_apr12.xlsx\n",
      "20210218 15:29:33 - FILEIO -  Downloaded http://www.wiod.org/protected3/data13/wiot_analytic/wiot00_row_apr12.xlsx to wiot00_row_apr12.xlsx\n",
      "20210218 15:29:32 - FILEIO -  Downloaded http://www.wiod.org/protected3/data13/CO2/CO2_may12.zip to CO2_may12.zip\n",
      "20210218 15:29:31 - FILEIO -  Downloaded http://www.wiod.org/protected3/data13/EU/EU_may12.zip to EU_may12.zip\n",
      "20210218 15:29:30 - FILEIO -  Downloaded http://www.wiod.org/protected3/data13/wiot_analytic/wiot04_row_apr12.xlsx to wiot04_row_apr12.xlsx\n",
      "20210218 15:29:27 - FILEIO -  Downloaded http://www.wiod.org/protected3/data13/wiot_analytic/wiot97_row_apr12.xlsx to wiot97_row_apr12.xlsx\n",
      "20210218 15:29:26 - FILEIO -  Downloaded http://www.wiod.org/protected3/data13/wiot_analytic/wiot05_row_apr12.xlsx to wiot05_row_apr12.xlsx\n"
     ]
    }
   ],
   "source": [
    "print(wiod_meta_res)"
   ]
  },
  {
   "cell_type": "markdown",
   "metadata": {},
   "source": [
    "Subsequent download will only catch files currently not present in the folder, e.g.:"
   ]
  },
  {
   "cell_type": "code",
   "execution_count": 18,
   "metadata": {},
   "outputs": [],
   "source": [
    "additional_years = [2000, 2001]\n",
    "wiod_meta_res = pymrio.download_wiod2013(\n",
    "    storage_folder=\"/tmp/foo_folder/WIOD2013_res\",\n",
    "    years=res_years + additional_years,\n",
    "    satellite_urls=res_satellite,\n",
    ")"
   ]
  },
  {
   "cell_type": "markdown",
   "metadata": {},
   "source": [
    "only downloads the years given in ```additional_years```, appending these downloads to the meta data file."
   ]
  },
  {
   "cell_type": "code",
   "execution_count": 19,
   "metadata": {
    "collapsed": false,
    "jupyter": {
     "outputs_hidden": false
    }
   },
   "outputs": [
    {
     "name": "stdout",
     "output_type": "stream",
     "text": [
      "Description: WIOD metadata file for pymrio\n",
      "MRIO Name: WIOD\n",
      "System: IxI\n",
      "Version: data13\n",
      "File: /tmp/foo_folder/WIOD2013_res/metadata.json\n",
      "History:\n",
      "20210218 15:29:34 - FILEIO -  Downloaded http://www.wiod.org/protected3/data13/wiot_analytic/wiot01_row_apr12.xlsx to wiot01_row_apr12.xlsx\n",
      "20210218 15:29:33 - FILEIO -  Downloaded http://www.wiod.org/protected3/data13/wiot_analytic/wiot00_row_apr12.xlsx to wiot00_row_apr12.xlsx\n",
      "20210218 15:29:32 - FILEIO -  Downloaded http://www.wiod.org/protected3/data13/CO2/CO2_may12.zip to CO2_may12.zip\n",
      "20210218 15:29:31 - FILEIO -  Downloaded http://www.wiod.org/protected3/data13/EU/EU_may12.zip to EU_may12.zip\n",
      "20210218 15:29:30 - FILEIO -  Downloaded http://www.wiod.org/protected3/data13/wiot_analytic/wiot04_row_apr12.xlsx to wiot04_row_apr12.xlsx\n",
      "20210218 15:29:27 - FILEIO -  Downloaded http://www.wiod.org/protected3/data13/wiot_analytic/wiot97_row_apr12.xlsx to wiot97_row_apr12.xlsx\n",
      "20210218 15:29:26 - FILEIO -  Downloaded http://www.wiod.org/protected3/data13/wiot_analytic/wiot05_row_apr12.xlsx to wiot05_row_apr12.xlsx\n"
     ]
    }
   ],
   "source": [
    "print(wiod_meta_res)"
   ]
  },
  {
   "cell_type": "markdown",
   "metadata": {},
   "source": [
    "To catch all files, irrespective if present in the storage_folder or not pass ```overwrite_existing=True```"
   ]
  },
  {
   "cell_type": "markdown",
   "metadata": {},
   "source": [
    "## OECD download"
   ]
  },
  {
   "cell_type": "markdown",
   "metadata": {},
   "source": [
    "The OECD Inter-Country Input-Output tables (ICIO) are available on the [OECD webpage.](https://www.oecd.org/sti/ind/inter-country-input-output-tables.htm) There is no specific licence given for the these tables, but the webpage state that \"Data can be downloaded for free\" (per July 2019).\n",
    "\n",
    "The download function works for both, the 2016 and 2018 release.\n"
   ]
  },
  {
   "cell_type": "markdown",
   "metadata": {},
   "source": [
    "To download the data, we first define the folder for storing the data (these will be created if they do not exist yet):"
   ]
  },
  {
   "cell_type": "code",
   "execution_count": 20,
   "metadata": {},
   "outputs": [],
   "source": [
    "oecd_folder_v2018 = \"/tmp/mrios/autodownload/OECD_2018\"\n",
    "oecd_folder_v2016 = \"/tmp/mrios/autodownload/OECD_2016\""
   ]
  },
  {
   "cell_type": "markdown",
   "metadata": {},
   "source": [
    "Than we can start the download with"
   ]
  },
  {
   "cell_type": "code",
   "execution_count": 21,
   "metadata": {},
   "outputs": [],
   "source": [
    "meta_2018 = pymrio.download_oecd(storage_folder=oecd_folder_v2018)"
   ]
  },
  {
   "cell_type": "markdown",
   "metadata": {},
   "source": [
    "Be default, the 2018 release of the OECD - ICIO tables are downloaded.\n",
    "To retrieve the 2016 version, pass \"version='v2016\".\n",
    "\n",
    "As for WIOD, specific years can be specified by passing a list of years:"
   ]
  },
  {
   "cell_type": "code",
   "execution_count": 22,
   "metadata": {},
   "outputs": [],
   "source": [
    "meta_2016 = pymrio.download_oecd(\n",
    "    storage_folder=oecd_folder_v2016, version=\"v2016\", years=[2003, 2008]\n",
    ")"
   ]
  },
  {
   "cell_type": "markdown",
   "metadata": {},
   "source": [
    "Both functions return the meta data describing the download progress and MRIO info. Thus:"
   ]
  },
  {
   "cell_type": "code",
   "execution_count": 23,
   "metadata": {},
   "outputs": [
    {
     "name": "stdout",
     "output_type": "stream",
     "text": [
      "Description: OECD-ICIO download\n",
      "MRIO Name: OECD-ICIO\n",
      "System: IxI\n",
      "Version: v2018\n",
      "File: /tmp/mrios/autodownload/OECD_2018/metadata.json\n",
      "History:\n",
      "20210223 16:00:46 - FILEIO -  Downloaded http://stats.oecd.org/wbos/fileview2.aspx?IDFile=9f579ef3-4685-45e4-a0ba-d1acbd9755a6 to ICIO2018_2015.zip\n",
      "20210223 15:59:29 - FILEIO -  Downloaded http://stats.oecd.org/wbos/fileview2.aspx?IDFile=0190bd9d-31d0-4171-bd1c-82d96b88e469 to ICIO2018_2014.zip\n",
      "20210223 15:58:34 - FILEIO -  Downloaded http://stats.oecd.org/wbos/fileview2.aspx?IDFile=8c8ac674-1b6c-4c8e-94d1-158f06285659 to ICIO2018_2013.zip\n",
      "20210223 15:57:23 - FILEIO -  Downloaded http://stats.oecd.org/wbos/fileview2.aspx?IDFile=cfd03495-8a90-4449-8097-a30f06853cab to ICIO2018_2012.zip\n",
      "20210223 15:56:04 - FILEIO -  Downloaded http://stats.oecd.org/wbos/fileview2.aspx?IDFile=dc48c8c0-f200-487a-aecb-0c2c17fe3ddf to ICIO2018_2011.zip\n",
      "20210223 15:54:27 - FILEIO -  Downloaded http://stats.oecd.org/wbos/fileview2.aspx?IDFile=16d04830-3c27-47a5-bc03-e429d27f585e to ICIO2018_2010.zip\n",
      "20210223 15:52:54 - FILEIO -  Downloaded http://stats.oecd.org/wbos/fileview2.aspx?IDFile=4cc79090-d1ee-48b6-a252-e75312d32a1c to ICIO2018_2009.zip\n",
      "20210223 15:51:25 - FILEIO -  Downloaded http://stats.oecd.org/wbos/fileview2.aspx?IDFile=1fd2fc03-c140-46f4-818e-9a66b671ff70 to ICIO2018_2008.zip\n",
      "20210223 15:50:08 - FILEIO -  Downloaded http://stats.oecd.org/wbos/fileview2.aspx?IDFile=c4d4c21d-00db-48d8-9f9a-f722fcdca494 to ICIO2018_2007.zip\n",
      "20210223 15:48:55 - FILEIO -  Downloaded http://stats.oecd.org/wbos/fileview2.aspx?IDFile=da62c835-f4fa-4450-bf19-1dd60f88a385 to ICIO2018_2006.zip\n",
      " ... (more lines in history)\n"
     ]
    }
   ],
   "source": [
    "print(meta_2018)"
   ]
  },
  {
   "cell_type": "markdown",
   "metadata": {},
   "source": [
    "## Eora26 download"
   ]
  },
  {
   "cell_type": "markdown",
   "metadata": {},
   "source": [
    "Eora26 requires registration prior to download and therefore an automatic download has not been implemented.\n",
    "For further information check the download instruction at the [Eora26 example notebook.](working_with_eora26.ipynb#Getting-Eora26)"
   ]
  },
  {
   "cell_type": "markdown",
   "metadata": {},
   "source": [
    "## EXIOBASE download (previous version 1 and 2)"
   ]
  },
  {
   "cell_type": "markdown",
   "metadata": {},
   "source": [
    "Previous EXIOBASE version requires registration prior to download and therefore an automatic download has not been implemented.\n",
    "For further information check the download instruction at the [EXIOBASE example notebook.](working_with_exiobase.ipynb#Getting-EXIOBASE)"
   ]
  }
 ],
 "metadata": {
  "anaconda-cloud": {},
  "jupytext": {
   "formats": "ipynb,py:light"
  },
  "kernelspec": {
   "display_name": "Python 3 (ipykernel)",
   "language": "python",
   "name": "python3"
  },
  "language_info": {
   "codemirror_mode": {
    "name": "ipython",
    "version": 3
   },
   "file_extension": ".py",
   "mimetype": "text/x-python",
   "name": "python",
   "nbconvert_exporter": "python",
   "pygments_lexer": "ipython3",
   "version": "3.9.16"
  },
  "toc-showmarkdowntxt": false,
  "toc-showtags": false
 },
 "nbformat": 4,
 "nbformat_minor": 4
}
