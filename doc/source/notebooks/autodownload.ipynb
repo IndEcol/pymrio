{
 "cells": [
  {
   "cell_type": "markdown",
   "metadata": {},
   "source": [
    "# Automatic downloading of MRIO databases"
   ]
  },
  {
   "cell_type": "markdown",
   "metadata": {},
   "source": [
    "Pymrio includes functions to automatically download some of the publicly available global EE MRIO databases. \n",
    "This is currently implemented for [WIOD](http://www.wiod.org) and [Eora26](http://www.worldmrio.com/simplified/)."
   ]
  },
  {
   "cell_type": "markdown",
   "metadata": {},
   "source": [
    "The functions described here download the raw data files. Thus, they can also be used for post processing by other tools."
   ]
  },
  {
   "cell_type": "markdown",
   "metadata": {},
   "source": [
    "## WIOD download"
   ]
  },
  {
   "cell_type": "markdown",
   "metadata": {},
   "source": [
    "WIOD is licensed under the [Creative Commons Attribution 4.0 International-license](http://creativecommons.org/licenses/by/4.0/). Thus you can remix, tweak, and build upon WIOD, even commercially, as long as you give credit to WIOD. The WIOD web-page suggest to cite [Timmer et al. 2015](http://doi.wiley.com/10.1111/roie.12178) when you use the database. You can find more information on the [WIOD webpage](http://www.wiod.org)."
   ]
  },
  {
   "cell_type": "markdown",
   "metadata": {},
   "source": [
    "The download function for WIOD currently processes the [2013 release version of WIOD](http://www.wiod.org/database/wiots13)."
   ]
  },
  {
   "cell_type": "markdown",
   "metadata": {},
   "source": [
    "To download, start with:"
   ]
  },
  {
   "cell_type": "code",
   "execution_count": 1,
   "metadata": {
    "collapsed": true
   },
   "outputs": [],
   "source": [
    "import pymrio"
   ]
  },
  {
   "cell_type": "markdown",
   "metadata": {},
   "source": [
    "Define a folder for storing the data"
   ]
  },
  {
   "cell_type": "code",
   "execution_count": 2,
   "metadata": {
    "collapsed": true
   },
   "outputs": [],
   "source": [
    "wiod_folder = '/tmp/mrios/WIOD2013'"
   ]
  },
  {
   "cell_type": "markdown",
   "metadata": {},
   "source": [
    "And start the download with (this will take a couple of minutes):"
   ]
  },
  {
   "cell_type": "code",
   "execution_count": 3,
   "metadata": {
    "collapsed": true
   },
   "outputs": [],
   "source": [
    "wiod_meta = pymrio.download_wiod2013(storage_folder=wiod_folder)"
   ]
  },
  {
   "cell_type": "markdown",
   "metadata": {},
   "source": [
    "The function returns the meta data for the release (which is stored in ```metadata.json``` in the download folder).\n",
    "You can inspect the meta data by:"
   ]
  },
  {
   "cell_type": "code",
   "execution_count": 4,
   "metadata": {
    "collapsed": false
   },
   "outputs": [
    {
     "name": "stdout",
     "output_type": "stream",
     "text": [
      "Description: WIOD metadata file for pymrio\n",
      "MRIO Name: WIOD\n",
      "System: ixi\n",
      "Version: data13\n",
      "File: /tmp/mrios/WIOD2013/metadata.json\n",
      "History:\n",
      "20180912 09:17:19 - FILEIO -  Downloaded http://www.wiod.org/protected3/data13/water/wat_may12.zip to wat_may12.zip\n",
      "20180912 09:17:18 - FILEIO -  Downloaded http://www.wiod.org/protected3/data13/materials/mat_may12.zip to mat_may12.zip\n",
      "20180912 09:17:18 - FILEIO -  Downloaded http://www.wiod.org/protected3/data13/land/lan_may12.zip to lan_may12.zip\n",
      "20180912 09:17:18 - FILEIO -  Downloaded http://www.wiod.org/protected3/data13/AIR/AIR_may12.zip to AIR_may12.zip\n",
      "20180912 09:17:17 - FILEIO -  Downloaded http://www.wiod.org/protected3/data13/CO2/CO2_may12.zip to CO2_may12.zip\n",
      "20180912 09:17:17 - FILEIO -  Downloaded http://www.wiod.org/protected3/data13/EM/EM_may12.zip to EM_may12.zip\n",
      "20180912 09:17:16 - FILEIO -  Downloaded http://www.wiod.org/protected3/data13/EU/EU_may12.zip to EU_may12.zip\n",
      "20180912 09:17:15 - FILEIO -  Downloaded http://www.wiod.org/protected3/data13/SEA/WIOD_SEA_July14.xlsx to WIOD_SEA_July14.xlsx\n",
      "20180912 09:17:14 - FILEIO -  Downloaded http://www.wiod.org/protected3/data13/update_sep12/wiot/wiot09_row_sep12.xlsx to wiot09_row_sep12.xlsx\n",
      "20180912 09:17:13 - FILEIO -  Downloaded http://www.wiod.org/protected3/data13/wiot_analytic/wiot04_row_apr12.xlsx to wiot04_row_apr12.xlsx\n",
      " ... (more lines in history)\n"
     ]
    }
   ],
   "source": [
    "print(wiod_meta)"
   ]
  },
  {
   "cell_type": "markdown",
   "metadata": {},
   "source": [
    "The WIOD database provide data for several years and satellite accounts. \n",
    "In the default case, all of them are downloaded. You can, however, specify\n",
    "years and satellite account."
   ]
  },
  {
   "cell_type": "markdown",
   "metadata": {},
   "source": [
    "You can specify the years as either int or string (2 or 4 digits):"
   ]
  },
  {
   "cell_type": "code",
   "execution_count": 5,
   "metadata": {
    "collapsed": true
   },
   "outputs": [],
   "source": [
    "res_years = [97,2004,'2005']"
   ]
  },
  {
   "cell_type": "markdown",
   "metadata": {},
   "source": [
    "The available satellite accounts for WIOD are listed in the ```WIOD_CONFIG```. \n",
    "To get them import this dict by:"
   ]
  },
  {
   "cell_type": "code",
   "execution_count": 6,
   "metadata": {
    "collapsed": true
   },
   "outputs": [],
   "source": [
    "from pymrio.tools.iodownloader import WIOD_CONFIG"
   ]
  },
  {
   "cell_type": "code",
   "execution_count": 7,
   "metadata": {
    "collapsed": false
   },
   "outputs": [
    {
     "data": {
      "text/plain": [
       "{'satellite_urls': ['http://www.wiod.org/protected3/data13/SEA/WIOD_SEA_July14.xlsx',\n",
       "  'http://www.wiod.org/protected3/data13/EU/EU_may12.zip',\n",
       "  'http://www.wiod.org/protected3/data13/EM/EM_may12.zip',\n",
       "  'http://www.wiod.org/protected3/data13/CO2/CO2_may12.zip',\n",
       "  'http://www.wiod.org/protected3/data13/AIR/AIR_may12.zip',\n",
       "  'http://www.wiod.org/protected3/data13/land/lan_may12.zip',\n",
       "  'http://www.wiod.org/protected3/data13/materials/mat_may12.zip',\n",
       "  'http://www.wiod.org/protected3/data13/water/wat_may12.zip'],\n",
       " 'url_db_content': 'http://www.wiod.org/',\n",
       " 'url_db_view': 'http://www.wiod.org/database/wiots13'}"
      ]
     },
     "execution_count": 7,
     "metadata": {},
     "output_type": "execute_result"
    }
   ],
   "source": [
    "WIOD_CONFIG"
   ]
  },
  {
   "cell_type": "markdown",
   "metadata": {},
   "source": [
    "To restrict this list, you can either copy paste the urls or automatically select the accounts:"
   ]
  },
  {
   "cell_type": "code",
   "execution_count": 8,
   "metadata": {
    "collapsed": true
   },
   "outputs": [],
   "source": [
    "sat_accounts = ['EU', 'CO2']\n",
    "res_satellite = [sat for sat in WIOD_CONFIG['satellite_urls'] \n",
    "                 if any(acc in sat for acc in sat_accounts)]"
   ]
  },
  {
   "cell_type": "code",
   "execution_count": 9,
   "metadata": {
    "collapsed": false
   },
   "outputs": [
    {
     "data": {
      "text/plain": [
       "['http://www.wiod.org/protected3/data13/EU/EU_may12.zip',\n",
       " 'http://www.wiod.org/protected3/data13/CO2/CO2_may12.zip']"
      ]
     },
     "execution_count": 9,
     "metadata": {},
     "output_type": "execute_result"
    }
   ],
   "source": [
    "res_satellite"
   ]
  },
  {
   "cell_type": "code",
   "execution_count": 10,
   "metadata": {
    "collapsed": true
   },
   "outputs": [],
   "source": [
    "wiod_meta_res = pymrio.download_wiod2013(storage_folder='/tmp/foo_folder/WIOD2013_res', \n",
    "                                         years=res_years,\n",
    "                                         satellite_urls=res_satellite)                                               "
   ]
  },
  {
   "cell_type": "code",
   "execution_count": 11,
   "metadata": {
    "collapsed": false
   },
   "outputs": [
    {
     "name": "stdout",
     "output_type": "stream",
     "text": [
      "Description: WIOD metadata file for pymrio\n",
      "MRIO Name: WIOD\n",
      "System: ixi\n",
      "Version: data13\n",
      "File: /tmp/foo_folder/WIOD2013_res/metadata.json\n",
      "History:\n",
      "20180912 09:18:21 - FILEIO -  Downloaded http://www.wiod.org/protected3/data13/CO2/CO2_may12.zip to CO2_may12.zip\n",
      "20180912 09:18:21 - FILEIO -  Downloaded http://www.wiod.org/protected3/data13/EU/EU_may12.zip to EU_may12.zip\n",
      "20180912 09:18:20 - FILEIO -  Downloaded http://www.wiod.org/protected3/data13/wiot_analytic/wiot04_row_apr12.xlsx to wiot04_row_apr12.xlsx\n",
      "20180912 09:18:19 - FILEIO -  Downloaded http://www.wiod.org/protected3/data13/wiot_analytic/wiot97_row_apr12.xlsx to wiot97_row_apr12.xlsx\n",
      "20180912 09:18:18 - FILEIO -  Downloaded http://www.wiod.org/protected3/data13/wiot_analytic/wiot05_row_apr12.xlsx to wiot05_row_apr12.xlsx\n"
     ]
    }
   ],
   "source": [
    "print(wiod_meta_res)"
   ]
  },
  {
   "cell_type": "markdown",
   "metadata": {},
   "source": [
    "Subsequent download will only catch files currently not present in the folder, e.g.:"
   ]
  },
  {
   "cell_type": "code",
   "execution_count": 12,
   "metadata": {
    "collapsed": true
   },
   "outputs": [],
   "source": [
    "additional_years = [2000, 2001]\n",
    "wiod_meta_res = pymrio.download_wiod2013(storage_folder='/tmp/foo_folder/WIOD2013_res', \n",
    "                                         years=res_years + additional_years,\n",
    "                                         satellite_urls=res_satellite)"
   ]
  },
  {
   "cell_type": "markdown",
   "metadata": {},
   "source": [
    "only downloads the years given in ```additional_years```, appending these downloads to the meta data file."
   ]
  },
  {
   "cell_type": "code",
   "execution_count": 13,
   "metadata": {
    "collapsed": false
   },
   "outputs": [
    {
     "name": "stdout",
     "output_type": "stream",
     "text": [
      "Description: WIOD metadata file for pymrio\n",
      "MRIO Name: WIOD\n",
      "System: ixi\n",
      "Version: data13\n",
      "File: /tmp/foo_folder/WIOD2013_res/metadata.json\n",
      "History:\n",
      "20180912 09:18:24 - FILEIO -  Downloaded http://www.wiod.org/protected3/data13/wiot_analytic/wiot01_row_apr12.xlsx to wiot01_row_apr12.xlsx\n",
      "20180912 09:18:23 - FILEIO -  Downloaded http://www.wiod.org/protected3/data13/wiot_analytic/wiot00_row_apr12.xlsx to wiot00_row_apr12.xlsx\n",
      "20180912 09:18:21 - FILEIO -  Downloaded http://www.wiod.org/protected3/data13/CO2/CO2_may12.zip to CO2_may12.zip\n",
      "20180912 09:18:21 - FILEIO -  Downloaded http://www.wiod.org/protected3/data13/EU/EU_may12.zip to EU_may12.zip\n",
      "20180912 09:18:20 - FILEIO -  Downloaded http://www.wiod.org/protected3/data13/wiot_analytic/wiot04_row_apr12.xlsx to wiot04_row_apr12.xlsx\n",
      "20180912 09:18:19 - FILEIO -  Downloaded http://www.wiod.org/protected3/data13/wiot_analytic/wiot97_row_apr12.xlsx to wiot97_row_apr12.xlsx\n",
      "20180912 09:18:18 - FILEIO -  Downloaded http://www.wiod.org/protected3/data13/wiot_analytic/wiot05_row_apr12.xlsx to wiot05_row_apr12.xlsx\n"
     ]
    }
   ],
   "source": [
    "print(wiod_meta_res)"
   ]
  },
  {
   "cell_type": "markdown",
   "metadata": {},
   "source": [
    "To catch all files, irrespective if present in the storage_folder or not pass ```overwrite_existing=True```"
   ]
  },
  {
   "cell_type": "markdown",
   "metadata": {},
   "source": [
    "## Eora26 download"
   ]
  },
  {
   "cell_type": "markdown",
   "metadata": {},
   "source": [
    "Eora26 provides a simplified, symmetric version of the full Eora database. \n",
    "\n",
    "The [Eora website (worldmrio)](http://www.worldmrio.com) states that Eora is free for use at degree-granting academic institutions. All other users must license the data. Further information can be obtained by contacting info@worldmrio.com . \n",
    "\n",
    "Prior to the access to the Eora database, you have to agree to this license agreement and commit to cite  [Lenzen et al. 2012](http://pubs.acs.org/doi/abs/10.1021/es300171x) and [Lenzen et al. 2013](http://dx.doi.org/10.1080/09535314.2013.769938).\n",
    "\n",
    "The same applies when using the automatic downloader and you have to explicitly confirm to these requirements during the download.\n"
   ]
  },
  {
   "cell_type": "markdown",
   "metadata": {},
   "source": [
    "Setup the download with"
   ]
  },
  {
   "cell_type": "code",
   "execution_count": 14,
   "metadata": {
    "collapsed": true
   },
   "outputs": [],
   "source": [
    "import pymrio\n",
    "eora_folder = '/tmp/mrios/eora26'"
   ]
  },
  {
   "cell_type": "markdown",
   "metadata": {},
   "source": [
    "Start the download with (this can take some minutes). \n",
    "Before the download starts, the function will ask you to agree with the conditions stated on the [Eora website (worldmrio)](http://www.worldmrio.org)."
   ]
  },
  {
   "cell_type": "code",
   "execution_count": 16,
   "metadata": {
    "collapsed": false
   },
   "outputs": [
    {
     "name": "stdout",
     "output_type": "stream",
     "text": [
      "The Eora MRIO is free for academic (university or grant-funded) work at degree-granting institutions. All other uses require a data license before the results are shared.\n",
      "\n",
      " When using Eora, the Eora authors ask you cite these publications: \n",
      "\n",
      " Lenzen, M., Kanemoto, K., Moran, D., Geschke, A. Mapping the Structure of the World Economy (2012). Env. Sci. Tech. 46(15) pp 8374-8381. DOI:10.1021/es300171x \n",
      "\n",
      " Lenzen, M., Moran, D., Kanemoto, K., Geschke, A. (2013) Building Eora: A Global Multi-regional Input-Output Database at High Country and Sector Resolution, Economic Systems Research,  25:1, 20-49, DOI:10.1080/09535314.2013.769 938\n",
      "\n",
      " \n"
     ]
    },
    {
     "ename": "IndexError",
     "evalue": "list index out of range",
     "output_type": "error",
     "traceback": [
      "\u001b[0;31m---------------------------------------------------------------------------\u001b[0m",
      "\u001b[0;31mIndexError\u001b[0m                                Traceback (most recent call last)",
      "\u001b[0;32m<ipython-input-16-215bb461ada5>\u001b[0m in \u001b[0;36m<module>\u001b[0;34m()\u001b[0m\n\u001b[0;32m----> 1\u001b[0;31m \u001b[0meora_meta\u001b[0m \u001b[0;34m=\u001b[0m \u001b[0mpymrio\u001b[0m\u001b[0;34m.\u001b[0m\u001b[0mdownload_eora26\u001b[0m\u001b[0;34m(\u001b[0m\u001b[0mstorage_folder\u001b[0m\u001b[0;34m=\u001b[0m\u001b[0meora_folder\u001b[0m\u001b[0;34m,\u001b[0m \u001b[0mprices\u001b[0m\u001b[0;34m=\u001b[0m\u001b[0;34m[\u001b[0m\u001b[0;34m'bp'\u001b[0m\u001b[0;34m]\u001b[0m\u001b[0;34m)\u001b[0m\u001b[0;34m\u001b[0m\u001b[0m\n\u001b[0m",
      "\u001b[0;32m~/proj/pymrio/pymrio/tools/iodownloader.py\u001b[0m in \u001b[0;36mdownload_eora26\u001b[0;34m(storage_folder, years, prices, overwrite_existing)\u001b[0m\n\u001b[1;32m    260\u001b[0m \u001b[0;34m\u001b[0m\u001b[0m\n\u001b[1;32m    261\u001b[0m     version_number = re.findall(\">v\\d+\\.\\d+<\",\n\u001b[0;32m--> 262\u001b[0;31m                                 eora26_web_content.raw_text)[-1][1:-1]\n\u001b[0m\u001b[1;32m    263\u001b[0m \u001b[0;34m\u001b[0m\u001b[0m\n\u001b[1;32m    264\u001b[0m     restricted_eora_urls = [url for url in eora26_web_content.data_urls if\n",
      "\u001b[0;31mIndexError\u001b[0m: list index out of range"
     ]
    }
   ],
   "source": [
    "eora_meta = pymrio.download_eora26(storage_folder=eora_folder, prices=['bp'])"
   ]
  },
  {
   "cell_type": "code",
   "execution_count": 16,
   "metadata": {
    "collapsed": false
   },
   "outputs": [
    {
     "name": "stdout",
     "output_type": "stream",
     "text": [
      "Description: Eora metadata file for pymrio\n",
      "MRIO Name: Eora\n",
      "System: ixi\n",
      "Version: v199.82\n",
      "File: /tmp/mrios/eora26/metadata.json\n",
      "History:\n",
      "20180111 10:26:35 - FILEIO -  Downloaded http://worldmrio.com/ComputationsM/Phase199/Loop082/simplified/Eora26_1995_bp.zip to Eora26_1995_bp.zip\n",
      "20180111 10:26:26 - FILEIO -  Downloaded http://worldmrio.com/ComputationsM/Phase199/Loop082/simplified/Eora26_1996_bp.zip to Eora26_1996_bp.zip\n",
      "20180111 10:26:17 - FILEIO -  Downloaded http://worldmrio.com/ComputationsM/Phase199/Loop082/simplified/Eora26_1997_bp.zip to Eora26_1997_bp.zip\n",
      "20180111 10:25:57 - FILEIO -  Downloaded http://worldmrio.com/ComputationsM/Phase199/Loop082/simplified/Eora26_1998_bp.zip to Eora26_1998_bp.zip\n",
      "20180111 10:25:47 - FILEIO -  Downloaded http://worldmrio.com/ComputationsM/Phase199/Loop082/simplified/Eora26_1999_bp.zip to Eora26_1999_bp.zip\n",
      "20180111 10:25:37 - FILEIO -  Downloaded http://worldmrio.com/ComputationsM/Phase199/Loop082/simplified/Eora26_2000_bp.zip to Eora26_2000_bp.zip\n",
      "20180111 10:25:21 - FILEIO -  Downloaded http://worldmrio.com/ComputationsM/Phase199/Loop082/simplified/Eora26_2001_bp.zip to Eora26_2001_bp.zip\n",
      "20180111 10:25:08 - FILEIO -  Downloaded http://worldmrio.com/ComputationsM/Phase199/Loop082/simplified/Eora26_2002_bp.zip to Eora26_2002_bp.zip\n",
      "20180111 10:24:58 - FILEIO -  Downloaded http://worldmrio.com/ComputationsM/Phase199/Loop082/simplified/Eora26_2003_bp.zip to Eora26_2003_bp.zip\n",
      "20180111 10:24:46 - FILEIO -  Downloaded http://worldmrio.com/ComputationsM/Phase199/Loop082/simplified/Eora26_2004_bp.zip to Eora26_2004_bp.zip\n",
      " ... (more lines in history)\n"
     ]
    }
   ],
   "source": [
    "print(eora_meta)"
   ]
  },
  {
   "cell_type": "markdown",
   "metadata": {},
   "source": [
    "As in the case of the WIOD downloader, you can restrict the \n",
    "\n",
    "1) years to download by passing ```years=[list of int or str - 4 digits]```\n",
    "\n",
    "2) force the overwriting of existing files by passing ```overwrite_existing=True```\n",
    "\n",
    "Satellite accounts, however, can not be restricted since they are included in one file.\n",
    "\n",
    "In the default case, the tables in basic prices are downloaded. \n",
    "To catch the purchaser price tables pass ```prices='pp'``` or ```prices=['bp', 'pp']``` \n",
    "to catch both price systems."
   ]
  },
  {
   "cell_type": "markdown",
   "metadata": {},
   "source": [
    "## EXIOBASE download"
   ]
  },
  {
   "cell_type": "markdown",
   "metadata": {},
   "source": [
    "EXIOBASE requires registration prior to download and therefore an automatic download has not been implemented.\n",
    "For further information check the download instruction at the [EXIOBASE example notebook.](working_with_exiobase.ipynb#Getting-EXIOBASE)"
   ]
  }
 ],
 "metadata": {
  "anaconda-cloud": {},
  "kernelspec": {
   "display_name": "Python [default]",
   "language": "python",
   "name": "python3"
  },
  "language_info": {
   "codemirror_mode": {
    "name": "ipython",
    "version": 3
   },
   "file_extension": ".py",
   "mimetype": "text/x-python",
   "name": "python",
   "nbconvert_exporter": "python",
   "pygments_lexer": "ipython3",
   "version": "3.5.2"
  }
 },
 "nbformat": 4,
 "nbformat_minor": 2
}
