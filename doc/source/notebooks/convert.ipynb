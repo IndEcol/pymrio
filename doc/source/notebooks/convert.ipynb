{
 "cells": [
  {
   "cell_type": "markdown",
   "id": "60fd7d0e-a46e-4db0-8bbe-00256058ee71",
   "metadata": {},
   "source": [
    "# Convert and Characterize"
   ]
  },
  {
   "cell_type": "markdown",
   "id": "850708b0-66c3-4ca8-a50b-f7396ec4c1a7",
   "metadata": {},
   "source": [
    "Pymrio contains several possibilities to convert data from one system to another."
   ]
  },
  {
   "cell_type": "markdown",
   "id": "bde3cf89-6c36-47dd-b9d5-48433f4473b5",
   "metadata": {},
   "source": [
    "The term *convert* is meant very general here, it contains\n",
    "\n",
    "- finding and extracting data based on indicies across a table or an mrio(-extension) system based on name and potentially constrained by sector/region or any other specification\n",
    "- converting the names of the found indicies\n",
    "- adjusting the numerical values of the data, e.g. for unit conversion or characterisation\n",
    "- aggregating the extracted data, e.g. for the purpose of characterization"
   ]
  },
  {
   "cell_type": "markdown",
   "id": "49bc1d78",
   "metadata": {},
   "source": [
    "Pymrio allows these convert function either on one specific table (which not necessaryly has to be a table of the mrio system) or on the whole mrio(-extension) system."
   ]
  },
  {
   "cell_type": "markdown",
   "id": "849bc1ef",
   "metadata": {
    "lines_to_next_cell": 2
   },
   "source": [
    "## Structure of the bridge table"
   ]
  },
  {
   "cell_type": "markdown",
   "id": "c2b48a82",
   "metadata": {
    "lines_to_next_cell": 2
   },
   "source": [
    "Irrespectively of the table or the mrio system, the convert function always follows the same pattern.\n",
    "It requires a bridge table, which contains the mapping of the indicies of the source data to the indicies of the target data.\n",
    "This bridge table has to follow a specific format, depending on the table to be converted."
   ]
  },
  {
   "cell_type": "markdown",
   "id": "cb9da055",
   "metadata": {},
   "source": [
    "Lets assume a table with the following structure (the table to be converted):"
   ]
  },
  {
   "cell_type": "markdown",
   "id": "c2d6fabb",
   "metadata": {},
   "source": [
    "TODO: table from the test cases"
   ]
  },
  {
   "cell_type": "markdown",
   "id": "f9b2f252",
   "metadata": {},
   "source": [
    "A potential bridge table for this table could look like this:"
   ]
  },
  {
   "cell_type": "markdown",
   "id": "129e30bd",
   "metadata": {},
   "source": [
    "TODO: table from the test cases"
   ]
  },
  {
   "cell_type": "markdown",
   "id": "ec037bbf",
   "metadata": {},
   "source": [
    "Describe the column names, and which entries can be regular expressions"
   ]
  },
  {
   "cell_type": "markdown",
   "id": "9c759d84",
   "metadata": {},
   "source": [
    "Once everything is set up, we can continue with the actual conversion."
   ]
  },
  {
   "cell_type": "markdown",
   "id": "562c46d5",
   "metadata": {
    "lines_to_next_cell": 2
   },
   "source": [
    "## Converting a single data table"
   ]
  },
  {
   "cell_type": "markdown",
   "id": "f81d9451",
   "metadata": {},
   "source": [
    "## Converting a pymrio extension"
   ]
  }
 ],
 "metadata": {
  "kernelspec": {
   "display_name": "Python 3 (ipykernel)",
   "language": "python",
   "name": "python3"
  },
  "language_info": {
   "codemirror_mode": {
    "name": "ipython",
    "version": 3
   },
   "file_extension": ".py",
   "mimetype": "text/x-python",
   "name": "python",
   "nbconvert_exporter": "python",
   "pygments_lexer": "ipython3",
   "version": "3.9.18"
  }
 },
 "nbformat": 4,
 "nbformat_minor": 5
}
