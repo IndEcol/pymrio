{
 "cells": [
  {
   "cell_type": "markdown",
   "id": "60fd7d0e-a46e-4db0-8bbe-00256058ee71",
   "metadata": {},
   "source": [
    "# Convert and Characterize"
   ]
  },
  {
   "cell_type": "markdown",
   "id": "850708b0-66c3-4ca8-a50b-f7396ec4c1a7",
   "metadata": {},
   "source": [
    "Pymrio contains several possibilities to convert data from one system to another."
   ]
  },
  {
   "cell_type": "markdown",
   "id": "bde3cf89-6c36-47dd-b9d5-48433f4473b5",
   "metadata": {},
   "source": [
    "The term *convert* is meant very general here, it contains \n",
    "    - finding and extracting data based on indicies across a table or an mrio(-extension) system based on name and potentially constrained by sector/region or any other specification\n",
    "    - converting the names of the found indicies\n",
    "    - adjusting the numerical values of the data, e.g. for unit conversion or characterisation\n",
    "    - aggregating the extracted data, e.g. for the purpose of characterization"
   ]
  },
  {
   "cell_type": "code",
   "execution_count": null,
   "id": "74d2a195-5e5f-4798-9aa6-4136a4b84342",
   "metadata": {},
   "outputs": [],
   "source": []
  }
 ],
 "metadata": {
  "kernelspec": {
   "display_name": "Python 3 (ipykernel)",
   "language": "python",
   "name": "python3"
  },
  "language_info": {
   "codemirror_mode": {
    "name": "ipython",
    "version": 3
   },
   "file_extension": ".py",
   "mimetype": "text/x-python",
   "name": "python",
   "nbconvert_exporter": "python",
   "pygments_lexer": "ipython3",
   "version": "3.12.0"
  }
 },
 "nbformat": 4,
 "nbformat_minor": 5
}
